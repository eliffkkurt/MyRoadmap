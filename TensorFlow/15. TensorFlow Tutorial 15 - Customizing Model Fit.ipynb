{
  "nbformat": 4,
  "nbformat_minor": 0,
  "metadata": {
    "colab": {
      "name": "15. TensorFlow Tutorial 15 - Customizing Model.Fit.ipynb",
      "provenance": []
    },
    "kernelspec": {
      "name": "python3",
      "display_name": "Python 3"
    },
    "language_info": {
      "name": "python"
    }
  },
  "cells": [
    {
      "cell_type": "markdown",
      "metadata": {
        "id": "HbGERXWGMU-f"
      },
      "source": [
        "<font color='green'> \n",
        "**Youtube - Aladdin Persson Kanalı - TensorFlow 2.0 Beginner Tutorials serisi**\n",
        "    \n",
        "TensorFlow Tutorial 15 - Customizing Model.Fit - Aladdin Persson anlattı.\n",
        "</font>"
      ]
    },
    {
      "cell_type": "markdown",
      "metadata": {
        "id": "YYbf77YeMxVs"
      },
      "source": [
        "**Video**: [TensorFlow Tutorial 15 - Customizing Model.Fit](https://www.youtube.com/watch?v=S6tLSI8bjGs&list=PLhhyoLH6IjfxVOdVC1P1L5z5azs0XjMsb&index=15)"
      ]
    },
    {
      "cell_type": "markdown",
      "metadata": {
        "id": "20jkqVUbM8Lw"
      },
      "source": [
        "### İçindekiler"
      ]
    },
    {
      "cell_type": "markdown",
      "metadata": {
        "id": "tqgbz3mhM-7q"
      },
      "source": [
        "**Loading and Preprocessing Dataset**\n",
        "\n",
        "**Creating Model**\n",
        "\n",
        "**Creating Custom Model (Created Train Step)**\n",
        "\n",
        "**Creating Custom Compiler - 1**\n",
        "\n",
        "**Creating Custom Compiler -2 (Added custom metrics)**\n",
        "\n",
        "**Creating Custom Model (Added Test Step)**\n"
      ]
    },
    {
      "cell_type": "markdown",
      "metadata": {
        "id": "mhDW2OS9NARP"
      },
      "source": [
        "### <font color=\"blue\"> Giriş</font>"
      ]
    },
    {
      "cell_type": "markdown",
      "metadata": {
        "id": "VrF7iWiPNf4R"
      },
      "source": [
        "Bu notebookta nasıl daha esnek bir training loops oluşturabilirizi göreceğiz. Şimdiye kadar model.fit()'i kullandık ama bazen daha esnek bir yapıya ihtiyaç duyabiliyoruz. Bu notebookta nasıl customize yapacağımızı göreceğiz, diğer notebookta sıfırdan nasıl custom training loops oluşturacağımızı göreceğiz. "
      ]
    },
    {
      "cell_type": "code",
      "metadata": {
        "id": "VX6f_SWpMR0K"
      },
      "source": [
        "import tensorflow as tf\n",
        "from tensorflow import keras\n",
        "from tensorflow.keras import layers"
      ],
      "execution_count": 3,
      "outputs": []
    },
    {
      "cell_type": "markdown",
      "metadata": {
        "id": "tkIKv2LjNED-"
      },
      "source": [
        "### 1. Loading and Preprocessing Dataset"
      ]
    },
    {
      "cell_type": "code",
      "metadata": {
        "colab": {
          "base_uri": "https://localhost:8080/"
        },
        "id": "Z4G9cNf2NEtU",
        "outputId": "e5d53c63-abf7-45df-9949-60744ee8cc59"
      },
      "source": [
        "from tensorflow.keras.datasets import mnist\n",
        "\n",
        "(x_train, y_train), (x_test, y_test) = mnist.load_data()\n",
        "x_train = x_train.reshape(-1, 28, 28, 1).astype(\"float32\") / 255.0\n",
        "x_test = x_test.reshape(-1, 28, 28, 1).astype(\"float32\") / 255.0"
      ],
      "execution_count": 4,
      "outputs": [
        {
          "output_type": "stream",
          "name": "stdout",
          "text": [
            "Downloading data from https://storage.googleapis.com/tensorflow/tf-keras-datasets/mnist.npz\n",
            "11493376/11490434 [==============================] - 0s 0us/step\n",
            "11501568/11490434 [==============================] - 0s 0us/step\n"
          ]
        }
      ]
    },
    {
      "cell_type": "markdown",
      "metadata": {
        "id": "fizxv4-6QtqM"
      },
      "source": [
        "### 2. Creating Model"
      ]
    },
    {
      "cell_type": "code",
      "metadata": {
        "id": "BffwilsONaVo"
      },
      "source": [
        "model = keras.Sequential(\n",
        "    [\n",
        "     layers.Input(shape=(28,28,1)),\n",
        "     layers.Conv2D(64, 3, padding='same'),\n",
        "     layers.ReLU(),\n",
        "     layers.Conv2D(128,3, padding='same'),\n",
        "     layers.ReLU(),\n",
        "     layers.Flatten(),\n",
        "     layers.Dense(10)\n",
        "    ],\n",
        "    name='model'\n",
        ")"
      ],
      "execution_count": 5,
      "outputs": []
    },
    {
      "cell_type": "markdown",
      "metadata": {
        "id": "QPEPruDJcU8Q"
      },
      "source": [
        "### 3. Creating Custom Model (Created Train Step)"
      ]
    },
    {
      "cell_type": "code",
      "metadata": {
        "id": "NlMyGqzfQmqt"
      },
      "source": [
        "class CustomFit(keras.Model):\n",
        "  def __init__(self, model):\n",
        "    super(CustomFit,self).__init__()\n",
        "    self.model = model\n",
        "\n",
        "    # we're going to define one training step and that is going to use in a model.fit\n",
        "  def train_step(self, data):\n",
        "    x, y = data\n",
        "\n",
        "    with tf.GradientTape() as tape:\n",
        "      y_pred = self.model(x, training=True)\n",
        "      loss = self.compiled_loss(y, y_pred)\n",
        "\n",
        "    training_vars = self.trainable_variables # keras.Model bize sağlıyor bunu.\n",
        "    gradients = tape.gradient(loss, training_vars) \n",
        "    # optimizer step\n",
        "    self.optimizer.apply_gradients(zip(gradients, training_vars))\n",
        "    \n",
        "    self.compiled_metrics.update_state(y, y_pred) # this is going to be for accuracy \n",
        "\n",
        "    return {m.name : m.result() for m in self.metrics} "
      ],
      "execution_count": 6,
      "outputs": []
    },
    {
      "cell_type": "code",
      "metadata": {
        "id": "YI2K6uOEiPaO"
      },
      "source": [
        "training = CustomFit(model)"
      ],
      "execution_count": null,
      "outputs": []
    },
    {
      "cell_type": "markdown",
      "metadata": {
        "id": "u-_UrBHxSclb"
      },
      "source": [
        "* `def train_step(self, data)` fonksiyonu ile model.fit içinde çalışacak custom training stepini yazıyoruz. \n",
        "\n",
        "* `with tf.GradientTape() as tape:` Bunu neden yapıyoruz çünkü forward propagation yapacağız ve arkasından loss fonksiyonu uygulayacağız. Bu tape'in içinde yaptığımızda uygulanan bütün işlemler kaydedilecek bu da backpropagation için gradient hesaplamada işimize yarayacak. \n",
        "\n",
        "* `loss = self.compiled_loss(y, y_pred)` training.compile içerisinde loss fonksiyonu kısmında çalışacak bu kod. \n",
        "\n",
        "* `gradients = tape.gradient(loss, training_vars)` eğitim değişkenlerine göre lossun gradientini alıyoruz, en sonunda değiştirmek istediğimiz şey. \n",
        "* `return {m.name : m.result() for m in self.metrics}`: name-> current loss olacak. Bunu bütün metrikler için yapacağız. Bizim case'imizde bunlar loss ve accuracy."
      ]
    },
    {
      "cell_type": "code",
      "metadata": {
        "id": "DFz2ATllTm-g"
      },
      "source": [
        "training.compile(\n",
        "    optimizer=keras.optimizers.Adam(),\n",
        "    loss=keras.losses.SparseCategoricalCrossentropy(from_logits=True),\n",
        "    metrics=[\"accuracy\"]\n",
        ")"
      ],
      "execution_count": 7,
      "outputs": []
    },
    {
      "cell_type": "code",
      "metadata": {
        "colab": {
          "base_uri": "https://localhost:8080/"
        },
        "id": "_hy323ksRUa-",
        "outputId": "20733ba0-a1ee-462f-fe21-fc2e1ded8224"
      },
      "source": [
        "training.fit(x_train, y_train, batch_size=32, epochs=2)"
      ],
      "execution_count": 8,
      "outputs": [
        {
          "output_type": "stream",
          "name": "stdout",
          "text": [
            "Epoch 1/2\n",
            "1875/1875 [==============================] - 498s 265ms/step - loss: 0.1081 - accuracy: 0.9676\n",
            "Epoch 2/2\n",
            "1875/1875 [==============================] - 495s 264ms/step - loss: 0.0412 - accuracy: 0.9875\n"
          ]
        },
        {
          "output_type": "execute_result",
          "data": {
            "text/plain": [
              "<keras.callbacks.History at 0x7f3d91471f90>"
            ]
          },
          "metadata": {},
          "execution_count": 8
        }
      ]
    },
    {
      "cell_type": "markdown",
      "metadata": {
        "id": "VEd9c9RrcZXJ"
      },
      "source": [
        "### 4. Creating Custom Compiler - 1 "
      ]
    },
    {
      "cell_type": "code",
      "metadata": {
        "id": "onz2il76RTvd"
      },
      "source": [
        "class CustomFit(keras.Model):\n",
        "  def __init__(self, model):\n",
        "    super(CustomFit,self).__init__()\n",
        "    self.model = model\n",
        "\n",
        "  def compile(self, optimizer, loss): # bunu ekledik\n",
        "    super(CustomFit, self).compile()\n",
        "    self.optimizer = optimizer\n",
        "    self.loss = loss\n",
        "\n",
        "  def train_step(self, data):\n",
        "    x, y = data \n",
        "\n",
        "    with tf.GradientTape() as tape:\n",
        "      y_pred = self.model(x, training=True)\n",
        "      loss = self.loss(y, y_pred) # ilkinde compiled_losstu. \n",
        "\n",
        "    training_vars = self.trainable_variables\n",
        "    gradients = tape.gradient(loss, training_vars) \n",
        "    self.optimizer.apply_gradients(zip(gradients, training_vars))\n",
        "    \n",
        "    self.compiled_metrics.update_state(y, y_pred) \n",
        "\n",
        "    return {m.name : m.result() for m in self.metrics} "
      ],
      "execution_count": 9,
      "outputs": []
    },
    {
      "cell_type": "code",
      "metadata": {
        "id": "pK4KK0lziNTq"
      },
      "source": [
        "training = CustomFit(model)"
      ],
      "execution_count": null,
      "outputs": []
    },
    {
      "cell_type": "code",
      "metadata": {
        "id": "v3oypmtbc2VE"
      },
      "source": [
        "training.compile(\n",
        "    optimizer=keras.optimizers.Adam(),\n",
        "    loss=keras.losses.SparseCategoricalCrossentropy(from_logits=True),\n",
        "    # metricsi sildik\n",
        ")"
      ],
      "execution_count": 10,
      "outputs": []
    },
    {
      "cell_type": "markdown",
      "metadata": {
        "id": "hkdVlr4wdl4t"
      },
      "source": [
        "* Bunu ekledik kodumuza.\n",
        "```\n",
        " def compile(self, optimizer, loss):\n",
        "    super(CustomFit, self).compile()\n",
        "    self.optimizer = optimizer\n",
        "    self.loss = loss\n",
        "```\n",
        "* `with tf.GradientTape() as tape:` içerisindeki `loss = self.compiled_loss(y, y_pred)` kodunu `loss = self.loss(y, y_pred)` ile değiştirdik.\n",
        "\n",
        " \n",
        "\n",
        "\n",
        "* `training.compile()`'dan metricsi sildik."
      ]
    },
    {
      "cell_type": "code",
      "metadata": {
        "colab": {
          "base_uri": "https://localhost:8080/"
        },
        "id": "NxNTffEBc2_n",
        "outputId": "e5b4e091-bc93-4bab-bc6b-e19b0cd04bbf"
      },
      "source": [
        "training.fit(x_train, y_train, batch_size=32, epochs=2)"
      ],
      "execution_count": 11,
      "outputs": [
        {
          "output_type": "stream",
          "name": "stdout",
          "text": [
            "Epoch 1/2\n",
            "1875/1875 [==============================] - 493s 262ms/step\n",
            "Epoch 2/2\n",
            "1875/1875 [==============================] - 492s 262ms/step\n"
          ]
        },
        {
          "output_type": "execute_result",
          "data": {
            "text/plain": [
              "<keras.callbacks.History at 0x7f3d91373750>"
            ]
          },
          "metadata": {},
          "execution_count": 11
        }
      ]
    },
    {
      "cell_type": "markdown",
      "metadata": {
        "id": "FlTTH79ufRi7"
      },
      "source": [
        "Accuracy almadık. Kendimiz ayrıca tanımlayabiliriz bunu."
      ]
    },
    {
      "cell_type": "markdown",
      "metadata": {
        "id": "zgF6I6cqfZh7"
      },
      "source": [
        "### 5. Creating Custom Compiler -2 (Added custom metrics)"
      ]
    },
    {
      "cell_type": "code",
      "metadata": {
        "id": "Gzzn5Y-5fYcC"
      },
      "source": [
        "class CustomFit(keras.Model):\n",
        "  def __init__(self, model):\n",
        "    super(CustomFit,self).__init__()\n",
        "    self.model = model\n",
        "\n",
        "  def compile(self, optimizer, loss):\n",
        "    super(CustomFit, self).compile()\n",
        "    self.optimizer = optimizer\n",
        "    self.loss = loss\n",
        "\n",
        "  def train_step(self, data):\n",
        "    x, y = data\n",
        "\n",
        "    with tf.GradientTape() as tape:\n",
        "      y_pred = self.model(x, training=True)\n",
        "      loss = self.loss(y, y_pred) # ilkinde compiled_losstu. \n",
        "\n",
        "    training_vars = self.trainable_variables \n",
        "    gradients = tape.gradient(loss, training_vars) \n",
        "    self.optimizer.apply_gradients(zip(gradients, training_vars))\n",
        "\n",
        "    acc_metric.update_state(y, y_pred) # bu değiştirildi\n",
        "\n",
        "    return {\"loss\": loss, \"accuracy\": acc_metric.result()} # bu değiştirildi"
      ],
      "execution_count": 13,
      "outputs": []
    },
    {
      "cell_type": "code",
      "metadata": {
        "id": "eRilsfLoiKW_"
      },
      "source": [
        "training = CustomFit(model)"
      ],
      "execution_count": 14,
      "outputs": []
    },
    {
      "cell_type": "markdown",
      "metadata": {
        "id": "GhU6IxNegGjq"
      },
      "source": [
        "* `self.compiled_metrics.update_state(y, y_pred)` yerine `acc_metric.update_state(y, y_pred)` yazdık.\n",
        "\n",
        "* `return {m.name : m.result() for m in self.metrics}` yerine `return {\"loss\": loss, \"accuracy\": acc_metric.result()}` yazdık. "
      ]
    },
    {
      "cell_type": "markdown",
      "metadata": {
        "id": "2wSbp1lXfv5X"
      },
      "source": [
        "Metricsi burada tanımladık. Ama yukarıda `class CustomFit(keras.Model)` sınıfında bunu kullandık. "
      ]
    },
    {
      "cell_type": "code",
      "metadata": {
        "id": "zfK6nD0gfvmK"
      },
      "source": [
        "acc_metric = keras.metrics.SparseCategoricalAccuracy(name=\"accuracy\") # bu eklendi"
      ],
      "execution_count": 15,
      "outputs": []
    },
    {
      "cell_type": "code",
      "metadata": {
        "id": "uq_ZBh14ftgP"
      },
      "source": [
        "training.compile(\n",
        "    optimizer=keras.optimizers.Adam(),\n",
        "    loss=keras.losses.SparseCategoricalCrossentropy(from_logits=True),\n",
        ")"
      ],
      "execution_count": 16,
      "outputs": []
    },
    {
      "cell_type": "code",
      "metadata": {
        "colab": {
          "base_uri": "https://localhost:8080/"
        },
        "id": "-rpjOLsxfzLv",
        "outputId": "58dfdf3b-319a-4ed0-cfe1-fdbe80caa7d5"
      },
      "source": [
        "training.fit(x_train, y_train, batch_size=32, epochs=2)"
      ],
      "execution_count": 17,
      "outputs": [
        {
          "output_type": "stream",
          "name": "stdout",
          "text": [
            "Epoch 1/2\n",
            "1875/1875 [==============================] - 495s 264ms/step - loss: 0.0114 - accuracy: 0.9968\n",
            "Epoch 2/2\n",
            "1875/1875 [==============================] - 494s 264ms/step - loss: 0.0058 - accuracy: 0.9970\n"
          ]
        },
        {
          "output_type": "execute_result",
          "data": {
            "text/plain": [
              "<keras.callbacks.History at 0x7f3d9131ddd0>"
            ]
          },
          "metadata": {},
          "execution_count": 17
        }
      ]
    },
    {
      "cell_type": "markdown",
      "metadata": {
        "id": "1ZRW97fnhPoZ"
      },
      "source": [
        "### 6. Creating Custom Model (Added Test Step)"
      ]
    },
    {
      "cell_type": "markdown",
      "metadata": {
        "id": "HwTy0YHehc3t"
      },
      "source": [
        "`training.fit` training step üzerinde çalışıyor fakat `training.evaluate` training step üzerinde çalışıyor. Bu yüzden test_step fonksiyonu tanımlıyoruz. "
      ]
    },
    {
      "cell_type": "code",
      "metadata": {
        "id": "7k-SyJVUhvTq"
      },
      "source": [
        "class CustomFit(keras.Model):\n",
        "  def __init__(self, model):\n",
        "    super(CustomFit,self).__init__()\n",
        "    self.model = model\n",
        "\n",
        "  def compile(self, optimizer, loss):\n",
        "    super(CustomFit, self).compile()\n",
        "    self.optimizer = optimizer\n",
        "    self.loss = loss\n",
        "\n",
        "  def train_step(self, data):\n",
        "    x, y = data\n",
        "\n",
        "    with tf.GradientTape() as tape:\n",
        "      y_pred = self.model(x, training=True)\n",
        "      loss = self.loss(y, y_pred) # ilkinde compiled_losstu. \n",
        "\n",
        "    training_vars = self.trainable_variables # keras.Model bize sağlıyor bunu.\n",
        "    gradients = tape.gradient(loss, training_vars) \n",
        "\n",
        "    self.optimizer.apply_gradients(zip(gradients, training_vars))\n",
        "    acc_metric.update_state(y, y_pred)\n",
        "\n",
        "    return {\"loss\": loss, \"accuracy\": acc_metric.result()} \n",
        "\n",
        "\n",
        "  def test_step(self, data):\n",
        "    x, y = data\n",
        "\n",
        "    y_pred = self.model(x, training=False) \n",
        "    loss = self.loss(y, y_pred)\n",
        "    acc_metric.update_state(y, y_pred)\n",
        "\n",
        "    return {\"loss\": loss, \"accuracy\": acc_metric.result()} \n"
      ],
      "execution_count": 18,
      "outputs": []
    },
    {
      "cell_type": "markdown",
      "metadata": {
        "id": "IPSNO14sixGs"
      },
      "source": [
        "* `y_pred = self.model(x, training=False)` batch norm ve dropout olduğunda trainingin ve testin farklı davranması gerekiyor bu yüzden training=False ekledik.\n"
      ]
    },
    {
      "cell_type": "code",
      "metadata": {
        "id": "cMcB66YtiIk6"
      },
      "source": [
        "training = CustomFit(model)"
      ],
      "execution_count": 19,
      "outputs": []
    },
    {
      "cell_type": "code",
      "metadata": {
        "id": "s82wm4teh0qn"
      },
      "source": [
        "acc_metric = keras.metrics.SparseCategoricalAccuracy(name=\"accuracy\")"
      ],
      "execution_count": 20,
      "outputs": []
    },
    {
      "cell_type": "code",
      "metadata": {
        "id": "wWHGbWosh3SG"
      },
      "source": [
        "training.compile(\n",
        "    optimizer=keras.optimizers.Adam(),\n",
        "    loss=keras.losses.SparseCategoricalCrossentropy(from_logits=True),\n",
        ")"
      ],
      "execution_count": 21,
      "outputs": []
    },
    {
      "cell_type": "code",
      "metadata": {
        "colab": {
          "base_uri": "https://localhost:8080/"
        },
        "id": "4Fx7Wyklh590",
        "outputId": "6efdd26f-a838-40be-be4c-08804ef735fe"
      },
      "source": [
        "training.fit(x_train, y_train, batch_size=32, epochs=2)"
      ],
      "execution_count": 22,
      "outputs": [
        {
          "output_type": "stream",
          "name": "stdout",
          "text": [
            "Epoch 1/2\n",
            "1875/1875 [==============================] - 495s 264ms/step - loss: 0.0074 - accuracy: 0.9983\n",
            "Epoch 2/2\n",
            "1875/1875 [==============================] - 496s 265ms/step - loss: 0.0048 - accuracy: 0.9981\n"
          ]
        },
        {
          "output_type": "execute_result",
          "data": {
            "text/plain": [
              "<keras.callbacks.History at 0x7f3d911cbfd0>"
            ]
          },
          "metadata": {},
          "execution_count": 22
        }
      ]
    },
    {
      "cell_type": "code",
      "metadata": {
        "colab": {
          "base_uri": "https://localhost:8080/"
        },
        "id": "_fxNdUrChDKO",
        "outputId": "b4009260-95bb-4e54-b73c-6f5c3a97f945"
      },
      "source": [
        "training.evaluate(x_test, y_test, batch_size=32)"
      ],
      "execution_count": 23,
      "outputs": [
        {
          "output_type": "stream",
          "name": "stdout",
          "text": [
            "313/313 [==============================] - 24s 75ms/step - loss: 0.0772 - accuracy: 0.9976\n"
          ]
        },
        {
          "output_type": "execute_result",
          "data": {
            "text/plain": [
              "[0.9973154067993164, 4.470347292340193e-08]"
            ]
          },
          "metadata": {},
          "execution_count": 23
        }
      ]
    }
  ]
}