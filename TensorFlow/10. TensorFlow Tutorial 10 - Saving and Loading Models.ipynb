{
 "cells": [
  {
   "cell_type": "markdown",
   "metadata": {
    "id": "KeY7Jm5qYxqH"
   },
   "source": [
    "<font color='green'> \n",
    "**Youtube - Aladdin Persson Kanalı - TensorFlow 2.0 Beginner Tutorials serisi**\n",
    "    \n",
    "TensorFlow Tutorial 10 - Saving and Loading Models - Aladdin Persson anlattı.\n",
    "</font>"
   ]
  },
  {
   "cell_type": "markdown",
   "metadata": {
    "id": "QVwGUVqkY3dm"
   },
   "source": [
    "**Video**: [TensorFlow Tutorial 10 - Saving and Loading Models](https://www.youtube.com/watch?v=idus3KO6Wic&list=PLhhyoLH6IjfxVOdVC1P1L5z5azs0XjMsb&index=10)"
   ]
  },
  {
   "cell_type": "markdown",
   "metadata": {
    "id": "e5HnoTgbY-TV"
   },
   "source": [
    "### İçindekiler"
   ]
  },
  {
   "cell_type": "markdown",
   "metadata": {
    "id": "jUdmQyE8ZDPG"
   },
   "source": [
    "**Loading Dataset**\n",
    "\n",
    "**Preprocessing Dataset**\n",
    "\n",
    "**Creating Models**\n",
    "* Using Sequential API\n",
    "* Using Functional API\n",
    "* Using Subclassing\n",
    "\n",
    "**Save and Load Model Weights**\n",
    "* Save Model Weights\n",
    "* Load Model Weights \n",
    "\n",
    "**Save and Load Entire Model (Serializing Model)**\n",
    "* Save Entire Model\n",
    "* Load Entire Model"
   ]
  },
  {
   "cell_type": "markdown",
   "metadata": {
    "id": "p9WARhc4nN1q"
   },
   "source": [
    "### <font color=\"blue\"> Giriş</font>"
   ]
  },
  {
   "cell_type": "markdown",
   "metadata": {
    "id": "gP8nwNzGnSJp"
   },
   "source": [
    "Bu notebookta amaç modelin weightlerini ve tüm modeli nasıl save ve load edeceğimizi öğreneceğiz."
   ]
  },
  {
   "cell_type": "markdown",
   "metadata": {
    "id": "FsoApc2lkZCH"
   },
   "source": [
    "#### **1. How to save and load model weights** "
   ]
  },
  {
   "cell_type": "markdown",
   "metadata": {
    "id": "r3W1Jef2cMrc"
   },
   "source": [
    "#### **2. Save and load entire model (serializing model)**\n",
    "Tüm modeli kaydedip yüklerken, bir data structure olarak kaydedilecek ve bu, modelin tensorflow javascript, tensorflow lite gibi farklı tensorflow frameworklerine yüklenebileceği anlamına geliyor. Yani örneğin PC'nizde bir modeli eğitebilir ve diyelim ki onu productiona almak ve bir uygulama yapmak istiyorsunuz, daha önce eğittiğiniz modeli yükleyebilirsiniz ve herhangi bir dönüştürme yapmanıza gerek olmaz.\n",
    "\n",
    "Tüm modeli yüklediğimizde:\n",
    "* Weightler kaydedilecek. \n",
    "* Model architecture'ı (model mimarisi) kaydedilecek. Bu şekilde modelin koduna ihtiyacımız kalmayacak.\n",
    "* Training configurationı da (eğitim yapılandırmasını) da kaydedecek, böylece model.compile() dosyasına göndereceğiniz şey bu olacaktır.\n",
    "* Optimizer ve state'leri kaydedecek. So for example if you're using the Adam optimizer it's gonna keep track of the exponential weighted averages and that's internal to the optimizer. Örneğin, yalnızca weightleri kaydediyorsanız, modelden weightleri her yüklediğinizde optimize edici durumlar sıfırlanacaktır."
   ]
  },
  {
   "cell_type": "code",
   "execution_count": 1,
   "metadata": {
    "id": "Mnl31YpKnRez"
   },
   "outputs": [],
   "source": [
    "import tensorflow as tf\n",
    "from tensorflow import keras\n",
    "from tensorflow.keras import layers"
   ]
  },
  {
   "cell_type": "markdown",
   "metadata": {
    "id": "BR1FBSn4n8Y0"
   },
   "source": [
    "### 1. Loading Dataset"
   ]
  },
  {
   "cell_type": "code",
   "execution_count": 2,
   "metadata": {},
   "outputs": [],
   "source": [
    "from tensorflow.keras.datasets import mnist"
   ]
  },
  {
   "cell_type": "code",
   "execution_count": 3,
   "metadata": {
    "id": "e2o3CM3KnugQ"
   },
   "outputs": [],
   "source": [
    "(x_train, y_train),(x_test, y_test) = mnist.load_data()"
   ]
  },
  {
   "cell_type": "code",
   "execution_count": 4,
   "metadata": {
    "colab": {
     "base_uri": "https://localhost:8080/"
    },
    "id": "grAa8-MOoRaH",
    "outputId": "b469ed65-ff38-4520-fd29-4ef82c271702"
   },
   "outputs": [
    {
     "name": "stdout",
     "output_type": "stream",
     "text": [
      "(60000, 28, 28)\n",
      "(60000,)\n",
      "(10000, 28, 28)\n",
      "(10000,)\n"
     ]
    }
   ],
   "source": [
    "print(x_train.shape)\n",
    "print(y_train.shape)\n",
    "print(x_test.shape)\n",
    "print(y_test.shape)"
   ]
  },
  {
   "cell_type": "markdown",
   "metadata": {
    "id": "RIMi7FBiom7y"
   },
   "source": [
    "### 2. Preprocessing Dataset"
   ]
  },
  {
   "cell_type": "code",
   "execution_count": 5,
   "metadata": {
    "id": "aaM0QG-PolVi"
   },
   "outputs": [],
   "source": [
    "x_train = x_train.reshape(-1, 28 * 28).astype(\"float32\") / 255.0\n",
    "x_test = x_test.reshape(-1, 28*28).astype(\"float32\") / 255.0"
   ]
  },
  {
   "cell_type": "markdown",
   "metadata": {
    "id": "gcRXhUsRpHLq"
   },
   "source": [
    "### 3. Creating Models"
   ]
  },
  {
   "cell_type": "markdown",
   "metadata": {
    "id": "VyF3Q5Q_bQe9"
   },
   "source": [
    "#### <font color=\"green\">3 farklı model yazdık. </font>"
   ]
  },
  {
   "cell_type": "markdown",
   "metadata": {
    "id": "ZFCVeSw9tDW2"
   },
   "source": [
    " <font color=\"black\">**İlkinde Sequential API kullandık.** </font>"
   ]
  },
  {
   "cell_type": "code",
   "execution_count": 6,
   "metadata": {
    "id": "KQwSWmH_pA2O"
   },
   "outputs": [],
   "source": [
    "model1 = keras.Sequential(\n",
    "    [\n",
    "     layers.Dense(64, activation='relu'),\n",
    "     layers.Dense(10)\n",
    "    ]\n",
    ")"
   ]
  },
  {
   "cell_type": "markdown",
   "metadata": {
    "id": "Hu64EwjXtGjX"
   },
   "source": [
    "<font color=\"black\">**İkincisinde aynı modeli Functional API kullanarak yazdık.** </font>"
   ]
  },
  {
   "cell_type": "code",
   "execution_count": 7,
   "metadata": {
    "id": "2snYw-8YrTUG"
   },
   "outputs": [],
   "source": [
    "inputs = keras.Input(784)\n",
    "x = layers.Dense(64, activation='relu')(inputs)\n",
    "outputs = layers.Dense(10)(x)\n",
    "model2 = keras.Model(inputs=inputs, outputs=outputs)"
   ]
  },
  {
   "cell_type": "markdown",
   "metadata": {
    "id": "b48XsenDbTgU"
   },
   "source": [
    "<font color=\"black\">**Üçüncüsünde modelimizi subclassing kullanarak yazdık.** </font>"
   ]
  },
  {
   "cell_type": "code",
   "execution_count": 8,
   "metadata": {
    "id": "EmEtX830bSgS"
   },
   "outputs": [],
   "source": [
    "class MyModel(keras.Model):\n",
    "    def __init__(self):\n",
    "        super(MyModel, self).__init__()\n",
    "        self.dense1 = layers.Dense(64, activation='relu')\n",
    "        self.dense2 = layers.Dense(10)\n",
    "\n",
    "    def call(self, input_tensor):\n",
    "        x = tf.nn.relu(self.dense1(input_tensor))\n",
    "        return self.dense2(x)\n",
    "\n",
    "model3 = MyModel()"
   ]
  },
  {
   "cell_type": "markdown",
   "metadata": {},
   "source": [
    "### 4. Save and Load Model Weights "
   ]
  },
  {
   "cell_type": "markdown",
   "metadata": {},
   "source": [
    "#### <font color=\"blue\">Save Model Weights </font>"
   ]
  },
  {
   "cell_type": "code",
   "execution_count": 9,
   "metadata": {
    "id": "wHyAONp7lB2n"
   },
   "outputs": [],
   "source": [
    "model = model1 #İlk modeli eğitip kaydedeceğiz. "
   ]
  },
  {
   "cell_type": "code",
   "execution_count": 10,
   "metadata": {
    "id": "ZOIUxcwglKx2"
   },
   "outputs": [],
   "source": [
    "model.compile(\n",
    "    loss = keras.losses.SparseCategoricalCrossentropy(from_logits=True),\n",
    "    optimizer = keras.optimizers.Adam(),\n",
    "    metrics=[\"accuracy\"]\n",
    ")"
   ]
  },
  {
   "cell_type": "code",
   "execution_count": 11,
   "metadata": {
    "colab": {
     "base_uri": "https://localhost:8080/"
    },
    "id": "LMgYWs6JlYmN",
    "outputId": "0298115e-31fc-47fe-c949-d619d62dd056"
   },
   "outputs": [
    {
     "name": "stdout",
     "output_type": "stream",
     "text": [
      "Epoch 1/2\n",
      "1875/1875 - 1s - loss: 0.2974 - accuracy: 0.9167\n",
      "Epoch 2/2\n",
      "1875/1875 - 2s - loss: 0.1420 - accuracy: 0.9581\n"
     ]
    },
    {
     "data": {
      "text/plain": [
       "<tensorflow.python.keras.callbacks.History at 0x2439ba01788>"
      ]
     },
     "execution_count": 11,
     "metadata": {},
     "output_type": "execute_result"
    }
   ],
   "source": [
    "model.fit(x_train, y_train, batch_size=32, epochs=2, verbose=2)"
   ]
  },
  {
   "cell_type": "code",
   "execution_count": 12,
   "metadata": {
    "colab": {
     "base_uri": "https://localhost:8080/"
    },
    "id": "j5pGqp1NlgKp",
    "outputId": "b5515b0e-a584-4dc5-8252-330bdd6d9c8c"
   },
   "outputs": [
    {
     "name": "stdout",
     "output_type": "stream",
     "text": [
      "313/313 - 0s - loss: 0.1237 - accuracy: 0.9632\n"
     ]
    },
    {
     "data": {
      "text/plain": [
       "[0.12372887134552002, 0.9631999731063843]"
      ]
     },
     "execution_count": 12,
     "metadata": {},
     "output_type": "execute_result"
    }
   ],
   "source": [
    "model.evaluate(x_test, y_test, batch_size=32, verbose=2)"
   ]
  },
  {
   "cell_type": "markdown",
   "metadata": {},
   "source": [
    "<font color=\"green\">**Weightleri save etmek için `model.save_weights(..)` diyoruz.**</font>"
   ]
  },
  {
   "cell_type": "code",
   "execution_count": 13,
   "metadata": {
    "id": "EriI3ORxthyS"
   },
   "outputs": [],
   "source": [
    "model.save_weights('10. TensorFlow Tutorial 10 - Saving and Loading Models/saved_model/') "
   ]
  },
  {
   "cell_type": "markdown",
   "metadata": {
    "id": "sxsCUZIOmbI9"
   },
   "source": [
    "* `model.save_weights('saved_model/')`: bir klasör adı yazıyoruz parantez içine. Notebookun bulunduğu yerde bu adda bir klasör açıyor. Scripti çalıştırdığımız yere baktığımızda saved_model adında bir klasör göreceğiz ve weightlerin kaydedildiği dosyalar bu klasörün içinde yer alıyor. (Bilgisayarda çalıştırınca oluyor bu işlem colabde olmuyor)"
   ]
  },
  {
   "cell_type": "markdown",
   "metadata": {},
   "source": [
    "* \"save_format\" argümanı ile `model.save_weights('saved_model/', save_format='h5')` ile farklı formatlarda kaydedebiliriz weightleri. If we specify “.h5”, the model will be saved in hdf5 format; if no extension is specified, the model will be saved in TensorFlow default format."
   ]
  },
  {
   "cell_type": "markdown",
   "metadata": {},
   "source": [
    "#### <font color=\"blue\">Load Model Weights </font>"
   ]
  },
  {
   "cell_type": "markdown",
   "metadata": {},
   "source": [
    "**Baştan açtım notebooku diyelim ki bu şekilde çalıştırmam gerekiyor:**"
   ]
  },
  {
   "cell_type": "code",
   "execution_count": null,
   "metadata": {},
   "outputs": [],
   "source": [
    "import tensorflow as tf\n",
    "from tensorflow import keras\n",
    "from tensorflow.keras import layers"
   ]
  },
  {
   "cell_type": "markdown",
   "metadata": {},
   "source": [
    "<font color=\"green\">**Daha önce kaydettiğimiz weightleri load etmek için `model.load_weights(..)` diyoruz.**</font>"
   ]
  },
  {
   "cell_type": "code",
   "execution_count": 2,
   "metadata": {},
   "outputs": [
    {
     "ename": "NameError",
     "evalue": "name 'model' is not defined",
     "output_type": "error",
     "traceback": [
      "\u001b[1;31m---------------------------------------------------------------------------\u001b[0m",
      "\u001b[1;31mNameError\u001b[0m                                 Traceback (most recent call last)",
      "\u001b[1;32m<ipython-input-2-ac9da40c0cbe>\u001b[0m in \u001b[0;36m<module>\u001b[1;34m\u001b[0m\n\u001b[1;32m----> 1\u001b[1;33m \u001b[0mmodel\u001b[0m\u001b[1;33m.\u001b[0m\u001b[0mload_weights\u001b[0m\u001b[1;33m(\u001b[0m\u001b[1;34m'10. TensorFlow Tutorial 10 - Saving and Loading Models/saved_model/'\u001b[0m\u001b[1;33m)\u001b[0m\u001b[1;33m\u001b[0m\u001b[1;33m\u001b[0m\u001b[0m\n\u001b[0m",
      "\u001b[1;31mNameError\u001b[0m: name 'model' is not defined"
     ]
    }
   ],
   "source": [
    "model.load_weights('10. TensorFlow Tutorial 10 - Saving and Loading Models/saved_model/') "
   ]
  },
  {
   "cell_type": "markdown",
   "metadata": {},
   "source": [
    "Modeli kaydetmemiştik sadece weightleri kaydetmiştik. Bu yüzden \"name 'model' is not defined\" hatası verdi. Model tanımlamamız lazım öncesinde."
   ]
  },
  {
   "cell_type": "code",
   "execution_count": 3,
   "metadata": {},
   "outputs": [],
   "source": [
    "model1 = keras.Sequential(\n",
    "    [\n",
    "     layers.Dense(64, activation='relu'),\n",
    "     layers.Dense(10)\n",
    "    ]\n",
    ")"
   ]
  },
  {
   "cell_type": "code",
   "execution_count": 4,
   "metadata": {},
   "outputs": [],
   "source": [
    "model = model1"
   ]
  },
  {
   "cell_type": "code",
   "execution_count": 5,
   "metadata": {
    "id": "XwBg-_gVtnBL"
   },
   "outputs": [],
   "source": [
    "model.compile(\n",
    "    loss = keras.losses.SparseCategoricalCrossentropy(from_logits=True),\n",
    "    optimizer = keras.optimizers.Adam(),\n",
    "    metrics=[\"accuracy\"]\n",
    ")"
   ]
  },
  {
   "cell_type": "code",
   "execution_count": 6,
   "metadata": {},
   "outputs": [
    {
     "data": {
      "text/plain": [
       "<tensorflow.python.training.tracking.util.CheckpointLoadStatus at 0x1c5437204c8>"
      ]
     },
     "execution_count": 6,
     "metadata": {},
     "output_type": "execute_result"
    }
   ],
   "source": [
    "model.load_weights('10. TensorFlow Tutorial 10 - Saving and Loading Models/saved_model/') "
   ]
  },
  {
   "cell_type": "markdown",
   "metadata": {},
   "source": [
    "##### x_test, y_test vermemiz gerekir öncesinde baştan çalıştırıyorsak."
   ]
  },
  {
   "cell_type": "code",
   "execution_count": 7,
   "metadata": {},
   "outputs": [],
   "source": [
    "from tensorflow.keras.datasets import mnist\n",
    "(x_train, y_train),(x_test, y_test) = mnist.load_data()\n",
    "x_test = x_test.reshape(-1, 28*28).astype(\"float32\") / 255.0"
   ]
  },
  {
   "cell_type": "markdown",
   "metadata": {},
   "source": [
    "##### ---"
   ]
  },
  {
   "cell_type": "code",
   "execution_count": 8,
   "metadata": {},
   "outputs": [
    {
     "name": "stdout",
     "output_type": "stream",
     "text": [
      "313/313 - 0s - loss: 0.1237 - accuracy: 0.9632\n"
     ]
    },
    {
     "data": {
      "text/plain": [
       "[0.12372887134552002, 0.9631999731063843]"
      ]
     },
     "execution_count": 8,
     "metadata": {},
     "output_type": "execute_result"
    }
   ],
   "source": [
    "model.evaluate(x_test, y_test, batch_size=32, verbose=2)"
   ]
  },
  {
   "cell_type": "markdown",
   "metadata": {},
   "source": [
    "####  <font color=\"purple\">Dikkat!</font>\n",
    "<font color=\"black\">**Burada dikkat edilmesi gereken nokta farklı uygulamalar için weightleri takas edemeyiz. Mesela bu kaydettiğimiz weightleri model2 için kullanamayız uyumlu olmadığıyla ilgili hata alırız. Buradaki genel kural modeli save ettiğin şekilde load etmek. Yani mesela sequential olarak modeli create edip save ettiysen load ederken de bu formda bir modele load etmen gerekiyor.**</font>"
   ]
  },
  {
   "cell_type": "code",
   "execution_count": 1,
   "metadata": {},
   "outputs": [],
   "source": [
    "import tensorflow as tf\n",
    "from tensorflow import keras\n",
    "from tensorflow.keras import layers"
   ]
  },
  {
   "cell_type": "code",
   "execution_count": 2,
   "metadata": {},
   "outputs": [],
   "source": [
    "inputs = keras.Input(784)\n",
    "x = layers.Dense(64, activation='relu')(inputs)\n",
    "outputs = layers.Dense(10)(x)\n",
    "model2 = keras.Model(inputs=inputs, outputs=outputs)"
   ]
  },
  {
   "cell_type": "code",
   "execution_count": 3,
   "metadata": {},
   "outputs": [],
   "source": [
    "model = model2"
   ]
  },
  {
   "cell_type": "code",
   "execution_count": 4,
   "metadata": {},
   "outputs": [],
   "source": [
    "model.compile(\n",
    "    loss = keras.losses.SparseCategoricalCrossentropy(from_logits=True),\n",
    "    optimizer = keras.optimizers.Adam(),\n",
    "    metrics=[\"accuracy\"]\n",
    ")"
   ]
  },
  {
   "cell_type": "code",
   "execution_count": 5,
   "metadata": {},
   "outputs": [
    {
     "name": "stdout",
     "output_type": "stream",
     "text": [
      "WARNING:tensorflow:Inconsistent references when loading the checkpoint into this object graph. Either the Trackable object references in the Python program have changed in an incompatible way, or the checkpoint was generated in an incompatible program.\n",
      "\n",
      "Two checkpoint references resolved to different objects (<tensorflow.python.keras.layers.core.Dense object at 0x000001CC03E03448> and <tensorflow.python.keras.engine.input_layer.InputLayer object at 0x000001CC03DDDC48>).\n",
      "WARNING:tensorflow:Inconsistent references when loading the checkpoint into this object graph. Either the Trackable object references in the Python program have changed in an incompatible way, or the checkpoint was generated in an incompatible program.\n",
      "\n",
      "Two checkpoint references resolved to different objects (<tensorflow.python.keras.layers.core.Dense object at 0x000001CC03E03748> and <tensorflow.python.keras.layers.core.Dense object at 0x000001CC03E03448>).\n"
     ]
    },
    {
     "data": {
      "text/plain": [
       "<tensorflow.python.training.tracking.util.CheckpointLoadStatus at 0x1cc03ecc9c8>"
      ]
     },
     "execution_count": 5,
     "metadata": {},
     "output_type": "execute_result"
    }
   ],
   "source": [
    "model.load_weights('10. TensorFlow Tutorial 10 - Saving and Loading Models/saved_model/') "
   ]
  },
  {
   "cell_type": "code",
   "execution_count": 6,
   "metadata": {},
   "outputs": [],
   "source": [
    "from tensorflow.keras.datasets import mnist\n",
    "(x_train, y_train),(x_test, y_test) = mnist.load_data()\n",
    "x_test = x_test.reshape(-1, 28*28).astype(\"float32\") / 255.0"
   ]
  },
  {
   "cell_type": "code",
   "execution_count": 7,
   "metadata": {},
   "outputs": [
    {
     "name": "stdout",
     "output_type": "stream",
     "text": [
      "313/313 - 0s - loss: 0.1237 - accuracy: 0.9632\n"
     ]
    },
    {
     "data": {
      "text/plain": [
       "[0.12372887134552002, 0.9631999731063843]"
      ]
     },
     "execution_count": 7,
     "metadata": {},
     "output_type": "execute_result"
    }
   ],
   "source": [
    "model.evaluate(x_test, y_test, batch_size=32, verbose=2)"
   ]
  },
  {
   "cell_type": "markdown",
   "metadata": {
    "id": "d2PdxGKRtnrX"
   },
   "source": [
    "### 5. Save and Load Entire Model (Serializing Model)"
   ]
  },
  {
   "cell_type": "markdown",
   "metadata": {
    "id": "n5mCiJm3uWnx"
   },
   "source": [
    "- Save the weights\n",
    "- Model arhitecture\n",
    "- Training Configuration (model.compile())\n",
    "- Optimizer and states"
   ]
  },
  {
   "cell_type": "markdown",
   "metadata": {},
   "source": [
    "#### <font color=\"blue\">Save Entire Model</font>"
   ]
  },
  {
   "cell_type": "markdown",
   "metadata": {},
   "source": [
    "<font color=\"green\">**Modeli save etmek için `model.save(...)` diyoruz.**</font>"
   ]
  },
  {
   "cell_type": "code",
   "execution_count": 11,
   "metadata": {},
   "outputs": [],
   "source": [
    "model = model2"
   ]
  },
  {
   "cell_type": "code",
   "execution_count": 12,
   "metadata": {},
   "outputs": [
    {
     "name": "stdout",
     "output_type": "stream",
     "text": [
      "INFO:tensorflow:Assets written to: 10. TensorFlow Tutorial 10 - Saving and Loading Models/complete_saved_model/assets\n"
     ]
    }
   ],
   "source": [
    "model.save('10. TensorFlow Tutorial 10 - Saving and Loading Models/complete_saved_model/')"
   ]
  },
  {
   "cell_type": "markdown",
   "metadata": {},
   "source": [
    "#### <font color=\"blue\">Load Entire Model</font>"
   ]
  },
  {
   "cell_type": "markdown",
   "metadata": {},
   "source": [
    "<font color=\"green\">**Modeli load etmek için `keras.models.load_model(...)` diyoruz.**</font>"
   ]
  },
  {
   "cell_type": "code",
   "execution_count": 2,
   "metadata": {},
   "outputs": [
    {
     "name": "stdout",
     "output_type": "stream",
     "text": [
      "WARNING:tensorflow:No training configuration found in save file, so the model was *not* compiled. Compile it manually.\n"
     ]
    }
   ],
   "source": [
    "model = keras.models.load_model('10. TensorFlow Tutorial 10 - Saving and Loading Models/complete_saved_model/')"
   ]
  },
  {
   "cell_type": "markdown",
   "metadata": {},
   "source": [
    "*WARNING:tensorflow: \"No training configuration found in save file, so the model was not compiled. Compile it manually.\" uyarısını göz ardı edebiliriz.*"
   ]
  },
  {
   "cell_type": "code",
   "execution_count": 3,
   "metadata": {},
   "outputs": [
    {
     "name": "stdout",
     "output_type": "stream",
     "text": [
      "Model: \"functional_1\"\n",
      "_________________________________________________________________\n",
      "Layer (type)                 Output Shape              Param #   \n",
      "=================================================================\n",
      "input_1 (InputLayer)         [(None, 784)]             0         \n",
      "_________________________________________________________________\n",
      "dense_2 (Dense)              (None, 64)                50240     \n",
      "_________________________________________________________________\n",
      "dense_3 (Dense)              (None, 10)                650       \n",
      "=================================================================\n",
      "Total params: 50,890\n",
      "Trainable params: 50,890\n",
      "Non-trainable params: 0\n",
      "_________________________________________________________________\n"
     ]
    }
   ],
   "source": [
    "model.summary()"
   ]
  },
  {
   "cell_type": "markdown",
   "metadata": {},
   "source": [
    "Pretrained modeli nasıl kullanacağımızı \"11. TensorFlow Tutorial 11 - Transfer Learning, Fine Tuning and TensorFlow Hub\" notebookunda gördük."
   ]
  }
 ],
 "metadata": {
  "accelerator": "GPU",
  "colab": {
   "name": "10. TensorFlow Tutorial 10 - Saving and Loading Models.ipynb",
   "provenance": []
  },
  "kernelspec": {
   "display_name": "Python 3",
   "language": "python",
   "name": "python3"
  },
  "language_info": {
   "codemirror_mode": {
    "name": "ipython",
    "version": 3
   },
   "file_extension": ".py",
   "mimetype": "text/x-python",
   "name": "python",
   "nbconvert_exporter": "python",
   "pygments_lexer": "ipython3",
   "version": "3.7.6"
  }
 },
 "nbformat": 4,
 "nbformat_minor": 1
}
