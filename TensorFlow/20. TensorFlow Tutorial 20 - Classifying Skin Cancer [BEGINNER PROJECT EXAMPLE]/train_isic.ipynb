{
 "cells": [
  {
   "cell_type": "code",
   "execution_count": 1,
   "metadata": {},
   "outputs": [],
   "source": [
    "import tensorflow as tf\n",
    "import math\n",
    "import tensorflow_hub as hub\n",
    "import numpy as np\n",
    "import matplotlib.pyplot as plt\n",
    "from tensorflow import keras\n",
    "from tensorflow.keras import layers\n",
    "from sklearn.metrics import roc_curve\n",
    "from tensorflow.keras.preprocessing.image import ImageDataGenerator"
   ]
  },
  {
   "cell_type": "markdown",
   "metadata": {},
   "source": [
    "#### 1. Değişkenlerin değerlerini belirledik."
   ]
  },
  {
   "cell_type": "code",
   "execution_count": 2,
   "metadata": {},
   "outputs": [],
   "source": [
    "train_examples = 20224\n",
    "validation_examples = 2552\n",
    "test_examples=2555\n",
    "img_height = img_width = 224 # birçoğu 1000 pikselin üzerinde. Hepsiniz 224 pixele resize ediyoruz.\n",
    "batch_size = 32"
   ]
  },
  {
   "cell_type": "markdown",
   "metadata": {},
   "source": [
    "#### 2. CREATE MODEL: Modeli belirledik."
   ]
  },
  {
   "cell_type": "markdown",
   "metadata": {},
   "source": [
    "Kullanacağımız modeli belirleyeceğiz. Resnet kullanabiliriz, Inception Net, Efficent Net vs. kullanabiliriz. Biz [NasNet](https://tfhub.dev/google/imagenet/nasnet_mobile/feature_vector/5) adında bir model kullanacağız. Bu Tensorflow Hub'ın bir modeli."
   ]
  },
  {
   "cell_type": "code",
   "execution_count": 3,
   "metadata": {},
   "outputs": [],
   "source": [
    "model = keras.Sequential([\n",
    "    hub.KerasLayer(\"https://tfhub.dev/google/imagenet/nasnet_mobile/feature_vector/5\", \n",
    "                   trainable=True), # bu modeli de eğiteceğiz biz\n",
    "    # layers.Flatten() buna gerek yok zaten flatten edilmiş oluyor\n",
    "    tf.keras.layers.Dense(1, activation='sigmoid') # num_classes yerine 1 yazdık, sadece 2 classımız olduğu için.\n",
    "])"
   ]
  },
  {
   "cell_type": "markdown",
   "metadata": {},
   "source": [
    "Dense layerdan önce başka layerlar da ekleyebilirdik."
   ]
  },
  {
   "cell_type": "markdown",
   "metadata": {},
   "source": [
    "#### 3. LOAD DATASET: Custom olan verimizi alabilmek için ImageDataGenerator kullanıyoruz. "
   ]
  },
  {
   "cell_type": "markdown",
   "metadata": {},
   "source": [
    "Bunu farklı şekilde de load edebilirdik `dataset_from_directory` kullanarak. [18. TensorFlow Tutorial 18 - Custom Dataset for Images.ipynb](https://github.com/eliffkkurt/MyRoadmap/blob/main/TensorFlow/18.%20TensorFlow%20Tutorial%2018%20-%20Custom%20Dataset%20for%20Images.ipynb) notebookuna bakabilirsin. Hatta bu yöntem daha hızlı olacaktır. Çünkü number of parallel calls, prefetching vs. kullanılıyor."
   ]
  },
  {
   "cell_type": "markdown",
   "metadata": {},
   "source": [
    "##### <font color=\"green\">ImageDataGenerator</font>"
   ]
  },
  {
   "cell_type": "markdown",
   "metadata": {},
   "source": [
    "ImageDataGenerator resimler üzerinde data augmentation işlemlerini yapmamızı sağlıyor. Train, validation, test hepsi için yapıyoruz bunu. "
   ]
  },
  {
   "cell_type": "code",
   "execution_count": 4,
   "metadata": {},
   "outputs": [],
   "source": [
    "train_datagen = ImageDataGenerator(\n",
    "    rescale = 1.0/255,\n",
    "    rotation_range = 15,\n",
    "    zoom_range = (0.95, 0.95),\n",
    "    horizontal_flip = True,\n",
    "    vertical_flip = True,  # resmi yatay da çevirsen dikey de çevirsen kanserse kanserdir\n",
    "    data_format = \"channels_last\",\n",
    "    dtype = tf.float32,\n",
    ")"
   ]
  },
  {
   "cell_type": "markdown",
   "metadata": {},
   "source": [
    "train_datagenin içerisinde validation_split eklemedik. Çünkü eğer ekleseydik train_datagen içerisinde yazdığımız tüm data augmention işlemleri validationa da uygulanacaktı, fakat biz bunu istemiyoruz. Çünkü validation setimiz test setimizi temsil etmeli ve test sette hiçbir data augmention olmaz. "
   ]
  },
  {
   "cell_type": "code",
   "execution_count": 5,
   "metadata": {},
   "outputs": [],
   "source": [
    "validation_datagen = ImageDataGenerator(\n",
    "    rescale = 1.0/255,\n",
    "    dtype = tf.float32\n",
    ")"
   ]
  },
  {
   "cell_type": "code",
   "execution_count": 6,
   "metadata": {},
   "outputs": [],
   "source": [
    "test_datagen = ImageDataGenerator(\n",
    "    rescale = 1.0/255,\n",
    "    dtype = tf.float32\n",
    ")"
   ]
  },
  {
   "cell_type": "markdown",
   "metadata": {},
   "source": [
    "##### <font color=\"green\">.flow_from_directory()</font>"
   ]
  },
  {
   "cell_type": "code",
   "execution_count": 7,
   "metadata": {},
   "outputs": [
    {
     "name": "stdout",
     "output_type": "stream",
     "text": [
      "Found 20224 images belonging to 2 classes.\n"
     ]
    }
   ],
   "source": [
    "train_gen = train_datagen.flow_from_directory(\n",
    "    \"data/train/\",\n",
    "    target_size=(img_height, img_width), # resize işlemini burada yapacak\n",
    "    batch_size=batch_size,\n",
    "    color_mode='rgb',\n",
    "    class_mode=\"binary\",\n",
    "    shuffle=True,\n",
    "    seed=123\n",
    ")"
   ]
  },
  {
   "cell_type": "code",
   "execution_count": 8,
   "metadata": {},
   "outputs": [
    {
     "name": "stdout",
     "output_type": "stream",
     "text": [
      "Found 2552 images belonging to 2 classes.\n"
     ]
    }
   ],
   "source": [
    "validation_gen = validation_datagen.flow_from_directory(\n",
    "    \"data/validation/\",\n",
    "    target_size=(img_height, img_width), # resize işlemini burada yapacak\n",
    "    batch_size=batch_size,\n",
    "    color_mode='rgb',\n",
    "    class_mode=\"binary\",\n",
    "    shuffle=True,\n",
    "    seed=123\n",
    ")"
   ]
  },
  {
   "cell_type": "code",
   "execution_count": 9,
   "metadata": {},
   "outputs": [
    {
     "name": "stdout",
     "output_type": "stream",
     "text": [
      "Found 2555 images belonging to 2 classes.\n"
     ]
    }
   ],
   "source": [
    "test_gen = test_datagen.flow_from_directory(\n",
    "    \"data/test/\",\n",
    "    target_size=(img_height, img_width), # resize işlemini burada yapacak\n",
    "    batch_size=batch_size,\n",
    "    color_mode='rgb',\n",
    "    class_mode=\"binary\",\n",
    "    shuffle=True,\n",
    "    seed=123\n",
    ")"
   ]
  },
  {
   "cell_type": "markdown",
   "metadata": {},
   "source": [
    "#### 4. model.compile()"
   ]
  },
  {
   "cell_type": "code",
   "execution_count": 13,
   "metadata": {},
   "outputs": [],
   "source": [
    "model.compile(\n",
    "    optimizer=keras.optimizers.Adam(lr=3e-4),\n",
    "    loss=[keras.losses.BinaryCrossentropy(from_logits=False)],\n",
    "    metrics=[\"accuracy\"]\n",
    ")"
   ]
  },
  {
   "cell_type": "markdown",
   "metadata": {},
   "source": [
    "#### 5. model.fit()"
   ]
  },
  {
   "cell_type": "code",
   "execution_count": 14,
   "metadata": {},
   "outputs": [
    {
     "name": "stdout",
     "output_type": "stream",
     "text": [
      "632/632 - 4973s - loss: 0.7313 - accuracy: 0.8578 - val_loss: 0.6905 - val_accuracy: 0.8742\n"
     ]
    },
    {
     "data": {
      "text/plain": [
       "<keras.callbacks.History at 0x18f30df0788>"
      ]
     },
     "execution_count": 14,
     "metadata": {},
     "output_type": "execute_result"
    }
   ],
   "source": [
    "model.fit(\n",
    "    train_gen,\n",
    "    epochs = 1,\n",
    "    verbose=2,\n",
    "    steps_per_epoch=train_examples//batch_size,\n",
    "    validation_data = validation_gen,\n",
    "    validation_steps=validation_examples//batch_size,\n",
    ")"
   ]
  },
  {
   "cell_type": "markdown",
   "metadata": {},
   "source": [
    "0.87 accuracy aldık bu iyi bir accuracy. İyi bir accuracy, çünkü sadece tahmin etsek %50 şansımız vardı. Bu datasetimizde sadece %1'i malignant. Accuracyi kullanmak doğru bir seçim değil burada. "
   ]
  },
  {
   "cell_type": "code",
   "execution_count": 15,
   "metadata": {},
   "outputs": [
    {
     "name": "stdout",
     "output_type": "stream",
     "text": [
      "INFO:tensorflow:Assets written to: isic_model/assets\n"
     ]
    },
    {
     "name": "stderr",
     "output_type": "stream",
     "text": [
      "INFO:tensorflow:Assets written to: isic_model/assets\n"
     ]
    }
   ],
   "source": [
    "model.save('isic_model/')  # Aşağıda farklı metrikler ekleyeceğiz, eklenmemiş halini kaydediyoruz."
   ]
  },
  {
   "cell_type": "markdown",
   "metadata": {},
   "source": [
    "#### 6. Using Different Metrics Than Accuracy"
   ]
  },
  {
   "cell_type": "markdown",
   "metadata": {},
   "source": [
    "Andrew NG'nin [Lecture 11.3 — Machine Learning System Design | Error Metrics For Skewed Classes](https://www.youtube.com/watch?v=wGw6R8AbcuI) videosu accuracy mevzusunu açıklıyor. Precision ve Recallı nasıl kullanacağımızı bu videodan [Lecture 11.4 — Machine Learning System Design | Trading Off Precision And Recall](https://www.youtube.com/watch?v=W5meQnGACGo) öğrenebiliriz."
   ]
  },
  {
   "cell_type": "code",
   "execution_count": 18,
   "metadata": {},
   "outputs": [],
   "source": [
    "METRICS = [\n",
    "    keras.metrics.BinaryAccuracy(name=\"accuracy\"), # yine kullanabiliriz accuracy'i\n",
    "    keras.metrics.Precision(name=\"precision\"),\n",
    "    keras.metrics.Recall(name=\"recall\"),\n",
    "    keras.metrics.AUC(name=\"auc\"),\n",
    "]"
   ]
  },
  {
   "cell_type": "code",
   "execution_count": 22,
   "metadata": {},
   "outputs": [],
   "source": [
    "model = keras.models.load_model('isic_model/')"
   ]
  },
  {
   "cell_type": "code",
   "execution_count": 23,
   "metadata": {},
   "outputs": [],
   "source": [
    "model.compile(\n",
    "    optimizer=keras.optimizers.Adam(learning_rate=3e-4),\n",
    "    loss=[keras.losses.BinaryCrossentropy(from_logits=False)],\n",
    "    metrics=METRICS,\n",
    ")"
   ]
  },
  {
   "cell_type": "code",
   "execution_count": 24,
   "metadata": {},
   "outputs": [
    {
     "name": "stdout",
     "output_type": "stream",
     "text": [
      "632/632 - 5621s - loss: 0.6815 - accuracy: 0.8763 - precision: 0.7362 - recall: 0.4747 - auc: 0.8796 - val_loss: 0.6759 - val_accuracy: 0.8714 - val_precision: 0.6811 - val_recall: 0.5717 - val_auc: 0.8872\n",
      "INFO:tensorflow:Assets written to: isic_model\\assets\n"
     ]
    },
    {
     "name": "stderr",
     "output_type": "stream",
     "text": [
      "INFO:tensorflow:Assets written to: isic_model\\assets\n"
     ]
    },
    {
     "data": {
      "text/plain": [
       "<keras.callbacks.History at 0x18feec9d2c8>"
      ]
     },
     "execution_count": 24,
     "metadata": {},
     "output_type": "execute_result"
    }
   ],
   "source": [
    "model.fit(\n",
    "    train_gen,\n",
    "    epochs = 1,\n",
    "    verbose=2,\n",
    "    steps_per_epoch=train_examples//batch_size,\n",
    "    validation_data = validation_gen,\n",
    "    validation_steps=validation_examples//batch_size,\n",
    "    callbacks=[keras.callbacks.ModelCheckpoint(\"isic_model\")] # her epochta mevcut modele kaydedecek\n",
    ")"
   ]
  },
  {
   "cell_type": "markdown",
   "metadata": {},
   "source": [
    "val_accuracy auc eğrisinin altında kalan alanı ifade ediyor."
   ]
  },
  {
   "cell_type": "code",
   "execution_count": 25,
   "metadata": {},
   "outputs": [
    {
     "name": "stdout",
     "output_type": "stream",
     "text": [
      "80/80 - 140s - loss: 0.6748 - accuracy: 0.8723 - precision: 0.6810 - recall: 0.5736 - auc: 0.8875\n"
     ]
    },
    {
     "data": {
      "text/plain": [
       "[0.6747583150863647,\n",
       " 0.8722570538520813,\n",
       " 0.6810126304626465,\n",
       " 0.5735607743263245,\n",
       " 0.8875494003295898]"
      ]
     },
     "execution_count": 25,
     "metadata": {},
     "output_type": "execute_result"
    }
   ],
   "source": [
    "model.evaluate(validation_gen, verbose=2)"
   ]
  },
  {
   "cell_type": "code",
   "execution_count": 26,
   "metadata": {},
   "outputs": [
    {
     "name": "stdout",
     "output_type": "stream",
     "text": [
      "80/80 - 167s - loss: 0.6941 - accuracy: 0.8642 - precision: 0.6406 - recall: 0.5407 - auc: 0.8696\n"
     ]
    },
    {
     "data": {
      "text/plain": [
       "[0.6941143870353699,\n",
       " 0.8641878962516785,\n",
       " 0.640625,\n",
       " 0.5406593680381775,\n",
       " 0.8696205615997314]"
      ]
     },
     "execution_count": 26,
     "metadata": {},
     "output_type": "execute_result"
    }
   ],
   "source": [
    "model.evaluate(test_gen, verbose=2)"
   ]
  },
  {
   "cell_type": "markdown",
   "metadata": {},
   "source": [
    "#### 7. How to Plot a Roc Curve"
   ]
  },
  {
   "cell_type": "markdown",
   "metadata": {},
   "source": [
    "Roc curve true positive rate'i ve false positive rate'i bize gösteriyor. Bu ikisi arasındaki trade-offu görmek isteriz. Sklearn kütüphanesini kullanıyoruz bunun için."
   ]
  },
  {
   "cell_type": "code",
   "execution_count": 27,
   "metadata": {},
   "outputs": [],
   "source": [
    "def plot_roc(labels,data):\n",
    "    predictions = model.predict(data)\n",
    "    fp, tp, _ = roc_curve(labels, predictions) # fp: false positive rate, tp: true positive rate\n",
    "    \n",
    "    plt.plot(100*fp, 100*tp)\n",
    "    plt.xlabel(\"False positive [%]\")\n",
    "    plt.ylabel(\"True positives [%]\")\n",
    "    plt.show()"
   ]
  },
  {
   "cell_type": "markdown",
   "metadata": {},
   "source": [
    "Normalde gerçek labelları göndermemiz gerekiyor fakat bizim generatorumuz var sadece."
   ]
  },
  {
   "cell_type": "code",
   "execution_count": 29,
   "metadata": {},
   "outputs": [],
   "source": [
    "test_labels = np.array([])\n",
    "num_batches = 0\n",
    "\n",
    "for _, y in test_gen:\n",
    "    test_labels = np.append(test_labels,y)\n",
    "    num_batches +=1\n",
    "    if num_batches == math.ceil(test_examples/batch_size): # test setindeki tüm örnekleri almak için\n",
    "        break"
   ]
  },
  {
   "cell_type": "markdown",
   "metadata": {},
   "source": [
    "Şimdi elimizde test labellar var data var."
   ]
  },
  {
   "cell_type": "code",
   "execution_count": 30,
   "metadata": {},
   "outputs": [
    {
     "data": {
      "image/png": "[encoded data removed]",
      "text/plain": [
       "<Figure size 432x288 with 1 Axes>"
      ]
     },
     "metadata": {
      "needs_background": "light"
     },
     "output_type": "display_data"
    }
   ],
   "source": [
    "plot_roc(test_labels, test_gen)"
   ]
  },
  {
   "cell_type": "markdown",
   "metadata": {},
   "source": [
    "Böylelikle sadece metrikleri almadık aynı zamanda roc eğrisini görmüş olduk."
   ]
  },
  {
   "cell_type": "markdown",
   "metadata": {},
   "source": [
    "Kaggle'daki [SIIM-ISIC Melanoma Classification](https://www.kaggle.com/c/siim-isic-melanoma-classification/overview) yarışmasındaki train data seti de bizimkiyle aynı, test setini bilmiyoruz ama. "
   ]
  }
 ],
 "metadata": {
  "kernelspec": {
   "display_name": "Python 3",
   "language": "python",
   "name": "python3"
  },
  "language_info": {
   "codemirror_mode": {
    "name": "ipython",
    "version": 3
   },
   "file_extension": ".py",
   "mimetype": "text/x-python",
   "name": "python",
   "nbconvert_exporter": "python",
   "pygments_lexer": "ipython3",
   "version": "3.7.6"
  }
 },
 "nbformat": 4,
 "nbformat_minor": 2
}
