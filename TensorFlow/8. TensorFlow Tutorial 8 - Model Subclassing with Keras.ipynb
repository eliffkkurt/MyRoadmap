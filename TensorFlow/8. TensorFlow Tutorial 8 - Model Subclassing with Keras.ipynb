{
  "nbformat": 4,
  "nbformat_minor": 0,
  "metadata": {
    "accelerator": "GPU",
    "colab": {
      "name": "8. TensorFlow Tutorial 8 - Model Subclassing with Keras.ipynb",
      "provenance": []
    },
    "kernelspec": {
      "display_name": "Python 3",
      "name": "python3"
    },
    "language_info": {
      "name": "python"
    }
  },
  "cells": [
    {
      "cell_type": "markdown",
      "metadata": {
        "id": "K3x_DF_eEkqJ"
      },
      "source": [
        "<font color='green'> \n",
        "**Youtube - Aladdin Persson Kanalı - TensorFlow 2.0 Beginner Tutorials serisi**\n",
        "    \n",
        "TensorFlow Tutorial 8 - Model Subclassing with Keras - Aladdin Persson anlattı.\n",
        "</font>"
      ]
    },
    {
      "cell_type": "markdown",
      "metadata": {
        "id": "Y4KxXOZRFFgT"
      },
      "source": [
        "**Video**: [TensorFlow Tutorial 8 - Model Subclassing with Keras](https://www.youtube.com/watch?v=WcZ_1IAH_nM&list=PLhhyoLH6IjfxVOdVC1P1L5z5azs0XjMsb&index=8)"
      ]
    },
    {
      "cell_type": "markdown",
      "metadata": {
        "id": "yQNEC9iXFmB9"
      },
      "source": [
        "### İçindekiler"
      ]
    },
    {
      "cell_type": "markdown",
      "metadata": {
        "id": "ewpvjKTYFqff"
      },
      "source": [
        "**Loading Dataset**\n",
        "\n",
        "**Preprocessing Dataset**\n",
        "\n",
        "**Defining CNNBlock(layers.Layer) Class for Creating Convolutional Neural Network**\n",
        "\n",
        "**Defining ResBlock(layers.Layer) and ResNet_Like(keras.Model) Class for Creating Neural Network Similar to Residual Neural Network (ResNet)**\n"
      ]
    },
    {
      "cell_type": "markdown",
      "metadata": {
        "id": "42IU0sJHFuWV"
      },
      "source": [
        "### Kaynaklar"
      ]
    },
    {
      "cell_type": "markdown",
      "metadata": {
        "id": "UA-aepoiF_jd"
      },
      "source": [
        "* Residual Neural Networkleri (ResNet) teorik olarak anlamak için DeepLearningAI kanalındaki Andrew NG'nin anlattığı [C4W2L03 Resnets](https://www.youtube.com/watch?v=ZILIbUvp5lk) videoyu izleyebilirsin."
      ]
    },
    {
      "cell_type": "markdown",
      "metadata": {
        "id": "rytkHPT0F_2p"
      },
      "source": [
        "### <font color=\"blue\"> Giriş</font>"
      ]
    },
    {
      "cell_type": "markdown",
      "metadata": {
        "id": "zCHgw2lSGPbe"
      },
      "source": [
        "Bu notebookta bize flexibility sağlayan bir yöntem olarak model subclassing yapacağız. "
      ]
    },
    {
      "cell_type": "code",
      "metadata": {
        "id": "eydFHfcqEWrw"
      },
      "source": [
        "import tensorflow as tf\n",
        "from tensorflow import keras\n",
        "from tensorflow.keras import layers"
      ],
      "execution_count": 1,
      "outputs": []
    },
    {
      "cell_type": "markdown",
      "metadata": {
        "id": "hx217qVIHv6X"
      },
      "source": [
        "### 1. Loading Dataset"
      ]
    },
    {
      "cell_type": "code",
      "metadata": {
        "id": "0zqSjr45IaVb"
      },
      "source": [
        "from tensorflow.keras.datasets import mnist"
      ],
      "execution_count": 2,
      "outputs": []
    },
    {
      "cell_type": "code",
      "metadata": {
        "colab": {
          "base_uri": "https://localhost:8080/"
        },
        "id": "D-F2OyddHsm1",
        "outputId": "435b0289-e752-4ef9-d831-c79bcf22f036"
      },
      "source": [
        "(x_train, y_train), (x_test, y_test) = mnist.load_data()"
      ],
      "execution_count": 3,
      "outputs": [
        {
          "output_type": "stream",
          "name": "stdout",
          "text": [
            "Downloading data from https://storage.googleapis.com/tensorflow/tf-keras-datasets/mnist.npz\n",
            "11493376/11490434 [==============================] - 0s 0us/step\n",
            "11501568/11490434 [==============================] - 0s 0us/step\n"
          ]
        }
      ]
    },
    {
      "cell_type": "code",
      "metadata": {
        "colab": {
          "base_uri": "https://localhost:8080/"
        },
        "id": "X8Q1aa41ISt_",
        "outputId": "f500ebae-c6b9-4c18-e1fa-9190d7163181"
      },
      "source": [
        "print(x_train.shape)\n",
        "print(y_train.shape)\n",
        "print(x_test.shape)\n",
        "print(y_test.shape)"
      ],
      "execution_count": 4,
      "outputs": [
        {
          "output_type": "stream",
          "name": "stdout",
          "text": [
            "(60000, 28, 28)\n",
            "(60000,)\n",
            "(10000, 28, 28)\n",
            "(10000,)\n"
          ]
        }
      ]
    },
    {
      "cell_type": "markdown",
      "metadata": {
        "id": "e5ijf7MTIqkB"
      },
      "source": [
        "### 2. Preprocessing Dataset"
      ]
    },
    {
      "cell_type": "code",
      "metadata": {
        "id": "M2DTIxGPIslF"
      },
      "source": [
        "x_train = x_train.reshape(-1, 28, 28, 1).astype(\"float32\") / 255.0  \n",
        "x_test = x_test.reshape(-1, 28, 28,1).astype(\"float32\") / 255.0"
      ],
      "execution_count": 5,
      "outputs": []
    },
    {
      "cell_type": "markdown",
      "metadata": {
        "id": "M4wfJ8a1JyuB"
      },
      "source": [
        "`x_train.reshape(-1, 28, 28, 1)` kodunda sondaki 1 channelı ifade ediyor. Channelı eklemek için reshape yaptık."
      ]
    },
    {
      "cell_type": "markdown",
      "metadata": {
        "id": "tKAdX_YCKJ99"
      },
      "source": [
        "### 3. Defining CNNBlock Class for Creating Convolutional Neural Network"
      ]
    },
    {
      "cell_type": "markdown",
      "metadata": {
        "id": "NyFBD3CDQd9m"
      },
      "source": [
        "##### <font color=\"green\">`class CNNBlock(layers.Layer)` ile **convolutional layerı**, **batch normalization** ve **relu** aktivasyonunu tek seferde çalıştıracağımız bir class oluşturuyoruz.  </font>"
      ]
    },
    {
      "cell_type": "markdown",
      "metadata": {
        "id": "Gvi2vJ8CKORD"
      },
      "source": [
        "> CNN -> BatchNorm -> ReLU (Common structure)\n",
        "\n",
        "Daha önce CNN'i çalıştırdığımızda önce BatchNorm yapmıştık sonrasında ReLU activation fonksiyonunu çalıştırmıştık. Bunu 10 kez yapmamız gerektiğini düşünelim çok fazla kod yazmamızı gerektirir bu durum. Bunu yapması için bir class oluşturabiliriz. "
      ]
    },
    {
      "cell_type": "code",
      "metadata": {
        "id": "KtH1PFsPI_pN"
      },
      "source": [
        "class CNNBlock(layers.Layer): # layers.Layer'dan miras alıyoruz. backpropogation vs. yapılıyor burada.\n",
        "  def __init__(self, out_channels, kernel_size=3):\n",
        "    super(CNNBlock, self).__init__()\n",
        "    self.conv = layers.Conv2D(out_channels, kernel_size, padding='same')\n",
        "    self.bn = layers.BatchNormalization()\n",
        "  \n",
        "  def call(self, input_tensor, training=False): \n",
        "    x = self.conv(input_tensor)\n",
        "    x = self.bn(x, training=training)\n",
        "    x = tf.nn.relu(x)\n",
        "    return x"
      ],
      "execution_count": 6,
      "outputs": []
    },
    {
      "cell_type": "markdown",
      "metadata": {
        "id": "t-m2xHBAMq9J"
      },
      "source": [
        "`def call(self, input_tensor, training=False):` \n",
        "* call method pytorchtaki forward metod oluyor. Initte tanımladığımız layerları burada çağırıyoruz. Input tensoru alıyoruz ve bu layerlar üzerinden onları çalıştırıyoruz. \n",
        "* batchnormalization training ve evaluation modda farklı çalıştığı için çalıştırırken hangi modda olduğunu belirtmemiz gerekiyor True/False olarak. trainingin True/False olması olayı normalde model.fit ve model.evaluate içinde otomatik yapılıyor zaten model.fit'te False, model.evaluate'te True olarak.\n",
        "\n",
        "Bu kodla defalarca çalıştırabiliriz bunu. \n",
        "> CNN -> BatchNorm -> ReLU (Common structure)."
      ]
    },
    {
      "cell_type": "markdown",
      "metadata": {
        "id": "BRaTNxRBWiqX"
      },
      "source": [
        "###### (Çalıştırma) \n",
        "<font color=\"purple\">Her convolutional layerdan sonra inputumuzun shape'ini öğrenmek istiyorsak `print(x.shape)` gibi bir kod ekleyebiliriz classımıza. Bu şekilde debug yapabiliriz.  </font>"
      ]
    },
    {
      "cell_type": "code",
      "metadata": {
        "id": "OMih3bxWWjN6"
      },
      "source": [
        "class CNNBlock(layers.Layer): # layers.Layer'dan miras alıyoruz. backpropogation vs. yapılıyor burada.\n",
        "  def __init__(self, out_channels, kernel_size=3):\n",
        "    super(CNNBlock, self).__init__()\n",
        "    self.conv = layers.Conv2D(out_channels, kernel_size, padding='same')\n",
        "    self.bn = layers.BatchNormalization()\n",
        "  \n",
        "  def call(self, input_tensor, training=False): \n",
        "    x = self.conv(input_tensor)\n",
        "    print(x.shape)\n",
        "    x = self.bn(x, training=training)\n",
        "    x = tf.nn.relu(x)\n",
        "    return x"
      ],
      "execution_count": null,
      "outputs": []
    },
    {
      "cell_type": "markdown",
      "metadata": {
        "id": "szuJnyuEXNAT"
      },
      "source": [
        "###### Devam"
      ]
    },
    {
      "cell_type": "code",
      "metadata": {
        "id": "Gv_ElSS_XLsi"
      },
      "source": [
        "model = keras.Sequential(\n",
        "    [\n",
        "     CNNBlock(32), #out_channelsları yazıyoruz.\n",
        "     CNNBlock(64),\n",
        "     CNNBlock(128),\n",
        "     layers.Flatten(),\n",
        "     layers.Dense(10),\n",
        "    ]\n",
        ")"
      ],
      "execution_count": 7,
      "outputs": []
    },
    {
      "cell_type": "markdown",
      "metadata": {
        "id": "pQtQM4ljRGp3"
      },
      "source": [
        "##### <font color=\"green\"> `model.compile()` içerisinde ağımızın eğitim bölümünü nasıl yapılandıracağımızı anlatıyoruz kerasa. </font>"
      ]
    },
    {
      "cell_type": "code",
      "metadata": {
        "id": "-NBARr46ROoQ"
      },
      "source": [
        "model.compile(\n",
        "    optimizer=keras.optimizers.Adam(),\n",
        "    loss=keras.losses.SparseCategoricalCrossentropy(from_logits=True),\n",
        "    metrics=[\"accuracy\"],\n",
        ")"
      ],
      "execution_count": 8,
      "outputs": []
    },
    {
      "cell_type": "markdown",
      "metadata": {
        "id": "zwwA4Ew2Rj2d"
      },
      "source": [
        "##### <font color=\"green\"> `model.fit()` ile yapılandırdığımız modeli eğitiyoruz. </font>"
      ]
    },
    {
      "cell_type": "code",
      "metadata": {
        "colab": {
          "base_uri": "https://localhost:8080/"
        },
        "id": "PSVId8poRnHq",
        "outputId": "b4b3f6f7-8315-440b-a577-7f9cc2285e21"
      },
      "source": [
        "model.fit(x_train, y_train, batch_size=64, epochs=3, verbose=2)"
      ],
      "execution_count": 9,
      "outputs": [
        {
          "output_type": "stream",
          "name": "stdout",
          "text": [
            "Epoch 1/3\n",
            "938/938 - 53s - loss: 0.4763 - accuracy: 0.9497\n",
            "Epoch 2/3\n",
            "938/938 - 21s - loss: 0.0698 - accuracy: 0.9844\n",
            "Epoch 3/3\n",
            "938/938 - 21s - loss: 0.0332 - accuracy: 0.9891\n"
          ]
        },
        {
          "output_type": "execute_result",
          "data": {
            "text/plain": [
              "<keras.callbacks.History at 0x7f22c0343f10>"
            ]
          },
          "metadata": {},
          "execution_count": 9
        }
      ]
    },
    {
      "cell_type": "code",
      "metadata": {
        "colab": {
          "base_uri": "https://localhost:8080/"
        },
        "id": "dEUNsZQpD8XC",
        "outputId": "1029aee8-20d9-4c5b-8493-65ac425ebc66"
      },
      "source": [
        "print(model.summary())"
      ],
      "execution_count": 11,
      "outputs": [
        {
          "output_type": "stream",
          "name": "stdout",
          "text": [
            "Model: \"sequential\"\n",
            "_________________________________________________________________\n",
            "Layer (type)                 Output Shape              Param #   \n",
            "=================================================================\n",
            "cnn_block (CNNBlock)         (None, 28, 28, 32)        448       \n",
            "_________________________________________________________________\n",
            "cnn_block_1 (CNNBlock)       (None, 28, 28, 64)        18752     \n",
            "_________________________________________________________________\n",
            "cnn_block_2 (CNNBlock)       (None, 28, 28, 128)       74368     \n",
            "_________________________________________________________________\n",
            "flatten (Flatten)            (None, 100352)            0         \n",
            "_________________________________________________________________\n",
            "dense (Dense)                (None, 10)                1003530   \n",
            "=================================================================\n",
            "Total params: 1,097,098\n",
            "Trainable params: 1,096,650\n",
            "Non-trainable params: 448\n",
            "_________________________________________________________________\n",
            "None\n"
          ]
        }
      ]
    },
    {
      "cell_type": "markdown",
      "metadata": {
        "id": "zThBHBvsRyvn"
      },
      "source": [
        "##### <font color=\"green\"> `model.evaluate()` ile test setimizi gönderip modelimizin başarısını değerlendiriyoruz. </font>"
      ]
    },
    {
      "cell_type": "code",
      "metadata": {
        "colab": {
          "base_uri": "https://localhost:8080/"
        },
        "id": "45hrtqq1R5XT",
        "outputId": "a9525f6d-c033-4cc6-96b5-2920c87a0f3c"
      },
      "source": [
        "model.evaluate(x_test, y_test, batch_size=64, verbose=2)"
      ],
      "execution_count": 12,
      "outputs": [
        {
          "output_type": "stream",
          "name": "stdout",
          "text": [
            "157/157 - 2s - loss: 0.0398 - accuracy: 0.9881\n"
          ]
        },
        {
          "output_type": "execute_result",
          "data": {
            "text/plain": [
              "[0.03978950157761574, 0.988099992275238]"
            ]
          },
          "metadata": {},
          "execution_count": 12
        }
      ]
    },
    {
      "cell_type": "markdown",
      "metadata": {
        "id": "Dc3b93ULZwc5"
      },
      "source": [
        "### 4. Defining ResBlock(layers.Layer) and ResNet_Like(keras.Model) Class for Creating Neural Network Similar to Residual Neural Network (ResNet)"
      ]
    },
    {
      "cell_type": "code",
      "metadata": {
        "id": "fbda4mha9qJN"
      },
      "source": [
        "class CNNBlock(layers.Layer): # yukarıda yazdığımız class\n",
        "  def __init__(self, out_channels, kernel_size=3):\n",
        "    super(CNNBlock, self).__init__()\n",
        "    self.conv = layers.Conv2D(out_channels, kernel_size, padding='same')\n",
        "    self.bn = layers.BatchNormalization()\n",
        "  \n",
        "  def call(self, input_tensor, training=False): \n",
        "    x = self.conv(input_tensor)\n",
        "    x = self.bn(x, training=training)\n",
        "    x = tf.nn.relu(x)\n",
        "    return x"
      ],
      "execution_count": 13,
      "outputs": []
    },
    {
      "cell_type": "code",
      "metadata": {
        "id": "2JWKxb1HZ3yA"
      },
      "source": [
        "class ResBlock(layers.Layer):\n",
        "  def __init__(self, channels): # 'channels'ı liste halinde vereceğiz. \n",
        "    super(ResBlock, self).__init__()\n",
        "    self.cnn1 = CNNBlock(channels[0]) # kernel size default olarak 3'tü. Her CNNBlock için CNN, batch norm ve relu çalışacak.\n",
        "    self.cnn2 = CNNBlock(channels[1])\n",
        "    self.cnn3 = CNNBlock(channels[2])\n",
        "    self.pooling = layers.MaxPooling2D() # input size'ın height ve widthini yarıya düşürecek. \n",
        "    # We're going to use an identity mapping similar to resnets with these skip connections. \n",
        "    self.identity_mapping = layers.Conv2D(channels[1], 1, padding='same')\n",
        "    \n",
        "  def call(self, input_tensor, training=False):\n",
        "    x = self.cnn1(input_tensor, training=training)\n",
        "    x = self.cnn2(x, training=training)\n",
        "    x = self.cnn3(\n",
        "        x + self.identity_mapping(input_tensor), training=training,\n",
        "    )\n",
        "    return self.pooling(x)\n"
      ],
      "execution_count": 14,
      "outputs": []
    },
    {
      "cell_type": "markdown",
      "metadata": {
        "id": "P9kEr4da2Bln"
      },
      "source": [
        "* `self.identity_mapping`  identity mapping has the same number of channels. We're using same convolution so the height and the width won't change but channels might. \n",
        "\n",
        "* `x = self.cnn3(x + self.identity_mapping(input_tensor), training=training,))` what we're doing here is that we're using these skip connections here: `self.identity_mapping(input_tensor)` but for this one `...(x + ` it has passed through this `x = self.cnn2(x, training=training)` and changing the number of channels that it was originally to the number of channels that we send in through \"channels\" list (channels[1]). "
      ]
    },
    {
      "cell_type": "markdown",
      "metadata": {
        "id": "s7SzRSHj7DH9"
      },
      "source": [
        "class ResBlock(layers.Layer)'ı final model olarak kullanmayacağız. Final model için `keras.Model`'i inherit ettiğimiz bir class yazıyoruz. Bu parent, layerlara sahip ayrıca ek olarak built-in training, evaluation gibi `model.fit`ten, `model.evaluate`ten, `model.predict`ten bildiğimiz özelliklere hatta model.layers (modeldeki layerları kontrol etmek için), model.summary, serialization, saving your model gibi özelliklere de sahip. Bunlar `keras.Model`'de var ama `layers.Layer`'da yok. Bu yüzden bu classı oluşturuyoruz."
      ]
    },
    {
      "cell_type": "code",
      "metadata": {
        "id": "j4P3wu1s2hQm"
      },
      "source": [
        "class ResNet_Like(keras.Model):\n",
        "  def __init__(self, num_classes=10):\n",
        "    super(ResNet_Like, self).__init__()\n",
        "    self.block1 = ResBlock([32, 32, 64])\n",
        "    self.block2 = ResBlock([128, 128, 256])\n",
        "    self.block3 = ResBlock([128, 256, 512])\n",
        "    self.pool = layers.GlobalAveragePooling2D() # bu self.Flatten ile aynı fonksiyonaliteyi gerçekleştiriyor. \n",
        "    self.classifier = layers.Dense(num_classes)\n",
        "\n",
        "  def call(self, input_tensor, training=False): \n",
        "    x = self.block1(input_tensor, training=training)\n",
        "    x = self.block2(x, training=training)\n",
        "    x = self.block3(x, training=training)\n",
        "    x = self.pool(x)\n",
        "    return self.classifier(x)\n",
        "\n",
        "  def model(self):\n",
        "    x = keras.Input(shape=(28,28,1))\n",
        "    return keras.Model(inputs=[x], outputs=self.call(x))\n"
      ],
      "execution_count": 19,
      "outputs": []
    },
    {
      "cell_type": "markdown",
      "metadata": {
        "id": "bcJc-trG9MeF"
      },
      "source": [
        "* İlk olarak CNNBlock'u oluşturduk sadece convolutional layerı, batch normalization ve reluyu defalarca kez elle yazmamak için.  \n",
        "\n",
        "* İkinci olarak ResBlock'u yazdık. Bu class CNNBlockları kullanıyor birkaç kez ve pooling layer ve identity mapping kullanıyor. \n",
        "\n",
        "* Son olarak Resnet_Like classı yazıyoruz ve içerisinde ResBlocku  kullanıyoruz. Flatten işlemini burada yapıyoruz.\n",
        "\n",
        "* `print(model.summary())` yazdığımızda Output Shape'ini \"multiple\" olarak veriyordu. `def model(self)` ile input shape'ini kendimiz verip output shape'ini dönen bir fonksiyon yazmış olduk.\n"
      ]
    },
    {
      "cell_type": "markdown",
      "metadata": {
        "id": "3LQc7h-GrZnY"
      },
      "source": [
        "###### Devam"
      ]
    },
    {
      "cell_type": "code",
      "metadata": {
        "id": "K6knmw9pDaSD"
      },
      "source": [
        "model = ResNet_Like(num_classes=10)"
      ],
      "execution_count": 21,
      "outputs": []
    },
    {
      "cell_type": "markdown",
      "metadata": {
        "id": "K8IeV667DUx4"
      },
      "source": [
        "##### <font color=\"green\"> `model.compile()` içerisinde ağımızın eğitim bölümünü nasıl yapılandıracağımızı anlatıyoruz kerasa. </font>"
      ]
    },
    {
      "cell_type": "code",
      "metadata": {
        "id": "-Vx--nf6DJU4"
      },
      "source": [
        "model.compile(\n",
        "    optimizer=keras.optimizers.Adam(),\n",
        "    loss=keras.losses.SparseCategoricalCrossentropy(from_logits=True),\n",
        "    metrics=[\"accuracy\"],\n",
        ")"
      ],
      "execution_count": 22,
      "outputs": []
    },
    {
      "cell_type": "markdown",
      "metadata": {
        "id": "MMV5IHQUCvH2"
      },
      "source": [
        "##### <font color=\"green\"> `model.fit()` ile yapılandırdığımız modeli eğitiyoruz. </font>"
      ]
    },
    {
      "cell_type": "code",
      "metadata": {
        "colab": {
          "base_uri": "https://localhost:8080/"
        },
        "id": "cqeSeXzhCvvj",
        "outputId": "5c3a7c41-e961-4c71-be41-02a77811b16c"
      },
      "source": [
        "model.fit(x_train, y_train, batch_size=64, epochs=1, verbose=2) # epochs=20 yaparsak trainde 0.9984 testte 0.9914 accuracylere ulaşabiliyoruz."
      ],
      "execution_count": 23,
      "outputs": [
        {
          "output_type": "stream",
          "name": "stdout",
          "text": [
            "938/938 - 49s - loss: 0.0822 - accuracy: 0.9751\n"
          ]
        },
        {
          "output_type": "execute_result",
          "data": {
            "text/plain": [
              "<keras.callbacks.History at 0x7f21d6421c90>"
            ]
          },
          "metadata": {},
          "execution_count": 23
        }
      ]
    },
    {
      "cell_type": "code",
      "metadata": {
        "colab": {
          "base_uri": "https://localhost:8080/"
        },
        "id": "vVOiU0T_DFb9",
        "outputId": "917123fa-bde8-4150-fee1-c099eb53ab38"
      },
      "source": [
        "print(model.summary())"
      ],
      "execution_count": 24,
      "outputs": [
        {
          "output_type": "stream",
          "name": "stdout",
          "text": [
            "Model: \"res_net__like_2\"\n",
            "_________________________________________________________________\n",
            "Layer (type)                 Output Shape              Param #   \n",
            "=================================================================\n",
            "res_block_6 (ResBlock)       multiple                  28640     \n",
            "_________________________________________________________________\n",
            "res_block_7 (ResBlock)       multiple                  526976    \n",
            "_________________________________________________________________\n",
            "res_block_8 (ResBlock)       multiple                  1839744   \n",
            "_________________________________________________________________\n",
            "global_average_pooling2d_2 ( multiple                  0         \n",
            "_________________________________________________________________\n",
            "dense_3 (Dense)              multiple                  5130      \n",
            "=================================================================\n",
            "Total params: 2,400,490\n",
            "Trainable params: 2,397,418\n",
            "Non-trainable params: 3,072\n",
            "_________________________________________________________________\n",
            "None\n"
          ]
        }
      ]
    },
    {
      "cell_type": "code",
      "metadata": {
        "colab": {
          "base_uri": "https://localhost:8080/"
        },
        "id": "TCLuiU2is0PP",
        "outputId": "54c3cd1f-4a29-4e12-db1e-14bf5ce4e727"
      },
      "source": [
        "print(model.model().summary()) # class içinde tanımladığımız fonksiyonu çağırdık böylelikle."
      ],
      "execution_count": 25,
      "outputs": [
        {
          "output_type": "stream",
          "name": "stdout",
          "text": [
            "Model: \"model\"\n",
            "_________________________________________________________________\n",
            "Layer (type)                 Output Shape              Param #   \n",
            "=================================================================\n",
            "input_1 (InputLayer)         [(None, 28, 28, 1)]       0         \n",
            "_________________________________________________________________\n",
            "res_block_6 (ResBlock)       (None, 14, 14, 64)        28640     \n",
            "_________________________________________________________________\n",
            "res_block_7 (ResBlock)       (None, 7, 7, 256)         526976    \n",
            "_________________________________________________________________\n",
            "res_block_8 (ResBlock)       (None, 3, 3, 512)         1839744   \n",
            "_________________________________________________________________\n",
            "global_average_pooling2d_2 ( (None, 512)               0         \n",
            "_________________________________________________________________\n",
            "dense_3 (Dense)              (None, 10)                5130      \n",
            "=================================================================\n",
            "Total params: 2,400,490\n",
            "Trainable params: 2,397,418\n",
            "Non-trainable params: 3,072\n",
            "_________________________________________________________________\n",
            "None\n"
          ]
        }
      ]
    },
    {
      "cell_type": "markdown",
      "metadata": {
        "id": "3g4ZKllHHIEU"
      },
      "source": [
        "global_average_pooling2d kısmında 3x3'lük (3 piksel height 3 piksel width) inputun ortalamasını alarak tek inputa indirdi. Baştaki input size'ın her seferinde yarıya düşmesinin sebebi maxpoolingden kaynaklı.\n",
        "\n",
        "Total params: 2,400,490 bu sayı önceki modellerimizden önemli oranda fazla. "
      ]
    },
    {
      "cell_type": "markdown",
      "metadata": {
        "id": "id9eFuFcC0vS"
      },
      "source": [
        "##### <font color=\"green\"> `model.evaluate()` ile test setimizi gönderip modelimizin başarısını değerlendiriyoruz. </font>"
      ]
    },
    {
      "cell_type": "code",
      "metadata": {
        "colab": {
          "base_uri": "https://localhost:8080/"
        },
        "id": "qlS9WMadC1ck",
        "outputId": "75314dab-56d6-46bd-bbbf-2b4151d188c1"
      },
      "source": [
        "model.evaluate(x_test, y_test, batch_size=64, verbose=2)"
      ],
      "execution_count": 26,
      "outputs": [
        {
          "output_type": "stream",
          "name": "stdout",
          "text": [
            "157/157 - 3s - loss: 0.0277 - accuracy: 0.9912\n"
          ]
        },
        {
          "output_type": "execute_result",
          "data": {
            "text/plain": [
              "[0.027706323191523552, 0.9911999702453613]"
            ]
          },
          "metadata": {},
          "execution_count": 26
        }
      ]
    }
  ]
}