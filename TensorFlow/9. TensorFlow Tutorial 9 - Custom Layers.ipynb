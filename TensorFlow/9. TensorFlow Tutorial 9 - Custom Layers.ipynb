{
  "nbformat": 4,
  "nbformat_minor": 0,
  "metadata": {
    "colab": {
      "name": "9. TensorFlow Tutorial 9 - Custom Layers.ipynb",
      "provenance": []
    },
    "kernelspec": {
      "name": "python3",
      "display_name": "Python 3"
    },
    "language_info": {
      "name": "python"
    },
    "accelerator": "GPU"
  },
  "cells": [
    {
      "cell_type": "markdown",
      "metadata": {
        "id": "Cu3WmlJKaSER"
      },
      "source": [
        "<font color='green'> \n",
        "**Youtube - Aladdin Persson Kanalı - TensorFlow 2.0 Beginner Tutorials serisi**\n",
        "    \n",
        "TensorFlow Tutorial 9 - Custom Layers - Aladdin Persson anlattı.\n",
        "</font>"
      ]
    },
    {
      "cell_type": "markdown",
      "metadata": {
        "id": "Cx14xD-Pae6y"
      },
      "source": [
        "**Video**: [TensorFlow Tutorial 9 - Custom Layers](https://www.youtube.com/watch?v=cKMJDkWSDnY&list=PLhhyoLH6IjfxVOdVC1P1L5z5azs0XjMsb&index=9)"
      ]
    },
    {
      "cell_type": "markdown",
      "metadata": {
        "id": "GIiZqtVYasKw"
      },
      "source": [
        "### İçindekiler"
      ]
    },
    {
      "cell_type": "markdown",
      "metadata": {
        "id": "IhevSPosaxUP"
      },
      "source": [
        "**Loading Dataset**\n",
        "\n",
        "**Preprocessing Dataset**\n",
        "\n",
        "**Creating a Basic Neural Network**\n",
        "\n",
        "**Creating Custom Layers - 1**\n",
        "* We created a class for our layers by initializing weight and bias ourselves and integrated it into our model.\n",
        "\n",
        "**Creating Custom Layers - 2**\n",
        "* When we were going to integrate the class we created into our model, we had to give the input size ourselves. In order not to do this, we added a function called *build()* to our class.\n",
        "\n",
        "**Creating Custom Layers - 3**\n",
        "* We created also a class for running the relu function.\n"
      ]
    },
    {
      "cell_type": "markdown",
      "metadata": {
        "id": "w8kPCpYfcNLx"
      },
      "source": [
        "### <font color=\"blue\"> Giriş</font>"
      ]
    },
    {
      "cell_type": "markdown",
      "metadata": {
        "id": "gdFEexaWcO9o"
      },
      "source": [
        "Nasıl custom layer oluşturduğumuza bakacağız."
      ]
    },
    {
      "cell_type": "code",
      "metadata": {
        "id": "U38dYXWJctec"
      },
      "source": [
        "import tensorflow as tf\n",
        "from tensorflow import keras\n",
        "from tensorflow.keras import layers"
      ],
      "execution_count": 1,
      "outputs": []
    },
    {
      "cell_type": "markdown",
      "metadata": {
        "id": "wFgGqz65cWDQ"
      },
      "source": [
        "### 1. Loading Dataset"
      ]
    },
    {
      "cell_type": "code",
      "metadata": {
        "id": "cYyOXHM1aGOU"
      },
      "source": [
        "from tensorflow.keras.datasets import mnist"
      ],
      "execution_count": 2,
      "outputs": []
    },
    {
      "cell_type": "code",
      "metadata": {
        "colab": {
          "base_uri": "https://localhost:8080/"
        },
        "id": "St8MlE5vc5uM",
        "outputId": "6795b74d-9f3c-4092-c685-cbf1d7709931"
      },
      "source": [
        "(x_train, y_train),(x_test, y_test) = mnist.load_data()"
      ],
      "execution_count": 3,
      "outputs": [
        {
          "output_type": "stream",
          "name": "stdout",
          "text": [
            "Downloading data from https://storage.googleapis.com/tensorflow/tf-keras-datasets/mnist.npz\n",
            "11493376/11490434 [==============================] - 0s 0us/step\n",
            "11501568/11490434 [==============================] - 0s 0us/step\n"
          ]
        }
      ]
    },
    {
      "cell_type": "code",
      "metadata": {
        "colab": {
          "base_uri": "https://localhost:8080/"
        },
        "id": "beFe4N05dPor",
        "outputId": "6016de39-a18a-4d98-d8b2-9beaef5dee7e"
      },
      "source": [
        "print(x_train.shape)\n",
        "print(y_train.shape)\n",
        "print(x_test.shape)\n",
        "print(y_test.shape)"
      ],
      "execution_count": 4,
      "outputs": [
        {
          "output_type": "stream",
          "name": "stdout",
          "text": [
            "(60000, 28, 28)\n",
            "(60000,)\n",
            "(10000, 28, 28)\n",
            "(10000,)\n"
          ]
        }
      ]
    },
    {
      "cell_type": "markdown",
      "metadata": {
        "id": "83uODeRLdq1f"
      },
      "source": [
        "### 2. Preprocessing Dataset"
      ]
    },
    {
      "cell_type": "code",
      "metadata": {
        "id": "0fKnl2cGdUBJ"
      },
      "source": [
        "x_train = x_train.reshape(-1, 28*28).astype(\"float32\") / 255.0\n",
        "x_test = x_test.reshape(-1, 28*28).astype(\"float32\") /255.0"
      ],
      "execution_count": 5,
      "outputs": []
    },
    {
      "cell_type": "markdown",
      "metadata": {
        "id": "_29fTOqxeD63"
      },
      "source": [
        "### 3. Creating a Basic Neural Network\n"
      ]
    },
    {
      "cell_type": "markdown",
      "metadata": {
        "id": "CLBmEccfg1Mz"
      },
      "source": [
        "##### <font color=\"green\"> `class MyModel(keras.Model)` ile Neural Network oluşturuyoruz. </font>"
      ]
    },
    {
      "cell_type": "markdown",
      "metadata": {
        "id": "G6eqdvezem-c"
      },
      "source": [
        "Convolutional layerları batch norm ve relu ile defalarca tekrarlayabildiğimiz bir class yazmıştık önceki notebookta. Bu classta flatten yapıp dense layer eklemiştik. Burada direkt bu classı yazıyoruz. Normal neural network oluşturuyoruz CNN değil dolayısıyla conv-batch norm-relu yapsın diye yazdığımız classa ihtiyacımız yok."
      ]
    },
    {
      "cell_type": "code",
      "metadata": {
        "id": "5Vae_IpNeI1U"
      },
      "source": [
        "class MyModel(keras.Model): \n",
        "  def __init__(self, num_classes=10):\n",
        "    super(MyModel, self).__init__()\n",
        "    self.dense1 = layers.Dense(64)\n",
        "    self.dense2 = layers.Dense(num_classes)\n",
        "\n",
        "  def call(self, input_tensor):\n",
        "    x = tf.nn.relu(self.dense1(input_tensor))\n",
        "    return self.dense2(x)"
      ],
      "execution_count": 6,
      "outputs": []
    },
    {
      "cell_type": "code",
      "metadata": {
        "id": "pMTSJ-zUgt1I"
      },
      "source": [
        "model = MyModel()"
      ],
      "execution_count": 7,
      "outputs": []
    },
    {
      "cell_type": "markdown",
      "metadata": {
        "id": "JGWOsgsEgpLF"
      },
      "source": [
        "##### <font color=\"green\"> `model.compile()` içerisinde ağımızın eğitim bölümünü nasıl yapılandıracağımızı anlatıyoruz kerasa. </font>"
      ]
    },
    {
      "cell_type": "code",
      "metadata": {
        "id": "IQIn5ibZgtCZ"
      },
      "source": [
        "model.compile(\n",
        "    loss = keras.losses.SparseCategoricalCrossentropy(from_logits=True),\n",
        "    optimizer = keras.optimizers.Adam(),\n",
        "    metrics=[\"accuracy\"],\n",
        ")"
      ],
      "execution_count": 8,
      "outputs": []
    },
    {
      "cell_type": "markdown",
      "metadata": {
        "id": "qp1UhoBFgubJ"
      },
      "source": [
        "##### <font color=\"green\"> `model.fit()` ile yapılandırdığımız modeli eğitiyoruz. </font>"
      ]
    },
    {
      "cell_type": "code",
      "metadata": {
        "colab": {
          "base_uri": "https://localhost:8080/"
        },
        "id": "iXnr0090iEFD",
        "outputId": "3b6b7fd4-562b-4bad-c91e-a0f3e19cebf1"
      },
      "source": [
        "model.fit(x_train, y_train, batch_size=32, epochs=2, verbose=2)"
      ],
      "execution_count": 9,
      "outputs": [
        {
          "output_type": "stream",
          "name": "stdout",
          "text": [
            "Epoch 1/2\n",
            "1875/1875 - 6s - loss: 0.3058 - accuracy: 0.9127\n",
            "Epoch 2/2\n",
            "1875/1875 - 3s - loss: 0.1465 - accuracy: 0.9577\n"
          ]
        },
        {
          "output_type": "execute_result",
          "data": {
            "text/plain": [
              "<keras.callbacks.History at 0x7fb740232d10>"
            ]
          },
          "metadata": {},
          "execution_count": 9
        }
      ]
    },
    {
      "cell_type": "markdown",
      "metadata": {
        "id": "VxGOIZX8iO5u"
      },
      "source": [
        "##### <font color=\"green\"> `model.evaluate()` ile test setimizi gönderip modelimizin başarısını değerlendiriyoruz. </font>"
      ]
    },
    {
      "cell_type": "code",
      "metadata": {
        "colab": {
          "base_uri": "https://localhost:8080/"
        },
        "id": "iEQV4fBuiPiX",
        "outputId": "ac8e2ee1-7c80-4a0b-d687-2b6d3d38c7c5"
      },
      "source": [
        "model.evaluate(x_test, y_test, batch_size=32, verbose=2)"
      ],
      "execution_count": 10,
      "outputs": [
        {
          "output_type": "stream",
          "name": "stdout",
          "text": [
            "313/313 - 1s - loss: 0.1215 - accuracy: 0.9626\n"
          ]
        },
        {
          "output_type": "execute_result",
          "data": {
            "text/plain": [
              "[0.12154971063137054, 0.9625999927520752]"
            ]
          },
          "metadata": {},
          "execution_count": 10
        }
      ]
    },
    {
      "cell_type": "markdown",
      "metadata": {
        "id": "kS53kgdgT5jC"
      },
      "source": [
        "Yukarıda modelimizi oluştururken `layers.Dense(64)` koduyla kerasın içinde yer alan layers'ı ve onun içinde yer alan Dense layersı kullandık. Ayrıca yine `tf.nn.relu(self.dense1(input_tensor))` koduyla tensorflowun relu metodunu kullandık. Fakat kendimiz de bunları oluşturabiliriz. Bunu nasıl yapacağımıza bakacağız."
      ]
    },
    {
      "cell_type": "markdown",
      "metadata": {
        "id": "EVL1T0tyjdAM"
      },
      "source": [
        "### 4. Creating Custom Layers - 1"
      ]
    },
    {
      "cell_type": "code",
      "metadata": {
        "id": "sksDNAWckIpj"
      },
      "source": [
        "class Dense(layers.Layer):\n",
        "  def __init__(self, units, input_dim): # burada input dimensionını belirtiyoruz.\n",
        "    super(Dense,self).__init__()\n",
        "    self.w = self.add_weight(\n",
        "        name = 'w', \n",
        "        shape = (input_dim, units), # input_dim = 784 units = 64\n",
        "        initializer = 'random_normal',\n",
        "        trainable = True,\n",
        "    )\n",
        "    self.b = self.add_weight(\n",
        "        name = 'b', shape =(units,), initializer='zeros', trainable=True,\n",
        "    )\n",
        "\n",
        "  def call(self, inputs):\n",
        "    return tf.matmul(inputs, self.w) + self.b"
      ],
      "execution_count": 11,
      "outputs": []
    },
    {
      "cell_type": "markdown",
      "metadata": {
        "id": "VS_F6MJ5lE1G"
      },
      "source": [
        "* `name = 'w'`: bir sonraki videoda modeli save ve load edeceğimizi göreceğiz. İsim belirtmezsek kaydedemiyoruz modeli. \n",
        "\n",
        "* `shape = (input_dim, units)` : input_dim = 784, units ise bunu mapleyeceğimiz nod sayısı. Yukarıda `self.dense1 = layers.Dense(64)` yazmıştık. Buradaki units de 64 olacak.\n",
        "\n",
        "*  trainable = True, batch normda vs. parametreler trainable değil. Ama bu dense layerdaki tüm parametrelerimiz için trainable olsun dedik.\n",
        "\n",
        "* Yukarıda x_train ve x_testin boyutları (60000, 28, 28) idi. Bunları preprocessing aşamasında `x_train = x_train.reshape(-1, 28*28).astype(\"float32\") / 255.0` ve `x_test = x_test.reshape(-1, 28*28).astype(\"float32\") / 255.0` koduyla (60000, 784) haline getirdik. Burada w'nin boyutuna da (input_dim=784, units=64) demiştik. x ve w'lerin çarpımı sonucu tek bir resim için (60000 için değil) elimizde (1,64) boyutunda bir matris oluşuyor. (64,) boyutunda bir bias eklediğimizde boyut (1,64) oluyor."
      ]
    },
    {
      "cell_type": "markdown",
      "metadata": {
        "id": "eBF-jVMnqgLB"
      },
      "source": [
        "###### <font color=\"purple\">`x*w + b`'daki broadcastingle ilgili kendi çalışmam</font>"
      ]
    },
    {
      "cell_type": "code",
      "metadata": {
        "id": "F6ZphnEQpFiS"
      },
      "source": [
        "import numpy as np\n",
        "\n",
        "d = [4,3,2,45,2,25,24,6]"
      ],
      "execution_count": 32,
      "outputs": []
    },
    {
      "cell_type": "code",
      "metadata": {
        "id": "pjd4dyZQpvfg"
      },
      "source": [
        "k= np.reshape(d,(1,8))"
      ],
      "execution_count": 33,
      "outputs": []
    },
    {
      "cell_type": "code",
      "metadata": {
        "id": "LVRcIStmpd1C"
      },
      "source": [
        "l= np.reshape(d,(8,))"
      ],
      "execution_count": 34,
      "outputs": []
    },
    {
      "cell_type": "code",
      "metadata": {
        "colab": {
          "base_uri": "https://localhost:8080/"
        },
        "id": "E3yTNJntqcWx",
        "outputId": "7f8fc3a7-a553-403d-c477-750ba7c622fc"
      },
      "source": [
        "print(k)\n",
        "print(l)"
      ],
      "execution_count": 35,
      "outputs": [
        {
          "output_type": "stream",
          "name": "stdout",
          "text": [
            "[[ 4  3  2 45  2 25 24  6]]\n",
            "[ 4  3  2 45  2 25 24  6]\n"
          ]
        }
      ]
    },
    {
      "cell_type": "code",
      "metadata": {
        "colab": {
          "base_uri": "https://localhost:8080/"
        },
        "id": "TWgwNYioqlBx",
        "outputId": "a9f390a4-fabc-41c1-f061-8238251418b0"
      },
      "source": [
        "print(k.shape)\n",
        "print(l.shape)"
      ],
      "execution_count": 37,
      "outputs": [
        {
          "output_type": "stream",
          "name": "stdout",
          "text": [
            "(1, 8)\n",
            "(8,)\n"
          ]
        }
      ]
    },
    {
      "cell_type": "code",
      "metadata": {
        "colab": {
          "base_uri": "https://localhost:8080/"
        },
        "id": "741PNkAvpof6",
        "outputId": "6f194160-e437-4309-f476-3c625e34b7d9"
      },
      "source": [
        "k+l"
      ],
      "execution_count": 36,
      "outputs": [
        {
          "output_type": "execute_result",
          "data": {
            "text/plain": [
              "array([[ 8,  6,  4, 90,  4, 50, 48, 12]])"
            ]
          },
          "metadata": {},
          "execution_count": 36
        }
      ]
    },
    {
      "cell_type": "code",
      "metadata": {
        "colab": {
          "base_uri": "https://localhost:8080/"
        },
        "id": "onAX9MlmqFKR",
        "outputId": "ad88633b-5ac8-4359-bc19-179f542030b5"
      },
      "source": [
        "(k+l).shape"
      ],
      "execution_count": 38,
      "outputs": [
        {
          "output_type": "execute_result",
          "data": {
            "text/plain": [
              "(1, 8)"
            ]
          },
          "metadata": {},
          "execution_count": 38
        }
      ]
    },
    {
      "cell_type": "markdown",
      "metadata": {
        "id": "DK6CjYVXrbyA"
      },
      "source": [
        "###### Devam"
      ]
    },
    {
      "cell_type": "markdown",
      "metadata": {
        "id": "jjzsGjBrzaZU"
      },
      "source": [
        "Kendi yazdığımız Dense layerları ekliyoruz classımıza."
      ]
    },
    {
      "cell_type": "code",
      "metadata": {
        "id": "pJJKNYhjqKu4"
      },
      "source": [
        "class MyModel(keras.Model):\n",
        "  def __init__(self, num_classes=10):\n",
        "    super(MyModel,self).__init__()\n",
        "    self.dense1 = Dense(64, 784)\n",
        "    self.dense2 = Dense(10,64)\n",
        "\n",
        "  def call(self, input_tensor):\n",
        "    x = tf.nn.relu(self.dense1(input_tensor))\n",
        "    return self.dense2(x)"
      ],
      "execution_count": 12,
      "outputs": []
    },
    {
      "cell_type": "code",
      "metadata": {
        "id": "KwEPvUTizXmv"
      },
      "source": [
        "model = MyModel()"
      ],
      "execution_count": 13,
      "outputs": []
    },
    {
      "cell_type": "markdown",
      "metadata": {
        "id": "aoG3a4L5zklZ"
      },
      "source": [
        "##### <font color=\"green\"> `model.compile()` içerisinde ağımızın eğitim bölümünü nasıl yapılandıracağımızı anlatıyoruz kerasa. </font>"
      ]
    },
    {
      "cell_type": "code",
      "metadata": {
        "id": "ubTBKM7Lzfgp"
      },
      "source": [
        "model.compile(\n",
        "    loss = keras.losses.SparseCategoricalCrossentropy(from_logits=True),\n",
        "    optimizer = keras.optimizers.Adam(),\n",
        "    metrics=[\"accuracy\"],\n",
        ")"
      ],
      "execution_count": 14,
      "outputs": []
    },
    {
      "cell_type": "markdown",
      "metadata": {
        "id": "LhGZsAUfzsCJ"
      },
      "source": [
        "##### <font color=\"green\"> `model.fit()` ile yapılandırdığımız modeli eğitiyoruz. </font>"
      ]
    },
    {
      "cell_type": "code",
      "metadata": {
        "colab": {
          "base_uri": "https://localhost:8080/"
        },
        "id": "b1weTORdzsjO",
        "outputId": "4175a47d-80e0-4d87-bd33-04de9e3d23d5"
      },
      "source": [
        "model.fit(x_train, y_train, batch_size=32, epochs=2, verbose=2)"
      ],
      "execution_count": 15,
      "outputs": [
        {
          "output_type": "stream",
          "name": "stdout",
          "text": [
            "Epoch 1/2\n",
            "1875/1875 - 3s - loss: 0.3385 - accuracy: 0.9076\n",
            "Epoch 2/2\n",
            "1875/1875 - 3s - loss: 0.1641 - accuracy: 0.9529\n"
          ]
        },
        {
          "output_type": "execute_result",
          "data": {
            "text/plain": [
              "<keras.callbacks.History at 0x7fb74006f6d0>"
            ]
          },
          "metadata": {},
          "execution_count": 15
        }
      ]
    },
    {
      "cell_type": "markdown",
      "metadata": {
        "id": "js59qmJ2z3Fv"
      },
      "source": [
        "##### <font color=\"green\"> `model.evaluate()` ile test setimizi gönderip modelimizin başarısını değerlendiriyoruz. </font>"
      ]
    },
    {
      "cell_type": "code",
      "metadata": {
        "colab": {
          "base_uri": "https://localhost:8080/"
        },
        "id": "iEOL_gn9z3s1",
        "outputId": "09ec1572-cf08-4795-f9b8-23d2be72dfd1"
      },
      "source": [
        "model.evaluate(x_test, y_test, batch_size=32, verbose=2)"
      ],
      "execution_count": 16,
      "outputs": [
        {
          "output_type": "stream",
          "name": "stdout",
          "text": [
            "313/313 - 1s - loss: 0.1434 - accuracy: 0.9569\n"
          ]
        },
        {
          "output_type": "execute_result",
          "data": {
            "text/plain": [
              "[0.14339935779571533, 0.9569000005722046]"
            ]
          },
          "metadata": {},
          "execution_count": 16
        }
      ]
    },
    {
      "cell_type": "markdown",
      "metadata": {
        "id": "gklVVdf20WUh"
      },
      "source": [
        "Neredeyse aynı accuracyi verdi önceki yazdığımız modelle."
      ]
    },
    {
      "cell_type": "markdown",
      "metadata": {
        "id": "B3ZkYaBY3MnA"
      },
      "source": [
        "### 5. Creating Custom Layers - 2 "
      ]
    },
    {
      "cell_type": "markdown",
      "metadata": {
        "id": "du2Z5vgR0sYT"
      },
      "source": [
        "* Kerasla yazdığımız layerlarda input dimensionını belirtmemiştik sadece output dimensionları yazıyorduk. \n",
        "\n",
        "    `self.dense1 = layers.Dense(64)`\n",
        "\n",
        "    `self.dense2 = layers.Dense(num_classes)`\n",
        "\n",
        "* Kendi yazdığımız custom layerlarda ise belirttik.\n",
        "\n",
        "    `self.dense1 = Dense(64, 784)`\n",
        "\n",
        "    `self.dense2 = Dense(10,64)`\n",
        "\n",
        "Biz de input dimensionını kaldırabiliriz. Kolaylık olsun diye belirtmek istemeyebiliriz. Bunu yapmak için:\n",
        "* `Dense(layers.Layer)` classında `def __init__(self, units, input_dim)` kısmında input_dim diye belirtmiştik, bunu kaldırdık. \n",
        "\n",
        "* Bu kısımda tanımladığımız weight ve biasları `def build(self, input_shape)` fonksiyonu oluşturup burada tanımladık. \n",
        "\n",
        "* `shape = (input_dim, units)` içerisinde belirttiğimiz input_dim yerine `input_shape[-1]` yazdık. Bizim inputumuz (60000, 784) shape'indeydi. Dolayısıyla 784'ü alacak.\n",
        "\n",
        "* units'i ise `__init__` fonksiyonunda `self.units = units` ile kullanıcıdan alıyoruz ve `shape = (input_shape[-1], units)`daki units yerine `self.units` diyoruz. Aynı şekilde self.b'deki `shape =(units,)`deki unitsi de `self.units` ile değiştiriyoruz.\n",
        "\n",
        "Bunları yaptığımızda MyModel'i oluştururken dense layerlarda input dimensionını belirtmemize gerek kalmıyor.\n",
        "\n",
        "Tensorflow'un tutorialındaki [şu olayı](https://www.tensorflow.org/guide/keras/custom_layers_and_models) uygulamış. \n"
      ]
    },
    {
      "cell_type": "code",
      "metadata": {
        "id": "Ajner33a0aPQ"
      },
      "source": [
        "class Dense(layers.Layer):\n",
        "  def __init__(self, units):\n",
        "    super(Dense,self).__init__()\n",
        "    self.units = units\n",
        "    \n",
        "  def build(self, input_shape): \n",
        "    self.w = self.add_weight(\n",
        "        name = 'w', \n",
        "        shape = (input_shape[-1], self.units), # input_shape kerasa ait bir argüman\n",
        "        initializer = 'random_normal',\n",
        "        trainable = True,\n",
        "    )\n",
        "    self.b = self.add_weight(\n",
        "        name = 'b', shape =(self.units,), initializer='zeros', trainable=True,\n",
        "    )\n",
        "\n",
        "  def call(self, inputs):\n",
        "    return tf.matmul(inputs, self.w) + self.b"
      ],
      "execution_count": 17,
      "outputs": []
    },
    {
      "cell_type": "markdown",
      "metadata": {
        "id": "wjJzI5Y0Vmsy"
      },
      "source": [
        "[build() metoduyla ilgili tensorflow'un açıklaması](https://www.tensorflow.org/api_docs/python/tf/keras/layers/Layer)\n",
        "> build(self, input_shape): This method can be used to create weights that depend on the shape(s) of the input(s), using add_weight(). __call__() will automatically build the layer (if it has not been built yet) by calling build().\n",
        "\n"
      ]
    },
    {
      "cell_type": "code",
      "metadata": {
        "id": "OTS5Dssy_EpB"
      },
      "source": [
        "class MyModel(keras.Model):\n",
        "  def __init__(self, num_classes=10):\n",
        "    super(MyModel,self).__init__()\n",
        "    self.dense1 = Dense(64)\n",
        "    self.dense2 = Dense(num_classes)\n",
        "\n",
        "  def call(self, input_tensor):\n",
        "    x = tf.nn.relu(self.dense1(input_tensor))\n",
        "    return self.dense2(x)"
      ],
      "execution_count": 18,
      "outputs": []
    },
    {
      "cell_type": "code",
      "metadata": {
        "id": "-SnnCElQ2uBO"
      },
      "source": [
        "model = MyModel()"
      ],
      "execution_count": 19,
      "outputs": []
    },
    {
      "cell_type": "markdown",
      "metadata": {
        "id": "3FPIpeUP2xnm"
      },
      "source": [
        "##### <font color=\"green\"> `model.compile()` içerisinde ağımızın eğitim bölümünü nasıl yapılandıracağımızı anlatıyoruz kerasa. </font>"
      ]
    },
    {
      "cell_type": "code",
      "metadata": {
        "id": "JNoUck6o23QL"
      },
      "source": [
        "model.compile(\n",
        "    loss = keras.losses.SparseCategoricalCrossentropy(from_logits=True),\n",
        "    optimizer = keras.optimizers.Adam(),\n",
        "    metrics=[\"accuracy\"],\n",
        ")"
      ],
      "execution_count": 20,
      "outputs": []
    },
    {
      "cell_type": "markdown",
      "metadata": {
        "id": "E8XWNWZ123-p"
      },
      "source": [
        "##### <font color=\"green\"> `model.fit()` ile yapılandırdığımız modeli eğitiyoruz. </font>"
      ]
    },
    {
      "cell_type": "code",
      "metadata": {
        "colab": {
          "base_uri": "https://localhost:8080/"
        },
        "id": "UluKr8yn27HD",
        "outputId": "ad67e2df-9643-46e0-b80e-3fd877c64f99"
      },
      "source": [
        "model.fit(x_train, y_train, batch_size=32, epochs=2, verbose=2)"
      ],
      "execution_count": 21,
      "outputs": [
        {
          "output_type": "stream",
          "name": "stdout",
          "text": [
            "Epoch 1/2\n",
            "1875/1875 - 3s - loss: 0.3457 - accuracy: 0.9059\n",
            "Epoch 2/2\n",
            "1875/1875 - 3s - loss: 0.1614 - accuracy: 0.9536\n"
          ]
        },
        {
          "output_type": "execute_result",
          "data": {
            "text/plain": [
              "<keras.callbacks.History at 0x7fb740210250>"
            ]
          },
          "metadata": {},
          "execution_count": 21
        }
      ]
    },
    {
      "cell_type": "markdown",
      "metadata": {
        "id": "sjiYchr02_3H"
      },
      "source": [
        "##### <font color=\"green\"> `model.evaluate()` ile test setimizi gönderip modelimizin başarısını değerlendiriyoruz. </font>"
      ]
    },
    {
      "cell_type": "code",
      "metadata": {
        "colab": {
          "base_uri": "https://localhost:8080/"
        },
        "id": "DtJvp56Y3Ahy",
        "outputId": "6a00a18b-51fe-4675-893e-8eddafcada10"
      },
      "source": [
        "model.evaluate(x_test, y_test, batch_size=32, verbose=2)"
      ],
      "execution_count": 22,
      "outputs": [
        {
          "output_type": "stream",
          "name": "stdout",
          "text": [
            "313/313 - 1s - loss: 0.1314 - accuracy: 0.9607\n"
          ]
        },
        {
          "output_type": "execute_result",
          "data": {
            "text/plain": [
              "[0.13139474391937256, 0.9606999754905701]"
            ]
          },
          "metadata": {},
          "execution_count": 22
        }
      ]
    },
    {
      "cell_type": "markdown",
      "metadata": {
        "id": "GDxzx7wCOMUZ"
      },
      "source": [
        "Bu şekilde MyModel'in içine yazdığımız Dense layer kodlarını kerasın kodlarına fazlasıyla benzetmiş olduk.\n",
        "\n"
      ]
    },
    {
      "cell_type": "markdown",
      "metadata": {
        "id": "P2yV9wo0OgeR"
      },
      "source": [
        "### 6. Creating Custom Layers - 3 "
      ]
    },
    {
      "cell_type": "markdown",
      "metadata": {
        "id": "OWwcV-qJOlgX"
      },
      "source": [
        "`x = tf.nn.relu(self.dense1(input_tensor))` yerine kendimiz relu fonksiyonu yazmak istersek nasıl yazacağımıza bakacağız. Bunun için `MyReLu(layers.Layer)` classı oluşturuyoruz ve bunu MyModel classımızda initializer kısmına ekliyoruz. Class yerine fonksiyon olarak da tanımlayabilirdik. "
      ]
    },
    {
      "cell_type": "code",
      "metadata": {
        "id": "V5BAjrv6OZ3Z"
      },
      "source": [
        "class Dense(layers.Layer):\n",
        "  def __init__(self, units):\n",
        "    super(Dense,self).__init__()\n",
        "    self.units = units\n",
        "    \n",
        "  def build(self, input_shape): \n",
        "    self.w = self.add_weight(\n",
        "        name = 'w', \n",
        "        shape = (input_shape[-1], self.units), # input_shape kerasa ait bir argüman\n",
        "        initializer = 'random_normal',\n",
        "        trainable = True,\n",
        "    )\n",
        "    self.b = self.add_weight(\n",
        "        name = 'b', shape =(self.units,), initializer='zeros', trainable=True,\n",
        "    )\n",
        "\n",
        "  def call(self, inputs):\n",
        "    return tf.matmul(inputs, self.w) + self.b"
      ],
      "execution_count": 23,
      "outputs": []
    },
    {
      "cell_type": "code",
      "metadata": {
        "id": "gFJp0HV0O-uz"
      },
      "source": [
        "class MyReLU(layers.Layer):\n",
        "  def __init__(self):\n",
        "    super(MyReLU,self).__init__()\n",
        "\n",
        "  def call(self,x):\n",
        "    return tf.math.maximum(x,0) # Hangi değer maksimumsa o değeri döndürecek (relunun çalışma mantığı)"
      ],
      "execution_count": 24,
      "outputs": []
    },
    {
      "cell_type": "code",
      "metadata": {
        "id": "XmGQGENzP6T0"
      },
      "source": [
        "class MyModel(keras.Model):\n",
        "  def __init__(self, num_classes=10):\n",
        "    super(MyModel,self).__init__()\n",
        "    self.dense1 = Dense(64)\n",
        "    self.dense2 = Dense(num_classes)\n",
        "    self.relu = MyReLU() # MyReLU classını örneklendiriyoruz böylelikle. Class yerine fonksiyon olarak tanımlasaydık buraya eklemeyecektik.\n",
        "\n",
        "  def call(self, input_tensor):\n",
        "    x = self.relu((self.dense1(input_tensor)))\n",
        "    return self.dense2(x)"
      ],
      "execution_count": 25,
      "outputs": []
    },
    {
      "cell_type": "markdown",
      "metadata": {
        "id": "w2lxuCOKQffe"
      },
      "source": [
        "`x = tf.nn.relu(self.dense1(input_tensor))` yerine `x = self.relu((self.dense1(input_tensor)))` yazdık call kısmında."
      ]
    },
    {
      "cell_type": "code",
      "metadata": {
        "id": "ozvvIPGTQ2L2"
      },
      "source": [
        "model = MyModel()"
      ],
      "execution_count": 26,
      "outputs": []
    },
    {
      "cell_type": "markdown",
      "metadata": {
        "id": "77BBGfRHQ5Z2"
      },
      "source": [
        "##### <font color=\"green\"> `model.compile()` içerisinde ağımızın eğitim bölümünü nasıl yapılandıracağımızı anlatıyoruz kerasa. </font>"
      ]
    },
    {
      "cell_type": "code",
      "metadata": {
        "id": "DZeEQET0Q6FH"
      },
      "source": [
        "model.compile(\n",
        "    loss = keras.losses.SparseCategoricalCrossentropy(from_logits=True),\n",
        "    optimizer = keras.optimizers.Adam(),\n",
        "    metrics=[\"accuracy\"],\n",
        ")"
      ],
      "execution_count": 27,
      "outputs": []
    },
    {
      "cell_type": "markdown",
      "metadata": {
        "id": "WMh3kIAQRBDv"
      },
      "source": [
        "##### <font color=\"green\"> `model.fit()` ile yapılandırdığımız modeli eğitiyoruz. </font>"
      ]
    },
    {
      "cell_type": "code",
      "metadata": {
        "colab": {
          "base_uri": "https://localhost:8080/"
        },
        "id": "q13gZsqtRBwf",
        "outputId": "7ef310e2-f75b-4f23-fa82-f0b9344854f7"
      },
      "source": [
        "model.fit(x_train, y_train, batch_size=32, epochs=2, verbose=2)"
      ],
      "execution_count": 28,
      "outputs": [
        {
          "output_type": "stream",
          "name": "stdout",
          "text": [
            "Epoch 1/2\n",
            "1875/1875 - 3s - loss: 0.3506 - accuracy: 0.9042\n",
            "Epoch 2/2\n",
            "1875/1875 - 3s - loss: 0.1656 - accuracy: 0.9520\n"
          ]
        },
        {
          "output_type": "execute_result",
          "data": {
            "text/plain": [
              "<keras.callbacks.History at 0x7fb6cd176710>"
            ]
          },
          "metadata": {},
          "execution_count": 28
        }
      ]
    },
    {
      "cell_type": "markdown",
      "metadata": {
        "id": "-3EW0aTIRHuv"
      },
      "source": [
        "##### <font color=\"green\"> `model.evaluate()` ile test setimizi gönderip modelimizin başarısını değerlendiriyoruz. </font>"
      ]
    },
    {
      "cell_type": "code",
      "metadata": {
        "colab": {
          "base_uri": "https://localhost:8080/"
        },
        "id": "bw6cEf09RIad",
        "outputId": "0bf6d82b-4e9d-4e7c-d817-1a6934c8478f"
      },
      "source": [
        "model.evaluate(x_test, y_test, batch_size=32, verbose=2)"
      ],
      "execution_count": 29,
      "outputs": [
        {
          "output_type": "stream",
          "name": "stdout",
          "text": [
            "313/313 - 1s - loss: 0.1302 - accuracy: 0.9622\n"
          ]
        },
        {
          "output_type": "execute_result",
          "data": {
            "text/plain": [
              "[0.1302354484796524, 0.9621999859809875]"
            ]
          },
          "metadata": {},
          "execution_count": 29
        }
      ]
    }
  ]
}