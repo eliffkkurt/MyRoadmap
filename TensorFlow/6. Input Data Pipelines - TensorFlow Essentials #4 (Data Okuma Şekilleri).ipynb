{
 "cells": [
  {
   "cell_type": "markdown",
   "metadata": {
    "id": "3M00o3eyCd-c"
   },
   "source": [
    "<font color='green'> \n",
    "**Youtube - James Briggs Kanalı - TensorFlow Essentials Serisi**\n",
    "    \n",
    "Input Data Pipelines - TensorFlow Essentials #4 - James Briggs anlattı.\n",
    "</font>"
   ]
  },
  {
   "cell_type": "markdown",
   "metadata": {
    "id": "wI3bPYQMDH67"
   },
   "source": [
    "**Video:** [Input Data Pipelines - TensorFlow Essentials #4](https://www.youtube.com/watch?v=f6XVfgJTbp4&list=PLIUOU7oqGTLh6hTOjTbpkEOY-N4Kizpp4&index=4) "
   ]
  },
  {
   "cell_type": "markdown",
   "metadata": {
    "id": "gu9qkr7iWx50"
   },
   "source": [
    "### İçindekiler"
   ]
  },
  {
   "cell_type": "markdown",
   "metadata": {
    "id": "CqNW8m18Wzgb"
   },
   "source": [
    "**Reading the Data from Memory**\n",
    "*   As List\n",
    "*   As Numpy Array\n",
    "*   As Pandas Dataframe\n",
    "\n",
    "**Reading the Data from File**\n",
    "*   With Tensorflow\n",
    "*   With Pandas\n"
   ]
  },
  {
   "cell_type": "code",
   "execution_count": null,
   "metadata": {
    "id": "Y5CcH5IoCXQy"
   },
   "outputs": [],
   "source": [
    "import tensorflow as tf\n",
    "import pandas as pd\n",
    "import numpy as np"
   ]
  },
  {
   "cell_type": "markdown",
   "metadata": {
    "id": "Br-s1ko9Idy7"
   },
   "source": [
    "### 1. Datayı Memory'den Okumak"
   ]
  },
  {
   "cell_type": "markdown",
   "metadata": {
    "id": "_tHn-nKDF7yu"
   },
   "source": [
    "#### Liste olarak okuyoruz datamızı"
   ]
  },
  {
   "cell_type": "code",
   "execution_count": null,
   "metadata": {
    "id": "w_-1iKXKDojX"
   },
   "outputs": [],
   "source": [
    "inputs = [200, 321, 42, 35]\n",
    "labels = [1, 0, 1, 0]"
   ]
  },
  {
   "cell_type": "code",
   "execution_count": null,
   "metadata": {
    "colab": {
     "base_uri": "https://localhost:8080/"
    },
    "id": "pvv3UqTAHkuk",
    "outputId": "3ed8e6a2-54db-4c93-80e2-b60526403544"
   },
   "outputs": [
    {
     "data": {
      "text/plain": [
       "list"
      ]
     },
     "execution_count": 5,
     "metadata": {},
     "output_type": "execute_result"
    }
   ],
   "source": [
    "type(inputs)"
   ]
  },
  {
   "cell_type": "code",
   "execution_count": null,
   "metadata": {
    "colab": {
     "base_uri": "https://localhost:8080/"
    },
    "id": "Y51jK6o2D1gY",
    "outputId": "1985281e-5100-4e30-a897-5d1ecc619287"
   },
   "outputs": [
    {
     "name": "stdout",
     "output_type": "stream",
     "text": [
      "(<tf.Tensor: shape=(), dtype=int32, numpy=200>, <tf.Tensor: shape=(), dtype=int32, numpy=1>)\n",
      "(<tf.Tensor: shape=(), dtype=int32, numpy=321>, <tf.Tensor: shape=(), dtype=int32, numpy=0>)\n",
      "(<tf.Tensor: shape=(), dtype=int32, numpy=42>, <tf.Tensor: shape=(), dtype=int32, numpy=1>)\n",
      "(<tf.Tensor: shape=(), dtype=int32, numpy=35>, <tf.Tensor: shape=(), dtype=int32, numpy=0>)\n"
     ]
    }
   ],
   "source": [
    "dataset = tf.data.Dataset.from_tensor_slices((inputs, labels))  \n",
    "for item in dataset:\n",
    "    print(item)\n",
    "\n",
    "# Virgüle kadarki kısım input, sonrası output şeklinde "
   ]
  },
  {
   "cell_type": "markdown",
   "metadata": {
    "id": "cKbQP1SWGE7_"
   },
   "source": [
    "#### Numpy array olarak okuyoruz datamızı"
   ]
  },
  {
   "cell_type": "code",
   "execution_count": null,
   "metadata": {
    "colab": {
     "base_uri": "https://localhost:8080/"
    },
    "id": "SCL_S42LEL7m",
    "outputId": "4723549f-630a-4e0e-da41-3f2565ead2d6"
   },
   "outputs": [
    {
     "data": {
      "text/plain": [
       "array([200, 321,  42,  35])"
      ]
     },
     "execution_count": 7,
     "metadata": {},
     "output_type": "execute_result"
    }
   ],
   "source": [
    "# Numpy array olarak okumak istiyoruz datamızı.\n",
    "inputs = np.asarray(inputs)\n",
    "labels = np.asarray(labels)\n",
    "inputs"
   ]
  },
  {
   "cell_type": "code",
   "execution_count": null,
   "metadata": {
    "colab": {
     "base_uri": "https://localhost:8080/"
    },
    "id": "IO2n8CU4H359",
    "outputId": "0435e1d2-4be2-467b-84a0-811789814693"
   },
   "outputs": [
    {
     "data": {
      "text/plain": [
       "numpy.ndarray"
      ]
     },
     "execution_count": 8,
     "metadata": {},
     "output_type": "execute_result"
    }
   ],
   "source": [
    "type(inputs)"
   ]
  },
  {
   "cell_type": "code",
   "execution_count": null,
   "metadata": {
    "colab": {
     "base_uri": "https://localhost:8080/"
    },
    "id": "20rLfyFDFTWb",
    "outputId": "928cfd15-ad4c-4787-d83c-270f4d835176"
   },
   "outputs": [
    {
     "name": "stdout",
     "output_type": "stream",
     "text": [
      "(<tf.Tensor: shape=(), dtype=int64, numpy=200>, <tf.Tensor: shape=(), dtype=int64, numpy=1>)\n",
      "(<tf.Tensor: shape=(), dtype=int64, numpy=321>, <tf.Tensor: shape=(), dtype=int64, numpy=0>)\n",
      "(<tf.Tensor: shape=(), dtype=int64, numpy=42>, <tf.Tensor: shape=(), dtype=int64, numpy=1>)\n",
      "(<tf.Tensor: shape=(), dtype=int64, numpy=35>, <tf.Tensor: shape=(), dtype=int64, numpy=0>)\n"
     ]
    }
   ],
   "source": [
    "dataset = tf.data.Dataset.from_tensor_slices((inputs, labels))\n",
    "for item in dataset:\n",
    "    print(item)"
   ]
  },
  {
   "cell_type": "markdown",
   "metadata": {
    "id": "RAUvCRx2Gdv_"
   },
   "source": [
    "#### Pandas dataframe'i olarak okuyoruz datamızı"
   ]
  },
  {
   "cell_type": "code",
   "execution_count": null,
   "metadata": {
    "id": "LkGcDyXOGgIV"
   },
   "outputs": [],
   "source": [
    "df = pd.DataFrame({\n",
    "    'inputs': [200, 321,  42,  35], 'labels': [1, 0, 1, 0]\n",
    "    })"
   ]
  },
  {
   "cell_type": "code",
   "execution_count": null,
   "metadata": {
    "colab": {
     "base_uri": "https://localhost:8080/",
     "height": 173
    },
    "id": "o201imGEG0Wc",
    "outputId": "17a9c85b-c362-43c1-9a5e-cce9d3e19479"
   },
   "outputs": [
    {
     "data": {
      "text/html": [
       "<div>\n",
       "<style scoped>\n",
       "    .dataframe tbody tr th:only-of-type {\n",
       "        vertical-align: middle;\n",
       "    }\n",
       "\n",
       "    .dataframe tbody tr th {\n",
       "        vertical-align: top;\n",
       "    }\n",
       "\n",
       "    .dataframe thead th {\n",
       "        text-align: right;\n",
       "    }\n",
       "</style>\n",
       "<table border=\"1\" class=\"dataframe\">\n",
       "  <thead>\n",
       "    <tr style=\"text-align: right;\">\n",
       "      <th></th>\n",
       "      <th>inputs</th>\n",
       "      <th>labels</th>\n",
       "    </tr>\n",
       "  </thead>\n",
       "  <tbody>\n",
       "    <tr>\n",
       "      <th>0</th>\n",
       "      <td>200</td>\n",
       "      <td>1</td>\n",
       "    </tr>\n",
       "    <tr>\n",
       "      <th>1</th>\n",
       "      <td>321</td>\n",
       "      <td>0</td>\n",
       "    </tr>\n",
       "    <tr>\n",
       "      <th>2</th>\n",
       "      <td>42</td>\n",
       "      <td>1</td>\n",
       "    </tr>\n",
       "    <tr>\n",
       "      <th>3</th>\n",
       "      <td>35</td>\n",
       "      <td>0</td>\n",
       "    </tr>\n",
       "  </tbody>\n",
       "</table>\n",
       "</div>"
      ],
      "text/plain": [
       "   inputs  labels\n",
       "0     200       1\n",
       "1     321       0\n",
       "2      42       1\n",
       "3      35       0"
      ]
     },
     "execution_count": 11,
     "metadata": {},
     "output_type": "execute_result"
    }
   ],
   "source": [
    "df"
   ]
  },
  {
   "cell_type": "markdown",
   "metadata": {
    "id": "VLjFKKIMG67L"
   },
   "source": [
    "İşlemleri en kolay şekilde yapabilmek için bunu numpy arraye çevirmek gerekecek."
   ]
  },
  {
   "cell_type": "code",
   "execution_count": null,
   "metadata": {
    "colab": {
     "base_uri": "https://localhost:8080/"
    },
    "id": "VkrygZ12G03o",
    "outputId": "2c9c17cb-202e-4ebb-cf94-6800b4a56f2c"
   },
   "outputs": [
    {
     "data": {
      "text/plain": [
       "array([200, 321,  42,  35])"
      ]
     },
     "execution_count": 12,
     "metadata": {},
     "output_type": "execute_result"
    }
   ],
   "source": [
    "df['inputs'].values"
   ]
  },
  {
   "cell_type": "code",
   "execution_count": null,
   "metadata": {
    "colab": {
     "base_uri": "https://localhost:8080/"
    },
    "id": "_NGE-LsmHFEB",
    "outputId": "06f98b6b-5d3d-41be-bea6-d9bc5ad2a452"
   },
   "outputs": [
    {
     "name": "stdout",
     "output_type": "stream",
     "text": [
      "(<tf.Tensor: shape=(), dtype=int64, numpy=200>, <tf.Tensor: shape=(), dtype=int64, numpy=1>)\n",
      "(<tf.Tensor: shape=(), dtype=int64, numpy=321>, <tf.Tensor: shape=(), dtype=int64, numpy=0>)\n",
      "(<tf.Tensor: shape=(), dtype=int64, numpy=42>, <tf.Tensor: shape=(), dtype=int64, numpy=1>)\n",
      "(<tf.Tensor: shape=(), dtype=int64, numpy=35>, <tf.Tensor: shape=(), dtype=int64, numpy=0>)\n"
     ]
    }
   ],
   "source": [
    "dataset = tf.data.Dataset.from_tensor_slices((df['inputs'].values, df['labels'].values))\n",
    "\n",
    "for item in dataset:\n",
    "    print(item)"
   ]
  },
  {
   "cell_type": "markdown",
   "metadata": {
    "id": "Bn3_aUPJIObX"
   },
   "source": [
    "Fakat burada int64 tipinde data üretmiş olduk yukarıda bu int32'ydi."
   ]
  },
  {
   "cell_type": "markdown",
   "metadata": {
    "id": "VCoGAzUAIrbg"
   },
   "source": [
    "### 2. Datayı Dosyadan Okumak"
   ]
  },
  {
   "cell_type": "markdown",
   "metadata": {
    "id": "doPhiN-lSyTA"
   },
   "source": [
    "#### Tensorflow ile Okumak"
   ]
  },
  {
   "cell_type": "markdown",
   "metadata": {
    "id": "DDQLabKKYH_m"
   },
   "source": [
    "Kaggle'daki [Titanic](https://www.kaggle.com/c/titanic/data) datası kullanıldı. "
   ]
  },
  {
   "cell_type": "code",
   "execution_count": null,
   "metadata": {
    "colab": {
     "base_uri": "https://localhost:8080/"
    },
    "id": "Ipg1wed6RjzE",
    "outputId": "050ba1b2-33d8-4f7e-b183-8d10d912ccca"
   },
   "outputs": [
    {
     "name": "stdout",
     "output_type": "stream",
     "text": [
      "Mounted at /content/gdrive\n"
     ]
    }
   ],
   "source": [
    "from google.colab import drive\n",
    "drive.mount('/content/gdrive')\n",
    "\n",
    "import os\n",
    "os.chdir(\"/content/gdrive/My Drive/Personal Studies/Artificial Intelligence/Tensorflow Tutorial 2.0 Beginner Tutorials (Youtube - Aladdin Persson)/Titanic\")"
   ]
  },
  {
   "cell_type": "code",
   "execution_count": null,
   "metadata": {
    "id": "mDKJAJu6IC11"
   },
   "outputs": [],
   "source": [
    "dataset = tf.data.experimental.make_csv_dataset(\n",
    "    \"train.csv\",\n",
    "    batch_size=16, # her seferinde 16 row okuyacağız\n",
    "    field_delim=',', # field_delim='|' veya '\\t' veya '-' gibi şeyler yazabiliriz. \n",
    "    select_columns = ['PassengerId','Survived','Pclass'], # label_name olarak seçtiğimiz column burada da olmalı\n",
    "    label_name='Survived'\n",
    ")"
   ]
  },
  {
   "cell_type": "code",
   "execution_count": null,
   "metadata": {
    "colab": {
     "base_uri": "https://localhost:8080/"
    },
    "id": "T7VXT756RWnf",
    "outputId": "62f2d593-5d2a-4310-c7ac-7fc4322a7749"
   },
   "outputs": [
    {
     "name": "stdout",
     "output_type": "stream",
     "text": [
      "(OrderedDict([('PassengerId', <tf.Tensor: shape=(16,), dtype=int32, numpy=\n",
      "array([482, 236, 384, 733, 695, 669, 711, 293, 778, 736, 500, 398, 353,\n",
      "       140, 235, 850], dtype=int32)>), ('Pclass', <tf.Tensor: shape=(16,), dtype=int32, numpy=array([2, 3, 1, 2, 1, 3, 1, 2, 3, 3, 3, 2, 3, 1, 2, 1], dtype=int32)>)]), <tf.Tensor: shape=(16,), dtype=int32, numpy=array([0, 0, 1, 0, 0, 0, 1, 0, 1, 0, 0, 0, 0, 0, 0, 1], dtype=int32)>)\n",
      "(OrderedDict([('PassengerId', <tf.Tensor: shape=(16,), dtype=int32, numpy=\n",
      "array([444, 269, 516,  62, 601,  57,  31, 722, 452,  54,  71, 328, 714,\n",
      "       584, 532, 437], dtype=int32)>), ('Pclass', <tf.Tensor: shape=(16,), dtype=int32, numpy=array([2, 1, 1, 1, 2, 2, 1, 3, 3, 2, 2, 2, 3, 1, 3, 3], dtype=int32)>)]), <tf.Tensor: shape=(16,), dtype=int32, numpy=array([1, 1, 0, 1, 1, 1, 0, 0, 0, 1, 0, 1, 0, 0, 0, 0], dtype=int32)>)\n",
      "(OrderedDict([('PassengerId', <tf.Tensor: shape=(16,), dtype=int32, numpy=\n",
      "array([335, 158,  55, 679, 445, 248, 772,   2, 371, 127, 686, 694, 291,\n",
      "       738, 647, 540], dtype=int32)>), ('Pclass', <tf.Tensor: shape=(16,), dtype=int32, numpy=array([1, 3, 1, 3, 3, 2, 3, 1, 1, 3, 2, 3, 1, 1, 3, 1], dtype=int32)>)]), <tf.Tensor: shape=(16,), dtype=int32, numpy=array([1, 0, 0, 0, 1, 1, 0, 1, 1, 0, 0, 0, 1, 1, 0, 1], dtype=int32)>)\n"
     ]
    }
   ],
   "source": [
    "for item in dataset.take(3): # 3 burada batchi ifade ediyor.\n",
    "    print(item)  "
   ]
  },
  {
   "cell_type": "markdown",
   "metadata": {
    "id": "siKynoeRSg3k"
   },
   "source": [
    "`tf.data.experimental.make_csv_dataset` kodunu kullandığımızda otomatik olarak shuffle etmiş oluyoruz datayı. "
   ]
  },
  {
   "cell_type": "markdown",
   "metadata": {
    "id": "CSxaCqsPS4Hq"
   },
   "source": [
    "#### Pandas ile Okumak"
   ]
  },
  {
   "cell_type": "code",
   "execution_count": null,
   "metadata": {
    "colab": {
     "base_uri": "https://localhost:8080/",
     "height": 254
    },
    "id": "GSv7TFRaS5jl",
    "outputId": "4eea79b6-c9d2-42cf-dd8d-191a213645f8"
   },
   "outputs": [
    {
     "data": {
      "text/html": [
       "<div>\n",
       "<style scoped>\n",
       "    .dataframe tbody tr th:only-of-type {\n",
       "        vertical-align: middle;\n",
       "    }\n",
       "\n",
       "    .dataframe tbody tr th {\n",
       "        vertical-align: top;\n",
       "    }\n",
       "\n",
       "    .dataframe thead th {\n",
       "        text-align: right;\n",
       "    }\n",
       "</style>\n",
       "<table border=\"1\" class=\"dataframe\">\n",
       "  <thead>\n",
       "    <tr style=\"text-align: right;\">\n",
       "      <th></th>\n",
       "      <th>PassengerId</th>\n",
       "      <th>Survived</th>\n",
       "      <th>Pclass</th>\n",
       "      <th>Name</th>\n",
       "      <th>Sex</th>\n",
       "      <th>Age</th>\n",
       "      <th>SibSp</th>\n",
       "      <th>Parch</th>\n",
       "      <th>Ticket</th>\n",
       "      <th>Fare</th>\n",
       "      <th>Cabin</th>\n",
       "      <th>Embarked</th>\n",
       "    </tr>\n",
       "  </thead>\n",
       "  <tbody>\n",
       "    <tr>\n",
       "      <th>0</th>\n",
       "      <td>1</td>\n",
       "      <td>0</td>\n",
       "      <td>3</td>\n",
       "      <td>Braund, Mr. Owen Harris</td>\n",
       "      <td>male</td>\n",
       "      <td>22.0</td>\n",
       "      <td>1</td>\n",
       "      <td>0</td>\n",
       "      <td>A/5 21171</td>\n",
       "      <td>7.2500</td>\n",
       "      <td>NaN</td>\n",
       "      <td>S</td>\n",
       "    </tr>\n",
       "    <tr>\n",
       "      <th>1</th>\n",
       "      <td>2</td>\n",
       "      <td>1</td>\n",
       "      <td>1</td>\n",
       "      <td>Cumings, Mrs. John Bradley (Florence Briggs Th...</td>\n",
       "      <td>female</td>\n",
       "      <td>38.0</td>\n",
       "      <td>1</td>\n",
       "      <td>0</td>\n",
       "      <td>PC 17599</td>\n",
       "      <td>71.2833</td>\n",
       "      <td>C85</td>\n",
       "      <td>C</td>\n",
       "    </tr>\n",
       "    <tr>\n",
       "      <th>2</th>\n",
       "      <td>3</td>\n",
       "      <td>1</td>\n",
       "      <td>3</td>\n",
       "      <td>Heikkinen, Miss. Laina</td>\n",
       "      <td>female</td>\n",
       "      <td>26.0</td>\n",
       "      <td>0</td>\n",
       "      <td>0</td>\n",
       "      <td>STON/O2. 3101282</td>\n",
       "      <td>7.9250</td>\n",
       "      <td>NaN</td>\n",
       "      <td>S</td>\n",
       "    </tr>\n",
       "    <tr>\n",
       "      <th>3</th>\n",
       "      <td>4</td>\n",
       "      <td>1</td>\n",
       "      <td>1</td>\n",
       "      <td>Futrelle, Mrs. Jacques Heath (Lily May Peel)</td>\n",
       "      <td>female</td>\n",
       "      <td>35.0</td>\n",
       "      <td>1</td>\n",
       "      <td>0</td>\n",
       "      <td>113803</td>\n",
       "      <td>53.1000</td>\n",
       "      <td>C123</td>\n",
       "      <td>S</td>\n",
       "    </tr>\n",
       "    <tr>\n",
       "      <th>4</th>\n",
       "      <td>5</td>\n",
       "      <td>0</td>\n",
       "      <td>3</td>\n",
       "      <td>Allen, Mr. William Henry</td>\n",
       "      <td>male</td>\n",
       "      <td>35.0</td>\n",
       "      <td>0</td>\n",
       "      <td>0</td>\n",
       "      <td>373450</td>\n",
       "      <td>8.0500</td>\n",
       "      <td>NaN</td>\n",
       "      <td>S</td>\n",
       "    </tr>\n",
       "  </tbody>\n",
       "</table>\n",
       "</div>"
      ],
      "text/plain": [
       "   PassengerId  Survived  Pclass  ...     Fare Cabin  Embarked\n",
       "0            1         0       3  ...   7.2500   NaN         S\n",
       "1            2         1       1  ...  71.2833   C85         C\n",
       "2            3         1       3  ...   7.9250   NaN         S\n",
       "3            4         1       1  ...  53.1000  C123         S\n",
       "4            5         0       3  ...   8.0500   NaN         S\n",
       "\n",
       "[5 rows x 12 columns]"
      ]
     },
     "execution_count": 19,
     "metadata": {},
     "output_type": "execute_result"
    }
   ],
   "source": [
    "data = pd.read_csv('train.csv')\n",
    "data.head()"
   ]
  },
  {
   "cell_type": "code",
   "execution_count": null,
   "metadata": {
    "colab": {
     "base_uri": "https://localhost:8080/"
    },
    "id": "dAe1GFX7VVO9",
    "outputId": "6991d2f1-6719-40cf-96e5-3e180743823c"
   },
   "outputs": [
    {
     "data": {
      "text/plain": [
       "(891, 12)"
      ]
     },
     "execution_count": 28,
     "metadata": {},
     "output_type": "execute_result"
    }
   ],
   "source": [
    "data.shape"
   ]
  },
  {
   "cell_type": "code",
   "execution_count": null,
   "metadata": {
    "id": "eNLgQBI8S_sE"
   },
   "outputs": [],
   "source": [
    "dataset = tf.data.Dataset.from_tensor_slices((data[['Pclass','Age','Parch']].values, data['Survived'].values))"
   ]
  },
  {
   "cell_type": "code",
   "execution_count": null,
   "metadata": {
    "id": "LQDq3q8hUL-d"
   },
   "outputs": [],
   "source": [
    "for item in dataset:\n",
    "    print(item)"
   ]
  },
  {
   "cell_type": "code",
   "execution_count": null,
   "metadata": {
    "colab": {
     "base_uri": "https://localhost:8080/"
    },
    "id": "b-1TOadEUtx8",
    "outputId": "09396166-24e2-451a-9955-768606278191"
   },
   "outputs": [
    {
     "name": "stdout",
     "output_type": "stream",
     "text": [
      "(<tf.Tensor: shape=(3,), dtype=float64, numpy=array([ 3., 22.,  0.])>, <tf.Tensor: shape=(), dtype=int64, numpy=0>)\n"
     ]
    }
   ],
   "source": [
    "for item in dataset.take(1):\n",
    "    print(item)"
   ]
  },
  {
   "cell_type": "markdown",
   "metadata": {
    "id": "rL0d8UtpU_Go"
   },
   "source": [
    "Her şeyin shuffled ve batched olmasını istiyoruz. "
   ]
  },
  {
   "cell_type": "code",
   "execution_count": null,
   "metadata": {
    "id": "W6pOtJVkU4xc"
   },
   "outputs": [],
   "source": [
    "dataset = dataset.shuffle(10000).batch(16, drop_remainder=True)  "
   ]
  },
  {
   "cell_type": "markdown",
   "metadata": {
    "id": "YT72uqsWV3qP"
   },
   "source": [
    "\n",
    "*   `dataset = dataset.shuffle(10000)` datasetin büyüklüğünden daha büyük bir sayı yazıyoruz. Burada, veri kümesi ne kadar büyükse ve ne kadar az karıştırılıysa, bu sayıya o kadar büyük bir sayı ekliyoruz. Dolayısıyla, çok temsili olmayan bir numunemiz veya serimiz varsa, içeriye yazacağımız sayıyı artırmamız gerekir.\n",
    "*   `drop_remainder=True`nun olayı batchleri alırken geride bir şey kalırsa onları almıyor.\n",
    "\n",
    "\n",
    "\n",
    "\n",
    " "
   ]
  }
 ],
 "metadata": {
  "colab": {
   "name": "Input Data Pipelines - TensorFlow Essentials #4 (Data Okuma Şekilleri).ipynb",
   "provenance": []
  },
  "kernelspec": {
   "display_name": "Python 3",
   "language": "python",
   "name": "python3"
  },
  "language_info": {
   "codemirror_mode": {
    "name": "ipython",
    "version": 3
   },
   "file_extension": ".py",
   "mimetype": "text/x-python",
   "name": "python",
   "nbconvert_exporter": "python",
   "pygments_lexer": "ipython3",
   "version": "3.7.6"
  }
 },
 "nbformat": 4,
 "nbformat_minor": 1
}
