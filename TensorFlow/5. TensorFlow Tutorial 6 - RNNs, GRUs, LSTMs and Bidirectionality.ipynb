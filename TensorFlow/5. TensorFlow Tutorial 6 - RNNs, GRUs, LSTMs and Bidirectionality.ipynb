{
 "cells": [
  {
   "cell_type": "markdown",
   "metadata": {
    "id": "vCo2NjzZF-Sa"
   },
   "source": [
    "<font color='green'> \n",
    "**Youtube - Aladdin Persson Kanalı - TensorFlow 2.0 Beginner Tutorials serisi**\n",
    "    \n",
    "TensorFlow Tutorial 6 - RNNs, GRUs, LSTMs and Bidirectionality - Aladdin Persson anlattı.\n",
    "</font>"
   ]
  },
  {
   "cell_type": "markdown",
   "metadata": {
    "id": "e4BaerRmGFLg"
   },
   "source": [
    "**Video:** [TensorFlow Tutorial 6 - RNNs, GRUs, LSTMs and Bidirectionality](https://www.youtube.com/watch?v=Ogvd787uJO8&list=PLhhyoLH6IjfxVOdVC1P1L5z5azs0XjMsb&index=6)"
   ]
  },
  {
   "cell_type": "markdown",
   "metadata": {
    "id": "-jmIxr_XGIpj"
   },
   "source": [
    "### İçindekiler"
   ]
  },
  {
   "cell_type": "markdown",
   "metadata": {
    "id": "H5iUQlALGM5V"
   },
   "source": [
    "**Loading Dataset**\n",
    "\n",
    "**Preprocessing Dataset**\n",
    "\n",
    "**Creating a Recurrent Neural Network (RNN)**\n",
    "\n",
    "**Creating a Gated Recurrent Unit (GRU)**\n",
    "\n",
    "**Creating a Long Short Term Memory Network (LSTM)**\n",
    "\n",
    "**Bidirectional Long-Short Term Memory (Bidirectional LSTM)**"
   ]
  },
  {
   "cell_type": "markdown",
   "metadata": {
    "id": "l9_sFVymGUb6"
   },
   "source": [
    "### Kaynaklar"
   ]
  },
  {
   "cell_type": "markdown",
   "metadata": {
    "id": "BaV52vDXGX0k"
   },
   "source": [
    "* RNN, LSTM ve GRU modellerine teorik olarak hızlıca bakmak için [Illustrated Guide to LSTM’s and GRU’s: A step by step explanation](https://towardsdatascience.com/illustrated-guide-to-lstms-and-gru-s-a-step-by-step-explanation-44e9eb85bf21#7029) ve [Bi-LSTM](https://medium.com/@raghavaggarwal0089/bi-lstm-bc3d68da8bd0) yazılarını okuyabilirsin.\n",
    "\n",
    "\n",
    "* Andrew NG'nin [DeepLearning Andrew Ng Course 5 Sequence Models](https://www.youtube.com/playlist?list=PL1F3ABbhcqa3BBWo170U4Ev2wfsF7FN8l) videolarına bakabilirsin. "
   ]
  },
  {
   "cell_type": "markdown",
   "metadata": {
    "id": "-baNJcbtGkwG"
   },
   "source": [
    "### <font color=\"blue\"> Giriş</font>"
   ]
  },
  {
   "cell_type": "code",
   "execution_count": 2,
   "metadata": {
    "id": "ySbWJCscGVCo"
   },
   "outputs": [],
   "source": [
    "import tensorflow as tf\n",
    "from tensorflow import keras\n",
    "from tensorflow.keras import layers"
   ]
  },
  {
   "cell_type": "markdown",
   "metadata": {
    "id": "c7soF9xrGsxu"
   },
   "source": [
    "### 1. Loading Dataset"
   ]
  },
  {
   "cell_type": "code",
   "execution_count": 3,
   "metadata": {
    "id": "FAWlOU3EGtVJ"
   },
   "outputs": [],
   "source": [
    "from tensorflow.keras.datasets import mnist"
   ]
  },
  {
   "cell_type": "code",
   "execution_count": 4,
   "metadata": {
    "colab": {
     "base_uri": "https://localhost:8080/"
    },
    "id": "wOvJ30JIGxFJ",
    "outputId": "d298310a-3fed-4528-9b99-def64b5b04ce"
   },
   "outputs": [
    {
     "name": "stdout",
     "output_type": "stream",
     "text": [
      "Downloading data from https://storage.googleapis.com/tensorflow/tf-keras-datasets/mnist.npz\n",
      "11493376/11490434 [==============================] - 0s 0us/step\n",
      "11501568/11490434 [==============================] - 0s 0us/step\n"
     ]
    }
   ],
   "source": [
    "(x_train, y_train),(x_test, y_test) = mnist.load_data()"
   ]
  },
  {
   "cell_type": "code",
   "execution_count": 5,
   "metadata": {
    "colab": {
     "base_uri": "https://localhost:8080/"
    },
    "id": "BYfNF11QGzrm",
    "outputId": "1b72ba1e-c036-413c-e1e0-3e2dae7aac33"
   },
   "outputs": [
    {
     "name": "stdout",
     "output_type": "stream",
     "text": [
      "(60000, 28, 28)\n",
      "(60000,)\n",
      "(10000, 28, 28)\n",
      "(10000,)\n"
     ]
    }
   ],
   "source": [
    "print(x_train.shape)\n",
    "print(y_train.shape)\n",
    "print(x_test.shape)\n",
    "print(y_test.shape)"
   ]
  },
  {
   "cell_type": "markdown",
   "metadata": {
    "id": "tfQkMqfvG3kU"
   },
   "source": [
    "### 2. Preprocessing Dataset"
   ]
  },
  {
   "cell_type": "code",
   "execution_count": 6,
   "metadata": {
    "id": "N-B-ftLaG2VU"
   },
   "outputs": [],
   "source": [
    "x_train = x_train.astype(\"float32\") / 255.0"
   ]
  },
  {
   "cell_type": "code",
   "execution_count": 7,
   "metadata": {
    "id": "_p9QsaSuG7Rg"
   },
   "outputs": [],
   "source": [
    "x_test = x_test.astype(\"float32\") / 255.0"
   ]
  },
  {
   "cell_type": "markdown",
   "metadata": {
    "id": "_n8F-9k-IPL7"
   },
   "source": [
    "### 3. Creating a Recurrent Neural Network (RNN)"
   ]
  },
  {
   "cell_type": "markdown",
   "metadata": {
    "id": "-WXZJaowGwdh"
   },
   "source": [
    "28 x 28 pixele sahip resimlerimiz var. Bu resimleri RNN'e, GRU'ya veya LSTM'e gönderdiğimizde nasıl çalışacak buna bakacağız. Her seferinde resmin bir rowunu modele sokacağız. Önce 1. row, sonra 2. row vs. Normalde image'leri işlemek için sequence modeller kullanılmaz convolutional neural networkler kullanılır. Burada sadece tensorflowda RNN, GRU ve LSTM'in nasıl implement edildiğini görselleştirmek için bu data setini kullandık. "
   ]
  },
  {
   "cell_type": "markdown",
   "metadata": {
    "id": "TLwsYXTKIV79"
   },
   "source": [
    "##### <font color=\"green\"> `model = keras.Sequential()` şeklinde belirttikten sonra `model.add()` ile tek tek layerları ekliyoruz. </font>"
   ]
  },
  {
   "cell_type": "code",
   "execution_count": 8,
   "metadata": {
    "id": "AaKyExm4G9KB"
   },
   "outputs": [],
   "source": [
    "model = keras.Sequential()\n",
    "\n",
    "model.add(keras.Input(shape=(None, 28))) \n",
    "model.add(layers.SimpleRNN(512, return_sequences=True, activation='relu'))\n",
    "model.add(layers.SimpleRNN(512, activation='relu'))\n",
    "model.add(layers.Dense(10))"
   ]
  },
  {
   "cell_type": "markdown",
   "metadata": {
    "id": "3Xn45TWJJDdz"
   },
   "source": [
    "* `model.add(keras.Input(shape=(None, 28))) ` içerisinde shape'in ilk boyutunu 'None' olarak belirttik. Çünkü spesifik bir time stepimiz yok. İkinci boyutu 28 olarak belirtik. Çünkü Her time stepte 28 pixelimiz var. Bu casede 28 time stepimiz var. İlk dimensionı belirtmedik. \n",
    "\n",
    "* `layers.SimpleRNN(512, return_sequence=True, activation='relu')` SimpleRNN: basic RNN demek. 512 nod olsun dedik. `return_sequences=True` her time stepten output dönmesini sağlıyor. Bu şekilde birden fazla rnn katmanını üst üste istiflemiş oluyoruz. Bu RNN'in outputu 512 nodlu bir sequences olacak. `activation='relu'` ile de aktivasyon fonksiyonumuzu belirledik. Eğer hiçbir şey belirtmezsen default olarak 'tanh' alıyor.\n",
    "\n",
    "- İkinci kez RNN katmanı ekledik. Burada `return_sequences = True` yapmadık. Çünkü her time stepten geçecek ve RNN'in son çıktısında dense layer alacağız ve 10 nodlu bir outputumuz olacak."
   ]
  },
  {
   "cell_type": "code",
   "execution_count": 9,
   "metadata": {
    "colab": {
     "base_uri": "https://localhost:8080/"
    },
    "id": "aveW8G-rI1UR",
    "outputId": "3bad2e5b-f59f-497d-b623-f610fae63ad7"
   },
   "outputs": [
    {
     "name": "stdout",
     "output_type": "stream",
     "text": [
      "Model: \"sequential_1\"\n",
      "_________________________________________________________________\n",
      "Layer (type)                 Output Shape              Param #   \n",
      "=================================================================\n",
      "simple_rnn (SimpleRNN)       (None, None, 512)         276992    \n",
      "_________________________________________________________________\n",
      "simple_rnn_1 (SimpleRNN)     (None, 512)               524800    \n",
      "_________________________________________________________________\n",
      "dense (Dense)                (None, 10)                5130      \n",
      "=================================================================\n",
      "Total params: 806,922\n",
      "Trainable params: 806,922\n",
      "Non-trainable params: 0\n",
      "_________________________________________________________________\n",
      "None\n"
     ]
    }
   ],
   "source": [
    "print(model.summary())"
   ]
  },
  {
   "cell_type": "markdown",
   "metadata": {
    "id": "aB7iQzZlOyKS"
   },
   "source": [
    "**simple_rnn (SimpleRNN) - (None, None, 512)** -> İlk RNN için 512 output nodumuz var, ikinci None her bir time stepi temsil ediyor. İki tane None olmasının sebebi bir tanesi batchler için, bir tanesi hidden stateler için.\n",
    "\n",
    "**simple_rnn_1 (SimpleRNN) - (None, 512)** -> Bunda `return_sequences=True` dememiştik. Buradaki None batchleri ifade ediyor. 512 nod tüm inputları geçtikten sonraki son hidden stateteki 512 nodu ifade ediyor. \n",
    "\n",
    "**dense (Dense) - (None, 10)** -> En sonunda ise 10 nodluk bir layerımız var. "
   ]
  },
  {
   "cell_type": "markdown",
   "metadata": {
    "id": "zshIwVTkQzPN"
   },
   "source": [
    "##### <font color=\"green\"> `model.compile()` içerisinde ağımızın eğitim bölümünü nasıl yapılandıracağımızı anlatıyoruz kerasa. </font>"
   ]
  },
  {
   "cell_type": "code",
   "execution_count": 11,
   "metadata": {
    "colab": {
     "base_uri": "https://localhost:8080/"
    },
    "id": "YK1ug3I_OvEH",
    "outputId": "253fc8d1-426b-44bd-975c-517d1bdfd8fb"
   },
   "outputs": [
    {
     "name": "stderr",
     "output_type": "stream",
     "text": [
      "/usr/local/lib/python3.7/dist-packages/keras/optimizer_v2/optimizer_v2.py:356: UserWarning: The `lr` argument is deprecated, use `learning_rate` instead.\n",
      "  \"The `lr` argument is deprecated, use `learning_rate` instead.\")\n"
     ]
    }
   ],
   "source": [
    "model.compile(\n",
    "    loss=keras.losses.SparseCategoricalCrossentropy(from_logits=True),\n",
    "    optimizer=keras.optimizers.Adam(lr=0.001),\n",
    "    metrics=[\"accuracy\"]\n",
    ")"
   ]
  },
  {
   "cell_type": "markdown",
   "metadata": {
    "id": "A7P4Ge7YRg2t"
   },
   "source": [
    "##### <font color=\"green\"> `model.fit()` ile yapılandırdığımız modeli somut olarak eğitiyoruz. </font>"
   ]
  },
  {
   "cell_type": "code",
   "execution_count": 12,
   "metadata": {
    "colab": {
     "base_uri": "https://localhost:8080/"
    },
    "id": "qgIOmgaLRiAA",
    "outputId": "83c7e497-6491-4ee2-d965-43dcb89df3ba"
   },
   "outputs": [
    {
     "name": "stdout",
     "output_type": "stream",
     "text": [
      "Epoch 1/10\n",
      "938/938 - 68s - loss: 0.3073 - accuracy: 0.9049\n",
      "Epoch 2/10\n",
      "938/938 - 64s - loss: 0.1398 - accuracy: 0.9623\n",
      "Epoch 3/10\n",
      "938/938 - 64s - loss: 0.1339 - accuracy: 0.9641\n",
      "Epoch 4/10\n",
      "938/938 - 64s - loss: 0.1034 - accuracy: 0.9720\n",
      "Epoch 5/10\n",
      "938/938 - 64s - loss: 0.0950 - accuracy: 0.9740\n",
      "Epoch 6/10\n",
      "938/938 - 64s - loss: 0.0831 - accuracy: 0.9773\n",
      "Epoch 7/10\n",
      "938/938 - 64s - loss: 0.0818 - accuracy: 0.9780\n",
      "Epoch 8/10\n",
      "938/938 - 64s - loss: 0.0773 - accuracy: 0.9790\n",
      "Epoch 9/10\n",
      "938/938 - 64s - loss: 0.0715 - accuracy: 0.9802\n",
      "Epoch 10/10\n",
      "938/938 - 64s - loss: 0.0631 - accuracy: 0.9826\n"
     ]
    },
    {
     "data": {
      "text/plain": [
       "<keras.callbacks.History at 0x7f1a577ba050>"
      ]
     },
     "execution_count": 12,
     "metadata": {},
     "output_type": "execute_result"
    }
   ],
   "source": [
    "model.fit(x_train, y_train, batch_size=64, epochs=10, verbose=2)"
   ]
  },
  {
   "cell_type": "markdown",
   "metadata": {
    "id": "G4DjjBPURv-L"
   },
   "source": [
    "##### <font color=\"green\"> `model.evaluate()` ile test setimizi gönderip modelimizin başarısını değerlendiriyoruz. </font>"
   ]
  },
  {
   "cell_type": "code",
   "execution_count": 13,
   "metadata": {
    "colab": {
     "base_uri": "https://localhost:8080/"
    },
    "id": "i6O9Ks5sRxBx",
    "outputId": "e8299593-a5f3-4893-e6e3-e82cad7db753"
   },
   "outputs": [
    {
     "name": "stdout",
     "output_type": "stream",
     "text": [
      "313/313 - 3s - loss: 0.0990 - accuracy: 0.9725\n"
     ]
    },
    {
     "data": {
      "text/plain": [
       "[0.09900984168052673, 0.9725000262260437]"
      ]
     },
     "execution_count": 13,
     "metadata": {},
     "output_type": "execute_result"
    }
   ],
   "source": [
    "model.evaluate(x_test, y_test, batch_size=32, verbose=2)"
   ]
  },
  {
   "cell_type": "markdown",
   "metadata": {
    "id": "KfLIpZQyWaoR"
   },
   "source": [
    "Training sette 0.98 accuracye, test sette 0.97 accuracye sahibiz. "
   ]
  },
  {
   "cell_type": "markdown",
   "metadata": {
    "id": "6ECzojYSXGye"
   },
   "source": [
    "### 4. Creating a Gated Recurrent Unit (GRU)"
   ]
  },
  {
   "cell_type": "markdown",
   "metadata": {
    "id": "-MXeWRFtZ3OW"
   },
   "source": [
    "##### <font color=\"green\"> `model = keras.Sequential()` şeklinde belirttikten sonra `model.add()` ile tek tek layerları ekliyoruz. </font>"
   ]
  },
  {
   "cell_type": "code",
   "execution_count": 14,
   "metadata": {
    "id": "vVkKcLGgXREb"
   },
   "outputs": [],
   "source": [
    "model = keras.Sequential()\n",
    "\n",
    "model.add(keras.Input(shape=(None, 28))) \n",
    "model.add(layers.GRU(256, return_sequences=True, activation='tanh'))\n",
    "model.add(layers.GRU(256, activation='tanh'))\n",
    "model.add(layers.Dense(10))"
   ]
  },
  {
   "cell_type": "code",
   "execution_count": 15,
   "metadata": {
    "colab": {
     "base_uri": "https://localhost:8080/"
    },
    "id": "cKXntndyXSHE",
    "outputId": "64f71192-7f8e-4030-c354-658ad88e2da0"
   },
   "outputs": [
    {
     "name": "stdout",
     "output_type": "stream",
     "text": [
      "Model: \"sequential_2\"\n",
      "_________________________________________________________________\n",
      "Layer (type)                 Output Shape              Param #   \n",
      "=================================================================\n",
      "gru (GRU)                    (None, None, 256)         219648    \n",
      "_________________________________________________________________\n",
      "gru_1 (GRU)                  (None, 256)               394752    \n",
      "_________________________________________________________________\n",
      "dense_1 (Dense)              (None, 10)                2570      \n",
      "=================================================================\n",
      "Total params: 616,970\n",
      "Trainable params: 616,970\n",
      "Non-trainable params: 0\n",
      "_________________________________________________________________\n",
      "None\n"
     ]
    }
   ],
   "source": [
    "print(model.summary())"
   ]
  },
  {
   "cell_type": "markdown",
   "metadata": {
    "id": "iVIvvTPvXith"
   },
   "source": [
    "##### <font color=\"green\"> `model.compile()` içerisinde ağımızın eğitim bölümünü nasıl yapılandıracağımızı anlatıyoruz kerasa. </font>"
   ]
  },
  {
   "cell_type": "code",
   "execution_count": 16,
   "metadata": {
    "colab": {
     "base_uri": "https://localhost:8080/"
    },
    "id": "p_irKeoSXR7O",
    "outputId": "0bef4267-3b44-4c62-9b70-ca588683e8ee"
   },
   "outputs": [
    {
     "name": "stderr",
     "output_type": "stream",
     "text": [
      "/usr/local/lib/python3.7/dist-packages/keras/optimizer_v2/optimizer_v2.py:356: UserWarning: The `lr` argument is deprecated, use `learning_rate` instead.\n",
      "  \"The `lr` argument is deprecated, use `learning_rate` instead.\")\n"
     ]
    }
   ],
   "source": [
    "model.compile(\n",
    "    loss=keras.losses.SparseCategoricalCrossentropy(from_logits=True),\n",
    "    optimizer=keras.optimizers.Adam(lr=0.001),\n",
    "    metrics=[\"accuracy\"]\n",
    ")"
   ]
  },
  {
   "cell_type": "markdown",
   "metadata": {
    "id": "4wiTcucxXnoY"
   },
   "source": [
    "##### <font color=\"green\"> `model.fit()` ile yapılandırdığımız modeli somut olarak eğitiyoruz. </font>"
   ]
  },
  {
   "cell_type": "code",
   "execution_count": 17,
   "metadata": {
    "colab": {
     "base_uri": "https://localhost:8080/"
    },
    "id": "7XgpdygrXRwk",
    "outputId": "bbf6533d-c8d5-4699-9822-c98fc16d902e"
   },
   "outputs": [
    {
     "name": "stdout",
     "output_type": "stream",
     "text": [
      "Epoch 1/10\n",
      "938/938 - 21s - loss: 0.2603 - accuracy: 0.9144\n",
      "Epoch 2/10\n",
      "938/938 - 15s - loss: 0.0653 - accuracy: 0.9803\n",
      "Epoch 3/10\n",
      "938/938 - 15s - loss: 0.0457 - accuracy: 0.9862\n",
      "Epoch 4/10\n",
      "938/938 - 15s - loss: 0.0366 - accuracy: 0.9889\n",
      "Epoch 5/10\n",
      "938/938 - 15s - loss: 0.0286 - accuracy: 0.9911\n",
      "Epoch 6/10\n",
      "938/938 - 15s - loss: 0.0257 - accuracy: 0.9918\n",
      "Epoch 7/10\n",
      "938/938 - 15s - loss: 0.0188 - accuracy: 0.9939\n",
      "Epoch 8/10\n",
      "938/938 - 15s - loss: 0.0187 - accuracy: 0.9941\n",
      "Epoch 9/10\n",
      "938/938 - 15s - loss: 0.0161 - accuracy: 0.9948\n",
      "Epoch 10/10\n",
      "938/938 - 15s - loss: 0.0160 - accuracy: 0.9949\n"
     ]
    },
    {
     "data": {
      "text/plain": [
       "<keras.callbacks.History at 0x7f1a55b5ff90>"
      ]
     },
     "execution_count": 17,
     "metadata": {},
     "output_type": "execute_result"
    }
   ],
   "source": [
    "model.fit(x_train, y_train, batch_size=64, epochs=10, verbose=2)"
   ]
  },
  {
   "cell_type": "markdown",
   "metadata": {
    "id": "BWxtuIc8Xu_u"
   },
   "source": [
    "##### <font color=\"green\"> `model.evaluate()` ile test setimizi gönderip modelimizin başarısını değerlendiriyoruz. </font>"
   ]
  },
  {
   "cell_type": "code",
   "execution_count": 18,
   "metadata": {
    "colab": {
     "base_uri": "https://localhost:8080/"
    },
    "id": "Di3CMffOXzSx",
    "outputId": "2af8279e-ab1b-416a-e2d8-0ad0dfd52eb6"
   },
   "outputs": [
    {
     "name": "stdout",
     "output_type": "stream",
     "text": [
      "313/313 - 2s - loss: 0.0424 - accuracy: 0.9877\n"
     ]
    },
    {
     "data": {
      "text/plain": [
       "[0.04235471412539482, 0.9876999855041504]"
      ]
     },
     "execution_count": 18,
     "metadata": {},
     "output_type": "execute_result"
    }
   ],
   "source": [
    "model.evaluate(x_test, y_test, batch_size=32, verbose=2)"
   ]
  },
  {
   "cell_type": "markdown",
   "metadata": {
    "id": "dQbit8pWYOJo"
   },
   "source": [
    "Parametreler farklı olduğu için bir önceki modelle karşılaştırmak doğru olmaz. Burada sadece nasıl kullandığımızı görüyoruz."
   ]
  },
  {
   "cell_type": "markdown",
   "metadata": {
    "id": "mxsWAlQSZUMH"
   },
   "source": [
    "### 5. Creating a Long Short Term Memory Network (LSTM)"
   ]
  },
  {
   "cell_type": "markdown",
   "metadata": {
    "id": "gdnKdWU3ZeTh"
   },
   "source": [
    "LSTM'ler ve GRU'lar performans açısından aynılar. LSTM'ler bir miktar daha iyi olabilir GRU'lardan. "
   ]
  },
  {
   "cell_type": "markdown",
   "metadata": {
    "id": "VM4Vtb3oZ4x_"
   },
   "source": [
    "##### <font color=\"green\"> `model = keras.Sequential()` şeklinde belirttikten sonra `model.add()` ile tek tek layerları ekliyoruz. </font>"
   ]
  },
  {
   "cell_type": "code",
   "execution_count": 8,
   "metadata": {
    "id": "v2nLSafwZaZr"
   },
   "outputs": [],
   "source": [
    "model = keras.Sequential()\n",
    "\n",
    "model.add(keras.Input(shape=(None, 28))) \n",
    "model.add(layers.LSTM(256, return_sequences=True, activation='tanh'))\n",
    "model.add(layers.LSTM(256, activation='tanh'))\n",
    "model.add(layers.Dense(10))"
   ]
  },
  {
   "cell_type": "code",
   "execution_count": 9,
   "metadata": {
    "colab": {
     "base_uri": "https://localhost:8080/"
    },
    "id": "VofTlnndZaWE",
    "outputId": "351428f2-0160-4fd1-d22a-033ac5d2e9e6"
   },
   "outputs": [
    {
     "name": "stdout",
     "output_type": "stream",
     "text": [
      "Model: \"sequential\"\n",
      "_________________________________________________________________\n",
      "Layer (type)                 Output Shape              Param #   \n",
      "=================================================================\n",
      "lstm (LSTM)                  (None, None, 256)         291840    \n",
      "_________________________________________________________________\n",
      "lstm_1 (LSTM)                (None, 256)               525312    \n",
      "_________________________________________________________________\n",
      "dense (Dense)                (None, 10)                2570      \n",
      "=================================================================\n",
      "Total params: 819,722\n",
      "Trainable params: 819,722\n",
      "Non-trainable params: 0\n",
      "_________________________________________________________________\n",
      "None\n"
     ]
    }
   ],
   "source": [
    "print(model.summary())"
   ]
  },
  {
   "cell_type": "markdown",
   "metadata": {
    "id": "4s6qX77faAiU"
   },
   "source": [
    "##### <font color=\"green\"> `model.compile()` içerisinde ağımızın eğitim bölümünü nasıl yapılandıracağımızı anlatıyoruz kerasa. </font>"
   ]
  },
  {
   "cell_type": "code",
   "execution_count": 21,
   "metadata": {
    "colab": {
     "base_uri": "https://localhost:8080/"
    },
    "id": "QUYaBXZ4aASd",
    "outputId": "901d734a-4504-4845-d2a3-8f3c024cc7b0"
   },
   "outputs": [
    {
     "name": "stderr",
     "output_type": "stream",
     "text": [
      "/usr/local/lib/python3.7/dist-packages/keras/optimizer_v2/optimizer_v2.py:356: UserWarning: The `lr` argument is deprecated, use `learning_rate` instead.\n",
      "  \"The `lr` argument is deprecated, use `learning_rate` instead.\")\n"
     ]
    }
   ],
   "source": [
    "model.compile(\n",
    "    loss=keras.losses.SparseCategoricalCrossentropy(from_logits=True),\n",
    "    optimizer=keras.optimizers.Adam(lr=0.001),\n",
    "    metrics=[\"accuracy\"]\n",
    ")"
   ]
  },
  {
   "cell_type": "markdown",
   "metadata": {
    "id": "SVGcLDrVaGBw"
   },
   "source": [
    "##### <font color=\"green\"> `model.fit()` ile yapılandırdığımız modeli somut olarak eğitiyoruz. </font>"
   ]
  },
  {
   "cell_type": "code",
   "execution_count": 24,
   "metadata": {
    "colab": {
     "base_uri": "https://localhost:8080/"
    },
    "id": "DlnHP5T9aALo",
    "outputId": "d8ee71a1-5106-426a-f39e-96b3b5d18cb0"
   },
   "outputs": [
    {
     "name": "stdout",
     "output_type": "stream",
     "text": [
      "Epoch 1/10\n",
      "938/938 - 18s - loss: 0.0168 - accuracy: 0.9946\n",
      "Epoch 2/10\n",
      "938/938 - 18s - loss: 0.0152 - accuracy: 0.9954\n",
      "Epoch 3/10\n",
      "938/938 - 18s - loss: 0.0127 - accuracy: 0.9960\n",
      "Epoch 4/10\n",
      "938/938 - 18s - loss: 0.0130 - accuracy: 0.9960\n",
      "Epoch 5/10\n",
      "938/938 - 18s - loss: 0.0130 - accuracy: 0.9961\n",
      "Epoch 6/10\n",
      "938/938 - 18s - loss: 0.0116 - accuracy: 0.9965\n",
      "Epoch 7/10\n",
      "938/938 - 18s - loss: 0.0087 - accuracy: 0.9971\n",
      "Epoch 8/10\n",
      "938/938 - 18s - loss: 0.0095 - accuracy: 0.9969\n",
      "Epoch 9/10\n",
      "938/938 - 18s - loss: 0.0105 - accuracy: 0.9967\n",
      "Epoch 10/10\n",
      "938/938 - 18s - loss: 0.0058 - accuracy: 0.9983\n"
     ]
    },
    {
     "data": {
      "text/plain": [
       "<keras.callbacks.History at 0x7f1a524f5f90>"
      ]
     },
     "execution_count": 24,
     "metadata": {},
     "output_type": "execute_result"
    }
   ],
   "source": [
    "model.fit(x_train, y_train, batch_size=64, epochs=10, verbose=2)"
   ]
  },
  {
   "cell_type": "markdown",
   "metadata": {
    "id": "UsH16dEIaO5o"
   },
   "source": [
    "##### <font color=\"green\"> `model.evaluate()` ile test setimizi gönderip modelimizin başarısını değerlendiriyoruz. </font>"
   ]
  },
  {
   "cell_type": "code",
   "execution_count": 23,
   "metadata": {
    "colab": {
     "base_uri": "https://localhost:8080/"
    },
    "id": "iRVfV2ZAZaN8",
    "outputId": "82170dcd-18d0-4f83-a2d0-b7fa6fd1bdcc"
   },
   "outputs": [
    {
     "name": "stdout",
     "output_type": "stream",
     "text": [
      "313/313 - 3s - loss: 0.0278 - accuracy: 0.9919\n"
     ]
    },
    {
     "data": {
      "text/plain": [
       "[0.027801280841231346, 0.9919000267982483]"
      ]
     },
     "execution_count": 23,
     "metadata": {},
     "output_type": "execute_result"
    }
   ],
   "source": [
    "model.evaluate(x_test, y_test, batch_size=32, verbose=2)"
   ]
  },
  {
   "cell_type": "markdown",
   "metadata": {
    "id": "X3turFC7YdIH"
   },
   "source": [
    "### 6. Bidirectional Long-Short Term Memory (Bidirectional LSTM)"
   ]
  },
  {
   "cell_type": "markdown",
   "metadata": {
    "id": "pNzR7iUbbr6G"
   },
   "source": [
    "Tek yönlü LSTM kullanmak yerine çift yönlü LSTM kullanacağız. "
   ]
  },
  {
   "cell_type": "markdown",
   "metadata": {
    "id": "IJxiN-Ahb8m7"
   },
   "source": [
    "##### <font color=\"green\"> `model = keras.Sequential()` şeklinde belirttikten sonra `model.add()` ile tek tek layerları ekliyoruz. </font>"
   ]
  },
  {
   "cell_type": "code",
   "execution_count": 31,
   "metadata": {
    "id": "KbU9LWqKYRta"
   },
   "outputs": [],
   "source": [
    "model = keras.Sequential()\n",
    "\n",
    "model.add(keras.Input(shape=(None, 28))) \n",
    "model.add(layers.Bidirectional(layers.LSTM(256, return_sequences=True, activation='tanh')))\n",
    "model.add(layers.LSTM(256, activation='tanh'))\n",
    "model.add(layers.Dense(10))"
   ]
  },
  {
   "cell_type": "code",
   "execution_count": 32,
   "metadata": {
    "colab": {
     "base_uri": "https://localhost:8080/"
    },
    "id": "EqrTCEK2cMHM",
    "outputId": "9d27645b-41e7-47f1-c0aa-dc980d301d5d"
   },
   "outputs": [
    {
     "name": "stdout",
     "output_type": "stream",
     "text": [
      "Model: \"sequential_6\"\n",
      "_________________________________________________________________\n",
      "Layer (type)                 Output Shape              Param #   \n",
      "=================================================================\n",
      "bidirectional_1 (Bidirection (None, None, 512)         583680    \n",
      "_________________________________________________________________\n",
      "lstm_7 (LSTM)                (None, 256)               787456    \n",
      "_________________________________________________________________\n",
      "dense_5 (Dense)              (None, 10)                2570      \n",
      "=================================================================\n",
      "Total params: 1,373,706\n",
      "Trainable params: 1,373,706\n",
      "Non-trainable params: 0\n",
      "_________________________________________________________________\n",
      "None\n"
     ]
    }
   ],
   "source": [
    "print(model.summary())"
   ]
  },
  {
   "cell_type": "markdown",
   "metadata": {
    "id": "JBD6hgDdeTs7"
   },
   "source": [
    "İlk LSTM layerında `model.add(layers.Bidirectional(layers.LSTM(256, return_sequences=True, activation='tanh')))` eklediğimizde (None, None, 512) -> 256 nod yerine 512 nod oldu. Her hidden state için nod sayısını 256 nod olarak belirledik fakat çift yönlü olduğu için nod sayısının 2 katı kadar output oluyor. "
   ]
  },
  {
   "cell_type": "markdown",
   "metadata": {
    "id": "i71GEu85mB2-"
   },
   "source": [
    "İkincisini de Bidirectional LSTM yapıyoruz."
   ]
  },
  {
   "cell_type": "code",
   "execution_count": 10,
   "metadata": {
    "id": "gqzsYxOGmBbf"
   },
   "outputs": [],
   "source": [
    "model = keras.Sequential()\n",
    "\n",
    "model.add(keras.Input(shape=(None, 28))) \n",
    "model.add(layers.Bidirectional(layers.LSTM(256, return_sequences=True, activation='tanh')))\n",
    "model.add(layers.Bidirectional(layers.LSTM(256, activation='tanh')))\n",
    "model.add(layers.Dense(10))"
   ]
  },
  {
   "cell_type": "code",
   "execution_count": 11,
   "metadata": {
    "colab": {
     "base_uri": "https://localhost:8080/"
    },
    "id": "nsVyONkYmXMF",
    "outputId": "8e47d915-858a-4090-bb4f-d40ba46cbe55"
   },
   "outputs": [
    {
     "name": "stdout",
     "output_type": "stream",
     "text": [
      "Model: \"sequential_1\"\n",
      "_________________________________________________________________\n",
      "Layer (type)                 Output Shape              Param #   \n",
      "=================================================================\n",
      "bidirectional (Bidirectional (None, None, 512)         583680    \n",
      "_________________________________________________________________\n",
      "bidirectional_1 (Bidirection (None, 512)               1574912   \n",
      "_________________________________________________________________\n",
      "dense_1 (Dense)              (None, 10)                5130      \n",
      "=================================================================\n",
      "Total params: 2,163,722\n",
      "Trainable params: 2,163,722\n",
      "Non-trainable params: 0\n",
      "_________________________________________________________________\n",
      "None\n"
     ]
    }
   ],
   "source": [
    "print(model.summary())"
   ]
  },
  {
   "cell_type": "markdown",
   "metadata": {
    "id": "NlWBdJn2cPYl"
   },
   "source": [
    "##### <font color=\"green\"> `model.compile()` içerisinde ağımızın eğitim bölümünü nasıl yapılandıracağımızı anlatıyoruz kerasa. </font>"
   ]
  },
  {
   "cell_type": "code",
   "execution_count": 12,
   "metadata": {
    "colab": {
     "base_uri": "https://localhost:8080/"
    },
    "id": "93LatuUDcSgD",
    "outputId": "f700af5b-ff7a-4191-bbf2-0075760357ef"
   },
   "outputs": [
    {
     "name": "stderr",
     "output_type": "stream",
     "text": [
      "/usr/local/lib/python3.7/dist-packages/keras/optimizer_v2/optimizer_v2.py:356: UserWarning: The `lr` argument is deprecated, use `learning_rate` instead.\n",
      "  \"The `lr` argument is deprecated, use `learning_rate` instead.\")\n"
     ]
    }
   ],
   "source": [
    "model.compile(\n",
    "    loss=keras.losses.SparseCategoricalCrossentropy(from_logits=True),\n",
    "    optimizer=keras.optimizers.Adam(lr=0.001),\n",
    "    metrics=[\"accuracy\"]\n",
    ")"
   ]
  },
  {
   "cell_type": "markdown",
   "metadata": {
    "id": "tqOwhdG6cV4L"
   },
   "source": [
    "##### <font color=\"green\"> `model.fit()` ile yapılandırdığımız modeli somut olarak eğitiyoruz. </font>"
   ]
  },
  {
   "cell_type": "code",
   "execution_count": 13,
   "metadata": {
    "colab": {
     "base_uri": "https://localhost:8080/"
    },
    "id": "j-y_NMiVcWyL",
    "outputId": "d190631e-9d4a-42fc-d582-8a4471d1a377"
   },
   "outputs": [
    {
     "name": "stdout",
     "output_type": "stream",
     "text": [
      "Epoch 1/10\n",
      "938/938 - 49s - loss: 0.2649 - accuracy: 0.9132\n",
      "Epoch 2/10\n",
      "938/938 - 38s - loss: 0.0742 - accuracy: 0.9769\n",
      "Epoch 3/10\n",
      "938/938 - 38s - loss: 0.0541 - accuracy: 0.9830\n",
      "Epoch 4/10\n",
      "938/938 - 38s - loss: 0.0416 - accuracy: 0.9868\n",
      "Epoch 5/10\n",
      "938/938 - 38s - loss: 0.0358 - accuracy: 0.9886\n",
      "Epoch 6/10\n",
      "938/938 - 38s - loss: 0.0280 - accuracy: 0.9909\n",
      "Epoch 7/10\n",
      "938/938 - 38s - loss: 0.0247 - accuracy: 0.9922\n",
      "Epoch 8/10\n",
      "938/938 - 38s - loss: 0.0208 - accuracy: 0.9934\n",
      "Epoch 9/10\n",
      "938/938 - 38s - loss: 0.0184 - accuracy: 0.9939\n",
      "Epoch 10/10\n",
      "938/938 - 38s - loss: 0.0169 - accuracy: 0.9945\n"
     ]
    },
    {
     "data": {
      "text/plain": [
       "<keras.callbacks.History at 0x7fb00f11be10>"
      ]
     },
     "execution_count": 13,
     "metadata": {},
     "output_type": "execute_result"
    }
   ],
   "source": [
    "model.fit(x_train, y_train, batch_size=64, epochs=10, verbose=2)"
   ]
  },
  {
   "cell_type": "markdown",
   "metadata": {
    "id": "qOKinXNUcfP1"
   },
   "source": [
    "##### <font color=\"green\"> `model.evaluate()` ile test setimizi gönderip modelimizin başarısını değerlendiriyoruz. </font>"
   ]
  },
  {
   "cell_type": "code",
   "execution_count": 14,
   "metadata": {
    "colab": {
     "base_uri": "https://localhost:8080/"
    },
    "id": "_H5Adg2ZcgRb",
    "outputId": "742d7415-1761-4b00-cdf2-1ccec78b9c8c"
   },
   "outputs": [
    {
     "name": "stdout",
     "output_type": "stream",
     "text": [
      "313/313 - 6s - loss: 0.0371 - accuracy: 0.9896\n"
     ]
    },
    {
     "data": {
      "text/plain": [
       "[0.03711550682783127, 0.9896000027656555]"
      ]
     },
     "execution_count": 14,
     "metadata": {},
     "output_type": "execute_result"
    }
   ],
   "source": [
    "model.evaluate(x_test, y_test, batch_size=32, verbose=2)"
   ]
  },
  {
   "cell_type": "markdown",
   "metadata": {
    "id": "tcdh0gummh9W"
   },
   "source": [
    "Performans one directional lstm ile neredeyse aynı. "
   ]
  }
 ],
 "metadata": {
  "accelerator": "GPU",
  "colab": {
   "name": "5. TensorFlow Tutorial 6 - RNNs, GRUs, LSTMs and Bidirectionality.ipynb",
   "provenance": []
  },
  "kernelspec": {
   "display_name": "Python 3",
   "language": "python",
   "name": "python3"
  },
  "language_info": {
   "codemirror_mode": {
    "name": "ipython",
    "version": 3
   },
   "file_extension": ".py",
   "mimetype": "text/x-python",
   "name": "python",
   "nbconvert_exporter": "python",
   "pygments_lexer": "ipython3",
   "version": "3.7.6"
  }
 },
 "nbformat": 4,
 "nbformat_minor": 1
}
