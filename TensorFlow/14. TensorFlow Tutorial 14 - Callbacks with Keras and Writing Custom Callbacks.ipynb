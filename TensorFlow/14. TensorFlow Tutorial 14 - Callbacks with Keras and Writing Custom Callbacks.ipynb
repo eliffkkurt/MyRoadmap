{
  "nbformat": 4,
  "nbformat_minor": 0,
  "metadata": {
    "colab": {
      "name": "14. TensorFlow Tutorial 14 - Callbacks with Keras and Writing Custom Callbacks.ipynb",
      "provenance": []
    },
    "kernelspec": {
      "name": "python3",
      "display_name": "Python 3"
    },
    "language_info": {
      "name": "python"
    },
    "widgets": {
      "application/vnd.jupyter.widget-state+json": {
        "57b5965abe634c96b8a4eaff604e453c": {
          "model_module": "@jupyter-widgets/controls",
          "model_name": "HBoxModel",
          "model_module_version": "1.5.0",
          "state": {
            "_view_name": "HBoxView",
            "_dom_classes": [],
            "_model_name": "HBoxModel",
            "_view_module": "@jupyter-widgets/controls",
            "_model_module_version": "1.5.0",
            "_view_count": null,
            "_view_module_version": "1.5.0",
            "box_style": "",
            "layout": "IPY_MODEL_5b294137eb0c40a1ac7dbaf478a6b3d6",
            "_model_module": "@jupyter-widgets/controls",
            "children": [
              "IPY_MODEL_13fa106273be4f269a173df4389d4497",
              "IPY_MODEL_79ac9e4fb95a4af58d68c78194e502d9",
              "IPY_MODEL_9c13fa9c6b4f4aa5b223cc535c861a06"
            ]
          }
        },
        "5b294137eb0c40a1ac7dbaf478a6b3d6": {
          "model_module": "@jupyter-widgets/base",
          "model_name": "LayoutModel",
          "model_module_version": "1.2.0",
          "state": {
            "_view_name": "LayoutView",
            "grid_template_rows": null,
            "right": null,
            "justify_content": null,
            "_view_module": "@jupyter-widgets/base",
            "overflow": null,
            "_model_module_version": "1.2.0",
            "_view_count": null,
            "flex_flow": null,
            "width": null,
            "min_width": null,
            "border": null,
            "align_items": null,
            "bottom": null,
            "_model_module": "@jupyter-widgets/base",
            "top": null,
            "grid_column": null,
            "overflow_y": null,
            "overflow_x": null,
            "grid_auto_flow": null,
            "grid_area": null,
            "grid_template_columns": null,
            "flex": null,
            "_model_name": "LayoutModel",
            "justify_items": null,
            "grid_row": null,
            "max_height": null,
            "align_content": null,
            "visibility": null,
            "align_self": null,
            "height": null,
            "min_height": null,
            "padding": null,
            "grid_auto_rows": null,
            "grid_gap": null,
            "max_width": null,
            "order": null,
            "_view_module_version": "1.2.0",
            "grid_template_areas": null,
            "object_position": null,
            "object_fit": null,
            "grid_auto_columns": null,
            "margin": null,
            "display": null,
            "left": null
          }
        },
        "13fa106273be4f269a173df4389d4497": {
          "model_module": "@jupyter-widgets/controls",
          "model_name": "HTMLModel",
          "model_module_version": "1.5.0",
          "state": {
            "_view_name": "HTMLView",
            "style": "IPY_MODEL_dea4a9d05e6d4512b75a9d8e8623f7f8",
            "_dom_classes": [],
            "description": "",
            "_model_name": "HTMLModel",
            "placeholder": "​",
            "_view_module": "@jupyter-widgets/controls",
            "_model_module_version": "1.5.0",
            "value": "Dl Completed...: 100%",
            "_view_count": null,
            "_view_module_version": "1.5.0",
            "description_tooltip": null,
            "_model_module": "@jupyter-widgets/controls",
            "layout": "IPY_MODEL_14bf7693bd104d6d826b55b571a39132"
          }
        },
        "79ac9e4fb95a4af58d68c78194e502d9": {
          "model_module": "@jupyter-widgets/controls",
          "model_name": "FloatProgressModel",
          "model_module_version": "1.5.0",
          "state": {
            "_view_name": "ProgressView",
            "style": "IPY_MODEL_f676c9e3820d4e2ebd37f82d667fe58e",
            "_dom_classes": [],
            "description": "",
            "_model_name": "FloatProgressModel",
            "bar_style": "success",
            "max": 4,
            "_view_module": "@jupyter-widgets/controls",
            "_model_module_version": "1.5.0",
            "value": 4,
            "_view_count": null,
            "_view_module_version": "1.5.0",
            "orientation": "horizontal",
            "min": 0,
            "description_tooltip": null,
            "_model_module": "@jupyter-widgets/controls",
            "layout": "IPY_MODEL_f3e6f0dda11d4259bcdb8772d209a128"
          }
        },
        "9c13fa9c6b4f4aa5b223cc535c861a06": {
          "model_module": "@jupyter-widgets/controls",
          "model_name": "HTMLModel",
          "model_module_version": "1.5.0",
          "state": {
            "_view_name": "HTMLView",
            "style": "IPY_MODEL_9ee2c803ea724c028694afacdedcb553",
            "_dom_classes": [],
            "description": "",
            "_model_name": "HTMLModel",
            "placeholder": "​",
            "_view_module": "@jupyter-widgets/controls",
            "_model_module_version": "1.5.0",
            "value": " 4/4 [00:00&lt;00:00,  8.15 file/s]",
            "_view_count": null,
            "_view_module_version": "1.5.0",
            "description_tooltip": null,
            "_model_module": "@jupyter-widgets/controls",
            "layout": "IPY_MODEL_763770922ba340e5bab03f6e09e86970"
          }
        },
        "dea4a9d05e6d4512b75a9d8e8623f7f8": {
          "model_module": "@jupyter-widgets/controls",
          "model_name": "DescriptionStyleModel",
          "model_module_version": "1.5.0",
          "state": {
            "_view_name": "StyleView",
            "_model_name": "DescriptionStyleModel",
            "description_width": "",
            "_view_module": "@jupyter-widgets/base",
            "_model_module_version": "1.5.0",
            "_view_count": null,
            "_view_module_version": "1.2.0",
            "_model_module": "@jupyter-widgets/controls"
          }
        },
        "14bf7693bd104d6d826b55b571a39132": {
          "model_module": "@jupyter-widgets/base",
          "model_name": "LayoutModel",
          "model_module_version": "1.2.0",
          "state": {
            "_view_name": "LayoutView",
            "grid_template_rows": null,
            "right": null,
            "justify_content": null,
            "_view_module": "@jupyter-widgets/base",
            "overflow": null,
            "_model_module_version": "1.2.0",
            "_view_count": null,
            "flex_flow": null,
            "width": null,
            "min_width": null,
            "border": null,
            "align_items": null,
            "bottom": null,
            "_model_module": "@jupyter-widgets/base",
            "top": null,
            "grid_column": null,
            "overflow_y": null,
            "overflow_x": null,
            "grid_auto_flow": null,
            "grid_area": null,
            "grid_template_columns": null,
            "flex": null,
            "_model_name": "LayoutModel",
            "justify_items": null,
            "grid_row": null,
            "max_height": null,
            "align_content": null,
            "visibility": null,
            "align_self": null,
            "height": null,
            "min_height": null,
            "padding": null,
            "grid_auto_rows": null,
            "grid_gap": null,
            "max_width": null,
            "order": null,
            "_view_module_version": "1.2.0",
            "grid_template_areas": null,
            "object_position": null,
            "object_fit": null,
            "grid_auto_columns": null,
            "margin": null,
            "display": null,
            "left": null
          }
        },
        "f676c9e3820d4e2ebd37f82d667fe58e": {
          "model_module": "@jupyter-widgets/controls",
          "model_name": "ProgressStyleModel",
          "model_module_version": "1.5.0",
          "state": {
            "_view_name": "StyleView",
            "_model_name": "ProgressStyleModel",
            "description_width": "",
            "_view_module": "@jupyter-widgets/base",
            "_model_module_version": "1.5.0",
            "_view_count": null,
            "_view_module_version": "1.2.0",
            "bar_color": null,
            "_model_module": "@jupyter-widgets/controls"
          }
        },
        "f3e6f0dda11d4259bcdb8772d209a128": {
          "model_module": "@jupyter-widgets/base",
          "model_name": "LayoutModel",
          "model_module_version": "1.2.0",
          "state": {
            "_view_name": "LayoutView",
            "grid_template_rows": null,
            "right": null,
            "justify_content": null,
            "_view_module": "@jupyter-widgets/base",
            "overflow": null,
            "_model_module_version": "1.2.0",
            "_view_count": null,
            "flex_flow": null,
            "width": null,
            "min_width": null,
            "border": null,
            "align_items": null,
            "bottom": null,
            "_model_module": "@jupyter-widgets/base",
            "top": null,
            "grid_column": null,
            "overflow_y": null,
            "overflow_x": null,
            "grid_auto_flow": null,
            "grid_area": null,
            "grid_template_columns": null,
            "flex": null,
            "_model_name": "LayoutModel",
            "justify_items": null,
            "grid_row": null,
            "max_height": null,
            "align_content": null,
            "visibility": null,
            "align_self": null,
            "height": null,
            "min_height": null,
            "padding": null,
            "grid_auto_rows": null,
            "grid_gap": null,
            "max_width": null,
            "order": null,
            "_view_module_version": "1.2.0",
            "grid_template_areas": null,
            "object_position": null,
            "object_fit": null,
            "grid_auto_columns": null,
            "margin": null,
            "display": null,
            "left": null
          }
        },
        "9ee2c803ea724c028694afacdedcb553": {
          "model_module": "@jupyter-widgets/controls",
          "model_name": "DescriptionStyleModel",
          "model_module_version": "1.5.0",
          "state": {
            "_view_name": "StyleView",
            "_model_name": "DescriptionStyleModel",
            "description_width": "",
            "_view_module": "@jupyter-widgets/base",
            "_model_module_version": "1.5.0",
            "_view_count": null,
            "_view_module_version": "1.2.0",
            "_model_module": "@jupyter-widgets/controls"
          }
        },
        "763770922ba340e5bab03f6e09e86970": {
          "model_module": "@jupyter-widgets/base",
          "model_name": "LayoutModel",
          "model_module_version": "1.2.0",
          "state": {
            "_view_name": "LayoutView",
            "grid_template_rows": null,
            "right": null,
            "justify_content": null,
            "_view_module": "@jupyter-widgets/base",
            "overflow": null,
            "_model_module_version": "1.2.0",
            "_view_count": null,
            "flex_flow": null,
            "width": null,
            "min_width": null,
            "border": null,
            "align_items": null,
            "bottom": null,
            "_model_module": "@jupyter-widgets/base",
            "top": null,
            "grid_column": null,
            "overflow_y": null,
            "overflow_x": null,
            "grid_auto_flow": null,
            "grid_area": null,
            "grid_template_columns": null,
            "flex": null,
            "_model_name": "LayoutModel",
            "justify_items": null,
            "grid_row": null,
            "max_height": null,
            "align_content": null,
            "visibility": null,
            "align_self": null,
            "height": null,
            "min_height": null,
            "padding": null,
            "grid_auto_rows": null,
            "grid_gap": null,
            "max_width": null,
            "order": null,
            "_view_module_version": "1.2.0",
            "grid_template_areas": null,
            "object_position": null,
            "object_fit": null,
            "grid_auto_columns": null,
            "margin": null,
            "display": null,
            "left": null
          }
        }
      }
    }
  },
  "cells": [
    {
      "cell_type": "markdown",
      "metadata": {
        "id": "QTdU49U4fuuO"
      },
      "source": [
        "<font color='green'> \n",
        "**Youtube - Aladdin Persson Kanalı - TensorFlow 2.0 Beginner Tutorials serisi**\n",
        "    \n",
        "TensorFlow Tutorial 14 - Callbacks with Keras and Writing Custom Callbacks - Aladdin Persson anlattı.\n",
        "</font>"
      ]
    },
    {
      "cell_type": "markdown",
      "metadata": {
        "id": "jrU-Q62Jf2yI"
      },
      "source": [
        "**Video**: [TensorFlow Tutorial 14 - Callbacks with Keras and Writing Custom Callbacks](https://www.youtube.com/watch?v=WUzLJZCKNu4&list=PLhhyoLH6IjfxVOdVC1P1L5z5azs0XjMsb&index=14)"
      ]
    },
    {
      "cell_type": "markdown",
      "metadata": {
        "id": "GoVKyB6jgBVp"
      },
      "source": [
        "### İçindekiler"
      ]
    },
    {
      "cell_type": "markdown",
      "metadata": {
        "id": "mLjaSzQ9gCLS"
      },
      "source": [
        "**Loading Dataset**\n",
        "\n",
        "**Processing the Dataset**\n",
        "\n",
        "**Creating Model and Training Configuration**\n",
        "\n",
        "**Callbacks with Keras and Training the Model**\n",
        "\n",
        "* Callback with Keras - 1\n",
        "* Callback with Keras - 2\n",
        "\n",
        "**Writing Custom Callbacks and Training the Model**\n",
        "\n",
        "* Writing Custom Callbacks - 1\n",
        "* Writing Custom Callbacks - 2\n"
      ]
    },
    {
      "cell_type": "markdown",
      "metadata": {
        "id": "wd979TuPgGIG"
      },
      "source": [
        "### <font color=\"blue\"> Giriş</font>"
      ]
    },
    {
      "cell_type": "markdown",
      "metadata": {
        "id": "trWYwQQBkL9S"
      },
      "source": [
        "Bu notebookta callbacksi nasıl kullandığımızı ve nasıl custom callbacks oluşturabileceğimizi göreceğiz. Callbacks eğitim veya değerlendirme sırasında modelimizin davranışını özelleştirmenin bir yoludur."
      ]
    },
    {
      "cell_type": "code",
      "metadata": {
        "id": "ls2VC5swfiHN"
      },
      "source": [
        "import tensorflow as tf\n",
        "from tensorflow import keras\n",
        "from tensorflow.keras import layers\n",
        "import tensorflow_datasets as tfds"
      ],
      "execution_count": 2,
      "outputs": []
    },
    {
      "cell_type": "markdown",
      "metadata": {
        "id": "pEXZ7diAgIcA"
      },
      "source": [
        "### 1. Loading Dataset"
      ]
    },
    {
      "cell_type": "code",
      "metadata": {
        "colab": {
          "base_uri": "https://localhost:8080/",
          "height": 212,
          "referenced_widgets": [
            "57b5965abe634c96b8a4eaff604e453c",
            "5b294137eb0c40a1ac7dbaf478a6b3d6",
            "13fa106273be4f269a173df4389d4497",
            "79ac9e4fb95a4af58d68c78194e502d9",
            "9c13fa9c6b4f4aa5b223cc535c861a06",
            "dea4a9d05e6d4512b75a9d8e8623f7f8",
            "14bf7693bd104d6d826b55b571a39132",
            "f676c9e3820d4e2ebd37f82d667fe58e",
            "f3e6f0dda11d4259bcdb8772d209a128",
            "9ee2c803ea724c028694afacdedcb553",
            "763770922ba340e5bab03f6e09e86970"
          ]
        },
        "id": "vKEFxaqjgKM7",
        "outputId": "419cf28e-6f00-4b5a-e02d-19b920a42baa"
      },
      "source": [
        "(ds_train, ds_test), ds_info = tfds.load(\n",
        "    \"mnist\",\n",
        "    split=[\"train\",\"test\"],\n",
        "    shuffle_files=True,\n",
        "    as_supervised=True,\n",
        "    with_info=True,\n",
        ")"
      ],
      "execution_count": 3,
      "outputs": [
        {
          "output_type": "stream",
          "name": "stdout",
          "text": [
            "\u001b[1mDownloading and preparing dataset mnist/3.0.1 (download: 11.06 MiB, generated: 21.00 MiB, total: 32.06 MiB) to /root/tensorflow_datasets/mnist/3.0.1...\u001b[0m\n"
          ]
        },
        {
          "output_type": "stream",
          "name": "stderr",
          "text": [
            "WARNING:absl:Dataset mnist is hosted on GCS. It will automatically be downloaded to your\n",
            "local data directory. If you'd instead prefer to read directly from our public\n",
            "GCS bucket (recommended if you're running on GCP), you can instead pass\n",
            "`try_gcs=True` to `tfds.load` or set `data_dir=gs://tfds-data/datasets`.\n",
            "\n"
          ]
        },
        {
          "output_type": "display_data",
          "data": {
            "application/vnd.jupyter.widget-view+json": {
              "model_id": "57b5965abe634c96b8a4eaff604e453c",
              "version_minor": 0,
              "version_major": 2
            },
            "text/plain": [
              "Dl Completed...:   0%|          | 0/4 [00:00<?, ? file/s]"
            ]
          },
          "metadata": {}
        },
        {
          "output_type": "stream",
          "name": "stdout",
          "text": [
            "\n",
            "\u001b[1mDataset mnist downloaded and prepared to /root/tensorflow_datasets/mnist/3.0.1. Subsequent calls will reuse this data.\u001b[0m\n"
          ]
        }
      ]
    },
    {
      "cell_type": "markdown",
      "metadata": {
        "id": "AcIp0JjglKns"
      },
      "source": [
        "### 2. Preprocessing Dataset\n"
      ]
    },
    {
      "cell_type": "code",
      "metadata": {
        "id": "VZyfdhOYlSzX"
      },
      "source": [
        "def normalize_img(image, label):\n",
        "  return tf.cast(image, tf.float32) / 255.0, label"
      ],
      "execution_count": 4,
      "outputs": []
    },
    {
      "cell_type": "code",
      "metadata": {
        "id": "ZL7ECxTVlmEy"
      },
      "source": [
        "AUTOTUNE = tf.data.experimental.AUTOTUNE\n",
        "BATCH_SIZE = 128\n",
        "\n",
        "ds_train = ds_train.map(normalize_img, num_parallel_calls=AUTOTUNE)\n",
        "ds_train = ds_train.cache()\n",
        "ds_train = ds_train.shuffle(ds_info.splits[\"train\"].num_examples)\n",
        "ds_train = ds_train.batch(BATCH_SIZE)\n",
        "ds_train = ds_train.prefetch(AUTOTUNE)"
      ],
      "execution_count": 6,
      "outputs": []
    },
    {
      "cell_type": "markdown",
      "metadata": {
        "id": "pxUI1sTZmCPT"
      },
      "source": [
        "### 3. Creating Model and Training Configuration"
      ]
    },
    {
      "cell_type": "code",
      "metadata": {
        "id": "wnm-xn00l-V6"
      },
      "source": [
        "model = keras.Sequential(\n",
        "    [\n",
        "     keras.Input((28, 28, 1)),\n",
        "     layers.Conv2D(32, 3, activation=\"relu\"),\n",
        "     layers.Flatten(),\n",
        "     layers.Dense(10),\n",
        "    ]\n",
        ")"
      ],
      "execution_count": 21,
      "outputs": []
    },
    {
      "cell_type": "code",
      "metadata": {
        "id": "Mjz0ZCicmac6"
      },
      "source": [
        "model.compile(\n",
        "    optimizer=keras.optimizers.Adam(0.01),\n",
        "    loss=keras.losses.SparseCategoricalCrossentropy(from_logits=True),\n",
        "    metrics=[\"accuracy\"],\n",
        ")"
      ],
      "execution_count": 9,
      "outputs": []
    },
    {
      "cell_type": "markdown",
      "metadata": {
        "id": "uWSp785wtnIY"
      },
      "source": [
        "### 4. Callbacks with Keras and Training the Model"
      ]
    },
    {
      "cell_type": "markdown",
      "metadata": {
        "id": "nmLd1x5kskHD"
      },
      "source": [
        "#### 4.1. Callback with Keras - 1"
      ]
    },
    {
      "cell_type": "markdown",
      "metadata": {
        "id": "blLuJLt1pU42"
      },
      "source": [
        "Modelin nasıl save ve load edildiğini görmüştük [TensorFlow Tutorial 10 - Saving and Loading Models](https://github.com/eliffkkurt/MyRoadmap/blob/main/TensorFlow/10.%20TensorFlow%20Tutorial%2010%20-%20Saving%20and%20Loading%20Models.ipynb) notebookunda. Save etme işini trainingden sonra yapmıştık `model.fit()`'i çalıştırdıktan sonra. 10 epoch için çalıştırdıysak 10 epochtan sonrasını kaydetmiş oluyoruz bu durumda. Diyelim ki her epochtan sonra kaydetmek istiyoruz veya en iyi modeli kaydetmek istiyoruz. Bunu callback ile yapıyoruz ve modeli fit etmeden önce yapıyoruz.\n",
        "\n",
        "\n",
        "* `'checkpoint/'` ile file pathi belirledik. \n",
        "* `save_best_only=False` en iyi epochu kaydetmek istiyorsak bunu True yapıyoruz.\n",
        "\n",
        "Kerasın farklı callbackleri var. Dökümentasyonundan bakabilirsin."
      ]
    },
    {
      "cell_type": "code",
      "metadata": {
        "id": "xBr7ByDZpP__"
      },
      "source": [
        "save_callback = keras.callbacks.ModelCheckpoint(\n",
        "    'checkpoint/', \n",
        "    save_weights_only=True, \n",
        "    monitor='accuracy', # validation setin de varsa burada onu belirtmen gerekir.\n",
        "    save_best_only=False, \n",
        ")"
      ],
      "execution_count": 10,
      "outputs": []
    },
    {
      "cell_type": "markdown",
      "metadata": {
        "id": "5uCQ0_j9p-dC"
      },
      "source": [
        "Yazdığımız callbacki `model.fit()` içerisine `call_backs=[save_callback]` olarak ekledik."
      ]
    },
    {
      "cell_type": "code",
      "metadata": {
        "colab": {
          "base_uri": "https://localhost:8080/"
        },
        "id": "01a6okPEmmc4",
        "outputId": "a8ffd6eb-6e4d-46e8-8f82-4a9716269297"
      },
      "source": [
        "model.fit(\n",
        "    ds_train,\n",
        "    epochs=10,\n",
        "    verbose=2,\n",
        "    callbacks=[save_callback]\n",
        ")"
      ],
      "execution_count": 13,
      "outputs": [
        {
          "output_type": "stream",
          "name": "stdout",
          "text": [
            "Epoch 1/10\n",
            "469/469 - 16s - loss: 0.0114 - accuracy: 0.9963\n",
            "Epoch 2/10\n",
            "469/469 - 16s - loss: 0.0076 - accuracy: 0.9976\n",
            "Epoch 3/10\n",
            "469/469 - 16s - loss: 0.0091 - accuracy: 0.9971\n",
            "Epoch 4/10\n",
            "469/469 - 16s - loss: 0.0075 - accuracy: 0.9973\n",
            "Epoch 5/10\n",
            "469/469 - 16s - loss: 0.0108 - accuracy: 0.9967\n",
            "Epoch 6/10\n",
            "469/469 - 16s - loss: 0.0102 - accuracy: 0.9969\n",
            "Epoch 7/10\n",
            "469/469 - 16s - loss: 0.0069 - accuracy: 0.9976\n",
            "Epoch 8/10\n",
            "469/469 - 16s - loss: 0.0071 - accuracy: 0.9979\n",
            "Epoch 9/10\n",
            "469/469 - 16s - loss: 0.0060 - accuracy: 0.9984\n",
            "Epoch 10/10\n",
            "469/469 - 16s - loss: 0.0108 - accuracy: 0.9973\n"
          ]
        },
        {
          "output_type": "execute_result",
          "data": {
            "text/plain": [
              "<keras.callbacks.History at 0x7f23d5b268d0>"
            ]
          },
          "metadata": {},
          "execution_count": 13
        }
      ]
    },
    {
      "cell_type": "markdown",
      "metadata": {
        "id": "wL7KzE2_sypE"
      },
      "source": [
        "#### 4.2. Callback with Keras - 2"
      ]
    },
    {
      "cell_type": "markdown",
      "metadata": {
        "id": "REJt_I3fqjW2"
      },
      "source": [
        "Farklı bir callback daha ekleyeceğiz. Diyelim ki learning rate planlayıcısı olsun bu callbackin. Bizim learning rate'imiz başlangıçta 0.01 idi. Epoch ilerlerken learning rate'i değiştireceğiz. "
      ]
    },
    {
      "cell_type": "code",
      "metadata": {
        "id": "4b3wb0yzrGWD"
      },
      "source": [
        "def scheduler(epoch, lr):\n",
        "  if epoch<2:\n",
        "    return lr\n",
        "\n",
        "  else:\n",
        "    return lr * 0.99 # Yani her epochta %1 azaltmış oluyoruz. "
      ],
      "execution_count": 14,
      "outputs": []
    },
    {
      "cell_type": "code",
      "metadata": {
        "id": "g96ks0OlsCnK"
      },
      "source": [
        "lr_scheduler = keras.callbacks.LearningRateScheduler(scheduler, verbose=1)"
      ],
      "execution_count": 15,
      "outputs": []
    },
    {
      "cell_type": "markdown",
      "metadata": {
        "id": "ga-J0PCGsRyU"
      },
      "source": [
        "Bunu callbacks listemize ekliyoruz `model.fit()` içerisinde."
      ]
    },
    {
      "cell_type": "code",
      "metadata": {
        "colab": {
          "base_uri": "https://localhost:8080/"
        },
        "id": "6l6-ErfvsYxY",
        "outputId": "76d9b19d-1f1c-4f3d-e6d6-7a40a4835ff9"
      },
      "source": [
        "model.fit(\n",
        "    ds_train,\n",
        "    epochs=10,\n",
        "    verbose=2,\n",
        "    callbacks=[save_callback, lr_scheduler]\n",
        ")"
      ],
      "execution_count": 16,
      "outputs": [
        {
          "output_type": "stream",
          "name": "stdout",
          "text": [
            "Epoch 1/10\n",
            "\n",
            "Epoch 00001: LearningRateScheduler setting learning rate to 0.009999999776482582.\n",
            "469/469 - 16s - loss: 0.0129 - accuracy: 0.9971\n",
            "Epoch 2/10\n",
            "\n",
            "Epoch 00002: LearningRateScheduler setting learning rate to 0.009999999776482582.\n",
            "469/469 - 16s - loss: 0.0051 - accuracy: 0.9987\n",
            "Epoch 3/10\n",
            "\n",
            "Epoch 00003: LearningRateScheduler setting learning rate to 0.009899999778717757.\n",
            "469/469 - 16s - loss: 0.0023 - accuracy: 0.9993\n",
            "Epoch 4/10\n",
            "\n",
            "Epoch 00004: LearningRateScheduler setting learning rate to 0.009800999946892262.\n",
            "469/469 - 16s - loss: 0.0035 - accuracy: 0.9990\n",
            "Epoch 5/10\n",
            "\n",
            "Epoch 00005: LearningRateScheduler setting learning rate to 0.009702990353107453.\n",
            "469/469 - 16s - loss: 0.0112 - accuracy: 0.9973\n",
            "Epoch 6/10\n",
            "\n",
            "Epoch 00006: LearningRateScheduler setting learning rate to 0.009605960855260491.\n",
            "469/469 - 16s - loss: 0.0072 - accuracy: 0.9981\n",
            "Epoch 7/10\n",
            "\n",
            "Epoch 00007: LearningRateScheduler setting learning rate to 0.00950990131124854.\n",
            "469/469 - 16s - loss: 0.0068 - accuracy: 0.9982\n",
            "Epoch 8/10\n",
            "\n",
            "Epoch 00008: LearningRateScheduler setting learning rate to 0.009414802500978111.\n",
            "469/469 - 16s - loss: 0.0071 - accuracy: 0.9983\n",
            "Epoch 9/10\n",
            "\n",
            "Epoch 00009: LearningRateScheduler setting learning rate to 0.009320654282346368.\n",
            "469/469 - 16s - loss: 0.0063 - accuracy: 0.9983\n",
            "Epoch 10/10\n",
            "\n",
            "Epoch 00010: LearningRateScheduler setting learning rate to 0.00922744743525982.\n",
            "469/469 - 16s - loss: 0.0042 - accuracy: 0.9989\n"
          ]
        },
        {
          "output_type": "execute_result",
          "data": {
            "text/plain": [
              "<keras.callbacks.History at 0x7f23fadbc690>"
            ]
          },
          "metadata": {},
          "execution_count": 16
        }
      ]
    },
    {
      "cell_type": "markdown",
      "metadata": {
        "id": "MW3VKwp7t4md"
      },
      "source": [
        "### 5. Writing Custom Callbacks and Training the Model"
      ]
    },
    {
      "cell_type": "markdown",
      "metadata": {
        "id": "j70tFp27uTk2"
      },
      "source": [
        "Kendi callbacklerimizi yazabilmek için Keras'ın [Writing your own custom callbacks](https://www.tensorflow.org/guide/keras/custom_callback) dokümanında yer alan `class CustomCallback(keras.callbacks.Callback):` classından yararlandık. Hangi aşamada customize etmek istiyorsak o aşamadaki fonksiyon için bir şey yazıyoruz. Biz sadece `def on_epoch_end(self, epoch, logs=None)` fonksiyonunu kullandık."
      ]
    },
    {
      "cell_type": "markdown",
      "metadata": {
        "id": "29o80-9jF5oO"
      },
      "source": [
        "#### 5.1. Writing Custom Callbacks - 1"
      ]
    },
    {
      "cell_type": "code",
      "metadata": {
        "id": "xs_y6qE3t9JA"
      },
      "source": [
        "class CustomCallback(keras.callbacks.Callback):\n",
        "  def on_epoch_end(self, epoch, logs=None):\n",
        "    print(logs.keys()) # tüm epochları bastırıyor."
      ],
      "execution_count": 17,
      "outputs": []
    },
    {
      "cell_type": "code",
      "metadata": {
        "colab": {
          "base_uri": "https://localhost:8080/"
        },
        "id": "vsg2vxNzFXte",
        "outputId": "a7271df5-9215-4b7b-f1f6-572a51b2bf89"
      },
      "source": [
        "model.fit(\n",
        "    ds_train,\n",
        "    epochs=10,\n",
        "    verbose=2,\n",
        "    callbacks=[save_callback, lr_scheduler, CustomCallback()]\n",
        ")"
      ],
      "execution_count": 18,
      "outputs": [
        {
          "output_type": "stream",
          "name": "stdout",
          "text": [
            "Epoch 1/10\n",
            "\n",
            "Epoch 00001: LearningRateScheduler setting learning rate to 0.009227447211742401.\n",
            "469/469 - 16s - loss: 0.0026 - accuracy: 0.9992\n",
            "dict_keys(['loss', 'accuracy', 'lr'])\n",
            "Epoch 2/10\n",
            "\n",
            "Epoch 00002: LearningRateScheduler setting learning rate to 0.009227447211742401.\n",
            "469/469 - 17s - loss: 0.0062 - accuracy: 0.9984\n",
            "dict_keys(['loss', 'accuracy', 'lr'])\n",
            "Epoch 3/10\n",
            "\n",
            "Epoch 00003: LearningRateScheduler setting learning rate to 0.009135172739624976.\n",
            "469/469 - 16s - loss: 0.0034 - accuracy: 0.9991\n",
            "dict_keys(['loss', 'accuracy', 'lr'])\n",
            "Epoch 4/10\n",
            "\n",
            "Epoch 00004: LearningRateScheduler setting learning rate to 0.009043820975348353.\n",
            "469/469 - 16s - loss: 0.0038 - accuracy: 0.9991\n",
            "dict_keys(['loss', 'accuracy', 'lr'])\n",
            "Epoch 5/10\n",
            "\n",
            "Epoch 00005: LearningRateScheduler setting learning rate to 0.008953382922336458.\n",
            "469/469 - 17s - loss: 0.0072 - accuracy: 0.9986\n",
            "dict_keys(['loss', 'accuracy', 'lr'])\n",
            "Epoch 6/10\n",
            "\n",
            "Epoch 00006: LearningRateScheduler setting learning rate to 0.008863849360495805.\n",
            "469/469 - 16s - loss: 0.0037 - accuracy: 0.9990\n",
            "dict_keys(['loss', 'accuracy', 'lr'])\n",
            "Epoch 7/10\n",
            "\n",
            "Epoch 00007: LearningRateScheduler setting learning rate to 0.008775211069732905.\n",
            "469/469 - 16s - loss: 0.0021 - accuracy: 0.9994\n",
            "dict_keys(['loss', 'accuracy', 'lr'])\n",
            "Epoch 8/10\n",
            "\n",
            "Epoch 00008: LearningRateScheduler setting learning rate to 0.008687458829954267.\n",
            "469/469 - 16s - loss: 0.0043 - accuracy: 0.9991\n",
            "dict_keys(['loss', 'accuracy', 'lr'])\n",
            "Epoch 9/10\n",
            "\n",
            "Epoch 00009: LearningRateScheduler setting learning rate to 0.008600584343075751.\n",
            "469/469 - 16s - loss: 0.0056 - accuracy: 0.9988\n",
            "dict_keys(['loss', 'accuracy', 'lr'])\n",
            "Epoch 10/10\n",
            "\n",
            "Epoch 00010: LearningRateScheduler setting learning rate to 0.008514578389003873.\n",
            "469/469 - 16s - loss: 0.0047 - accuracy: 0.9989\n",
            "dict_keys(['loss', 'accuracy', 'lr'])\n"
          ]
        },
        {
          "output_type": "execute_result",
          "data": {
            "text/plain": [
              "<keras.callbacks.History at 0x7f23d5b246d0>"
            ]
          },
          "metadata": {},
          "execution_count": 18
        }
      ]
    },
    {
      "cell_type": "markdown",
      "metadata": {
        "id": "U4x99yOGGp0l"
      },
      "source": [
        "Yazdığımız fonksiyonla sadece loss, accuracy ve learning rate'i görmüş olduk. "
      ]
    },
    {
      "cell_type": "markdown",
      "metadata": {
        "id": "fUb_JUh1GAcE"
      },
      "source": [
        "#### 5.2. Writing Custom Callbacks - 2"
      ]
    },
    {
      "cell_type": "markdown",
      "metadata": {
        "id": "feBfO_ZEHFSA"
      },
      "source": [
        "Diyelim ki accuracy %90'ın üzerindeyse trainingi durdurmak istiyoruz. "
      ]
    },
    {
      "cell_type": "code",
      "metadata": {
        "id": "NtfAYheLGB94"
      },
      "source": [
        "class CustomCallback(keras.callbacks.Callback):\n",
        "  def on_epoch_end(self, epoch, logs=None):\n",
        "    if logs.get(\"accuracy\") > 0.90:  # eğer validation setimiz olsaydı buraya \"val_accuracy\" yazardık.\n",
        "      print(\"Accuracy over %90, quitting training\")\n",
        "      self.model.stop_training = True "
      ],
      "execution_count": 19,
      "outputs": []
    },
    {
      "cell_type": "markdown",
      "metadata": {
        "id": "CD5IkjjXH8Yu"
      },
      "source": [
        "Burada epoch sonunda kontrol et dedik ama batchten sonra da kontrol etmesini isteyebilirdik. O zaman on_batch_end fonksiyonunu kullanmamız gerekirdi."
      ]
    },
    {
      "cell_type": "code",
      "metadata": {
        "colab": {
          "base_uri": "https://localhost:8080/"
        },
        "id": "MkiGfY8gHRJF",
        "outputId": "1e33c4b1-c1c4-423b-92df-a621c4de1de9"
      },
      "source": [
        "model.fit(\n",
        "    ds_train,\n",
        "    epochs=10,\n",
        "    verbose=2,\n",
        "    callbacks=[save_callback, lr_scheduler, CustomCallback()]\n",
        ")"
      ],
      "execution_count": 20,
      "outputs": [
        {
          "output_type": "stream",
          "name": "stdout",
          "text": [
            "Epoch 1/10\n",
            "\n",
            "Epoch 00001: LearningRateScheduler setting learning rate to 0.008514578454196453.\n",
            "469/469 - 17s - loss: 0.0036 - accuracy: 0.9993\n",
            "Accuracy over %90, quitting training\n"
          ]
        },
        {
          "output_type": "execute_result",
          "data": {
            "text/plain": [
              "<keras.callbacks.History at 0x7f23fa490510>"
            ]
          },
          "metadata": {},
          "execution_count": 20
        }
      ]
    }
  ]
}