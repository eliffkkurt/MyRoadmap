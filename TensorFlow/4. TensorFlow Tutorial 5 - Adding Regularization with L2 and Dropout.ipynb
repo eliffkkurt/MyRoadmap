{
 "cells": [
  {
   "cell_type": "markdown",
   "metadata": {},
   "source": [
    "<font color='green'> \n",
    "**Youtube - Aladdin Persson Kanalı - TensorFlow 2.0 Beginner Tutorials serisi**\n",
    "    \n",
    "TensorFlow Tutorial 5 - Adding Regularization with L2 and Dropout - Aladdin Persson anlattı.\n",
    "</font>"
   ]
  },
  {
   "cell_type": "markdown",
   "metadata": {},
   "source": [
    "**Video:** [TensorFlow Tutorial 5 - Adding Regularization with L2 and Dropout](https://www.youtube.com/watch?v=kJSUq1PLmWg&list=PLhhyoLH6IjfxVOdVC1P1L5z5azs0XjMsb&index=5)"
   ]
  },
  {
   "cell_type": "markdown",
   "metadata": {},
   "source": [
    "*Önce [TensorFlow Tutorial 4 - Convolutional Neural Networks with Sequential and Functional API](https://www.youtube.com/watch?v=WAciKiDP2bo&list=PLhhyoLH6IjfxVOdVC1P1L5z5azs0XjMsb&index=4) videosu izlenmeli.*"
   ]
  },
  {
   "cell_type": "markdown",
   "metadata": {},
   "source": [
    "### İçindekiler"
   ]
  },
  {
   "cell_type": "markdown",
   "metadata": {},
   "source": [
    "**Loading Dataset**\n",
    "\n",
    "**Preprocessing Dataset**\n",
    "\n",
    "**Creating Convolutional Neural Network**\n",
    "* L2 regularization, dropout, batch norm eklendi."
   ]
  },
  {
   "cell_type": "markdown",
   "metadata": {},
   "source": [
    "### Kaynaklar"
   ]
  },
  {
   "cell_type": "markdown",
   "metadata": {},
   "source": [
    "* Regularization, dropout, early stopping konularını teorik olarak hatırlamak için [Intro to Deep Learning with PyTorch (Udacity)](https://docs.google.com/document/d/1HqIl6KYr0F4NGgPiYYhWw-On_muAj4mxJm16nAQXL5M/edit?usp=sharing) notlarına bakabilirsin."
   ]
  },
  {
   "cell_type": "markdown",
   "metadata": {},
   "source": [
    "**Tekrar çalıştırma!**"
   ]
  },
  {
   "cell_type": "markdown",
   "metadata": {},
   "source": [
    "### <font color=\"blue\"> Giriş</font>"
   ]
  },
  {
   "cell_type": "markdown",
   "metadata": {},
   "source": [
    "Önceki notebookta training accuracy ve test accuracymiz arasında ciddi bir fark olduğunu görmüştük. Bunun nedeni çalıştırdığımız modelin training datada overfitting yapmasından kaynaklıydı. Overfittingi **regularization** ile azaltıyoruz. Birçok regularization metodu var. \n",
    "\n",
    "* You can reduce your model capacity to avoid overfitting,\n",
    "* You can also add L2 regularization, dropout, early stopping or adding data augmentation.\n",
    "\n",
    "Bu notebookta nasıl **L2 regularization ve dropout** eklediğimize bakacağız."
   ]
  },
  {
   "cell_type": "code",
   "execution_count": 1,
   "metadata": {},
   "outputs": [],
   "source": [
    "import tensorflow as tf\n",
    "from tensorflow import keras\n",
    "from tensorflow.keras import layers, regularizers # ek olarak regularizersı ekledik."
   ]
  },
  {
   "cell_type": "markdown",
   "metadata": {},
   "source": [
    "### 1. Loading Dataset"
   ]
  },
  {
   "cell_type": "code",
   "execution_count": 2,
   "metadata": {},
   "outputs": [],
   "source": [
    "from tensorflow.keras.datasets import cifar10"
   ]
  },
  {
   "cell_type": "code",
   "execution_count": 3,
   "metadata": {},
   "outputs": [],
   "source": [
    "(x_train, y_train),(x_test, y_test) = cifar10.load_data()"
   ]
  },
  {
   "cell_type": "code",
   "execution_count": 4,
   "metadata": {},
   "outputs": [
    {
     "name": "stdout",
     "output_type": "stream",
     "text": [
      "(50000, 32, 32, 3)\n",
      "(50000, 1)\n",
      "(10000, 32, 32, 3)\n",
      "(10000, 1)\n"
     ]
    }
   ],
   "source": [
    "print(x_train.shape)\n",
    "print(y_train.shape)\n",
    "print(x_test.shape)\n",
    "print(y_test.shape)"
   ]
  },
  {
   "cell_type": "markdown",
   "metadata": {},
   "source": [
    "### 2. Preprocessing Dataset"
   ]
  },
  {
   "cell_type": "markdown",
   "metadata": {},
   "source": [
    "1. `x_train.astype(\"float32\")` koduyla **computationı minimize etmek** için type'ı float64'ten float32'ye dönüştürüyoruz.\n",
    "\n",
    "\n",
    "2. `x_train.astype(\"float32\") / 255.0` ile piksel değerlerini **normalize** ediyoruz. \n",
    "\n",
    "\n",
    "3. Aynı işlemi `x_test = x_test.astype(\"float32\") / 255.0` koduyla **test seti için de** yapıyoruz. "
   ]
  },
  {
   "cell_type": "code",
   "execution_count": 5,
   "metadata": {},
   "outputs": [],
   "source": [
    "x_train = x_train.astype(\"float32\") / 255.0 "
   ]
  },
  {
   "cell_type": "code",
   "execution_count": 6,
   "metadata": {},
   "outputs": [],
   "source": [
    "x_test = x_test.astype(\"float32\") / 255.0 "
   ]
  },
  {
   "cell_type": "markdown",
   "metadata": {},
   "source": [
    "### 3. Creating Convolutional Neural Network"
   ]
  },
  {
   "cell_type": "markdown",
   "metadata": {},
   "source": [
    "<font color=\"black\"> 3.2. Functional API Kullanarak yazdığımız modelimizde L2 regularization ve dropout ekledik.</font>"
   ]
  },
  {
   "cell_type": "markdown",
   "metadata": {},
   "source": [
    "##### <font color=\"green\"> `my_model` fonksiyonu tanımlayıp layerları yazıyoruz. </font>"
   ]
  },
  {
   "cell_type": "code",
   "execution_count": 7,
   "metadata": {},
   "outputs": [],
   "source": [
    "def my_model():\n",
    "    inputs = keras.Input(shape=(32, 32, 3)) \n",
    "    x = layers.Conv2D(32,3, padding='same', kernel_regularizer=regularizers.l2(0.01))(inputs)\n",
    "    x = layers.BatchNormalization()(x)   \n",
    "    x = keras.activations.relu(x)\n",
    "    x = layers.MaxPooling2D()(x)\n",
    "    x = layers.Conv2D(64, 5, padding='same', kernel_regularizer=regularizers.l2(0.01))(x) \n",
    "    x = layers.BatchNormalization()(x)\n",
    "    x = keras.activations.relu(x)\n",
    "    x = layers.Conv2D(128, 3, padding='same', kernel_regularizer=regularizers.l2(0.01))(x)\n",
    "    x = layers.BatchNormalization()(x)\n",
    "    x = keras.activations.relu(x)\n",
    "    x = layers.Flatten()(x)\n",
    "    x = layers.Dense(64, activation='relu', kernel_regularizer=regularizers.l2(0.01))(x)\n",
    "    x = layers.Dropout(0.5)(x)\n",
    "    outputs = layers.Dense(10)(x)\n",
    "    model = keras.Model(inputs=inputs, outputs=outputs)\n",
    "    \n",
    "    return model\n",
    "\n",
    "model = my_model()"
   ]
  },
  {
   "cell_type": "markdown",
   "metadata": {},
   "source": [
    "<font color=\"black\">Her layer için ayrı ayrı regularization ekleyeceğiz. \n",
    "    \n",
    "* İlki için L2 regularizerı eklemeye karar verdik. İlk layerımızı `x = layers.Conv2D(32,3)(inputs)` şeklinde tanımlamıştık. Burada basitlik olsun diye `padding = 'same'` olarak belirledik, default olarak 'valid' oluyordu normalde. `kernel_regularizer=regularizers.l2(0.01)` ile bu spesifik layer için regularization eklemiş olduk. Bunu diğer tüm layerlar için yapacağız. \n",
    "\n",
    "\n",
    "* İki fully connected layer arasına `x = layers.Dropout(0.5)` kodu ile dropout ekledik. Yani bir önceki layer ile 10 nodluk layer arasındaki connectionsların yarısını drop edecek.\n",
    "    \n",
    "    \n",
    "* Batchnormalizationların amacı normalde datayı daha hızlı eğitmek için normalize etmek ama aynı zamanda regularization etkisi var. \n",
    "\n",
    "Burada 3 farklı metod kullanmış olduk regularization için. **L2, dropout ve batch norm**.\n",
    "\n",
    "</font>"
   ]
  },
  {
   "cell_type": "markdown",
   "metadata": {},
   "source": [
    "##### <font color=\"green\"> `model.compile()` içerisinde ağımızın eğitim bölümünü nasıl yapılandıracağımızı anlatıyoruz kerasa. </font>"
   ]
  },
  {
   "cell_type": "code",
   "execution_count": 8,
   "metadata": {},
   "outputs": [],
   "source": [
    "model.compile(\n",
    "    loss = keras.losses.SparseCategoricalCrossentropy(from_logits=True),\n",
    "    optimizer = keras.optimizers.Adam(lr=3e-4),\n",
    "    metrics = [\"accuracy\"],\n",
    ")"
   ]
  },
  {
   "cell_type": "markdown",
   "metadata": {},
   "source": [
    "##### <font color=\"green\"> `model.fit()` ile yapılandırdığımız modeli somut olarak eğitiyoruz. </font>"
   ]
  },
  {
   "cell_type": "markdown",
   "metadata": {},
   "source": [
    "Dropout eklendiğinde training daha uzun sürer. Çünkü batchlerin arasındaki connectionsları drop ediyoruz. Bu yüzden 10 epochda eğitmek yerine 150 epochta eğiteceğiz. "
   ]
  },
  {
   "cell_type": "code",
   "execution_count": 9,
   "metadata": {},
   "outputs": [
    {
     "name": "stdout",
     "output_type": "stream",
     "text": [
      "Epoch 1/150\n",
      "782/782 - 300s - loss: 3.1561 - accuracy: 0.1561\n",
      "Epoch 2/150\n",
      "782/782 - 272s - loss: 2.2363 - accuracy: 0.1915\n",
      "Epoch 3/150\n",
      "782/782 - 267s - loss: 2.0899 - accuracy: 0.2233\n",
      "Epoch 4/150\n",
      "782/782 - 255s - loss: 2.0239 - accuracy: 0.2385\n",
      "Epoch 5/150\n",
      "782/782 - 254s - loss: 1.9996 - accuracy: 0.2457\n",
      "Epoch 6/150\n",
      "782/782 - 254s - loss: 1.9723 - accuracy: 0.2520\n",
      "Epoch 7/150\n",
      "782/782 - 261s - loss: 1.9531 - accuracy: 0.2565\n",
      "Epoch 8/150\n",
      "782/782 - 254s - loss: 1.9437 - accuracy: 0.2582\n",
      "Epoch 9/150\n",
      "782/782 - 253s - loss: 1.9282 - accuracy: 0.2646\n",
      "Epoch 10/150\n",
      "782/782 - 254s - loss: 1.9260 - accuracy: 0.2639\n",
      "Epoch 11/150\n",
      "782/782 - 299s - loss: 1.9161 - accuracy: 0.2649\n",
      "Epoch 12/150\n",
      "782/782 - 288s - loss: 1.9136 - accuracy: 0.2664\n",
      "Epoch 13/150\n",
      "782/782 - 316s - loss: 1.9090 - accuracy: 0.2691\n",
      "Epoch 14/150\n",
      "782/782 - 303s - loss: 1.8989 - accuracy: 0.2681\n",
      "Epoch 15/150\n",
      "782/782 - 306s - loss: 1.8981 - accuracy: 0.2686\n",
      "Epoch 16/150\n",
      "782/782 - 319s - loss: 1.8893 - accuracy: 0.2703\n",
      "Epoch 17/150\n",
      "782/782 - 318s - loss: 1.8895 - accuracy: 0.2714\n",
      "Epoch 18/150\n",
      "782/782 - 334s - loss: 1.8804 - accuracy: 0.2656\n",
      "Epoch 19/150\n",
      "782/782 - 288s - loss: 1.8733 - accuracy: 0.2692\n",
      "Epoch 20/150\n",
      "782/782 - 263s - loss: 1.8788 - accuracy: 0.2676\n",
      "Epoch 21/150\n",
      "782/782 - 304s - loss: 1.8638 - accuracy: 0.2723\n",
      "Epoch 22/150\n",
      "782/782 - 279s - loss: 1.8692 - accuracy: 0.2697\n",
      "Epoch 23/150\n",
      "782/782 - 280s - loss: 1.8667 - accuracy: 0.2734\n",
      "Epoch 24/150\n",
      "782/782 - 278s - loss: 1.8601 - accuracy: 0.2782\n",
      "Epoch 25/150\n",
      "782/782 - 268s - loss: 1.8626 - accuracy: 0.2756\n",
      "Epoch 26/150\n",
      "782/782 - 261s - loss: 1.8623 - accuracy: 0.2726\n",
      "Epoch 27/150\n",
      "782/782 - 312s - loss: 1.8534 - accuracy: 0.2802\n",
      "Epoch 28/150\n",
      "782/782 - 265s - loss: 1.8479 - accuracy: 0.2831\n",
      "Epoch 29/150\n",
      "782/782 - 279s - loss: 1.8532 - accuracy: 0.2798\n",
      "Epoch 30/150\n",
      "782/782 - 292s - loss: 1.8475 - accuracy: 0.2801\n",
      "Epoch 31/150\n",
      "782/782 - 301s - loss: 1.8451 - accuracy: 0.2838\n",
      "Epoch 32/150\n",
      "782/782 - 303s - loss: 1.8491 - accuracy: 0.2772\n",
      "Epoch 33/150\n",
      "782/782 - 298s - loss: 1.8448 - accuracy: 0.2766\n",
      "Epoch 34/150\n",
      "782/782 - 303s - loss: 1.8484 - accuracy: 0.2720\n",
      "Epoch 35/150\n",
      "782/782 - 297s - loss: 1.8397 - accuracy: 0.2768\n",
      "Epoch 36/150\n",
      "782/782 - 277s - loss: 1.8408 - accuracy: 0.2762\n",
      "Epoch 37/150\n",
      "782/782 - 273s - loss: 1.8369 - accuracy: 0.2816\n",
      "Epoch 38/150\n",
      "782/782 - 261s - loss: 1.8355 - accuracy: 0.2828\n",
      "Epoch 39/150\n",
      "782/782 - 261s - loss: 1.8386 - accuracy: 0.2848\n",
      "Epoch 40/150\n",
      "782/782 - 261s - loss: 1.8331 - accuracy: 0.2864\n",
      "Epoch 41/150\n",
      "782/782 - 260s - loss: 1.8328 - accuracy: 0.2864\n",
      "Epoch 42/150\n",
      "782/782 - 257s - loss: 1.8327 - accuracy: 0.2860\n",
      "Epoch 43/150\n",
      "782/782 - 259s - loss: 1.8304 - accuracy: 0.2866\n",
      "Epoch 44/150\n",
      "782/782 - 258s - loss: 1.8286 - accuracy: 0.2910\n",
      "Epoch 45/150\n",
      "782/782 - 267s - loss: 1.8256 - accuracy: 0.2890\n",
      "Epoch 46/150\n",
      "782/782 - 258s - loss: 1.8316 - accuracy: 0.2897\n",
      "Epoch 47/150\n",
      "782/782 - 248s - loss: 1.8190 - accuracy: 0.2908\n",
      "Epoch 48/150\n",
      "782/782 - 248s - loss: 1.8206 - accuracy: 0.2922\n",
      "Epoch 49/150\n",
      "782/782 - 248s - loss: 1.8147 - accuracy: 0.2970\n",
      "Epoch 50/150\n",
      "782/782 - 251s - loss: 1.8280 - accuracy: 0.2916\n",
      "Epoch 51/150\n",
      "782/782 - 251s - loss: 1.8184 - accuracy: 0.2959\n",
      "Epoch 52/150\n",
      "782/782 - 249s - loss: 1.8195 - accuracy: 0.2963\n",
      "Epoch 53/150\n",
      "782/782 - 250s - loss: 1.8218 - accuracy: 0.2917\n",
      "Epoch 54/150\n",
      "782/782 - 252s - loss: 1.8189 - accuracy: 0.2962\n",
      "Epoch 55/150\n",
      "782/782 - 245s - loss: 1.8174 - accuracy: 0.2977\n",
      "Epoch 56/150\n",
      "782/782 - 245s - loss: 1.8199 - accuracy: 0.2930\n",
      "Epoch 57/150\n",
      "782/782 - 244s - loss: 1.8184 - accuracy: 0.2949\n",
      "Epoch 58/150\n",
      "782/782 - 246s - loss: 1.8108 - accuracy: 0.2990\n",
      "Epoch 59/150\n",
      "782/782 - 274s - loss: 1.8143 - accuracy: 0.2995\n",
      "Epoch 60/150\n",
      "782/782 - 274s - loss: 1.8245 - accuracy: 0.2958\n",
      "Epoch 61/150\n",
      "782/782 - 267s - loss: 1.8145 - accuracy: 0.2970\n",
      "Epoch 62/150\n",
      "782/782 - 266s - loss: 1.8119 - accuracy: 0.2966\n",
      "Epoch 63/150\n",
      "782/782 - 267s - loss: 1.8111 - accuracy: 0.2991\n",
      "Epoch 64/150\n",
      "782/782 - 245s - loss: 1.8154 - accuracy: 0.2979\n",
      "Epoch 65/150\n",
      "782/782 - 244s - loss: 1.8149 - accuracy: 0.2977\n",
      "Epoch 66/150\n",
      "782/782 - 244s - loss: 1.8108 - accuracy: 0.3005\n",
      "Epoch 67/150\n",
      "782/782 - 244s - loss: 1.8069 - accuracy: 0.3006\n",
      "Epoch 68/150\n",
      "782/782 - 244s - loss: 1.8071 - accuracy: 0.3025\n",
      "Epoch 69/150\n",
      "782/782 - 243s - loss: 1.8028 - accuracy: 0.3047\n",
      "Epoch 70/150\n",
      "782/782 - 242s - loss: 1.8062 - accuracy: 0.3021\n",
      "Epoch 71/150\n",
      "782/782 - 243s - loss: 1.8054 - accuracy: 0.3029\n",
      "Epoch 72/150\n",
      "782/782 - 242s - loss: 1.7986 - accuracy: 0.3045\n",
      "Epoch 73/150\n",
      "782/782 - 258s - loss: 1.7989 - accuracy: 0.3046\n",
      "Epoch 74/150\n",
      "782/782 - 287s - loss: 1.8073 - accuracy: 0.3021\n",
      "Epoch 75/150\n",
      "782/782 - 304s - loss: 1.8007 - accuracy: 0.3029\n",
      "Epoch 76/150\n",
      "782/782 - 275s - loss: 1.8001 - accuracy: 0.3024\n",
      "Epoch 77/150\n",
      "782/782 - 290s - loss: 1.8031 - accuracy: 0.3035\n",
      "Epoch 78/150\n",
      "782/782 - 284s - loss: 1.8066 - accuracy: 0.3021\n",
      "Epoch 79/150\n",
      "782/782 - 297s - loss: 1.7994 - accuracy: 0.3046\n",
      "Epoch 80/150\n",
      "782/782 - 273s - loss: 1.8033 - accuracy: 0.3046\n",
      "Epoch 81/150\n",
      "782/782 - 281s - loss: 1.8047 - accuracy: 0.3023\n",
      "Epoch 82/150\n",
      "782/782 - 339s - loss: 1.8031 - accuracy: 0.3021\n",
      "Epoch 83/150\n",
      "782/782 - 292s - loss: 1.8049 - accuracy: 0.3020\n",
      "Epoch 84/150\n",
      "782/782 - 260s - loss: 1.7965 - accuracy: 0.3068\n",
      "Epoch 85/150\n",
      "782/782 - 270s - loss: 1.7986 - accuracy: 0.3068\n",
      "Epoch 86/150\n",
      "782/782 - 275s - loss: 1.7972 - accuracy: 0.3037\n",
      "Epoch 87/150\n",
      "782/782 - 273s - loss: 1.8017 - accuracy: 0.3047\n",
      "Epoch 88/150\n",
      "782/782 - 269s - loss: 1.8005 - accuracy: 0.3042\n",
      "Epoch 89/150\n",
      "782/782 - 268s - loss: 1.7961 - accuracy: 0.3073\n",
      "Epoch 90/150\n",
      "782/782 - 257s - loss: 1.7931 - accuracy: 0.3106\n",
      "Epoch 91/150\n",
      "782/782 - 245s - loss: 1.7940 - accuracy: 0.3097\n",
      "Epoch 92/150\n",
      "782/782 - 245s - loss: 1.8033 - accuracy: 0.3046\n",
      "Epoch 93/150\n",
      "782/782 - 245s - loss: 1.7959 - accuracy: 0.3075\n",
      "Epoch 94/150\n",
      "782/782 - 248s - loss: 1.8021 - accuracy: 0.3063\n",
      "Epoch 95/150\n",
      "782/782 - 245s - loss: 1.7947 - accuracy: 0.3081\n",
      "Epoch 96/150\n",
      "782/782 - 246s - loss: 1.8044 - accuracy: 0.3046\n",
      "Epoch 97/150\n",
      "782/782 - 245s - loss: 1.7946 - accuracy: 0.3058\n",
      "Epoch 98/150\n",
      "782/782 - 245s - loss: 1.7987 - accuracy: 0.3043\n",
      "Epoch 99/150\n",
      "782/782 - 246s - loss: 1.7985 - accuracy: 0.3065\n",
      "Epoch 100/150\n",
      "782/782 - 246s - loss: 1.8043 - accuracy: 0.3053\n",
      "Epoch 101/150\n",
      "782/782 - 243s - loss: 1.7926 - accuracy: 0.3085\n",
      "Epoch 102/150\n",
      "782/782 - 250s - loss: 1.8015 - accuracy: 0.3051\n",
      "Epoch 103/150\n",
      "782/782 - 244s - loss: 1.7906 - accuracy: 0.3102\n",
      "Epoch 104/150\n",
      "782/782 - 244s - loss: 1.7886 - accuracy: 0.3102\n",
      "Epoch 105/150\n",
      "782/782 - 244s - loss: 1.7905 - accuracy: 0.3093\n",
      "Epoch 106/150\n",
      "782/782 - 244s - loss: 1.7962 - accuracy: 0.3063\n",
      "Epoch 107/150\n",
      "782/782 - 245s - loss: 1.7891 - accuracy: 0.3076\n",
      "Epoch 108/150\n",
      "782/782 - 244s - loss: 1.8042 - accuracy: 0.3069\n",
      "Epoch 109/150\n",
      "782/782 - 244s - loss: 1.7965 - accuracy: 0.3094\n",
      "Epoch 110/150\n",
      "782/782 - 245s - loss: 1.7979 - accuracy: 0.3094\n",
      "Epoch 111/150\n",
      "782/782 - 245s - loss: 1.7925 - accuracy: 0.3101\n",
      "Epoch 112/150\n",
      "782/782 - 248s - loss: 1.7898 - accuracy: 0.3101\n",
      "Epoch 113/150\n",
      "782/782 - 254s - loss: 1.7937 - accuracy: 0.3083\n",
      "Epoch 114/150\n",
      "782/782 - 253s - loss: 1.8000 - accuracy: 0.3105\n",
      "Epoch 115/150\n",
      "782/782 - 254s - loss: 1.7923 - accuracy: 0.3106\n",
      "Epoch 116/150\n",
      "782/782 - 253s - loss: 1.7908 - accuracy: 0.3113\n",
      "Epoch 117/150\n",
      "782/782 - 325s - loss: 1.7851 - accuracy: 0.3121\n",
      "Epoch 118/150\n",
      "782/782 - 312s - loss: 1.7941 - accuracy: 0.3092\n",
      "Epoch 119/150\n",
      "782/782 - 265s - loss: 1.7906 - accuracy: 0.3137\n",
      "Epoch 120/150\n",
      "782/782 - 267s - loss: 1.7951 - accuracy: 0.3101\n",
      "Epoch 121/150\n",
      "782/782 - 266s - loss: 1.7904 - accuracy: 0.3107\n",
      "Epoch 122/150\n",
      "782/782 - 266s - loss: 1.7866 - accuracy: 0.3102\n",
      "Epoch 123/150\n",
      "782/782 - 268s - loss: 1.7917 - accuracy: 0.3099\n",
      "Epoch 124/150\n",
      "782/782 - 254s - loss: 1.7800 - accuracy: 0.3141\n",
      "Epoch 125/150\n",
      "782/782 - 249s - loss: 1.7949 - accuracy: 0.3083\n",
      "Epoch 126/150\n",
      "782/782 - 244s - loss: 1.7897 - accuracy: 0.3104\n",
      "Epoch 127/150\n",
      "782/782 - 244s - loss: 1.7801 - accuracy: 0.3146\n",
      "Epoch 128/150\n",
      "782/782 - 245s - loss: 1.7933 - accuracy: 0.3103\n",
      "Epoch 129/150\n",
      "782/782 - 262s - loss: 1.7868 - accuracy: 0.3130\n",
      "Epoch 130/150\n",
      "782/782 - 268s - loss: 1.7898 - accuracy: 0.3094\n",
      "Epoch 131/150\n",
      "782/782 - 262s - loss: 1.7878 - accuracy: 0.3120\n",
      "Epoch 132/150\n",
      "782/782 - 260s - loss: 1.7971 - accuracy: 0.3115\n"
     ]
    },
    {
     "name": "stdout",
     "output_type": "stream",
     "text": [
      "Epoch 133/150\n",
      "782/782 - 258s - loss: 1.7917 - accuracy: 0.3108\n",
      "Epoch 134/150\n",
      "782/782 - 244s - loss: 1.7857 - accuracy: 0.3127\n",
      "Epoch 135/150\n",
      "782/782 - 268s - loss: 1.7850 - accuracy: 0.3123\n",
      "Epoch 136/150\n",
      "782/782 - 313s - loss: 1.7916 - accuracy: 0.3127\n",
      "Epoch 137/150\n",
      "782/782 - 297s - loss: 1.7816 - accuracy: 0.3146\n",
      "Epoch 138/150\n",
      "782/782 - 340s - loss: 1.7869 - accuracy: 0.3130\n",
      "Epoch 139/150\n",
      "782/782 - 283s - loss: 1.7964 - accuracy: 0.3099\n",
      "Epoch 140/150\n",
      "782/782 - 293s - loss: 1.7839 - accuracy: 0.3130\n",
      "Epoch 141/150\n",
      "782/782 - 258s - loss: 1.7898 - accuracy: 0.3130\n",
      "Epoch 142/150\n",
      "782/782 - 273s - loss: 1.7837 - accuracy: 0.3140\n",
      "Epoch 143/150\n",
      "782/782 - 279s - loss: 1.7881 - accuracy: 0.3121\n",
      "Epoch 144/150\n",
      "782/782 - 307s - loss: 1.7866 - accuracy: 0.3116\n",
      "Epoch 145/150\n",
      "782/782 - 321s - loss: 1.7853 - accuracy: 0.3133\n",
      "Epoch 146/150\n",
      "782/782 - 293s - loss: 1.7768 - accuracy: 0.3148\n",
      "Epoch 147/150\n",
      "782/782 - 266s - loss: 1.7798 - accuracy: 0.3153\n",
      "Epoch 148/150\n",
      "782/782 - 271s - loss: 1.7848 - accuracy: 0.3138\n",
      "Epoch 149/150\n",
      "782/782 - 252s - loss: 1.7849 - accuracy: 0.3123\n",
      "Epoch 150/150\n",
      "782/782 - 251s - loss: 1.7812 - accuracy: 0.3153\n"
     ]
    },
    {
     "data": {
      "text/plain": [
       "<tensorflow.python.keras.callbacks.History at 0x27c486b09c8>"
      ]
     },
     "execution_count": 9,
     "metadata": {},
     "output_type": "execute_result"
    }
   ],
   "source": [
    "model.fit(x_train, y_train, batch_size=64, epochs=150, verbose=2)"
   ]
  },
  {
   "cell_type": "markdown",
   "metadata": {},
   "source": [
    "##### <font color=\"green\"> `model.evaluate()` ile test setimizi gönderip modelimizin başarısını değerlendiriyoruz. </font>"
   ]
  },
  {
   "cell_type": "code",
   "execution_count": 10,
   "metadata": {},
   "outputs": [
    {
     "name": "stdout",
     "output_type": "stream",
     "text": [
      "157/157 - 9s - loss: 1.6884 - accuracy: 0.3752\n"
     ]
    },
    {
     "data": {
      "text/plain": [
       "[1.6884212493896484, 0.3752000033855438]"
      ]
     },
     "execution_count": 10,
     "metadata": {},
     "output_type": "execute_result"
    }
   ],
   "source": [
    "model.evaluate(x_test, y_test, batch_size=64, verbose=2)"
   ]
  },
  {
   "cell_type": "markdown",
   "metadata": {},
   "source": [
    "Bir önceki notebookta training accuracy 0.92 iken test accuracy 0.67 çıktı. Burada ise training accuracy 0.31 iken test accuracy 0.37 oldu. Aradaki fark azaldı. Training accuracymiz düşse de overfittingi engellediğimizi söyleyebiliriz. Epoch sayısını daha çok artırırsak (daha uzun süre eğitirsek) başarımız da artacaktır."
   ]
  }
 ],
 "metadata": {
  "kernelspec": {
   "display_name": "Python 3",
   "language": "python",
   "name": "python3"
  },
  "language_info": {
   "codemirror_mode": {
    "name": "ipython",
    "version": 3
   },
   "file_extension": ".py",
   "mimetype": "text/x-python",
   "name": "python",
   "nbconvert_exporter": "python",
   "pygments_lexer": "ipython3",
   "version": "3.7.6"
  }
 },
 "nbformat": 4,
 "nbformat_minor": 4
}
