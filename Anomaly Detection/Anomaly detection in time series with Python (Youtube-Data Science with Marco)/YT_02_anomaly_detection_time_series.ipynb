{
 "cells": [
  {
   "cell_type": "markdown",
   "id": "20b00d4e",
   "metadata": {},
   "source": [
    "<font color='green'> Data Science with Marco - Youtube kanalında [Anomaly detection in time series with Python](https://www.youtube.com/watch?v=qy41dXGbAxY) videosunda Marco Peixeiro time series datasında Anomaly Detection'ı uygulamalı olarak anlattı. </font> "
   ]
  },
  {
   "cell_type": "markdown",
   "id": "164afb05",
   "metadata": {},
   "source": [
    "## <font color='black'> İçindekiler</font>"
   ]
  },
  {
   "cell_type": "markdown",
   "id": "41203fd1",
   "metadata": {},
   "source": [
    "1. AWS bulutundaki bir EC2 bulut sunucusunun CPU kullanımına ilişkin gerçek hayat verilerini okuyoruz.\n",
    "2. Hangi değerlerin gerçekte anomali olduğuna dair bilgiyi ekliyoruz. Median Absolute Deviation, Isolation Forest ve Local outlier factor (LOF) ile bu anomalileri yakalayıp yakalayamadığımıza bakacağız. \n",
    "3. Median Absolute Deviation'ı uyguluyoruz.\n",
    "    - Datanın dağılımı normal dağılıma yakın olduğu zaman ve MAD değeri 0 olmadığı zaman bu metodu kullanabiliyoruz. Bu yüzden önce datanın dağılımını ve medianını kontrol ediyoruz.\n",
    "    - MAD ile hangi değerlerin anomali olduğunu bulup confusion matris ile gerçekleşen ve tahminimizi karşılaştırıyoruz.\n",
    "4. Isolation Forest'ı uyguluyoruz.\n",
    "    - Algoritmanın başarısını anlayabilmek için elimizdeki datayı bir anomali değer trainde diğeri testte kalacak şekilde ikiye böldük. \n",
    "    - Train datasıyla modeli eğittik. Contaminationımızı da train datamızda 1 anomali olduğu için 1/len(df_train) olarak verdik. \n",
    "    - Eğittiğimiz bu model Test datamızda nasıl sonuç verecek diye bakmak için model.predict() içerisinde datamızı veriyoruz. \n",
    "    - predict() fonksiyonundan çıkan anomali-normal çıktısıyla gerçek datamızın çıktısını karşılaştırıyoruz ve confusion matris oluşturuyoruz.\n",
    "5. Local Outlier Factor'u uyguluyoruz.\n",
    "    - Algoritmanın başarısını anlayabilmek için elimizdeki datayı bir anomali değer trainde diğeri testte kalacak şekilde ikiye böldük. \n",
    "    - Train datasıyla modeli eğittik. Contaminationımızı da train datamızda 1 anomali olduğu için 1/len(df_train) olarak verdik. \n",
    "    - Eğittiğimiz bu model Test datamızda nasıl sonuç verecek diye bakmak için model.predict() içerisinde datamızı veriyoruz. \n",
    "    - predict() fonksiyonundan çıkan anomali-normal çıktısıyla gerçek datamızın çıktısını karşılaştırıyoruz ve confusion matris oluşturuyoruz."
   ]
  },
  {
   "cell_type": "markdown",
   "id": "7e8f11bd",
   "metadata": {},
   "source": [
    "# <font color='black'> Anomaly detection in time series </font>"
   ]
  },
  {
   "cell_type": "code",
   "execution_count": 1,
   "id": "37c34d86",
   "metadata": {},
   "outputs": [],
   "source": [
    "import pandas as pd\n",
    "import numpy as np\n",
    "import matplotlib.pyplot as plt\n",
    "\n",
    "import warnings\n",
    "warnings.filterwarnings('ignore')\n",
    "pd.set_option('display.max_rows', None)\n",
    "\n",
    "%matplotlib inline"
   ]
  },
  {
   "cell_type": "code",
   "execution_count": 2,
   "id": "679515aa",
   "metadata": {},
   "outputs": [],
   "source": [
    "plt.rcParams[\"figure.figsize\"] = (9,6)"
   ]
  },
  {
   "cell_type": "markdown",
   "id": "a30dcd5c",
   "metadata": {
    "tags": []
   },
   "source": [
    "## <font color='blue'>Read the data</font>"
   ]
  },
  {
   "cell_type": "markdown",
   "id": "ce008cda",
   "metadata": {},
   "source": [
    "The dataset can be downloaded from [GitHub](https://github.com/numenta/NAB/blob/master/data/realAWSCloudwatch/ec2_cpu_utilization_24ae8d.csv)\n",
    "\n",
    "The labels can be obtained from [GitHub](https://github.com/numenta/NAB/blob/master/labels/combined_labels.json)\n",
    "\n",
    "This is real-life data on CPU utilization of an EC2 instance in the AWS cloud. Data was recorded every 5 minutes, starting on February 14th at 14:30. The dataset contains 4032 data points. It is available through the Numenta Anomaly Benchmark (NAB) repository under the AGPL-3.0 license."
   ]
  },
  {
   "cell_type": "code",
   "execution_count": 3,
   "id": "df09e2d7",
   "metadata": {},
   "outputs": [
    {
     "data": {
      "text/html": [
       "<div>\n",
       "<style scoped>\n",
       "    .dataframe tbody tr th:only-of-type {\n",
       "        vertical-align: middle;\n",
       "    }\n",
       "\n",
       "    .dataframe tbody tr th {\n",
       "        vertical-align: top;\n",
       "    }\n",
       "\n",
       "    .dataframe thead th {\n",
       "        text-align: right;\n",
       "    }\n",
       "</style>\n",
       "<table border=\"1\" class=\"dataframe\">\n",
       "  <thead>\n",
       "    <tr style=\"text-align: right;\">\n",
       "      <th></th>\n",
       "      <th>timestamp</th>\n",
       "      <th>value</th>\n",
       "    </tr>\n",
       "  </thead>\n",
       "  <tbody>\n",
       "    <tr>\n",
       "      <th>0</th>\n",
       "      <td>2014-02-14 14:30:00</td>\n",
       "      <td>0.132</td>\n",
       "    </tr>\n",
       "    <tr>\n",
       "      <th>1</th>\n",
       "      <td>2014-02-14 14:35:00</td>\n",
       "      <td>0.134</td>\n",
       "    </tr>\n",
       "    <tr>\n",
       "      <th>2</th>\n",
       "      <td>2014-02-14 14:40:00</td>\n",
       "      <td>0.134</td>\n",
       "    </tr>\n",
       "    <tr>\n",
       "      <th>3</th>\n",
       "      <td>2014-02-14 14:45:00</td>\n",
       "      <td>0.134</td>\n",
       "    </tr>\n",
       "    <tr>\n",
       "      <th>4</th>\n",
       "      <td>2014-02-14 14:50:00</td>\n",
       "      <td>0.134</td>\n",
       "    </tr>\n",
       "  </tbody>\n",
       "</table>\n",
       "</div>"
      ],
      "text/plain": [
       "             timestamp  value\n",
       "0  2014-02-14 14:30:00  0.132\n",
       "1  2014-02-14 14:35:00  0.134\n",
       "2  2014-02-14 14:40:00  0.134\n",
       "3  2014-02-14 14:45:00  0.134\n",
       "4  2014-02-14 14:50:00  0.134"
      ]
     },
     "execution_count": 3,
     "metadata": {},
     "output_type": "execute_result"
    }
   ],
   "source": [
    "df = pd.read_csv('./data/ec2_cpu_utilization.csv') # Downloaded from the link above (ec2_cpu_utilization_24ae8d.csv)\n",
    "df.head()"
   ]
  },
  {
   "cell_type": "code",
   "execution_count": 4,
   "id": "cae03de9",
   "metadata": {},
   "outputs": [
    {
     "data": {
      "text/plain": [
       "(4032, 2)"
      ]
     },
     "execution_count": 4,
     "metadata": {},
     "output_type": "execute_result"
    }
   ],
   "source": [
    "df.shape"
   ]
  },
  {
   "cell_type": "markdown",
   "id": "254650a2",
   "metadata": {},
   "source": [
    "**Gerçekte 2 data noktasını anomali olarak biliyoruz biz.** "
   ]
  },
  {
   "cell_type": "code",
   "execution_count": 5,
   "id": "426d786a",
   "metadata": {},
   "outputs": [],
   "source": [
    "# Labels taken from the link above. We are looking at the labels for ec2_cpu_utilization_24ae8d dataset\n",
    "\n",
    "anomalies_timestamp = [\n",
    "        \"2014-02-26 22:05:00\",\n",
    "        \"2014-02-27 17:15:00\"\n",
    "    ]"
   ]
  },
  {
   "cell_type": "markdown",
   "id": "ace96980",
   "metadata": {},
   "source": [
    "**timestamp sütunu normalde timestamp değil string, onu timestampe çeviriyoruz.**"
   ]
  },
  {
   "cell_type": "code",
   "execution_count": 6,
   "id": "4d435259",
   "metadata": {},
   "outputs": [
    {
     "data": {
      "text/plain": [
       "str"
      ]
     },
     "execution_count": 6,
     "metadata": {},
     "output_type": "execute_result"
    }
   ],
   "source": [
    "type(df.loc[0]['timestamp']) "
   ]
  },
  {
   "cell_type": "code",
   "execution_count": 7,
   "id": "00c2f576",
   "metadata": {},
   "outputs": [
    {
     "data": {
      "text/html": [
       "<div>\n",
       "<style scoped>\n",
       "    .dataframe tbody tr th:only-of-type {\n",
       "        vertical-align: middle;\n",
       "    }\n",
       "\n",
       "    .dataframe tbody tr th {\n",
       "        vertical-align: top;\n",
       "    }\n",
       "\n",
       "    .dataframe thead th {\n",
       "        text-align: right;\n",
       "    }\n",
       "</style>\n",
       "<table border=\"1\" class=\"dataframe\">\n",
       "  <thead>\n",
       "    <tr style=\"text-align: right;\">\n",
       "      <th></th>\n",
       "      <th>timestamp</th>\n",
       "      <th>value</th>\n",
       "    </tr>\n",
       "  </thead>\n",
       "  <tbody>\n",
       "    <tr>\n",
       "      <th>0</th>\n",
       "      <td>2014-02-14 14:30:00</td>\n",
       "      <td>0.132</td>\n",
       "    </tr>\n",
       "    <tr>\n",
       "      <th>1</th>\n",
       "      <td>2014-02-14 14:35:00</td>\n",
       "      <td>0.134</td>\n",
       "    </tr>\n",
       "    <tr>\n",
       "      <th>2</th>\n",
       "      <td>2014-02-14 14:40:00</td>\n",
       "      <td>0.134</td>\n",
       "    </tr>\n",
       "    <tr>\n",
       "      <th>3</th>\n",
       "      <td>2014-02-14 14:45:00</td>\n",
       "      <td>0.134</td>\n",
       "    </tr>\n",
       "    <tr>\n",
       "      <th>4</th>\n",
       "      <td>2014-02-14 14:50:00</td>\n",
       "      <td>0.134</td>\n",
       "    </tr>\n",
       "  </tbody>\n",
       "</table>\n",
       "</div>"
      ],
      "text/plain": [
       "            timestamp  value\n",
       "0 2014-02-14 14:30:00  0.132\n",
       "1 2014-02-14 14:35:00  0.134\n",
       "2 2014-02-14 14:40:00  0.134\n",
       "3 2014-02-14 14:45:00  0.134\n",
       "4 2014-02-14 14:50:00  0.134"
      ]
     },
     "execution_count": 7,
     "metadata": {},
     "output_type": "execute_result"
    }
   ],
   "source": [
    "df['timestamp'] = pd.to_datetime(df['timestamp'])\n",
    "\n",
    "df.head()"
   ]
  },
  {
   "cell_type": "code",
   "execution_count": 8,
   "id": "5b0b70c1",
   "metadata": {},
   "outputs": [
    {
     "data": {
      "text/plain": [
       "pandas._libs.tslibs.timestamps.Timestamp"
      ]
     },
     "execution_count": 8,
     "metadata": {},
     "output_type": "execute_result"
    }
   ],
   "source": [
    "type(df.loc[0]['timestamp']) "
   ]
  },
  {
   "cell_type": "markdown",
   "id": "82c65e25",
   "metadata": {},
   "source": [
    "**is_anomaly etiketi ekliyoruz. İki tane anomali data pointimiz vardı. Bunların olduğu yere -1 gerisine 1 diyoruz. Sklearnde de normal değerler 1 anomaliler -1 oluyor.**"
   ]
  },
  {
   "cell_type": "code",
   "execution_count": 9,
   "id": "8f8a7c80",
   "metadata": {},
   "outputs": [
    {
     "data": {
      "text/html": [
       "<div>\n",
       "<style scoped>\n",
       "    .dataframe tbody tr th:only-of-type {\n",
       "        vertical-align: middle;\n",
       "    }\n",
       "\n",
       "    .dataframe tbody tr th {\n",
       "        vertical-align: top;\n",
       "    }\n",
       "\n",
       "    .dataframe thead th {\n",
       "        text-align: right;\n",
       "    }\n",
       "</style>\n",
       "<table border=\"1\" class=\"dataframe\">\n",
       "  <thead>\n",
       "    <tr style=\"text-align: right;\">\n",
       "      <th></th>\n",
       "      <th>timestamp</th>\n",
       "      <th>value</th>\n",
       "      <th>is_anomaly</th>\n",
       "    </tr>\n",
       "  </thead>\n",
       "  <tbody>\n",
       "    <tr>\n",
       "      <th>0</th>\n",
       "      <td>2014-02-14 14:30:00</td>\n",
       "      <td>0.132</td>\n",
       "      <td>1</td>\n",
       "    </tr>\n",
       "    <tr>\n",
       "      <th>1</th>\n",
       "      <td>2014-02-14 14:35:00</td>\n",
       "      <td>0.134</td>\n",
       "      <td>1</td>\n",
       "    </tr>\n",
       "    <tr>\n",
       "      <th>2</th>\n",
       "      <td>2014-02-14 14:40:00</td>\n",
       "      <td>0.134</td>\n",
       "      <td>1</td>\n",
       "    </tr>\n",
       "    <tr>\n",
       "      <th>3</th>\n",
       "      <td>2014-02-14 14:45:00</td>\n",
       "      <td>0.134</td>\n",
       "      <td>1</td>\n",
       "    </tr>\n",
       "    <tr>\n",
       "      <th>4</th>\n",
       "      <td>2014-02-14 14:50:00</td>\n",
       "      <td>0.134</td>\n",
       "      <td>1</td>\n",
       "    </tr>\n",
       "  </tbody>\n",
       "</table>\n",
       "</div>"
      ],
      "text/plain": [
       "            timestamp  value  is_anomaly\n",
       "0 2014-02-14 14:30:00  0.132           1\n",
       "1 2014-02-14 14:35:00  0.134           1\n",
       "2 2014-02-14 14:40:00  0.134           1\n",
       "3 2014-02-14 14:45:00  0.134           1\n",
       "4 2014-02-14 14:50:00  0.134           1"
      ]
     },
     "execution_count": 9,
     "metadata": {},
     "output_type": "execute_result"
    }
   ],
   "source": [
    "df['is_anomaly'] = 1\n",
    "\n",
    "for each in anomalies_timestamp:\n",
    "    df.loc[df['timestamp'] == each, 'is_anomaly'] = -1\n",
    "    \n",
    "df.head()"
   ]
  },
  {
   "cell_type": "markdown",
   "id": "0262aa56",
   "metadata": {},
   "source": [
    "**Grafikteki gösterimi için filtreledikten sonra `reset_index(drop=True)`yapmamalıyız. İndeksi yazıyor x ekseninde grafikte.**"
   ]
  },
  {
   "cell_type": "code",
   "execution_count": 10,
   "id": "4da47af7",
   "metadata": {},
   "outputs": [],
   "source": [
    "anomaly_df = df.loc[df['is_anomaly'] == -1]\n",
    "inlier_df = df.loc[df['is_anomaly'] == 1]"
   ]
  },
  {
   "cell_type": "markdown",
   "id": "d2270feb",
   "metadata": {},
   "source": [
    "**İki ayrı dataframe'e ayırdığımız normal ve anormal değerleri aynı grafikte görselleştiriyoruz.**"
   ]
  },
  {
   "cell_type": "code",
   "execution_count": 11,
   "id": "b3a079a1",
   "metadata": {},
   "outputs": [
    {
     "data": {
      "text/plain": [
       "(4032, 3)"
      ]
     },
     "execution_count": 11,
     "metadata": {},
     "output_type": "execute_result"
    }
   ],
   "source": [
    "df.shape"
   ]
  },
  {
   "cell_type": "code",
   "execution_count": 12,
   "id": "be9bd160",
   "metadata": {},
   "outputs": [
    {
     "data": {
      "image/png": "[encoded data removed]",
      "text/plain": [
       "<Figure size 900x600 with 1 Axes>"
      ]
     },
     "metadata": {},
     "output_type": "display_data"
    }
   ],
   "source": [
    "fig, ax = plt.subplots()\n",
    "\n",
    "ax.scatter(inlier_df.index, inlier_df['value'], color='blue', s=3, label='Inlier')\n",
    "ax.scatter(anomaly_df.index, anomaly_df['value'], color='red', label='Anomaly')\n",
    "ax.set_xlabel('Time')\n",
    "ax.set_ylabel('CPU usage')\n",
    "ax.legend(loc=2)\n",
    "\n",
    "plt.grid(False)\n",
    "fig.autofmt_xdate()\n",
    "plt.tight_layout()"
   ]
  },
  {
   "cell_type": "code",
   "execution_count": 13,
   "id": "dc2cfe6a-9c9a-4ab8-bd3c-6c04c2f57931",
   "metadata": {},
   "outputs": [
    {
     "data": {
      "text/html": [
       "<div>\n",
       "<style scoped>\n",
       "    .dataframe tbody tr th:only-of-type {\n",
       "        vertical-align: middle;\n",
       "    }\n",
       "\n",
       "    .dataframe tbody tr th {\n",
       "        vertical-align: top;\n",
       "    }\n",
       "\n",
       "    .dataframe thead th {\n",
       "        text-align: right;\n",
       "    }\n",
       "</style>\n",
       "<table border=\"1\" class=\"dataframe\">\n",
       "  <thead>\n",
       "    <tr style=\"text-align: right;\">\n",
       "      <th></th>\n",
       "      <th>timestamp</th>\n",
       "      <th>value</th>\n",
       "      <th>is_anomaly</th>\n",
       "    </tr>\n",
       "  </thead>\n",
       "  <tbody>\n",
       "    <tr>\n",
       "      <th>0</th>\n",
       "      <td>2014-02-14 14:30:00</td>\n",
       "      <td>0.132</td>\n",
       "      <td>1</td>\n",
       "    </tr>\n",
       "    <tr>\n",
       "      <th>1</th>\n",
       "      <td>2014-02-14 14:35:00</td>\n",
       "      <td>0.134</td>\n",
       "      <td>1</td>\n",
       "    </tr>\n",
       "    <tr>\n",
       "      <th>2</th>\n",
       "      <td>2014-02-14 14:40:00</td>\n",
       "      <td>0.134</td>\n",
       "      <td>1</td>\n",
       "    </tr>\n",
       "    <tr>\n",
       "      <th>3</th>\n",
       "      <td>2014-02-14 14:45:00</td>\n",
       "      <td>0.134</td>\n",
       "      <td>1</td>\n",
       "    </tr>\n",
       "    <tr>\n",
       "      <th>4</th>\n",
       "      <td>2014-02-14 14:50:00</td>\n",
       "      <td>0.134</td>\n",
       "      <td>1</td>\n",
       "    </tr>\n",
       "  </tbody>\n",
       "</table>\n",
       "</div>"
      ],
      "text/plain": [
       "            timestamp  value  is_anomaly\n",
       "0 2014-02-14 14:30:00  0.132           1\n",
       "1 2014-02-14 14:35:00  0.134           1\n",
       "2 2014-02-14 14:40:00  0.134           1\n",
       "3 2014-02-14 14:45:00  0.134           1\n",
       "4 2014-02-14 14:50:00  0.134           1"
      ]
     },
     "execution_count": 13,
     "metadata": {},
     "output_type": "execute_result"
    }
   ],
   "source": [
    "inlier_df.head()"
   ]
  },
  {
   "cell_type": "code",
   "execution_count": 14,
   "id": "ba6f45cc-5a9a-4341-9ac5-2e3ef9920181",
   "metadata": {},
   "outputs": [
    {
     "data": {
      "image/png": "[encoded data removed]",
      "text/plain": [
       "<Figure size 900x600 with 1 Axes>"
      ]
     },
     "metadata": {},
     "output_type": "display_data"
    }
   ],
   "source": [
    "fig, ax = plt.subplots()\n",
    "\n",
    "ax.scatter(inlier_df['timestamp'], inlier_df['value'], color='blue', s=3, label='Inlier')\n",
    "ax.scatter(anomaly_df['timestamp'], anomaly_df['value'], color='red', label='Anomaly')\n",
    "ax.set_xlabel('Time')\n",
    "ax.set_ylabel('CPU usage')\n",
    "ax.legend(loc=2)\n",
    "\n",
    "plt.grid(True)\n",
    "fig.autofmt_xdate()\n",
    "plt.tight_layout()"
   ]
  },
  {
   "cell_type": "code",
   "execution_count": 15,
   "id": "0b611d44-d7ce-4228-a6c9-6b1ae82005c0",
   "metadata": {},
   "outputs": [
    {
     "data": {
      "text/plain": [
       "count    4032.000000\n",
       "mean        0.126303\n",
       "std         0.094813\n",
       "min         0.066000\n",
       "25%         0.132000\n",
       "50%         0.134000\n",
       "75%         0.134000\n",
       "max         2.344000\n",
       "Name: value, dtype: float64"
      ]
     },
     "execution_count": 15,
     "metadata": {},
     "output_type": "execute_result"
    }
   ],
   "source": [
    "df['value'].describe()"
   ]
  },
  {
   "cell_type": "markdown",
   "id": "95ac3348",
   "metadata": {
    "tags": []
   },
   "source": [
    "## <font color='blue'>Baseline: median absolute deviation (MAD) </font>\n",
    "\n",
    "<font color='black'>**Datanın dağılımı normal dağılıma yakın olduğu zaman ve MAD değeri 0 olmadığı zaman bu metodu kullanabiliyoruz.**</font>"
   ]
  },
  {
   "cell_type": "markdown",
   "id": "d11fa986",
   "metadata": {},
   "source": [
    "**Datamızın dağılımına bakıyoruz.**"
   ]
  },
  {
   "cell_type": "code",
   "execution_count": 16,
   "id": "d045b558",
   "metadata": {},
   "outputs": [
    {
     "data": {
      "image/png": "[encoded data removed]",
      "text/plain": [
       "<Figure size 900x600 with 1 Axes>"
      ]
     },
     "metadata": {},
     "output_type": "display_data"
    }
   ],
   "source": [
    "import seaborn as sns\n",
    "\n",
    "sns.kdeplot(df['value']);\n",
    "plt.grid(False)\n",
    "plt.axvline(0.134, 0, 1, c='black', ls='--') \n",
    "plt.tight_layout()"
   ]
  },
  {
   "cell_type": "markdown",
   "id": "1b416372",
   "metadata": {},
   "source": [
    "**Dik kesikli çizgi medianı ifade ediyor. Çok fazla datanın mediana denk geldiğini görüyoruz. Yani 2. dikkat etmemiz gereken durum için kırmızı bayrak kalkmış oldu. Dağılım sola doğru çok çarpık. Normal dağılım kuralına da uymuyor. Muhtemelen iyi çalışmayacak burada median absolute deviation.**"
   ]
  },
  {
   "cell_type": "code",
   "execution_count": 17,
   "id": "df5d673a-fdc1-411e-bf0d-7750b8658b4d",
   "metadata": {},
   "outputs": [
    {
     "data": {
      "text/html": [
       "<div>\n",
       "<style scoped>\n",
       "    .dataframe tbody tr th:only-of-type {\n",
       "        vertical-align: middle;\n",
       "    }\n",
       "\n",
       "    .dataframe tbody tr th {\n",
       "        vertical-align: top;\n",
       "    }\n",
       "\n",
       "    .dataframe thead th {\n",
       "        text-align: right;\n",
       "    }\n",
       "</style>\n",
       "<table border=\"1\" class=\"dataframe\">\n",
       "  <thead>\n",
       "    <tr style=\"text-align: right;\">\n",
       "      <th></th>\n",
       "      <th>timestamp</th>\n",
       "      <th>value</th>\n",
       "      <th>is_anomaly</th>\n",
       "    </tr>\n",
       "  </thead>\n",
       "  <tbody>\n",
       "    <tr>\n",
       "      <th>0</th>\n",
       "      <td>2014-02-14 14:30:00</td>\n",
       "      <td>0.132</td>\n",
       "      <td>1</td>\n",
       "    </tr>\n",
       "    <tr>\n",
       "      <th>1</th>\n",
       "      <td>2014-02-14 14:35:00</td>\n",
       "      <td>0.134</td>\n",
       "      <td>1</td>\n",
       "    </tr>\n",
       "    <tr>\n",
       "      <th>2</th>\n",
       "      <td>2014-02-14 14:40:00</td>\n",
       "      <td>0.134</td>\n",
       "      <td>1</td>\n",
       "    </tr>\n",
       "    <tr>\n",
       "      <th>3</th>\n",
       "      <td>2014-02-14 14:45:00</td>\n",
       "      <td>0.134</td>\n",
       "      <td>1</td>\n",
       "    </tr>\n",
       "    <tr>\n",
       "      <th>4</th>\n",
       "      <td>2014-02-14 14:50:00</td>\n",
       "      <td>0.134</td>\n",
       "      <td>1</td>\n",
       "    </tr>\n",
       "  </tbody>\n",
       "</table>\n",
       "</div>"
      ],
      "text/plain": [
       "            timestamp  value  is_anomaly\n",
       "0 2014-02-14 14:30:00  0.132           1\n",
       "1 2014-02-14 14:35:00  0.134           1\n",
       "2 2014-02-14 14:40:00  0.134           1\n",
       "3 2014-02-14 14:45:00  0.134           1\n",
       "4 2014-02-14 14:50:00  0.134           1"
      ]
     },
     "execution_count": 17,
     "metadata": {},
     "output_type": "execute_result"
    }
   ],
   "source": [
    "df.head()"
   ]
  },
  {
   "cell_type": "markdown",
   "id": "b82a5e71-88c6-4dda-8245-4e9ed5a9744f",
   "metadata": {
    "tags": []
   },
   "source": [
    "#### *median_abs_deviation hazır fonksiyonu kullanmak yerine kendim bu şekilde de hesaplayabilirdim Mean Absolute Deviation'ı.* "
   ]
  },
  {
   "attachments": {
    "318caf3e-5fd9-4da9-8129-2a5d10688bef.png": {
     "image/png": "[encoded data removed]"
    }
   },
   "cell_type": "markdown",
   "id": "36358310-19ad-4a5f-ac9e-4ace72afb284",
   "metadata": {},
   "source": [
    "![Screen Shot 2023-12-22 at 21.35.29.png](attachment:318caf3e-5fd9-4da9-8129-2a5d10688bef.png)"
   ]
  },
  {
   "cell_type": "code",
   "execution_count": 18,
   "id": "af1edb50-ba4b-4db3-85e7-a2b4fce365d3",
   "metadata": {},
   "outputs": [],
   "source": [
    "# df2 = df.copy()\n",
    "# df2['value-median'] = abs(df2['value'] - df2['value'].median())\n",
    "# mad2 = df2['value-median'].median()\n",
    "# mad2"
   ]
  },
  {
   "cell_type": "markdown",
   "id": "55dbace6-7cb9-4e84-a1d2-6ea47c223cc3",
   "metadata": {},
   "source": [
    "#### "
   ]
  },
  {
   "cell_type": "code",
   "execution_count": 20,
   "id": "faf2f582",
   "metadata": {},
   "outputs": [
    {
     "name": "stdout",
     "output_type": "stream",
     "text": [
      "0.134\n",
      "0.0020000000000000018\n"
     ]
    }
   ],
   "source": [
    "from scipy.stats import median_abs_deviation\n",
    "\n",
    "mad = median_abs_deviation(df['value'])\n",
    "median = np.median(df['value'])\n",
    "\n",
    "print(median)\n",
    "print(mad)\n",
    "\n",
    "def compute_robust_z_score(x):\n",
    "    return .6745*(x-median)/mad"
   ]
  },
  {
   "cell_type": "markdown",
   "id": "6f01a254",
   "metadata": {},
   "source": [
    "**MAD değeri 0 çıkmadı ama 0'a çok yakın çıktı (Demek ki değerlerin çoğu birbiriyle aynı). MAD değeri çok küçük olduğu için medianın biraz dışında olan herhangi bir nokta (büyüyecek bu durumda eşitlik, payda çok küçük 0.002 olduğu için-payı 500 ile çarpıyoruz.) direkt outlier diye etiketlenecek.**"
   ]
  },
  {
   "cell_type": "code",
   "execution_count": 21,
   "id": "bce12ea8",
   "metadata": {},
   "outputs": [
    {
     "data": {
      "text/html": [
       "<div>\n",
       "<style scoped>\n",
       "    .dataframe tbody tr th:only-of-type {\n",
       "        vertical-align: middle;\n",
       "    }\n",
       "\n",
       "    .dataframe tbody tr th {\n",
       "        vertical-align: top;\n",
       "    }\n",
       "\n",
       "    .dataframe thead th {\n",
       "        text-align: right;\n",
       "    }\n",
       "</style>\n",
       "<table border=\"1\" class=\"dataframe\">\n",
       "  <thead>\n",
       "    <tr style=\"text-align: right;\">\n",
       "      <th></th>\n",
       "      <th>timestamp</th>\n",
       "      <th>value</th>\n",
       "      <th>is_anomaly</th>\n",
       "      <th>z-score</th>\n",
       "    </tr>\n",
       "  </thead>\n",
       "  <tbody>\n",
       "    <tr>\n",
       "      <th>0</th>\n",
       "      <td>2014-02-14 14:30:00</td>\n",
       "      <td>0.132</td>\n",
       "      <td>1</td>\n",
       "      <td>-0.6745</td>\n",
       "    </tr>\n",
       "    <tr>\n",
       "      <th>1</th>\n",
       "      <td>2014-02-14 14:35:00</td>\n",
       "      <td>0.134</td>\n",
       "      <td>1</td>\n",
       "      <td>0.0000</td>\n",
       "    </tr>\n",
       "    <tr>\n",
       "      <th>2</th>\n",
       "      <td>2014-02-14 14:40:00</td>\n",
       "      <td>0.134</td>\n",
       "      <td>1</td>\n",
       "      <td>0.0000</td>\n",
       "    </tr>\n",
       "    <tr>\n",
       "      <th>3</th>\n",
       "      <td>2014-02-14 14:45:00</td>\n",
       "      <td>0.134</td>\n",
       "      <td>1</td>\n",
       "      <td>0.0000</td>\n",
       "    </tr>\n",
       "    <tr>\n",
       "      <th>4</th>\n",
       "      <td>2014-02-14 14:50:00</td>\n",
       "      <td>0.134</td>\n",
       "      <td>1</td>\n",
       "      <td>0.0000</td>\n",
       "    </tr>\n",
       "  </tbody>\n",
       "</table>\n",
       "</div>"
      ],
      "text/plain": [
       "            timestamp  value  is_anomaly  z-score\n",
       "0 2014-02-14 14:30:00  0.132           1  -0.6745\n",
       "1 2014-02-14 14:35:00  0.134           1   0.0000\n",
       "2 2014-02-14 14:40:00  0.134           1   0.0000\n",
       "3 2014-02-14 14:45:00  0.134           1   0.0000\n",
       "4 2014-02-14 14:50:00  0.134           1   0.0000"
      ]
     },
     "execution_count": 21,
     "metadata": {},
     "output_type": "execute_result"
    }
   ],
   "source": [
    "df['z-score'] = df['value'].apply(compute_robust_z_score)\n",
    "\n",
    "df.head()"
   ]
  },
  {
   "cell_type": "markdown",
   "id": "daa02b4c",
   "metadata": {},
   "source": [
    "**z-score değeri 3.5'tan büyük veya -3.5'tan küçük olanları anomali olarak etiketliyorum.**"
   ]
  },
  {
   "cell_type": "code",
   "execution_count": 22,
   "id": "92f79fd2",
   "metadata": {},
   "outputs": [],
   "source": [
    "df['baseline'] = 1\n",
    "\n",
    "df.loc[df['z-score'] >= 3.5, 'baseline'] = -1\n",
    "df.loc[df['z-score'] <=-3.5, 'baseline'] = -1"
   ]
  },
  {
   "cell_type": "code",
   "execution_count": 23,
   "id": "365d7f1b",
   "metadata": {},
   "outputs": [
    {
     "data": {
      "text/html": [
       "<div>\n",
       "<style scoped>\n",
       "    .dataframe tbody tr th:only-of-type {\n",
       "        vertical-align: middle;\n",
       "    }\n",
       "\n",
       "    .dataframe tbody tr th {\n",
       "        vertical-align: top;\n",
       "    }\n",
       "\n",
       "    .dataframe thead th {\n",
       "        text-align: right;\n",
       "    }\n",
       "</style>\n",
       "<table border=\"1\" class=\"dataframe\">\n",
       "  <thead>\n",
       "    <tr style=\"text-align: right;\">\n",
       "      <th></th>\n",
       "      <th>timestamp</th>\n",
       "      <th>value</th>\n",
       "      <th>is_anomaly</th>\n",
       "      <th>z-score</th>\n",
       "      <th>baseline</th>\n",
       "    </tr>\n",
       "  </thead>\n",
       "  <tbody>\n",
       "    <tr>\n",
       "      <th>0</th>\n",
       "      <td>2014-02-14 14:30:00</td>\n",
       "      <td>0.132</td>\n",
       "      <td>1</td>\n",
       "      <td>-0.6745</td>\n",
       "      <td>1</td>\n",
       "    </tr>\n",
       "    <tr>\n",
       "      <th>1</th>\n",
       "      <td>2014-02-14 14:35:00</td>\n",
       "      <td>0.134</td>\n",
       "      <td>1</td>\n",
       "      <td>0.0000</td>\n",
       "      <td>1</td>\n",
       "    </tr>\n",
       "    <tr>\n",
       "      <th>2</th>\n",
       "      <td>2014-02-14 14:40:00</td>\n",
       "      <td>0.134</td>\n",
       "      <td>1</td>\n",
       "      <td>0.0000</td>\n",
       "      <td>1</td>\n",
       "    </tr>\n",
       "    <tr>\n",
       "      <th>3</th>\n",
       "      <td>2014-02-14 14:45:00</td>\n",
       "      <td>0.134</td>\n",
       "      <td>1</td>\n",
       "      <td>0.0000</td>\n",
       "      <td>1</td>\n",
       "    </tr>\n",
       "    <tr>\n",
       "      <th>4</th>\n",
       "      <td>2014-02-14 14:50:00</td>\n",
       "      <td>0.134</td>\n",
       "      <td>1</td>\n",
       "      <td>0.0000</td>\n",
       "      <td>1</td>\n",
       "    </tr>\n",
       "  </tbody>\n",
       "</table>\n",
       "</div>"
      ],
      "text/plain": [
       "            timestamp  value  is_anomaly  z-score  baseline\n",
       "0 2014-02-14 14:30:00  0.132           1  -0.6745         1\n",
       "1 2014-02-14 14:35:00  0.134           1   0.0000         1\n",
       "2 2014-02-14 14:40:00  0.134           1   0.0000         1\n",
       "3 2014-02-14 14:45:00  0.134           1   0.0000         1\n",
       "4 2014-02-14 14:50:00  0.134           1   0.0000         1"
      ]
     },
     "execution_count": 23,
     "metadata": {},
     "output_type": "execute_result"
    }
   ],
   "source": [
    "df.head()"
   ]
  },
  {
   "cell_type": "markdown",
   "id": "27fbafd8",
   "metadata": {},
   "source": [
    "### <font color='black'>**Evaluation**</font>"
   ]
  },
  {
   "cell_type": "code",
   "execution_count": 24,
   "id": "2a5e9438",
   "metadata": {},
   "outputs": [
    {
     "data": {
      "image/png": "[encoded data removed]",
      "text/plain": [
       "<Figure size 900x600 with 2 Axes>"
      ]
     },
     "metadata": {},
     "output_type": "display_data"
    }
   ],
   "source": [
    "from sklearn.metrics import confusion_matrix, ConfusionMatrixDisplay\n",
    "\n",
    "# ilki gerçekte olan, ikincisi bizim tahmin ettiğimiz\n",
    "cm = confusion_matrix(df['is_anomaly'], df['baseline'], labels=[1, -1]) # ilk hangi etiketi yazarsan onu üstte gösteriyor. \n",
    "\n",
    "disp_cm = ConfusionMatrixDisplay(cm, display_labels=[1, -1]) # aynı sırada olmalı\n",
    "\n",
    "disp_cm.plot();\n",
    "\n",
    "plt.grid(False)\n",
    "plt.tight_layout()"
   ]
  },
  {
   "cell_type": "markdown",
   "id": "830d0a1a",
   "metadata": {},
   "source": [
    "**2 tane outlier vardı 2'sini de doğru bilmişiz. Fakat outlier olmamasına rağmen 1066 değere outlier demişiz.**"
   ]
  },
  {
   "cell_type": "markdown",
   "id": "5ea210c8",
   "metadata": {},
   "source": [
    "## <font color='blue'>Isolation forest </font>"
   ]
  },
  {
   "cell_type": "code",
   "execution_count": 25,
   "id": "85431508",
   "metadata": {},
   "outputs": [],
   "source": [
    "from sklearn.ensemble import IsolationForest"
   ]
  },
  {
   "cell_type": "code",
   "execution_count": 26,
   "id": "513a4210-c501-45e2-8ef6-f4e5d4cf5eaa",
   "metadata": {},
   "outputs": [],
   "source": [
    "anomalies_timestamp = [\n",
    "        \"2014-02-26 22:05:00\",\n",
    "        \"2014-02-27 17:15:00\"\n",
    "    ]"
   ]
  },
  {
   "cell_type": "code",
   "execution_count": 27,
   "id": "993d38cc",
   "metadata": {},
   "outputs": [
    {
     "data": {
      "text/html": [
       "<div>\n",
       "<style scoped>\n",
       "    .dataframe tbody tr th:only-of-type {\n",
       "        vertical-align: middle;\n",
       "    }\n",
       "\n",
       "    .dataframe tbody tr th {\n",
       "        vertical-align: top;\n",
       "    }\n",
       "\n",
       "    .dataframe thead th {\n",
       "        text-align: right;\n",
       "    }\n",
       "</style>\n",
       "<table border=\"1\" class=\"dataframe\">\n",
       "  <thead>\n",
       "    <tr style=\"text-align: right;\">\n",
       "      <th></th>\n",
       "      <th>timestamp</th>\n",
       "      <th>value</th>\n",
       "      <th>is_anomaly</th>\n",
       "    </tr>\n",
       "  </thead>\n",
       "  <tbody>\n",
       "    <tr>\n",
       "      <th>0</th>\n",
       "      <td>2014-02-14 14:30:00</td>\n",
       "      <td>0.132</td>\n",
       "      <td>1</td>\n",
       "    </tr>\n",
       "    <tr>\n",
       "      <th>1</th>\n",
       "      <td>2014-02-14 14:35:00</td>\n",
       "      <td>0.134</td>\n",
       "      <td>1</td>\n",
       "    </tr>\n",
       "    <tr>\n",
       "      <th>2</th>\n",
       "      <td>2014-02-14 14:40:00</td>\n",
       "      <td>0.134</td>\n",
       "      <td>1</td>\n",
       "    </tr>\n",
       "    <tr>\n",
       "      <th>3</th>\n",
       "      <td>2014-02-14 14:45:00</td>\n",
       "      <td>0.134</td>\n",
       "      <td>1</td>\n",
       "    </tr>\n",
       "    <tr>\n",
       "      <th>4</th>\n",
       "      <td>2014-02-14 14:50:00</td>\n",
       "      <td>0.134</td>\n",
       "      <td>1</td>\n",
       "    </tr>\n",
       "  </tbody>\n",
       "</table>\n",
       "</div>"
      ],
      "text/plain": [
       "            timestamp  value  is_anomaly\n",
       "0 2014-02-14 14:30:00  0.132           1\n",
       "1 2014-02-14 14:35:00  0.134           1\n",
       "2 2014-02-14 14:40:00  0.134           1\n",
       "3 2014-02-14 14:45:00  0.134           1\n",
       "4 2014-02-14 14:50:00  0.134           1"
      ]
     },
     "execution_count": 27,
     "metadata": {},
     "output_type": "execute_result"
    }
   ],
   "source": [
    "df = pd.read_csv('./data/ec2_cpu_utilization.csv')\n",
    "\n",
    "df['timestamp'] = pd.to_datetime(df['timestamp'])\n",
    "df['is_anomaly'] = 1\n",
    "\n",
    "for each in anomalies_timestamp:\n",
    "    df.loc[df['timestamp'] == each, 'is_anomaly'] = -1\n",
    "    \n",
    "df.head()"
   ]
  },
  {
   "cell_type": "code",
   "execution_count": 28,
   "id": "3481eefb",
   "metadata": {},
   "outputs": [],
   "source": [
    "# bir anomali trainde, diğeri test setinde kaldı. \n",
    "# df[df['timestamp'] == \"2014-02-26 22:05:00\"]\n",
    "# df[df['timestamp'] == \"2014-02-27 17:15:00\"]"
   ]
  },
  {
   "cell_type": "code",
   "execution_count": 29,
   "id": "fedb4d9d",
   "metadata": {},
   "outputs": [],
   "source": [
    "train = df[:3550]\n",
    "test = df[3550:]"
   ]
  },
  {
   "cell_type": "markdown",
   "id": "1d341373",
   "metadata": {},
   "source": [
    "**Contamination level belirlememiz lazım. Contamination train setindeki anomali sayısıdır. Biz biliyoruz şu anda. Train setimizde 1 adet anomali vardı.Normalde elimizdeki datada verilmişse bize anomaliler biz de bu şekilde yapabiliriz ama genelde belli olmuyor.** "
   ]
  },
  {
   "cell_type": "code",
   "execution_count": 30,
   "id": "5703fff9",
   "metadata": {},
   "outputs": [
    {
     "data": {
      "text/plain": [
       "IsolationForest(contamination=0.00028169014084507044, random_state=42)"
      ]
     },
     "execution_count": 30,
     "metadata": {},
     "output_type": "execute_result"
    }
   ],
   "source": [
    "contamination = 1/len(train)\n",
    "\n",
    "iso_forest = IsolationForest(contamination=contamination, random_state=42)\n",
    "\n",
    "X_train = train['value'].values.reshape(-1,1)\n",
    "\n",
    "iso_forest.fit(X_train)"
   ]
  },
  {
   "cell_type": "code",
   "execution_count": 31,
   "id": "3052afdd",
   "metadata": {},
   "outputs": [],
   "source": [
    "# df.loc[3540:3550]"
   ]
  },
  {
   "cell_type": "code",
   "execution_count": 32,
   "id": "097ec74e",
   "metadata": {},
   "outputs": [],
   "source": [
    "# df[df['timestamp'] == \"2014-02-26 22:05:00\"]"
   ]
  },
  {
   "cell_type": "code",
   "execution_count": 33,
   "id": "18da3719",
   "metadata": {},
   "outputs": [],
   "source": [
    "preds_iso_forest = iso_forest.predict(test['value'].values.reshape(-1,1))"
   ]
  },
  {
   "cell_type": "code",
   "execution_count": 34,
   "id": "f6eb369c",
   "metadata": {},
   "outputs": [
    {
     "data": {
      "text/plain": [
       "array([1, 1, 1, 1, 1, 1, 1, 1, 1, 1, 1, 1, 1, 1, 1, 1, 1, 1, 1, 1, 1, 1,\n",
       "       1, 1, 1, 1, 1, 1, 1, 1, 1, 1, 1, 1, 1, 1, 1, 1, 1, 1, 1, 1, 1, 1,\n",
       "       1, 1, 1, 1, 1, 1, 1, 1, 1, 1, 1, 1, 1, 1, 1, 1, 1, 1, 1, 1, 1, 1,\n",
       "       1, 1, 1, 1, 1, 1, 1, 1, 1, 1, 1, 1, 1, 1, 1, 1, 1, 1, 1, 1, 1, 1,\n",
       "       1, 1, 1, 1, 1, 1, 1, 1, 1, 1, 1, 1, 1, 1, 1, 1, 1, 1, 1, 1, 1, 1,\n",
       "       1, 1, 1, 1, 1, 1, 1, 1, 1, 1, 1, 1, 1, 1, 1, 1, 1, 1, 1, 1, 1, 1,\n",
       "       1, 1, 1, 1, 1, 1, 1, 1, 1, 1, 1, 1, 1, 1, 1, 1, 1, 1, 1, 1, 1, 1,\n",
       "       1, 1, 1, 1, 1, 1, 1, 1, 1, 1, 1, 1, 1, 1, 1, 1, 1, 1, 1, 1, 1, 1,\n",
       "       1, 1, 1, 1, 1, 1, 1, 1, 1, 1, 1, 1, 1, 1, 1, 1, 1, 1, 1, 1, 1, 1,\n",
       "       1, 1, 1, 1, 1, 1, 1, 1, 1, 1, 1, 1, 1, 1, 1, 1, 1, 1, 1, 1, 1, 1,\n",
       "       1, 1, 1, 1, 1, 1, 1, 1, 1, 1, 1, 1, 1, 1, 1, 1, 1, 1, 1, 1, 1, 1,\n",
       "       1, 1, 1, 1, 1, 1, 1, 1, 1, 1, 1, 1, 1, 1, 1, 1, 1, 1, 1, 1, 1, 1,\n",
       "       1, 1, 1, 1, 1, 1, 1, 1, 1, 1, 1, 1, 1, 1, 1, 1, 1, 1, 1, 1, 1, 1,\n",
       "       1, 1, 1, 1, 1, 1, 1, 1, 1, 1, 1, 1, 1, 1, 1, 1, 1, 1, 1, 1, 1, 1,\n",
       "       1, 1, 1, 1, 1, 1, 1, 1, 1, 1, 1, 1, 1, 1, 1, 1, 1, 1, 1, 1, 1, 1,\n",
       "       1, 1, 1, 1, 1, 1, 1, 1, 1, 1, 1, 1, 1, 1, 1, 1, 1, 1, 1, 1, 1, 1,\n",
       "       1, 1, 1, 1, 1, 1, 1, 1, 1, 1, 1, 1, 1, 1, 1, 1, 1, 1, 1, 1, 1, 1,\n",
       "       1, 1, 1, 1, 1, 1, 1, 1, 1, 1, 1, 1, 1, 1, 1, 1, 1, 1, 1, 1, 1, 1,\n",
       "       1, 1, 1, 1, 1, 1, 1, 1, 1, 1, 1, 1, 1, 1, 1, 1, 1, 1, 1, 1, 1, 1,\n",
       "       1, 1, 1, 1, 1, 1, 1, 1, 1, 1, 1, 1, 1, 1, 1, 1, 1, 1, 1, 1, 1, 1,\n",
       "       1, 1, 1, 1, 1, 1, 1, 1, 1, 1, 1, 1, 1, 1, 1, 1, 1, 1, 1, 1, 1, 1,\n",
       "       1, 1, 1, 1, 1, 1, 1, 1, 1, 1, 1, 1, 1, 1, 1, 1, 1, 1, 1, 1])"
      ]
     },
     "execution_count": 34,
     "metadata": {},
     "output_type": "execute_result"
    }
   ],
   "source": [
    "preds_iso_forest"
   ]
  },
  {
   "cell_type": "markdown",
   "id": "cfe72649",
   "metadata": {},
   "source": [
    "### <font color='black'>**Evaluation**</font>"
   ]
  },
  {
   "cell_type": "code",
   "execution_count": 35,
   "id": "d9e38d0d",
   "metadata": {},
   "outputs": [
    {
     "data": {
      "image/png": "[encoded data removed]",
      "text/plain": [
       "<Figure size 900x600 with 2 Axes>"
      ]
     },
     "metadata": {},
     "output_type": "display_data"
    }
   ],
   "source": [
    "from sklearn.metrics import confusion_matrix, ConfusionMatrixDisplay\n",
    "\n",
    "cm = confusion_matrix(test['is_anomaly'], preds_iso_forest, labels=[1, -1]) # sadece test setimize bakıyoruz.\n",
    "\n",
    "disp_cm = ConfusionMatrixDisplay(cm, display_labels=[1, -1])\n",
    "\n",
    "disp_cm.plot();\n",
    "\n",
    "plt.grid(False)\n",
    "plt.tight_layout()"
   ]
  },
  {
   "cell_type": "markdown",
   "id": "752b90fd",
   "metadata": {},
   "source": [
    "**Test setindeki anomaliyi yakalayamadı. Tüm noktalara inlier dedi.** "
   ]
  },
  {
   "cell_type": "markdown",
   "id": "a6648be1",
   "metadata": {},
   "source": [
    "## <font color='blue'>Local outlier factor (LOF)  </font>"
   ]
  },
  {
   "cell_type": "code",
   "execution_count": 36,
   "id": "87188535",
   "metadata": {},
   "outputs": [
    {
     "data": {
      "text/plain": [
       "LocalOutlierFactor(contamination=0.00028169014084507044, novelty=True)"
      ]
     },
     "execution_count": 36,
     "metadata": {},
     "output_type": "execute_result"
    }
   ],
   "source": [
    "from sklearn.neighbors import LocalOutlierFactor\n",
    "\n",
    "lof = LocalOutlierFactor(contamination=contamination, novelty=True)\n",
    "\n",
    "lof.fit(X_train)"
   ]
  },
  {
   "cell_type": "code",
   "execution_count": 37,
   "id": "5441f006",
   "metadata": {},
   "outputs": [],
   "source": [
    "preds_lof = lof.predict(test['value'].values.reshape(-1,1))"
   ]
  },
  {
   "cell_type": "code",
   "execution_count": 38,
   "id": "598a300e",
   "metadata": {},
   "outputs": [
    {
     "data": {
      "image/png": "[encoded data removed]",
      "text/plain": [
       "<Figure size 900x600 with 2 Axes>"
      ]
     },
     "metadata": {},
     "output_type": "display_data"
    }
   ],
   "source": [
    "cm = confusion_matrix(test['is_anomaly'], preds_lof, labels=[1, -1])\n",
    "\n",
    "disp_cm = ConfusionMatrixDisplay(cm, display_labels=[1, -1])\n",
    "\n",
    "disp_cm.plot();"
   ]
  },
  {
   "cell_type": "markdown",
   "id": "fd3ebc81-068c-4565-9707-1c9631fbde02",
   "metadata": {},
   "source": [
    "**LOF test setindeki anomaliyi yakalayabildi ve hatta anomali olmayanlara da anomali değil dedi. Şu anda mükemmel bir confusion matris elde ettik.**"
   ]
  }
 ],
 "metadata": {
  "kernelspec": {
   "display_name": "Python 3 (ipykernel)",
   "language": "python",
   "name": "python3"
  },
  "language_info": {
   "codemirror_mode": {
    "name": "ipython",
    "version": 3
   },
   "file_extension": ".py",
   "mimetype": "text/x-python",
   "name": "python",
   "nbconvert_exporter": "python",
   "pygments_lexer": "ipython3",
   "version": "3.9.7"
  }
 },
 "nbformat": 4,
 "nbformat_minor": 5
}
