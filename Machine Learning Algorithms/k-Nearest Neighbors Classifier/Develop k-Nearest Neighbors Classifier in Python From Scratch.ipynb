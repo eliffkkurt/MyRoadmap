{
 "cells": [
  {
   "cell_type": "markdown",
   "metadata": {},
   "source": [
    "# Develop k-Nearest Neighbors Classifier in Python From Scratch"
   ]
  },
  {
   "cell_type": "markdown",
   "metadata": {},
   "source": [
    "<font color='green'> \n",
    "I implemented k-Nearest Neighbors Classification Algorithm in python from scratch using [iris.csv](https://raw.githubusercontent.com/jbrownlee/Datasets/master/iris.csv) dataset.\n",
    "    \n",
    "</font>"
   ]
  },
  {
   "cell_type": "markdown",
   "metadata": {},
   "source": [
    "#### Kaynaklar: \n",
    "\n",
    "- [Develop k-Nearest Neighbors in Python From Scratch](https://machinelearningmastery.com/tutorial-to-implement-k-nearest-neighbors-in-python-from-scratch/)"
   ]
  },
  {
   "cell_type": "markdown",
   "metadata": {
    "heading_collapsed": true
   },
   "source": [
    "## Step 1: Calculate Euclidean Distance"
   ]
  },
  {
   "cell_type": "markdown",
   "metadata": {
    "hidden": true
   },
   "source": [
    "### <font color='blue'>Theoric </font>"
   ]
  },
  {
   "cell_type": "markdown",
   "metadata": {
    "hidden": true
   },
   "source": [
    "**Euclidean Distance between A(x1,y1) and B(x2,y2) points:** \n",
    "\n",
    "```\n",
    "d(A,B)^2 = (x2-x1)^2 + (y2-y1)^2 \n",
    "d(A,B) = sqrt((x2-x1)^2 + (y2-y1)^2 )\n",
    "```\n",
    "\n",
    "**Euclidean Distance between two rows:** \n",
    "\n",
    "```\n",
    "d(row1,row2)^2 = (row2)^2 - (row1)^2\n",
    "d(row1,row2) = sqrt((row2)^2 - (row1)^2)\n",
    "```\n",
    "\n",
    "**We will do it for all columns values per row.**\n",
    "```\n",
    "0\t4.9\t3.0\t1.4\t0.2\tIris-setosa\n",
    "1\t4.7\t3.2\t1.3\t0.2\tIris-setosa\n",
    "```\n",
    "```\n",
    "d(row1,row2)^2 = (4.9-4.7)^2 + (3-3.2)^2 + (1.4-1.3)^2 + (0.2-0.2)^2\n",
    "d(row1,row2) = sqrt((4.9-4.7)^2 + (3-3.2)^2 + (1.4-1.3)^2 + (0.2-0.2)^2)\n",
    "d(row1,row2) = 0.3\n",
    "```"
   ]
  },
  {
   "cell_type": "markdown",
   "metadata": {
    "hidden": true
   },
   "source": [
    "### <font color='blue'>Loading Dataset</font>"
   ]
  },
  {
   "cell_type": "code",
   "execution_count": 1,
   "metadata": {
    "hidden": true
   },
   "outputs": [],
   "source": [
    "import pandas as pd\n",
    "import math "
   ]
  },
  {
   "cell_type": "code",
   "execution_count": 2,
   "metadata": {
    "hidden": true
   },
   "outputs": [],
   "source": [
    "df = pd.read_csv(\"iris.csv\")"
   ]
  },
  {
   "cell_type": "code",
   "execution_count": 3,
   "metadata": {
    "hidden": true
   },
   "outputs": [
    {
     "data": {
      "text/html": [
       "<div>\n",
       "<style scoped>\n",
       "    .dataframe tbody tr th:only-of-type {\n",
       "        vertical-align: middle;\n",
       "    }\n",
       "\n",
       "    .dataframe tbody tr th {\n",
       "        vertical-align: top;\n",
       "    }\n",
       "\n",
       "    .dataframe thead th {\n",
       "        text-align: right;\n",
       "    }\n",
       "</style>\n",
       "<table border=\"1\" class=\"dataframe\">\n",
       "  <thead>\n",
       "    <tr style=\"text-align: right;\">\n",
       "      <th></th>\n",
       "      <th>5.1</th>\n",
       "      <th>3.5</th>\n",
       "      <th>1.4</th>\n",
       "      <th>0.2</th>\n",
       "      <th>Iris-setosa</th>\n",
       "    </tr>\n",
       "  </thead>\n",
       "  <tbody>\n",
       "    <tr>\n",
       "      <th>0</th>\n",
       "      <td>4.9</td>\n",
       "      <td>3.0</td>\n",
       "      <td>1.4</td>\n",
       "      <td>0.2</td>\n",
       "      <td>Iris-setosa</td>\n",
       "    </tr>\n",
       "    <tr>\n",
       "      <th>1</th>\n",
       "      <td>4.7</td>\n",
       "      <td>3.2</td>\n",
       "      <td>1.3</td>\n",
       "      <td>0.2</td>\n",
       "      <td>Iris-setosa</td>\n",
       "    </tr>\n",
       "    <tr>\n",
       "      <th>2</th>\n",
       "      <td>4.6</td>\n",
       "      <td>3.1</td>\n",
       "      <td>1.5</td>\n",
       "      <td>0.2</td>\n",
       "      <td>Iris-setosa</td>\n",
       "    </tr>\n",
       "    <tr>\n",
       "      <th>3</th>\n",
       "      <td>5.0</td>\n",
       "      <td>3.6</td>\n",
       "      <td>1.4</td>\n",
       "      <td>0.2</td>\n",
       "      <td>Iris-setosa</td>\n",
       "    </tr>\n",
       "    <tr>\n",
       "      <th>4</th>\n",
       "      <td>5.4</td>\n",
       "      <td>3.9</td>\n",
       "      <td>1.7</td>\n",
       "      <td>0.4</td>\n",
       "      <td>Iris-setosa</td>\n",
       "    </tr>\n",
       "  </tbody>\n",
       "</table>\n",
       "</div>"
      ],
      "text/plain": [
       "   5.1  3.5  1.4  0.2  Iris-setosa\n",
       "0  4.9  3.0  1.4  0.2  Iris-setosa\n",
       "1  4.7  3.2  1.3  0.2  Iris-setosa\n",
       "2  4.6  3.1  1.5  0.2  Iris-setosa\n",
       "3  5.0  3.6  1.4  0.2  Iris-setosa\n",
       "4  5.4  3.9  1.7  0.4  Iris-setosa"
      ]
     },
     "execution_count": 3,
     "metadata": {},
     "output_type": "execute_result"
    }
   ],
   "source": [
    "df.head()"
   ]
  },
  {
   "cell_type": "markdown",
   "metadata": {
    "hidden": true
   },
   "source": [
    "### <font color='blue'>Calculate Euclidean Distance</font>"
   ]
  },
  {
   "cell_type": "code",
   "execution_count": 4,
   "metadata": {
    "hidden": true
   },
   "outputs": [],
   "source": [
    "df = df.values # to obtain a numpy array"
   ]
  },
  {
   "cell_type": "code",
   "execution_count": 5,
   "metadata": {
    "hidden": true
   },
   "outputs": [
    {
     "data": {
      "text/plain": [
       "array([4.9, 3.0, 1.4, 0.2, 'Iris-setosa'], dtype=object)"
      ]
     },
     "execution_count": 5,
     "metadata": {},
     "output_type": "execute_result"
    }
   ],
   "source": [
    "df[0]"
   ]
  },
  {
   "cell_type": "code",
   "execution_count": 6,
   "metadata": {
    "hidden": true
   },
   "outputs": [
    {
     "data": {
      "text/plain": [
       "5"
      ]
     },
     "execution_count": 6,
     "metadata": {},
     "output_type": "execute_result"
    }
   ],
   "source": [
    "len(df[0])"
   ]
  },
  {
   "cell_type": "code",
   "execution_count": 7,
   "metadata": {
    "hidden": true
   },
   "outputs": [],
   "source": [
    "def euclidean_distance(row1, row2):\n",
    "    distance = 0\n",
    "    for i in range(len(row1)-1): # ignored iris type\n",
    "        distance = distance + ((row1[i]-row2[i])**2)\n",
    "        \n",
    "    return math.sqrt(distance)"
   ]
  },
  {
   "cell_type": "code",
   "execution_count": 8,
   "metadata": {
    "hidden": true
   },
   "outputs": [
    {
     "data": {
      "text/plain": [
       "0.30000000000000016"
      ]
     },
     "execution_count": 8,
     "metadata": {},
     "output_type": "execute_result"
    }
   ],
   "source": [
    "euclidean_distance(df[0], df[1])"
   ]
  },
  {
   "cell_type": "markdown",
   "metadata": {
    "hidden": true
   },
   "source": [
    "### <font color='blue'>Calculate the distance between the first row and the other rows  </font>"
   ]
  },
  {
   "cell_type": "code",
   "execution_count": 9,
   "metadata": {
    "collapsed": true,
    "hidden": true
   },
   "outputs": [
    {
     "name": "stdout",
     "output_type": "stream",
     "text": [
      "0.0\n",
      "0.30000000000000016\n",
      "0.3316624790355407\n",
      "0.608276253029822\n",
      "1.0908712114635715\n",
      "0.5099019513592788\n",
      "0.42426406871192834\n",
      "0.5099019513592785\n",
      "0.17320508075688784\n",
      "0.8660254037844388\n",
      "0.4582575694955841\n",
      "0.1414213562373099\n",
      "0.6782329983125273\n",
      "1.360147050873544\n",
      "1.6278820596099708\n",
      "1.0535653752852738\n",
      "0.5477225575051659\n",
      "1.1747340124470729\n",
      "0.8366600265340752\n",
      "0.7071067811865475\n",
      "0.7615773105863909\n",
      "0.7810249675906658\n",
      "0.5567764362830019\n",
      "0.6480740698407861\n",
      "0.22360679774997896\n",
      "0.4999999999999999\n",
      "0.5916079783099616\n",
      "0.49999999999999983\n",
      "0.3464101615137758\n",
      "0.24494897427831822\n",
      "0.6782329983125268\n",
      "1.1489125293076055\n",
      "1.3416407864998738\n",
      "0.17320508075688784\n",
      "0.3\n",
      "0.7874007874011809\n",
      "0.17320508075688784\n",
      "0.5099019513592784\n",
      "0.4582575694955836\n",
      "0.529150262212918\n",
      "0.8185352771872454\n",
      "0.5477225575051662\n",
      "0.6782329983125268\n",
      "0.9848857801796101\n",
      "0.14142135623730986\n",
      "0.8485281374238567\n",
      "0.3605551275463996\n",
      "0.812403840463596\n",
      "0.31622776601683766\n",
      "4.096339829652808\n",
      "3.6864617182333523\n",
      "4.236744032862973\n",
      "2.9698484809834995\n",
      "3.811823710509183\n",
      "3.3911649915626345\n",
      "3.8600518131237567\n",
      "2.1470910553583886\n",
      "3.788139384975162\n",
      "2.8053520278211073\n",
      "2.4617067250182343\n",
      "3.2449961479175906\n",
      "3.0413812651491097\n",
      "3.712142238654117\n",
      "2.5592967784139455\n",
      "3.7000000000000006\n",
      "3.433656942677879\n",
      "2.971531591620725\n",
      "3.6918829883949464\n",
      "2.792848008753788\n",
      "3.893584466786357\n",
      "3.0740852297878796\n",
      "4.018706259482024\n",
      "3.6565010597564442\n",
      "3.4467375879228173\n",
      "3.651027252705737\n",
      "4.080441152620633\n",
      "4.295346318982906\n",
      "3.5383612025908264\n",
      "2.4186773244895647\n",
      "2.7\n",
      "2.5787593916455256\n",
      "2.8548204847240393\n",
      "4.11703777004778\n",
      "3.398529093593286\n",
      "3.59722114972099\n",
      "3.9786932528155523\n",
      "3.55808937493144\n",
      "2.9983328701129897\n",
      "2.929163703175362\n",
      "3.2434549480453714\n",
      "3.622154055254966\n",
      "2.9546573405388314\n",
      "2.179449471770337\n",
      "3.10322412983658\n",
      "3.0789608636681307\n",
      "3.1144823004794877\n",
      "3.3645207682521443\n",
      "1.9131126469708992\n",
      "3.029851481508623\n",
      "5.338539126015655\n",
      "4.180908992073374\n",
      "5.357238094391549\n",
      "4.708502946797421\n",
      "5.091168824543142\n",
      "6.159545437773796\n",
      "3.479942528261063\n",
      "5.686826883245173\n",
      "5.040833264451424\n",
      "5.747173218200404\n",
      "4.41927595879687\n",
      "4.521061822182926\n",
      "4.902040391510457\n",
      "4.134005321718878\n",
      "4.402272140611027\n",
      "4.68081189538738\n",
      "4.682947789587238\n",
      "6.369458375717672\n",
      "6.5314623171231725\n",
      "4.06201920231798\n",
      "5.1903757089443925\n",
      "4.0024992192379\n",
      "6.2617888817813085\n",
      "4.106093033529563\n",
      "5.042816673249187\n",
      "5.389805191284746\n",
      "3.9812058474788765\n",
      "4.031128874149275\n",
      "4.851803788283281\n",
      "5.158488150611572\n",
      "5.591958512006325\n",
      "6.154673021371647\n",
      "4.891829923454003\n",
      "4.168932717135165\n",
      "4.547526800360829\n",
      "5.860034129593443\n",
      "4.959838707054897\n",
      "4.650806381693394\n",
      "3.9153543900903784\n",
      "4.860041152089146\n",
      "5.072474741188959\n",
      "4.702127178203498\n",
      "4.180908992073374\n",
      "5.320714237769211\n",
      "5.206726418777926\n",
      "4.699999999999999\n",
      "4.249705872175156\n",
      "4.498888751680798\n",
      "4.718050444834179\n",
      "4.153311931459037\n"
     ]
    }
   ],
   "source": [
    "row0 = df[0]\n",
    "\n",
    "for row in df:\n",
    "    distance = euclidean_distance(row0, row) \n",
    "    print(distance)"
   ]
  },
  {
   "cell_type": "code",
   "execution_count": 9,
   "metadata": {
    "hidden": true
   },
   "outputs": [],
   "source": [
    "# distances added in the list\n",
    "def distance(train):\n",
    "    row0 = df[0]\n",
    "    distances = []\n",
    "    for row in df:\n",
    "        distances.append(euclidean_distance(row0, row)) \n",
    "    \n",
    "    return distances"
   ]
  },
  {
   "cell_type": "code",
   "execution_count": 10,
   "metadata": {
    "collapsed": true,
    "hidden": true
   },
   "outputs": [
    {
     "data": {
      "text/plain": [
       "[0.0,\n",
       " 0.30000000000000016,\n",
       " 0.3316624790355407,\n",
       " 0.608276253029822,\n",
       " 1.0908712114635715,\n",
       " 0.5099019513592788,\n",
       " 0.42426406871192834,\n",
       " 0.5099019513592785,\n",
       " 0.17320508075688784,\n",
       " 0.8660254037844388,\n",
       " 0.4582575694955841,\n",
       " 0.1414213562373099,\n",
       " 0.6782329983125273,\n",
       " 1.360147050873544,\n",
       " 1.6278820596099708,\n",
       " 1.0535653752852738,\n",
       " 0.5477225575051659,\n",
       " 1.1747340124470729,\n",
       " 0.8366600265340752,\n",
       " 0.7071067811865475,\n",
       " 0.7615773105863909,\n",
       " 0.7810249675906658,\n",
       " 0.5567764362830019,\n",
       " 0.6480740698407861,\n",
       " 0.22360679774997896,\n",
       " 0.4999999999999999,\n",
       " 0.5916079783099616,\n",
       " 0.49999999999999983,\n",
       " 0.3464101615137758,\n",
       " 0.24494897427831822,\n",
       " 0.6782329983125268,\n",
       " 1.1489125293076055,\n",
       " 1.3416407864998738,\n",
       " 0.17320508075688784,\n",
       " 0.3,\n",
       " 0.7874007874011809,\n",
       " 0.17320508075688784,\n",
       " 0.5099019513592784,\n",
       " 0.4582575694955836,\n",
       " 0.529150262212918,\n",
       " 0.8185352771872454,\n",
       " 0.5477225575051662,\n",
       " 0.6782329983125268,\n",
       " 0.9848857801796101,\n",
       " 0.14142135623730986,\n",
       " 0.8485281374238567,\n",
       " 0.3605551275463996,\n",
       " 0.812403840463596,\n",
       " 0.31622776601683766,\n",
       " 4.096339829652808,\n",
       " 3.6864617182333523,\n",
       " 4.236744032862973,\n",
       " 2.9698484809834995,\n",
       " 3.811823710509183,\n",
       " 3.3911649915626345,\n",
       " 3.8600518131237567,\n",
       " 2.1470910553583886,\n",
       " 3.788139384975162,\n",
       " 2.8053520278211073,\n",
       " 2.4617067250182343,\n",
       " 3.2449961479175906,\n",
       " 3.0413812651491097,\n",
       " 3.712142238654117,\n",
       " 2.5592967784139455,\n",
       " 3.7000000000000006,\n",
       " 3.433656942677879,\n",
       " 2.971531591620725,\n",
       " 3.6918829883949464,\n",
       " 2.792848008753788,\n",
       " 3.893584466786357,\n",
       " 3.0740852297878796,\n",
       " 4.018706259482024,\n",
       " 3.6565010597564442,\n",
       " 3.4467375879228173,\n",
       " 3.651027252705737,\n",
       " 4.080441152620633,\n",
       " 4.295346318982906,\n",
       " 3.5383612025908264,\n",
       " 2.4186773244895647,\n",
       " 2.7,\n",
       " 2.5787593916455256,\n",
       " 2.8548204847240393,\n",
       " 4.11703777004778,\n",
       " 3.398529093593286,\n",
       " 3.59722114972099,\n",
       " 3.9786932528155523,\n",
       " 3.55808937493144,\n",
       " 2.9983328701129897,\n",
       " 2.929163703175362,\n",
       " 3.2434549480453714,\n",
       " 3.622154055254966,\n",
       " 2.9546573405388314,\n",
       " 2.179449471770337,\n",
       " 3.10322412983658,\n",
       " 3.0789608636681307,\n",
       " 3.1144823004794877,\n",
       " 3.3645207682521443,\n",
       " 1.9131126469708992,\n",
       " 3.029851481508623,\n",
       " 5.338539126015655,\n",
       " 4.180908992073374,\n",
       " 5.357238094391549,\n",
       " 4.708502946797421,\n",
       " 5.091168824543142,\n",
       " 6.159545437773796,\n",
       " 3.479942528261063,\n",
       " 5.686826883245173,\n",
       " 5.040833264451424,\n",
       " 5.747173218200404,\n",
       " 4.41927595879687,\n",
       " 4.521061822182926,\n",
       " 4.902040391510457,\n",
       " 4.134005321718878,\n",
       " 4.402272140611027,\n",
       " 4.68081189538738,\n",
       " 4.682947789587238,\n",
       " 6.369458375717672,\n",
       " 6.5314623171231725,\n",
       " 4.06201920231798,\n",
       " 5.1903757089443925,\n",
       " 4.0024992192379,\n",
       " 6.2617888817813085,\n",
       " 4.106093033529563,\n",
       " 5.042816673249187,\n",
       " 5.389805191284746,\n",
       " 3.9812058474788765,\n",
       " 4.031128874149275,\n",
       " 4.851803788283281,\n",
       " 5.158488150611572,\n",
       " 5.591958512006325,\n",
       " 6.154673021371647,\n",
       " 4.891829923454003,\n",
       " 4.168932717135165,\n",
       " 4.547526800360829,\n",
       " 5.860034129593443,\n",
       " 4.959838707054897,\n",
       " 4.650806381693394,\n",
       " 3.9153543900903784,\n",
       " 4.860041152089146,\n",
       " 5.072474741188959,\n",
       " 4.702127178203498,\n",
       " 4.180908992073374,\n",
       " 5.320714237769211,\n",
       " 5.206726418777926,\n",
       " 4.699999999999999,\n",
       " 4.249705872175156,\n",
       " 4.498888751680798,\n",
       " 4.718050444834179,\n",
       " 4.153311931459037]"
      ]
     },
     "execution_count": 10,
     "metadata": {},
     "output_type": "execute_result"
    }
   ],
   "source": [
    "distance(df)"
   ]
  },
  {
   "cell_type": "markdown",
   "metadata": {
    "heading_collapsed": true
   },
   "source": [
    "## Step 2: Get Nearest Neighbors"
   ]
  },
  {
   "cell_type": "code",
   "execution_count": 23,
   "metadata": {
    "hidden": true
   },
   "outputs": [],
   "source": [
    "b = [2,25, 32, 7, 11, 3]"
   ]
  },
  {
   "cell_type": "code",
   "execution_count": 24,
   "metadata": {
    "hidden": true
   },
   "outputs": [
    {
     "data": {
      "text/plain": [
       "[2, 3, 7]"
      ]
     },
     "execution_count": 24,
     "metadata": {},
     "output_type": "execute_result"
    }
   ],
   "source": [
    "sorted(b)[:3]"
   ]
  },
  {
   "cell_type": "code",
   "execution_count": 25,
   "metadata": {
    "hidden": true
   },
   "outputs": [],
   "source": [
    "def nearest(x,k):\n",
    "    return sorted(x)[:k]"
   ]
  },
  {
   "cell_type": "code",
   "execution_count": 26,
   "metadata": {
    "hidden": true
   },
   "outputs": [
    {
     "data": {
      "text/plain": [
       "[2, 3, 7]"
      ]
     },
     "execution_count": 26,
     "metadata": {},
     "output_type": "execute_result"
    }
   ],
   "source": [
    "nearest(b,3)"
   ]
  },
  {
   "cell_type": "code",
   "execution_count": 27,
   "metadata": {
    "hidden": true
   },
   "outputs": [],
   "source": [
    "def get_neighbors(train, K):\n",
    "    l = distance(train)\n",
    "    return sorted(l)[:K]"
   ]
  },
  {
   "cell_type": "code",
   "execution_count": 28,
   "metadata": {
    "hidden": true
   },
   "outputs": [
    {
     "data": {
      "text/plain": [
       "[0.0,\n",
       " 0.14142135623730986,\n",
       " 0.1414213562373099,\n",
       " 0.17320508075688784,\n",
       " 0.17320508075688784]"
      ]
     },
     "execution_count": 28,
     "metadata": {},
     "output_type": "execute_result"
    }
   ],
   "source": [
    "get_neighbors(df, 5)"
   ]
  },
  {
   "cell_type": "markdown",
   "metadata": {
    "hidden": true
   },
   "source": [
    "### <font color='blue'> Specifing the row in the function </font>"
   ]
  },
  {
   "cell_type": "code",
   "execution_count": 29,
   "metadata": {
    "hidden": true
   },
   "outputs": [],
   "source": [
    "def euclidean_distance(row1, row2):\n",
    "    distance = 0\n",
    "    for i in range(len(row1)-1): # ignored iris type\n",
    "        distance = distance + ((row1[i]-row2[i])**2)\n",
    "        \n",
    "    return math.sqrt(distance)"
   ]
  },
  {
   "cell_type": "code",
   "execution_count": 30,
   "metadata": {
    "hidden": true
   },
   "outputs": [],
   "source": [
    "def get_neighbors(train, test_row, num_neighbors):\n",
    "    distances_list = list()\n",
    "    for row in train:\n",
    "        distances_list.append(euclidean_distance(test_row, row)) \n",
    "    \n",
    "    return sorted(distances_list)[:num_neighbors]"
   ]
  },
  {
   "cell_type": "code",
   "execution_count": 31,
   "metadata": {
    "hidden": true
   },
   "outputs": [
    {
     "data": {
      "text/plain": [
       "[0.0, 0.14142135623730986, 0.1414213562373099]"
      ]
     },
     "execution_count": 31,
     "metadata": {},
     "output_type": "execute_result"
    }
   ],
   "source": [
    "get_neighbors(df, df[0], 3)"
   ]
  },
  {
   "cell_type": "markdown",
   "metadata": {
    "hidden": true
   },
   "source": [
    "### <font color='blue'> Adding the train rows too in the distances_list </font>"
   ]
  },
  {
   "cell_type": "markdown",
   "metadata": {
    "hidden": true
   },
   "source": [
    "We added train_row inside tuple as (train_row, distance)"
   ]
  },
  {
   "cell_type": "code",
   "execution_count": 40,
   "metadata": {
    "hidden": true
   },
   "outputs": [],
   "source": [
    "def euclidean_distance(row1, row2):\n",
    "    distance = 0\n",
    "    for i in range(len(row1)-1): # ignored iris type\n",
    "        distance = distance + ((row1[i]-row2[i])**2)\n",
    "        \n",
    "    return math.sqrt(distance)"
   ]
  },
  {
   "cell_type": "code",
   "execution_count": 32,
   "metadata": {
    "hidden": true
   },
   "outputs": [],
   "source": [
    "distances_list = list()\n",
    "for row in df:\n",
    "    distance = euclidean_distance(df[0], row)\n",
    "    distances_list.append((row, distance)) "
   ]
  },
  {
   "cell_type": "code",
   "execution_count": 33,
   "metadata": {
    "hidden": true
   },
   "outputs": [],
   "source": [
    "distances_list.sort(key=lambda x: x[1]) # sorting the list of tuples according to second element"
   ]
  },
  {
   "cell_type": "code",
   "execution_count": 34,
   "metadata": {
    "hidden": true
   },
   "outputs": [],
   "source": [
    "def get_neighbors(train, test_row, num_neighbors):\n",
    "    distances_list = list()\n",
    "    for row in train:\n",
    "        distance = euclidean_distance(test_row, row)\n",
    "        distances_list.append((row, distance)) \n",
    "    \n",
    "    distances_list.sort(key=lambda x: x[1]) \n",
    "    return distances_list"
   ]
  },
  {
   "cell_type": "code",
   "execution_count": 35,
   "metadata": {
    "collapsed": true,
    "hidden": true
   },
   "outputs": [
    {
     "data": {
      "text/plain": [
       "[(array([4.9, 3.0, 1.4, 0.2, 'Iris-setosa'], dtype=object), 0.0),\n",
       " (array([4.8, 3.0, 1.4, 0.3, 'Iris-setosa'], dtype=object),\n",
       "  0.14142135623730986),\n",
       " (array([4.8, 3.0, 1.4, 0.1, 'Iris-setosa'], dtype=object),\n",
       "  0.1414213562373099),\n",
       " (array([4.9, 3.1, 1.5, 0.1, 'Iris-setosa'], dtype=object),\n",
       "  0.17320508075688784),\n",
       " (array([4.9, 3.1, 1.5, 0.1, 'Iris-setosa'], dtype=object),\n",
       "  0.17320508075688784),\n",
       " (array([4.9, 3.1, 1.5, 0.1, 'Iris-setosa'], dtype=object),\n",
       "  0.17320508075688784),\n",
       " (array([5.0, 3.0, 1.6, 0.2, 'Iris-setosa'], dtype=object),\n",
       "  0.22360679774997896),\n",
       " (array([4.8, 3.1, 1.6, 0.2, 'Iris-setosa'], dtype=object),\n",
       "  0.24494897427831822),\n",
       " (array([5.0, 3.2, 1.2, 0.2, 'Iris-setosa'], dtype=object), 0.3),\n",
       " (array([4.7, 3.2, 1.3, 0.2, 'Iris-setosa'], dtype=object),\n",
       "  0.30000000000000016),\n",
       " (array([5.0, 3.3, 1.4, 0.2, 'Iris-setosa'], dtype=object),\n",
       "  0.31622776601683766),\n",
       " (array([4.6, 3.1, 1.5, 0.2, 'Iris-setosa'], dtype=object),\n",
       "  0.3316624790355407),\n",
       " (array([4.7, 3.2, 1.6, 0.2, 'Iris-setosa'], dtype=object),\n",
       "  0.3464101615137758),\n",
       " (array([4.6, 3.2, 1.4, 0.2, 'Iris-setosa'], dtype=object),\n",
       "  0.3605551275463996),\n",
       " (array([5.0, 3.4, 1.5, 0.2, 'Iris-setosa'], dtype=object),\n",
       "  0.42426406871192834),\n",
       " (array([5.1, 3.4, 1.5, 0.2, 'Iris-setosa'], dtype=object),\n",
       "  0.4582575694955836),\n",
       " (array([4.8, 3.4, 1.6, 0.2, 'Iris-setosa'], dtype=object),\n",
       "  0.4582575694955841),\n",
       " (array([5.2, 3.4, 1.4, 0.2, 'Iris-setosa'], dtype=object),\n",
       "  0.49999999999999983),\n",
       " (array([5.0, 3.4, 1.6, 0.4, 'Iris-setosa'], dtype=object),\n",
       "  0.4999999999999999),\n",
       " (array([4.4, 3.0, 1.3, 0.2, 'Iris-setosa'], dtype=object),\n",
       "  0.5099019513592784),\n",
       " (array([4.4, 2.9, 1.4, 0.2, 'Iris-setosa'], dtype=object),\n",
       "  0.5099019513592785),\n",
       " (array([4.6, 3.4, 1.4, 0.3, 'Iris-setosa'], dtype=object),\n",
       "  0.5099019513592788),\n",
       " (array([5.0, 3.5, 1.3, 0.3, 'Iris-setosa'], dtype=object), 0.529150262212918),\n",
       " (array([5.1, 3.5, 1.4, 0.3, 'Iris-setosa'], dtype=object),\n",
       "  0.5477225575051659),\n",
       " (array([4.4, 3.2, 1.3, 0.2, 'Iris-setosa'], dtype=object),\n",
       "  0.5477225575051662),\n",
       " (array([5.1, 3.3, 1.7, 0.5, 'Iris-setosa'], dtype=object),\n",
       "  0.5567764362830019),\n",
       " (array([5.2, 3.5, 1.5, 0.2, 'Iris-setosa'], dtype=object),\n",
       "  0.5916079783099616),\n",
       " (array([5.0, 3.6, 1.4, 0.2, 'Iris-setosa'], dtype=object), 0.608276253029822),\n",
       " (array([4.8, 3.4, 1.9, 0.2, 'Iris-setosa'], dtype=object),\n",
       "  0.6480740698407861),\n",
       " (array([5.4, 3.4, 1.5, 0.4, 'Iris-setosa'], dtype=object),\n",
       "  0.6782329983125268),\n",
       " (array([5.0, 3.5, 1.6, 0.6, 'Iris-setosa'], dtype=object),\n",
       "  0.6782329983125268),\n",
       " (array([4.3, 3.0, 1.1, 0.1, 'Iris-setosa'], dtype=object),\n",
       "  0.6782329983125273),\n",
       " (array([5.4, 3.4, 1.7, 0.2, 'Iris-setosa'], dtype=object),\n",
       "  0.7071067811865475),\n",
       " (array([5.1, 3.7, 1.5, 0.4, 'Iris-setosa'], dtype=object),\n",
       "  0.7615773105863909),\n",
       " (array([4.6, 3.6, 1.0, 0.2, 'Iris-setosa'], dtype=object),\n",
       "  0.7810249675906658),\n",
       " (array([5.5, 3.5, 1.3, 0.2, 'Iris-setosa'], dtype=object),\n",
       "  0.7874007874011809),\n",
       " (array([5.3, 3.7, 1.5, 0.2, 'Iris-setosa'], dtype=object), 0.812403840463596),\n",
       " (array([4.5, 2.3, 1.3, 0.3, 'Iris-setosa'], dtype=object),\n",
       "  0.8185352771872454),\n",
       " (array([5.1, 3.8, 1.5, 0.3, 'Iris-setosa'], dtype=object),\n",
       "  0.8366600265340752),\n",
       " (array([5.1, 3.8, 1.6, 0.2, 'Iris-setosa'], dtype=object),\n",
       "  0.8485281374238567),\n",
       " (array([5.4, 3.7, 1.5, 0.2, 'Iris-setosa'], dtype=object),\n",
       "  0.8660254037844388),\n",
       " (array([5.1, 3.8, 1.9, 0.4, 'Iris-setosa'], dtype=object),\n",
       "  0.9848857801796101),\n",
       " (array([5.4, 3.9, 1.3, 0.4, 'Iris-setosa'], dtype=object),\n",
       "  1.0535653752852738),\n",
       " (array([5.4, 3.9, 1.7, 0.4, 'Iris-setosa'], dtype=object),\n",
       "  1.0908712114635715),\n",
       " (array([5.2, 4.1, 1.5, 0.1, 'Iris-setosa'], dtype=object),\n",
       "  1.1489125293076055),\n",
       " (array([5.7, 3.8, 1.7, 0.3, 'Iris-setosa'], dtype=object),\n",
       "  1.1747340124470729),\n",
       " (array([5.5, 4.2, 1.4, 0.2, 'Iris-setosa'], dtype=object),\n",
       "  1.3416407864998738),\n",
       " (array([5.8, 4.0, 1.2, 0.2, 'Iris-setosa'], dtype=object), 1.360147050873544),\n",
       " (array([5.7, 4.4, 1.5, 0.4, 'Iris-setosa'], dtype=object),\n",
       "  1.6278820596099708),\n",
       " (array([5.1, 2.5, 3.0, 1.1, 'Iris-versicolor'], dtype=object),\n",
       "  1.9131126469708992),\n",
       " (array([4.9, 2.4, 3.3, 1.0, 'Iris-versicolor'], dtype=object),\n",
       "  2.1470910553583886),\n",
       " (array([5.0, 2.3, 3.3, 1.0, 'Iris-versicolor'], dtype=object),\n",
       "  2.179449471770337),\n",
       " (array([5.7, 2.6, 3.5, 1.0, 'Iris-versicolor'], dtype=object),\n",
       "  2.4186773244895647),\n",
       " (array([5.0, 2.0, 3.5, 1.0, 'Iris-versicolor'], dtype=object),\n",
       "  2.4617067250182343),\n",
       " (array([5.6, 2.9, 3.6, 1.3, 'Iris-versicolor'], dtype=object),\n",
       "  2.5592967784139455),\n",
       " (array([5.5, 2.4, 3.7, 1.0, 'Iris-versicolor'], dtype=object),\n",
       "  2.5787593916455256),\n",
       " (array([5.5, 2.4, 3.8, 1.1, 'Iris-versicolor'], dtype=object), 2.7),\n",
       " (array([5.6, 2.5, 3.9, 1.1, 'Iris-versicolor'], dtype=object),\n",
       "  2.792848008753788),\n",
       " (array([5.2, 2.7, 3.9, 1.4, 'Iris-versicolor'], dtype=object),\n",
       "  2.8053520278211073),\n",
       " (array([5.8, 2.7, 3.9, 1.2, 'Iris-versicolor'], dtype=object),\n",
       "  2.8548204847240393),\n",
       " (array([5.5, 2.5, 4.0, 1.3, 'Iris-versicolor'], dtype=object),\n",
       "  2.929163703175362),\n",
       " (array([5.8, 2.6, 4.0, 1.2, 'Iris-versicolor'], dtype=object),\n",
       "  2.9546573405388314),\n",
       " (array([5.5, 2.3, 4.0, 1.3, 'Iris-versicolor'], dtype=object),\n",
       "  2.9698484809834995),\n",
       " (array([5.8, 2.7, 4.1, 1.0, 'Iris-versicolor'], dtype=object),\n",
       "  2.971531591620725),\n",
       " (array([5.6, 3.0, 4.1, 1.3, 'Iris-versicolor'], dtype=object),\n",
       "  2.9983328701129897),\n",
       " (array([5.7, 2.8, 4.1, 1.3, 'Iris-versicolor'], dtype=object),\n",
       "  3.029851481508623),\n",
       " (array([6.0, 2.2, 4.0, 1.0, 'Iris-versicolor'], dtype=object),\n",
       "  3.0413812651491097),\n",
       " (array([6.1, 2.8, 4.0, 1.3, 'Iris-versicolor'], dtype=object),\n",
       "  3.0740852297878796),\n",
       " (array([5.7, 3.0, 4.2, 1.2, 'Iris-versicolor'], dtype=object),\n",
       "  3.0789608636681307),\n",
       " (array([5.6, 2.7, 4.2, 1.3, 'Iris-versicolor'], dtype=object),\n",
       "  3.10322412983658),\n",
       " (array([5.7, 2.9, 4.2, 1.3, 'Iris-versicolor'], dtype=object),\n",
       "  3.1144823004794877),\n",
       " (array([5.5, 2.6, 4.4, 1.2, 'Iris-versicolor'], dtype=object),\n",
       "  3.2434549480453714),\n",
       " (array([5.9, 3.0, 4.2, 1.5, 'Iris-versicolor'], dtype=object),\n",
       "  3.2449961479175906),\n",
       " (array([6.2, 2.9, 4.3, 1.3, 'Iris-versicolor'], dtype=object),\n",
       "  3.3645207682521443),\n",
       " (array([5.7, 2.8, 4.5, 1.3, 'Iris-versicolor'], dtype=object),\n",
       "  3.3911649915626345),\n",
       " (array([5.4, 3.0, 4.5, 1.5, 'Iris-versicolor'], dtype=object),\n",
       "  3.398529093593286),\n",
       " (array([5.6, 3.0, 4.5, 1.5, 'Iris-versicolor'], dtype=object),\n",
       "  3.433656942677879),\n",
       " (array([6.4, 2.9, 4.3, 1.3, 'Iris-versicolor'], dtype=object),\n",
       "  3.4467375879228173),\n",
       " (array([4.9, 2.5, 4.5, 1.7, 'Iris-virginica'], dtype=object),\n",
       "  3.479942528261063),\n",
       " (array([6.0, 2.9, 4.5, 1.5, 'Iris-versicolor'], dtype=object),\n",
       "  3.5383612025908264),\n",
       " (array([6.3, 2.3, 4.4, 1.3, 'Iris-versicolor'], dtype=object),\n",
       "  3.55808937493144),\n",
       " (array([6.0, 3.4, 4.5, 1.6, 'Iris-versicolor'], dtype=object),\n",
       "  3.59722114972099),\n",
       " (array([6.1, 3.0, 4.6, 1.4, 'Iris-versicolor'], dtype=object),\n",
       "  3.622154055254966),\n",
       " (array([6.6, 3.0, 4.4, 1.4, 'Iris-versicolor'], dtype=object),\n",
       "  3.651027252705737),\n",
       " (array([6.1, 2.8, 4.7, 1.2, 'Iris-versicolor'], dtype=object),\n",
       "  3.6565010597564442),\n",
       " (array([6.4, 3.2, 4.5, 1.5, 'Iris-versicolor'], dtype=object),\n",
       "  3.6864617182333523),\n",
       " (array([6.2, 2.2, 4.5, 1.5, 'Iris-versicolor'], dtype=object),\n",
       "  3.6918829883949464),\n",
       " (array([6.7, 3.1, 4.4, 1.4, 'Iris-versicolor'], dtype=object),\n",
       "  3.7000000000000006),\n",
       " (array([6.1, 2.9, 4.7, 1.4, 'Iris-versicolor'], dtype=object),\n",
       "  3.712142238654117),\n",
       " (array([6.6, 2.9, 4.6, 1.3, 'Iris-versicolor'], dtype=object),\n",
       "  3.788139384975162),\n",
       " (array([6.5, 2.8, 4.6, 1.5, 'Iris-versicolor'], dtype=object),\n",
       "  3.811823710509183),\n",
       " (array([6.3, 3.3, 4.7, 1.6, 'Iris-versicolor'], dtype=object),\n",
       "  3.8600518131237567),\n",
       " (array([5.9, 3.2, 4.8, 1.8, 'Iris-versicolor'], dtype=object),\n",
       "  3.893584466786357),\n",
       " (array([6.0, 3.0, 4.8, 1.8, 'Iris-virginica'], dtype=object),\n",
       "  3.9153543900903784),\n",
       " (array([6.7, 3.1, 4.7, 1.5, 'Iris-versicolor'], dtype=object),\n",
       "  3.9786932528155523),\n",
       " (array([6.2, 2.8, 4.8, 1.8, 'Iris-virginica'], dtype=object),\n",
       "  3.9812058474788765),\n",
       " (array([5.6, 2.8, 4.9, 2.0, 'Iris-virginica'], dtype=object),\n",
       "  4.0024992192379),\n",
       " (array([6.3, 2.5, 4.9, 1.5, 'Iris-versicolor'], dtype=object),\n",
       "  4.018706259482024),\n",
       " (array([6.1, 3.0, 4.9, 1.8, 'Iris-virginica'], dtype=object),\n",
       "  4.031128874149275),\n",
       " (array([6.0, 2.2, 5.0, 1.5, 'Iris-virginica'], dtype=object),\n",
       "  4.06201920231798),\n",
       " (array([6.8, 2.8, 4.8, 1.4, 'Iris-versicolor'], dtype=object),\n",
       "  4.080441152620633),\n",
       " (array([7.0, 3.2, 4.7, 1.4, 'Iris-versicolor'], dtype=object),\n",
       "  4.096339829652808),\n",
       " (array([6.3, 2.7, 4.9, 1.8, 'Iris-virginica'], dtype=object),\n",
       "  4.106093033529563),\n",
       " (array([6.0, 2.7, 5.1, 1.6, 'Iris-versicolor'], dtype=object),\n",
       "  4.11703777004778),\n",
       " (array([5.7, 2.5, 5.0, 2.0, 'Iris-virginica'], dtype=object),\n",
       "  4.134005321718878),\n",
       " (array([5.9, 3.0, 5.1, 1.8, 'Iris-virginica'], dtype=object),\n",
       "  4.153311931459037),\n",
       " (array([6.3, 2.8, 5.1, 1.5, 'Iris-virginica'], dtype=object),\n",
       "  4.168932717135165),\n",
       " (array([5.8, 2.7, 5.1, 1.9, 'Iris-virginica'], dtype=object),\n",
       "  4.180908992073374),\n",
       " (array([5.8, 2.7, 5.1, 1.9, 'Iris-virginica'], dtype=object),\n",
       "  4.180908992073374),\n",
       " (array([6.9, 3.1, 4.9, 1.5, 'Iris-versicolor'], dtype=object),\n",
       "  4.236744032862973),\n",
       " (array([6.3, 2.5, 5.0, 1.9, 'Iris-virginica'], dtype=object),\n",
       "  4.249705872175156),\n",
       " (array([6.7, 3.0, 5.0, 1.7, 'Iris-versicolor'], dtype=object),\n",
       "  4.295346318982906),\n",
       " (array([5.8, 2.8, 5.1, 2.4, 'Iris-virginica'], dtype=object),\n",
       "  4.402272140611027),\n",
       " (array([6.5, 3.2, 5.1, 2.0, 'Iris-virginica'], dtype=object),\n",
       "  4.41927595879687),\n",
       " (array([6.5, 3.0, 5.2, 2.0, 'Iris-virginica'], dtype=object),\n",
       "  4.498888751680798),\n",
       " (array([6.4, 2.7, 5.3, 1.9, 'Iris-virginica'], dtype=object),\n",
       "  4.521061822182926),\n",
       " (array([6.1, 2.6, 5.6, 1.4, 'Iris-virginica'], dtype=object),\n",
       "  4.547526800360829),\n",
       " (array([6.4, 3.1, 5.5, 1.8, 'Iris-virginica'], dtype=object),\n",
       "  4.650806381693394),\n",
       " (array([6.4, 3.2, 5.3, 2.3, 'Iris-virginica'], dtype=object),\n",
       "  4.68081189538738),\n",
       " (array([6.5, 3.0, 5.5, 1.8, 'Iris-virginica'], dtype=object),\n",
       "  4.682947789587238),\n",
       " (array([6.7, 3.0, 5.2, 2.3, 'Iris-virginica'], dtype=object),\n",
       "  4.699999999999999),\n",
       " (array([6.9, 3.1, 5.1, 2.3, 'Iris-virginica'], dtype=object),\n",
       "  4.702127178203498),\n",
       " (array([6.3, 2.9, 5.6, 1.8, 'Iris-virginica'], dtype=object),\n",
       "  4.708502946797421),\n",
       " (array([6.2, 3.4, 5.4, 2.3, 'Iris-virginica'], dtype=object),\n",
       "  4.718050444834179),\n",
       " (array([6.4, 2.8, 5.6, 2.1, 'Iris-virginica'], dtype=object),\n",
       "  4.851803788283281),\n",
       " (array([6.9, 3.1, 5.4, 2.1, 'Iris-virginica'], dtype=object),\n",
       "  4.860041152089146),\n",
       " (array([6.4, 2.8, 5.6, 2.2, 'Iris-virginica'], dtype=object),\n",
       "  4.891829923454003),\n",
       " (array([6.8, 3.0, 5.5, 2.1, 'Iris-virginica'], dtype=object),\n",
       "  4.902040391510457),\n",
       " (array([6.3, 3.4, 5.6, 2.4, 'Iris-virginica'], dtype=object),\n",
       "  4.959838707054897),\n",
       " (array([6.7, 2.5, 5.8, 1.8, 'Iris-virginica'], dtype=object),\n",
       "  5.040833264451424),\n",
       " (array([6.7, 3.3, 5.7, 2.1, 'Iris-virginica'], dtype=object),\n",
       "  5.042816673249187),\n",
       " (array([6.7, 3.1, 5.6, 2.4, 'Iris-virginica'], dtype=object),\n",
       "  5.072474741188959),\n",
       " (array([6.5, 3.0, 5.8, 2.2, 'Iris-virginica'], dtype=object),\n",
       "  5.091168824543142),\n",
       " (array([7.2, 3.0, 5.8, 1.6, 'Iris-virginica'], dtype=object),\n",
       "  5.158488150611572),\n",
       " (array([6.9, 3.2, 5.7, 2.3, 'Iris-virginica'], dtype=object),\n",
       "  5.1903757089443925),\n",
       " (array([6.7, 3.3, 5.7, 2.5, 'Iris-virginica'], dtype=object),\n",
       "  5.206726418777926),\n",
       " (array([6.8, 3.2, 5.9, 2.3, 'Iris-virginica'], dtype=object),\n",
       "  5.320714237769211),\n",
       " (array([6.3, 3.3, 6.0, 2.5, 'Iris-virginica'], dtype=object),\n",
       "  5.338539126015655),\n",
       " (array([7.1, 3.0, 5.9, 2.1, 'Iris-virginica'], dtype=object),\n",
       "  5.357238094391549),\n",
       " (array([7.2, 3.2, 6.0, 1.8, 'Iris-virginica'], dtype=object),\n",
       "  5.389805191284746),\n",
       " (array([7.4, 2.8, 6.1, 1.9, 'Iris-virginica'], dtype=object),\n",
       "  5.591958512006325),\n",
       " (array([7.3, 2.9, 6.3, 1.8, 'Iris-virginica'], dtype=object),\n",
       "  5.686826883245173),\n",
       " (array([7.2, 3.6, 6.1, 2.5, 'Iris-virginica'], dtype=object),\n",
       "  5.747173218200404),\n",
       " (array([7.7, 3.0, 6.1, 2.3, 'Iris-virginica'], dtype=object),\n",
       "  5.860034129593443),\n",
       " (array([7.9, 3.8, 6.4, 2.0, 'Iris-virginica'], dtype=object),\n",
       "  6.154673021371647),\n",
       " (array([7.6, 3.0, 6.6, 2.1, 'Iris-virginica'], dtype=object),\n",
       "  6.159545437773796),\n",
       " (array([7.7, 2.8, 6.7, 2.0, 'Iris-virginica'], dtype=object),\n",
       "  6.2617888817813085),\n",
       " (array([7.7, 3.8, 6.7, 2.2, 'Iris-virginica'], dtype=object),\n",
       "  6.369458375717672),\n",
       " (array([7.7, 2.6, 6.9, 2.3, 'Iris-virginica'], dtype=object),\n",
       "  6.5314623171231725)]"
      ]
     },
     "execution_count": 35,
     "metadata": {},
     "output_type": "execute_result"
    }
   ],
   "source": [
    "get_neighbors(df, df[0], 3) # it didn't use num_neighbors, sorted all list."
   ]
  },
  {
   "cell_type": "code",
   "execution_count": 36,
   "metadata": {
    "hidden": true
   },
   "outputs": [],
   "source": [
    "# Added num_neighbors in different for loop.\n",
    "\n",
    "def get_neighbors(train, test_row, num_neighbors):\n",
    "    distances_list = list()\n",
    "    for row in train:\n",
    "        distance = euclidean_distance(test_row, row)\n",
    "        distances_list.append((row, distance)) \n",
    "    \n",
    "    distances_list.sort(key=lambda x: x[1]) # sorting the list of tuples according to second element\n",
    "    neighbors = list()\n",
    "    for i in range(num_neighbors):\n",
    "        neighbors.append(distances_list[i][0]) # take only neighbors not distances\n",
    "    \n",
    "    return neighbors"
   ]
  },
  {
   "cell_type": "code",
   "execution_count": 37,
   "metadata": {
    "hidden": true
   },
   "outputs": [
    {
     "data": {
      "text/plain": [
       "[array([4.9, 3.0, 1.4, 0.2, 'Iris-setosa'], dtype=object),\n",
       " array([4.8, 3.0, 1.4, 0.3, 'Iris-setosa'], dtype=object),\n",
       " array([4.8, 3.0, 1.4, 0.1, 'Iris-setosa'], dtype=object)]"
      ]
     },
     "execution_count": 37,
     "metadata": {},
     "output_type": "execute_result"
    }
   ],
   "source": [
    "get_neighbors(df, df[0], 3) "
   ]
  },
  {
   "cell_type": "code",
   "execution_count": 38,
   "metadata": {
    "hidden": true
   },
   "outputs": [
    {
     "name": "stdout",
     "output_type": "stream",
     "text": [
      "[4.9 3.0 1.4 0.2 'Iris-setosa']\n",
      "[4.8 3.0 1.4 0.3 'Iris-setosa']\n",
      "[4.8 3.0 1.4 0.1 'Iris-setosa']\n"
     ]
    }
   ],
   "source": [
    "neighbors = get_neighbors(df, df[0], 3)\n",
    "for neighbor in neighbors:\n",
    "    print(neighbor)"
   ]
  },
  {
   "cell_type": "markdown",
   "metadata": {
    "heading_collapsed": true
   },
   "source": [
    "## Step 3: Make Predictions"
   ]
  },
  {
   "cell_type": "markdown",
   "metadata": {
    "hidden": true
   },
   "source": [
    "We will return the most represented class among the neighbors."
   ]
  },
  {
   "cell_type": "code",
   "execution_count": 39,
   "metadata": {
    "hidden": true
   },
   "outputs": [],
   "source": [
    "def euclidean_distance(row1, row2):\n",
    "    distance = 0\n",
    "    for i in range(len(row1)-1): # ignored iris type\n",
    "        distance = distance + ((row1[i]-row2[i])**2)\n",
    "        \n",
    "    return math.sqrt(distance)"
   ]
  },
  {
   "cell_type": "code",
   "execution_count": 40,
   "metadata": {
    "hidden": true
   },
   "outputs": [],
   "source": [
    "def get_neighbors(train, test_row, num_neighbors):\n",
    "    distances_list = list()\n",
    "    for row in train:\n",
    "        distance = euclidean_distance(test_row, row)\n",
    "        distances_list.append((row, distance)) \n",
    "    \n",
    "    distances_list.sort(key=lambda x: x[1]) # sorting the list of tuples according to second element\n",
    "    neighbors = list()\n",
    "    for i in range(num_neighbors):\n",
    "        neighbors.append(distances_list[i][0]) # take only neighbors not distances\n",
    "    \n",
    "    return neighbors"
   ]
  },
  {
   "cell_type": "code",
   "execution_count": 41,
   "metadata": {
    "hidden": true
   },
   "outputs": [
    {
     "name": "stdout",
     "output_type": "stream",
     "text": [
      "[4.9 3.0 1.4 0.2 'Iris-setosa']\n",
      "[4.8 3.0 1.4 0.3 'Iris-setosa']\n",
      "[4.8 3.0 1.4 0.1 'Iris-setosa']\n"
     ]
    }
   ],
   "source": [
    "neighbors = get_neighbors(df, df[0], 3)\n",
    "for neighbor in neighbors:\n",
    "    print(neighbor)"
   ]
  },
  {
   "cell_type": "code",
   "execution_count": 43,
   "metadata": {
    "hidden": true
   },
   "outputs": [
    {
     "name": "stdout",
     "output_type": "stream",
     "text": [
      "Iris-setosa\n",
      "Iris-setosa\n",
      "Iris-setosa\n"
     ]
    }
   ],
   "source": [
    "neighbors = get_neighbors(df, df[0], 3)\n",
    "for neighbor in neighbors:\n",
    "    print(neighbor[-1])"
   ]
  },
  {
   "cell_type": "code",
   "execution_count": 44,
   "metadata": {
    "hidden": true
   },
   "outputs": [],
   "source": [
    "neighbors = get_neighbors(df, df[0], 3)"
   ]
  },
  {
   "cell_type": "code",
   "execution_count": 45,
   "metadata": {
    "hidden": true
   },
   "outputs": [
    {
     "data": {
      "text/plain": [
       "[array([4.9, 3.0, 1.4, 0.2, 'Iris-setosa'], dtype=object),\n",
       " array([4.8, 3.0, 1.4, 0.3, 'Iris-setosa'], dtype=object),\n",
       " array([4.8, 3.0, 1.4, 0.1, 'Iris-setosa'], dtype=object)]"
      ]
     },
     "execution_count": 45,
     "metadata": {},
     "output_type": "execute_result"
    }
   ],
   "source": [
    "neighbors"
   ]
  },
  {
   "cell_type": "code",
   "execution_count": 48,
   "metadata": {
    "hidden": true
   },
   "outputs": [
    {
     "data": {
      "text/plain": [
       "'Iris-setosa'"
      ]
     },
     "execution_count": 48,
     "metadata": {},
     "output_type": "execute_result"
    }
   ],
   "source": [
    "neighbors[0][-1]"
   ]
  },
  {
   "cell_type": "code",
   "execution_count": 55,
   "metadata": {
    "hidden": true
   },
   "outputs": [],
   "source": [
    "neighbors = get_neighbors(df, df[0], 3)\n",
    "output_values = list()\n",
    "for neighbor in neighbors:\n",
    "    output_values.append(neighbor[-1])"
   ]
  },
  {
   "cell_type": "code",
   "execution_count": 56,
   "metadata": {
    "hidden": true
   },
   "outputs": [
    {
     "data": {
      "text/plain": [
       "['Iris-setosa', 'Iris-setosa', 'Iris-setosa']"
      ]
     },
     "execution_count": 56,
     "metadata": {},
     "output_type": "execute_result"
    }
   ],
   "source": [
    "output_values "
   ]
  },
  {
   "cell_type": "code",
   "execution_count": 70,
   "metadata": {
    "hidden": true
   },
   "outputs": [],
   "source": [
    "neighbors = get_neighbors(df, df[100], 100)\n",
    "output_values = [neighbor[-1] for neighbor in neighbors]"
   ]
  },
  {
   "cell_type": "code",
   "execution_count": 71,
   "metadata": {
    "collapsed": true,
    "hidden": true
   },
   "outputs": [
    {
     "data": {
      "text/plain": [
       "['Iris-virginica',\n",
       " 'Iris-virginica',\n",
       " 'Iris-virginica',\n",
       " 'Iris-virginica',\n",
       " 'Iris-virginica',\n",
       " 'Iris-versicolor',\n",
       " 'Iris-virginica',\n",
       " 'Iris-virginica',\n",
       " 'Iris-virginica',\n",
       " 'Iris-virginica',\n",
       " 'Iris-virginica',\n",
       " 'Iris-virginica',\n",
       " 'Iris-versicolor',\n",
       " 'Iris-virginica',\n",
       " 'Iris-virginica',\n",
       " 'Iris-virginica',\n",
       " 'Iris-versicolor',\n",
       " 'Iris-versicolor',\n",
       " 'Iris-virginica',\n",
       " 'Iris-versicolor',\n",
       " 'Iris-virginica',\n",
       " 'Iris-virginica',\n",
       " 'Iris-versicolor',\n",
       " 'Iris-virginica',\n",
       " 'Iris-versicolor',\n",
       " 'Iris-virginica',\n",
       " 'Iris-virginica',\n",
       " 'Iris-versicolor',\n",
       " 'Iris-versicolor',\n",
       " 'Iris-virginica',\n",
       " 'Iris-virginica',\n",
       " 'Iris-versicolor',\n",
       " 'Iris-virginica',\n",
       " 'Iris-versicolor',\n",
       " 'Iris-virginica',\n",
       " 'Iris-versicolor',\n",
       " 'Iris-versicolor',\n",
       " 'Iris-versicolor',\n",
       " 'Iris-versicolor',\n",
       " 'Iris-versicolor',\n",
       " 'Iris-virginica',\n",
       " 'Iris-versicolor',\n",
       " 'Iris-versicolor',\n",
       " 'Iris-virginica',\n",
       " 'Iris-versicolor',\n",
       " 'Iris-versicolor',\n",
       " 'Iris-versicolor',\n",
       " 'Iris-virginica',\n",
       " 'Iris-virginica',\n",
       " 'Iris-versicolor',\n",
       " 'Iris-versicolor',\n",
       " 'Iris-versicolor',\n",
       " 'Iris-virginica',\n",
       " 'Iris-versicolor',\n",
       " 'Iris-virginica',\n",
       " 'Iris-versicolor',\n",
       " 'Iris-versicolor',\n",
       " 'Iris-versicolor',\n",
       " 'Iris-versicolor',\n",
       " 'Iris-virginica',\n",
       " 'Iris-versicolor',\n",
       " 'Iris-virginica',\n",
       " 'Iris-virginica',\n",
       " 'Iris-versicolor',\n",
       " 'Iris-virginica',\n",
       " 'Iris-versicolor',\n",
       " 'Iris-versicolor',\n",
       " 'Iris-versicolor',\n",
       " 'Iris-versicolor',\n",
       " 'Iris-virginica',\n",
       " 'Iris-versicolor',\n",
       " 'Iris-versicolor',\n",
       " 'Iris-virginica',\n",
       " 'Iris-versicolor',\n",
       " 'Iris-virginica',\n",
       " 'Iris-versicolor',\n",
       " 'Iris-virginica',\n",
       " 'Iris-versicolor',\n",
       " 'Iris-versicolor',\n",
       " 'Iris-versicolor',\n",
       " 'Iris-virginica',\n",
       " 'Iris-versicolor',\n",
       " 'Iris-virginica',\n",
       " 'Iris-versicolor',\n",
       " 'Iris-versicolor',\n",
       " 'Iris-virginica',\n",
       " 'Iris-versicolor',\n",
       " 'Iris-virginica',\n",
       " 'Iris-virginica',\n",
       " 'Iris-virginica',\n",
       " 'Iris-versicolor',\n",
       " 'Iris-versicolor',\n",
       " 'Iris-virginica',\n",
       " 'Iris-versicolor',\n",
       " 'Iris-versicolor',\n",
       " 'Iris-virginica',\n",
       " 'Iris-virginica',\n",
       " 'Iris-virginica',\n",
       " 'Iris-virginica',\n",
       " 'Iris-virginica']"
      ]
     },
     "execution_count": 71,
     "metadata": {},
     "output_type": "execute_result"
    }
   ],
   "source": [
    "output_values"
   ]
  },
  {
   "cell_type": "code",
   "execution_count": 77,
   "metadata": {
    "hidden": true
   },
   "outputs": [
    {
     "data": {
      "text/plain": [
       "'Iris-versicolor'"
      ]
     },
     "execution_count": 77,
     "metadata": {},
     "output_type": "execute_result"
    }
   ],
   "source": [
    "max(set(output_values), key=output_values.count) # count most represented values"
   ]
  },
  {
   "cell_type": "code",
   "execution_count": 78,
   "metadata": {
    "hidden": true
   },
   "outputs": [],
   "source": [
    "def euclidean_distance(row1, row2):\n",
    "    distance = 0\n",
    "    for i in range(len(row1)-1): # ignored iris type\n",
    "        distance = distance + ((row1[i]-row2[i])**2)\n",
    "        \n",
    "    return math.sqrt(distance)"
   ]
  },
  {
   "cell_type": "code",
   "execution_count": 79,
   "metadata": {
    "hidden": true
   },
   "outputs": [],
   "source": [
    "def get_neighbors(train, test_row, num_neighbors):\n",
    "    distances_list = list()\n",
    "    for row in train:\n",
    "        distance = euclidean_distance(test_row, row)\n",
    "        distances_list.append((row, distance)) \n",
    "    \n",
    "    distances_list.sort(key=lambda x: x[1]) # sorting the list of tuples according to second element\n",
    "    neighbors = list()\n",
    "    for i in range(num_neighbors):\n",
    "        neighbors.append(distances_list[i][0]) # take only neighbors not distances\n",
    "    \n",
    "    return neighbors"
   ]
  },
  {
   "cell_type": "code",
   "execution_count": 80,
   "metadata": {
    "hidden": true
   },
   "outputs": [],
   "source": [
    "def predict_classification(train, test_row, num_neighbors):\n",
    "    neighbors = get_neighbors(train, test_row, num_neighbors)\n",
    "    output_values = [neighbor[-1] for neighbor in neighbors]\n",
    "    prediction = max(set(output_values), key=output_values.count)\n",
    "    return prediction"
   ]
  },
  {
   "cell_type": "code",
   "execution_count": 81,
   "metadata": {
    "hidden": true
   },
   "outputs": [
    {
     "data": {
      "text/plain": [
       "'Iris-versicolor'"
      ]
     },
     "execution_count": 81,
     "metadata": {},
     "output_type": "execute_result"
    }
   ],
   "source": [
    "predict_classification(df, df[100], 100)"
   ]
  },
  {
   "cell_type": "markdown",
   "metadata": {
    "heading_collapsed": true
   },
   "source": [
    "## Step 4: Evaluate Predictions"
   ]
  },
  {
   "cell_type": "markdown",
   "metadata": {
    "hidden": true
   },
   "source": [
    "<font color='green'> **df[100] gerçekte neymiş buna bakalım ve KNN 100 yakın komşulukla ne bulmuş buna bakalım.**</font>"
   ]
  },
  {
   "cell_type": "code",
   "execution_count": 85,
   "metadata": {
    "hidden": true
   },
   "outputs": [],
   "source": [
    "prediction = predict_classification(df, df[100], 100) "
   ]
  },
  {
   "cell_type": "code",
   "execution_count": 89,
   "metadata": {
    "hidden": true
   },
   "outputs": [
    {
     "name": "stdout",
     "output_type": "stream",
     "text": [
      "gerçekte: Iris-virginica, KNN'in bulduğu: Iris-versicolor\n"
     ]
    }
   ],
   "source": [
    "print(f\"gerçekte: {df[100][-1]}, KNN'in bulduğu: {prediction}\")"
   ]
  },
  {
   "cell_type": "markdown",
   "metadata": {
    "hidden": true
   },
   "source": [
    "<font color='green'>**df[100]'ü 10 yakın komşulukla bulmaya çalışalım.** </font>"
   ]
  },
  {
   "cell_type": "code",
   "execution_count": 90,
   "metadata": {
    "hidden": true
   },
   "outputs": [],
   "source": [
    "prediction = predict_classification(df, df[100], 10)"
   ]
  },
  {
   "cell_type": "code",
   "execution_count": 91,
   "metadata": {
    "hidden": true
   },
   "outputs": [
    {
     "name": "stdout",
     "output_type": "stream",
     "text": [
      "gerçekte: Iris-virginica, KNN'in bulduğu: Iris-virginica\n"
     ]
    }
   ],
   "source": [
    "print(f\"gerçekte: {df[100][-1]}, KNN'in bulduğu: {prediction}\")"
   ]
  },
  {
   "cell_type": "markdown",
   "metadata": {
    "hidden": true
   },
   "source": [
    "<font color='green'>**Komşu sayısını azaltınca daha isabetli karar veriyor.** </font>"
   ]
  }
 ],
 "metadata": {
  "kernelspec": {
   "display_name": "Python 3",
   "language": "python",
   "name": "python3"
  },
  "language_info": {
   "codemirror_mode": {
    "name": "ipython",
    "version": 3
   },
   "file_extension": ".py",
   "mimetype": "text/x-python",
   "name": "python",
   "nbconvert_exporter": "python",
   "pygments_lexer": "ipython3",
   "version": "3.7.6"
  }
 },
 "nbformat": 4,
 "nbformat_minor": 2
}
