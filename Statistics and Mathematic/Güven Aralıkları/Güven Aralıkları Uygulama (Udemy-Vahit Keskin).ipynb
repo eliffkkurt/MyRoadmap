{
 "cells": [
  {
   "cell_type": "markdown",
   "metadata": {},
   "source": [
    "<font color='green'> \n",
    "**Udemy - (50 Saat) Python A-Z™: Veri Bilimi ve Machine Learning**\n",
    "7. Bölüm - Veri Bilimi İçin İstatistik (183. video) - Vahit Keskin anlattı. </font>"
   ]
  },
  {
   "cell_type": "markdown",
   "metadata": {},
   "source": [
    "## İş Uygulaması: Fiyat Stratejisi Karar Destek Sistemi"
   ]
  },
  {
   "cell_type": "markdown",
   "metadata": {},
   "source": [
    "**Problem:** \n",
    "\n",
    "- CEO fiyat belirleme konusunda bilimsel bir dayanak ve esneklik istiyor.\n",
    "\n",
    "**Detaylar:** \n",
    "\n",
    "- Satıcı, alıcı ve bir ürün var.\n",
    "- Alıcılara ürüne ne kadar ücret öderdiniz diye soruluyor. (Kimse birbirinin teklif ettiği fiyatı göremiyor.)\n",
    "- Optimum fiyat bilimsel ve esnek olarak bulunmak isteniyor.\n"
   ]
  },
  {
   "cell_type": "markdown",
   "metadata": {},
   "source": [
    "Elimizde bir ürün var. Bu ürünü satmak istiyoruz, bu ürüne bir fiyat belirlememiz gerekiyor. Ama bu fiyatı belirlerken bilimsel bir dayanak ve çeşitli senaryolara göre esneklik istiyoruz. Optimum bir şekilde alınabilecek olan tüm parayı almak istiyoruz."
   ]
  },
  {
   "cell_type": "markdown",
   "metadata": {},
   "source": [
    "**Çözüm:**\n",
    "- İnsanların ödemeyi göze aldıkları tüm fiyatların ortalamasını alıp insanların ödemeyi göze aldığı fiyat için ortalamayı verebiliriz. Basit bir yaklaşımla ürünümüzün fiyatını ortalama fiyat olarak belirleyebiliriz. Ama daha ileri seviyesi olarak buna bilimsel bir dayanak koyalım ve bir de esneklik istiyoruz. Evet ben fiyatı vermek istiyorum ama bazen gerekirse deneme yapmak amacıyla sürümden kazanmak niyetiyle olabilir, daha fazla müşteri çekmek niyetiyle olabilir düşük fiyatla da verebilirim, bazen de yüksek fiyattan da verebilirim. Ama bana hem bilimsel anlamda hem de bu esnekliği sağlayacak şekilde bir çalışma gerçekleştirin dendiğinde bunun istatistikte, veri bilimdeki karşılığı güven aralığıdır.\n",
    "\n",
    "Bu güven aralığı bilimseldir. Çünkü 100 denemeden 95'inde yapılacak olan teklifler bu aralıktadır. Eğer bu değerlere göre karar alırsanız ancak istatistiki olarak %5 yanılma payımız var. "
   ]
  },
  {
   "cell_type": "code",
   "execution_count": 1,
   "metadata": {},
   "outputs": [],
   "source": [
    "import numpy as np"
   ]
  },
  {
   "cell_type": "code",
   "execution_count": 2,
   "metadata": {},
   "outputs": [],
   "source": [
    "fiyatlar = np.random.randint(10,110,1000) \n",
    "\n",
    "# Verilecek olan fiyatlar 10 TL ile 110 TL arasında değişsin, \n",
    "# 1000 kişiyle bu konuda görüşme gerçekleştirmiş olalım."
   ]
  },
  {
   "cell_type": "code",
   "execution_count": 3,
   "metadata": {},
   "outputs": [
    {
     "data": {
      "text/plain": [
       "58.571"
      ]
     },
     "execution_count": 3,
     "metadata": {},
     "output_type": "execute_result"
    }
   ],
   "source": [
    "fiyatlar.mean()"
   ]
  },
  {
   "cell_type": "markdown",
   "metadata": {},
   "source": [
    "Güven aralığını buluyoruz. "
   ]
  },
  {
   "cell_type": "code",
   "execution_count": 6,
   "metadata": {},
   "outputs": [
    {
     "data": {
      "text/plain": [
       "(56.76019527906491, 60.38180472093509)"
      ]
     },
     "execution_count": 6,
     "metadata": {},
     "output_type": "execute_result"
    }
   ],
   "source": [
    "# 1. yöntem\n",
    "\n",
    "import statsmodels.stats.api as sms\n",
    "sms.DescrStatsW(fiyatlar).tconfint_mean() # confint: confidence interval'ın kısaltması"
   ]
  },
  {
   "cell_type": "code",
   "execution_count": 8,
   "metadata": {},
   "outputs": [
    {
     "data": {
      "text/plain": [
       "(56.76019527906491, 60.38180472093509)"
      ]
     },
     "execution_count": 8,
     "metadata": {},
     "output_type": "execute_result"
    }
   ],
   "source": [
    "# 2. yöntem\n",
    "\n",
    "import scipy.stats as st\n",
    "st.t.interval(alpha=0.95, df=len(fiyatlar)-1, loc=np.mean(fiyatlar), scale=st.sem(fiyatlar)) "
   ]
  },
  {
   "cell_type": "markdown",
   "metadata": {},
   "source": [
    "Çıkaracak olduğumuz ürünü satın almak üzere kullanıcıların ödemeyi göze aldığı ücret istatistiksel olarak %95 güvenilirlik ile 57 ile 61 arasındadır. Diğer ifadeyle, kullanıcıların ancak %5'i bu ürüne ödemek üzere 57 ile 61 aralığının dışında bir bedel öngörmektedir. Dolayısıyla eğer biz bu aralıkları göz önünde bulundurarak karar verirsek kullanıcılarımızın %95'ini kapsamış oluruz. "
   ]
  }
 ],
 "metadata": {
  "kernelspec": {
   "display_name": "Python 3",
   "language": "python",
   "name": "python3"
  },
  "language_info": {
   "codemirror_mode": {
    "name": "ipython",
    "version": 3
   },
   "file_extension": ".py",
   "mimetype": "text/x-python",
   "name": "python",
   "nbconvert_exporter": "python",
   "pygments_lexer": "ipython3",
   "version": "3.7.6"
  }
 },
 "nbformat": 4,
 "nbformat_minor": 2
}
