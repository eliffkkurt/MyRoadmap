{
 "cells": [
  {
   "cell_type": "markdown",
   "metadata": {},
   "source": [
    "<font color='green'> \n",
    "**Udemy - (50 Saat) Python A-Z™: Veri Bilimi ve Machine Learning**\n",
    "7. Bölüm - Veri Bilimi İçin İstatistik (186. video) - Vahit Keskin anlattı. </font>"
   ]
  },
  {
   "cell_type": "markdown",
   "metadata": {},
   "source": [
    "# Bernoulli Dağılımı Uygulama\n"
   ]
  },
  {
   "cell_type": "markdown",
   "metadata": {},
   "source": [
    "${\\displaystyle f(k;p)=p^{k}(1-p)^{1-k}\\quad {\\text{for }}k\\in \\{0,1\\}}$\n",
    "\n",
    "\n",
    "${\\displaystyle \\operatorname {E} \\left(X\\right)=p}$\n",
    "\n",
    "$\\operatorname {Var} [X]=pq=p(1-p)$"
   ]
  },
  {
   "cell_type": "markdown",
   "metadata": {},
   "source": [
    "Bernoulli dağılımı için olasılık hesaplama işlemi gerçekleştireceğiz. Olasılık dağılımlarıyla ilgili işlemler için scipy ismi verilen bir kütüphane kullanıyoruz. `from scipy.stats import bernoulli` Burada import ettiğimiz bernoulli fonksiyonu üzerinden yukarıdaki f(k;p) ifadesini kullanarak bir olasılık hesabı yapacağız.  "
   ]
  },
  {
   "cell_type": "markdown",
   "metadata": {},
   "source": [
    "p: iki sonuçlu bir olayı ifade ediyor. p tura gelme olasılığını 0.6 olarak biliyor olalım. "
   ]
  },
  {
   "cell_type": "markdown",
   "metadata": {},
   "source": [
    "pmf: probability mass functions ifadesinin kısaltılmışı olan olasılık kütle fonksiyonu"
   ]
  },
  {
   "cell_type": "code",
   "execution_count": 4,
   "metadata": {},
   "outputs": [
    {
     "data": {
      "text/plain": [
       "0.6"
      ]
     },
     "execution_count": 4,
     "metadata": {},
     "output_type": "execute_result"
    }
   ],
   "source": [
    "from scipy.stats import bernoulli\n",
    "p = 0.6\n",
    "rv = bernoulli(p)\n",
    "rv.pmf(k=1) # tura gelme olasılığını hesaplıyor"
   ]
  },
  {
   "cell_type": "code",
   "execution_count": 5,
   "metadata": {},
   "outputs": [
    {
     "data": {
      "text/plain": [
       "0.4"
      ]
     },
     "execution_count": 5,
     "metadata": {},
     "output_type": "execute_result"
    }
   ],
   "source": [
    "rv.pmf(k=0) # yazı gelme olasılığını hesaplıyor"
   ]
  },
  {
   "cell_type": "markdown",
   "metadata": {},
   "source": [
    "``````\n",
    "k = 1 ise\n",
    "\n",
    "(0.6^1)*(0.4^0)= 0.6\n",
    "\n",
    "k = 0 ise \n",
    "\n",
    "(0.6^0)*(0.4^1)= 0.4\n",
    "``````\n"
   ]
  }
 ],
 "metadata": {
  "kernelspec": {
   "display_name": "Python 3",
   "language": "python",
   "name": "python3"
  },
  "language_info": {
   "codemirror_mode": {
    "name": "ipython",
    "version": 3
   },
   "file_extension": ".py",
   "mimetype": "text/x-python",
   "name": "python",
   "nbconvert_exporter": "python",
   "pygments_lexer": "ipython3",
   "version": "3.7.6"
  }
 },
 "nbformat": 4,
 "nbformat_minor": 2
}
