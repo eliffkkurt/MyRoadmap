{
 "cells": [
  {
   "cell_type": "markdown",
   "metadata": {},
   "source": [
    "<font color='green'> \n",
    "**Udemy - (50 Saat) Python A-Z™: Veri Bilimi ve Machine Learning**\n",
    "7. Bölüm - Veri Bilimi İçin İstatistik (179. video) - Vahit Keskin anlattı. </font>"
   ]
  },
  {
   "cell_type": "markdown",
   "metadata": {},
   "source": [
    "# Örnek Teorisi Uygulama"
   ]
  },
  {
   "cell_type": "markdown",
   "metadata": {},
   "source": [
    "Varsayalım ki bir ilçedeki kişilerin yaşlarına ilişkin bir çıkarımda bulunmak istiyoruz. Bu ilçedeki kişilerin yaş ortalamasını merak ediyoruz. Ama bu ilçede 10.000 kişi yaşıyor ve bu 10 bin kişinin her birisiyle gidip tek tek görüşüp bunun ortalamasını almak çok da mümkün değil. Bunun yerine bunun içerisinde 100 kişilik örneklem çekip bu 100 kişinin yaş ortalamasını inceleyip bu ilçeyle alakalı yaş ortalamasının ne olacağını tahmin etmek istiyoruz. "
   ]
  },
  {
   "cell_type": "markdown",
   "metadata": {},
   "source": [
    "### Populasyon Oluşturma"
   ]
  },
  {
   "cell_type": "code",
   "execution_count": 1,
   "metadata": {},
   "outputs": [],
   "source": [
    "import numpy as np\n",
    "populasyon = np.random.randint(0, 80, 10000) \n",
    "# 0 ile 80 yaş arasında 10.000 tane kişi olacak şekilde populasyon oluşturuyoruz."
   ]
  },
  {
   "cell_type": "code",
   "execution_count": 2,
   "metadata": {},
   "outputs": [
    {
     "data": {
      "text/plain": [
       "array([63, 70, 25, ..., 21,  7, 14])"
      ]
     },
     "execution_count": 2,
     "metadata": {},
     "output_type": "execute_result"
    }
   ],
   "source": [
    "populasyon"
   ]
  },
  {
   "cell_type": "code",
   "execution_count": 3,
   "metadata": {},
   "outputs": [
    {
     "data": {
      "text/plain": [
       "array([63, 70, 25, 36, 46, 62, 49, 34, 32, 13])"
      ]
     },
     "execution_count": 3,
     "metadata": {},
     "output_type": "execute_result"
    }
   ],
   "source": [
    "populasyon[0:10]"
   ]
  },
  {
   "cell_type": "markdown",
   "metadata": {},
   "source": [
    "### Örneklem Çekimi"
   ]
  },
  {
   "cell_type": "markdown",
   "metadata": {},
   "source": [
    "Pythonda örneklem çekmek için kullanılabilecek birçok yaklaşım var. Bizim burada ele alacak olduğumuz numpy'ın içerisindeki random fonksiyonu. Bunun öncesinde bir seed ayarı yapmamız lazım. Bu, yapılacak olan işlemlerin her tekrar edildiğinde aynı sonuçları getirmesini garanti altına alan bir işlem. `np.random.seed(115)` dediğimde mesela bir yapıya göre örnek çekecek. Daha sonra bir daha çekmek istediğinde yine aynı yapıya göre çekecek. Ama eğer buraya random.seed'i koymazsam her fonksiyonu tekrar çalıştırdığında farklı örneklemler çekmiş olacak."
   ]
  },
  {
   "cell_type": "markdown",
   "metadata": {},
   "source": [
    "*np.random.seed() yazmazsak her çalıştırdığımızda farklı sonuçlar üretiyor.*"
   ]
  },
  {
   "cell_type": "code",
   "execution_count": 5,
   "metadata": {},
   "outputs": [
    {
     "data": {
      "text/plain": [
       "array([26, 23, 21, 61,  2, 10,  0, 59, 70, 28])"
      ]
     },
     "execution_count": 5,
     "metadata": {},
     "output_type": "execute_result"
    }
   ],
   "source": [
    "orneklem = np.random.choice(a = populasyon, size = 100) \n",
    "orneklem[0:10] "
   ]
  },
  {
   "cell_type": "markdown",
   "metadata": {},
   "source": [
    "*np.random.seed() yazıp devam ediyoruz.*"
   ]
  },
  {
   "cell_type": "code",
   "execution_count": 4,
   "metadata": {},
   "outputs": [
    {
     "data": {
      "text/plain": [
       "array([39, 16, 35, 57, 50, 10, 40, 69,  7, 59])"
      ]
     },
     "execution_count": 4,
     "metadata": {},
     "output_type": "execute_result"
    }
   ],
   "source": [
    "np.random.seed(115)\n",
    "orneklem = np.random.choice(a = populasyon, size = 100) \n",
    "# populasyonun içerisinden rastgele 100 tane örnek çek.\n",
    "\n",
    "orneklem[0:10] \n",
    "# hep aynı sonuçları üretiyor."
   ]
  },
  {
   "cell_type": "markdown",
   "metadata": {},
   "source": [
    "Şu anda populasyonumuz içerisinden 100 tane gözlemi rastgele alacak şekilde çektik. Bunun ortalaması nedir diye bakıyoruz."
   ]
  },
  {
   "cell_type": "code",
   "execution_count": 6,
   "metadata": {},
   "outputs": [
    {
     "data": {
      "text/plain": [
       "42.99"
      ]
     },
     "execution_count": 6,
     "metadata": {},
     "output_type": "execute_result"
    }
   ],
   "source": [
    "orneklem.mean()"
   ]
  },
  {
   "cell_type": "markdown",
   "metadata": {},
   "source": [
    "Populasyonun ortalaması nedir?"
   ]
  },
  {
   "cell_type": "code",
   "execution_count": 7,
   "metadata": {},
   "outputs": [
    {
     "data": {
      "text/plain": [
       "39.8104"
      ]
     },
     "execution_count": 7,
     "metadata": {},
     "output_type": "execute_result"
    }
   ],
   "source": [
    "populasyon.mean()"
   ]
  },
  {
   "cell_type": "markdown",
   "metadata": {},
   "source": [
    "Örneklemin ve populasyonun ortalaması birbirine çok yakın. Bu, örneklem teorisinin gücünü ifade ediyor. Bunun üzerine bazı istatistiksel yorumlar yapacağız ileride. Diyeceğiz ki %95 güvenilirlik ile bu ortalama şu değerle şu değer arasındadır dediğimizde artık bilimsel anlamda belirli bir güven düzeyi de vererek elde ettiğimiz bu örnek üzerinden olan istatistikleri daha bilimsel, daha güvenilir bir şekilde yorumlayabiliyor olacağız. "
   ]
  },
  {
   "cell_type": "markdown",
   "metadata": {},
   "source": [
    "### Örneklem Dağılımı"
   ]
  },
  {
   "cell_type": "markdown",
   "metadata": {},
   "source": [
    "Ben bu populasyon içerisinden rastgele 100 tane örnek çektim. Yani bir tane örneklem çektim. Peki hangi 100 taneyi çekmiş oldum? Ya farklı bir 100'lük gelseydi? Buna yönelik olarak farklı farklı örneklemler çekeceğiz. Yani örneklemlerin artık dağılımı elimizde olmuş olacak. "
   ]
  },
  {
   "cell_type": "code",
   "execution_count": 8,
   "metadata": {},
   "outputs": [],
   "source": [
    "np.random.seed(10)\n",
    "orneklem1 = np.random.choice(a = populasyon, size = 100)\n",
    "orneklem2 = np.random.choice(a = populasyon, size = 100)\n",
    "orneklem3 = np.random.choice(a = populasyon, size = 100)\n",
    "orneklem4 = np.random.choice(a = populasyon, size = 100)\n",
    "orneklem5 = np.random.choice(a = populasyon, size = 100)\n",
    "orneklem6 = np.random.choice(a = populasyon, size = 100)\n",
    "orneklem7 = np.random.choice(a = populasyon, size = 100)\n",
    "orneklem8 = np.random.choice(a = populasyon, size = 100)\n",
    "orneklem9 = np.random.choice(a = populasyon, size = 100)\n",
    "orneklem10 = np.random.choice(a = populasyon, size = 100)"
   ]
  },
  {
   "cell_type": "markdown",
   "metadata": {},
   "source": [
    "Elimizdeki bu bütün örneklemlerin her birinin ortalamasını alıp bunların da ortalamasını alacağız."
   ]
  },
  {
   "cell_type": "code",
   "execution_count": 9,
   "metadata": {},
   "outputs": [
    {
     "data": {
      "text/plain": [
       "40.222"
      ]
     },
     "execution_count": 9,
     "metadata": {},
     "output_type": "execute_result"
    }
   ],
   "source": [
    "(orneklem1.mean() + orneklem2.mean() + orneklem3.mean() + orneklem4.mean() + orneklem5.mean() \n",
    "+ orneklem6.mean() + orneklem7.mean() + orneklem8.mean() + orneklem9.mean() + orneklem10.mean() )  / 10"
   ]
  },
  {
   "cell_type": "markdown",
   "metadata": {},
   "source": [
    "Bu değer populasyon.mean()'ine daha yakın. "
   ]
  },
  {
   "cell_type": "code",
   "execution_count": 10,
   "metadata": {},
   "outputs": [
    {
     "data": {
      "text/plain": [
       "39.8104"
      ]
     },
     "execution_count": 10,
     "metadata": {},
     "output_type": "execute_result"
    }
   ],
   "source": [
    "populasyon.mean()"
   ]
  },
  {
   "cell_type": "code",
   "execution_count": 11,
   "metadata": {},
   "outputs": [
    {
     "data": {
      "text/plain": [
       "41.18"
      ]
     },
     "execution_count": 11,
     "metadata": {},
     "output_type": "execute_result"
    }
   ],
   "source": [
    "orneklem1.mean()"
   ]
  },
  {
   "cell_type": "code",
   "execution_count": 12,
   "metadata": {},
   "outputs": [
    {
     "data": {
      "text/plain": [
       "40.44"
      ]
     },
     "execution_count": 12,
     "metadata": {},
     "output_type": "execute_result"
    }
   ],
   "source": [
    "orneklem2.mean()"
   ]
  },
  {
   "cell_type": "markdown",
   "metadata": {},
   "source": [
    "Birçok örneklemin farklı değeri var şu an elimizde. Bunların hepsinin ortalamasını alırsak teorik olarak \"merkezi limit teoremi\" aracılığıyla populasyon ortalamasına gitmiş oluyoruz. "
   ]
  }
 ],
 "metadata": {
  "kernelspec": {
   "display_name": "Python 3",
   "language": "python",
   "name": "python3"
  },
  "language_info": {
   "codemirror_mode": {
    "name": "ipython",
    "version": 3
   },
   "file_extension": ".py",
   "mimetype": "text/x-python",
   "name": "python",
   "nbconvert_exporter": "python",
   "pygments_lexer": "ipython3",
   "version": "3.7.6"
  }
 },
 "nbformat": 4,
 "nbformat_minor": 2
}
