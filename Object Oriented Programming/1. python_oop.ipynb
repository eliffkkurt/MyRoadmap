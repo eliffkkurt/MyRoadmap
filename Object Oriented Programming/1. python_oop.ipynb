{
 "cells": [
  {
   "cell_type": "markdown",
   "metadata": {},
   "source": [
    "<font color='green'> \n",
    "**Kodluyoruz - Data Science for Public Good (28.03.2020-20.06.2020)**\n",
    "6. hafta - Object Oriented Programming - 02.05.2020 tarihinde Berk Sudan anlattı. \n",
    "</font>"
   ]
  },
  {
   "cell_type": "markdown",
   "metadata": {
    "collapsed": true
   },
   "source": [
    "# Object Oriented Programming\n",
    "\n",
    "Object Oriented Programming (OOP) tends to be one of the major obstacles for beginners when they are first starting to learn Python.\n",
    "\n",
    "There are many, many tutorials and lessons covering OOP so feel free to Google search other lessons, and I have also put some links to other useful tutorials online at the bottom of this Notebook.\n",
    "\n",
    "For this lesson we will construct our knowledge of OOP in Python by building on the following topics:\n",
    "\n",
    "* Objects\n",
    "* Using the *class* keyword\n",
    "* Creating class attributes\n",
    "* Creating methods in a class\n",
    "* Learning about Inheritance\n",
    "* Learning about Polymorphism\n",
    "* Learning about Special Methods for classes"
   ]
  },
  {
   "cell_type": "markdown",
   "metadata": {},
   "source": [
    "<font color='blue'>Şimdiye kadar fonksiyonları kullanarak kodlarımızı yazıyorduk. Fonksiyon data tutmuyordu sadece bir işlev gerçekleştiriyordu. Biz datayı tutmak için a=func(a,3) gibi bir şey diyorduk. Ama bir süre sonra datalar çok büyüyebilir, o datayı bir şemanın içine sokmak isteyebiliriz. Ve o fonksiyonları da o datayla direkt ilişkili hale getirip bir paket haline getirebiliriz. Buna da object oriented programming deniyor.  \n",
    "\n",
    "* Fonksiyonları ayrı ayrı tanımlıyoruz birbirlerinden ayrı dünyadalar. Ama OOP'de bu şekilde değil. Classın içinde datayı girdiğimizde buna ait tanımladığımız methodların hepsi bu dataya ait oluyor. \n",
    "\n",
    "* Bir de bir işlevi tüm diğer program parçalarının erişimine açmana gerek olmayabilir. 'İnsan' classı tanımlıyorsan ona ait attribute'lar veya methodlar sadece ona aittir. \n",
    "\n",
    "Yani hem fonksiyonları hem attribute'ları gruplayıp bir paketin içine koymuş oluyoruz. \n",
    "</font>"
   ]
  },
  {
   "cell_type": "markdown",
   "metadata": {},
   "source": [
    "<font color='blue'>\n",
    "Classın global fonksiyona erişimi olabilir bunda sorun yok.     \n",
    "</font>"
   ]
  },
  {
   "cell_type": "markdown",
   "metadata": {},
   "source": [
    "<font color='blue'> `list` build-in bir class olarak geliyor. `type()` da öyle. </font>"
   ]
  },
  {
   "cell_type": "markdown",
   "metadata": {},
   "source": [
    "Let's start the lesson by remembering about the Basic Python Objects. For example:"
   ]
  },
  {
   "cell_type": "code",
   "execution_count": 1,
   "metadata": {},
   "outputs": [],
   "source": [
    "lst = [1,2,3]"
   ]
  },
  {
   "cell_type": "markdown",
   "metadata": {},
   "source": [
    "Remember how we could call methods on a list?"
   ]
  },
  {
   "cell_type": "code",
   "execution_count": 2,
   "metadata": {},
   "outputs": [
    {
     "data": {
      "text/plain": [
       "1"
      ]
     },
     "execution_count": 2,
     "metadata": {},
     "output_type": "execute_result"
    }
   ],
   "source": [
    "lst.count(2)"
   ]
  },
  {
   "cell_type": "markdown",
   "metadata": {},
   "source": [
    "What we will basically be doing in this lecture is exploring how we could create an Object type like a list. We've already learned about how to create functions. So let's explore Objects in general:\n",
    "\n",
    "## Objects\n",
    "In Python, *everything is an object*. Remember from previous lectures we can use type() to check the type of object something is:"
   ]
  },
  {
   "cell_type": "code",
   "execution_count": 3,
   "metadata": {},
   "outputs": [
    {
     "name": "stdout",
     "output_type": "stream",
     "text": [
      "<class 'int'>\n",
      "<class 'list'>\n",
      "<class 'tuple'>\n",
      "<class 'dict'>\n"
     ]
    }
   ],
   "source": [
    "print(type(1))\n",
    "print(type([]))\n",
    "print(type(()))\n",
    "print(type({}))"
   ]
  },
  {
   "cell_type": "markdown",
   "metadata": {},
   "source": [
    "So we know all these things are objects, so how can we create our own Object types? That is where the <code>class</code> keyword comes in.\n",
    "## class\n",
    "User defined objects are created using the <code>class</code> keyword. The class is a blueprint that defines the nature of a future object. From classes we can construct instances. An instance is a specific object created from a particular class. For example, above we created the object <code>lst</code> which was an instance of a list object. \n",
    "\n",
    "Let see how we can use <code>class</code>:"
   ]
  },
  {
   "cell_type": "code",
   "execution_count": 4,
   "metadata": {},
   "outputs": [
    {
     "name": "stdout",
     "output_type": "stream",
     "text": [
      "<class '__main__.Sample'>\n"
     ]
    }
   ],
   "source": [
    "# Create a new object type called Sample\n",
    "class Sample:\n",
    "    pass\n",
    "\n",
    "# Instance of Sample\n",
    "x = Sample()\n",
    "\n",
    "print(type(x))"
   ]
  },
  {
   "cell_type": "markdown",
   "metadata": {},
   "source": [
    "<font color='blue'>\n",
    "class '__main__.Sample'>: 'Main' modülünde 'Sample' classı demek bu.\n",
    "</font>"
   ]
  },
  {
   "cell_type": "markdown",
   "metadata": {},
   "source": [
    "By convention we give classes a name that starts with a capital letter. Note how <code>x</code> is now the reference to our new instance of a Sample class. In other words, we **instantiate** the Sample class.\n",
    "\n",
    "Inside of the class we currently just have pass. But we can define class attributes and methods.\n",
    "\n",
    "An **attribute** is a characteristic of an object.\n",
    "A **method** is an operation we can perform with the object.\n",
    "\n",
    "For example, we can create a class called Dog. An attribute of a dog may be its breed or its name, while a method of a dog may be defined by a .bark() method which returns a sound.\n",
    "\n",
    "Let's get a better understanding of attributes through an example.\n",
    "\n"
   ]
  },
  {
   "cell_type": "markdown",
   "metadata": {},
   "source": [
    "## Attributes\n",
    "The syntax for creating an attribute is:\n",
    "    \n",
    "    self.attribute = something\n",
    "    \n",
    "There is a special method called:\n",
    "\n",
    "    __init__()\n",
    "\n",
    "This method is used to initialize the attributes of an object. For example:"
   ]
  },
  {
   "cell_type": "code",
   "execution_count": 9,
   "metadata": {},
   "outputs": [],
   "source": [
    "class Dog:\n",
    "    def __init__(self,breed): # constructor oluyor bu. (breed: ırk)\n",
    "        self.breed = breed\n",
    "        \n",
    "sam = Dog(breed='Lab')\n",
    "frank = Dog(breed='Huskie')"
   ]
  },
  {
   "cell_type": "markdown",
   "metadata": {},
   "source": [
    "Lets break down what we have above.The special method \n",
    "\n",
    "    __init__() \n",
    "is called automatically right after the object has been created:\n",
    "\n",
    "    def __init__(self, breed):\n",
    "Each attribute in a class definition begins with a reference to the instance object. It is by convention named \" **self** \". The breed is the argument. The value is passed during the class instantiation.\n",
    "\n",
    "     self.breed = breed"
   ]
  },
  {
   "cell_type": "markdown",
   "metadata": {},
   "source": [
    "#### <font color='blue'>**Ek Notlar**</font>"
   ]
  },
  {
   "cell_type": "code",
   "execution_count": 10,
   "metadata": {},
   "outputs": [
    {
     "name": "stdout",
     "output_type": "stream",
     "text": [
      "30\n"
     ]
    }
   ],
   "source": [
    "class Dog:\n",
    "    max_dog_age=30\n",
    "    \n",
    "    def __init__(self,breed):\n",
    "        self.breed=breed\n",
    "        \n",
    "sam=Dog(breed='Lab')\n",
    "frank=Dog(breed='Huskie')\n",
    "\n",
    "print(Dog.max_dog_age)"
   ]
  },
  {
   "cell_type": "code",
   "execution_count": 11,
   "metadata": {},
   "outputs": [
    {
     "name": "stdout",
     "output_type": "stream",
     "text": [
      "30\n"
     ]
    },
    {
     "ename": "AttributeError",
     "evalue": "type object 'Dog' has no attribute 'breed'",
     "output_type": "error",
     "traceback": [
      "\u001b[1;31m---------------------------------------------------------------------------\u001b[0m",
      "\u001b[1;31mAttributeError\u001b[0m                            Traceback (most recent call last)",
      "\u001b[1;32m<ipython-input-11-7eda6aeb05f6>\u001b[0m in \u001b[0;36m<module>\u001b[1;34m\u001b[0m\n\u001b[0;32m      9\u001b[0m \u001b[1;33m\u001b[0m\u001b[0m\n\u001b[0;32m     10\u001b[0m \u001b[0mprint\u001b[0m\u001b[1;33m(\u001b[0m\u001b[0mDog\u001b[0m\u001b[1;33m.\u001b[0m\u001b[0mmax_dog_age\u001b[0m\u001b[1;33m)\u001b[0m\u001b[1;33m\u001b[0m\u001b[1;33m\u001b[0m\u001b[0m\n\u001b[1;32m---> 11\u001b[1;33m \u001b[0mprint\u001b[0m\u001b[1;33m(\u001b[0m\u001b[0mDog\u001b[0m\u001b[1;33m.\u001b[0m\u001b[0mbreed\u001b[0m\u001b[1;33m)\u001b[0m\u001b[1;33m\u001b[0m\u001b[1;33m\u001b[0m\u001b[0m\n\u001b[0m\u001b[0;32m     12\u001b[0m \u001b[1;31m# bu bize hata verir çünkü Dog breed diye bir şey barındırmıyor.\u001b[0m\u001b[1;33m\u001b[0m\u001b[1;33m\u001b[0m\u001b[1;33m\u001b[0m\u001b[0m\n\u001b[0;32m     13\u001b[0m \u001b[1;31m# Ama sam.breed koyduğumuzda Lab diye çıkıyor.\u001b[0m\u001b[1;33m\u001b[0m\u001b[1;33m\u001b[0m\u001b[1;33m\u001b[0m\u001b[0m\n",
      "\u001b[1;31mAttributeError\u001b[0m: type object 'Dog' has no attribute 'breed'"
     ]
    }
   ],
   "source": [
    "class Dog:\n",
    "    max_dog_age=30\n",
    "    \n",
    "    def __init__(self,breed):\n",
    "        self.breed=breed\n",
    "        \n",
    "sam=Dog(breed='Lab')\n",
    "frank=Dog(breed='Huskie')\n",
    "\n",
    "print(Dog.max_dog_age)\n",
    "print(Dog.breed) \n",
    "# bu bize hata verir çünkü Dog breed diye bir şey barındırmıyor. \n",
    "# Ama sam.breed koyduğumuzda Lab diye çıkıyor. "
   ]
  },
  {
   "cell_type": "code",
   "execution_count": 12,
   "metadata": {},
   "outputs": [
    {
     "name": "stdout",
     "output_type": "stream",
     "text": [
      "30\n",
      "Lab\n"
     ]
    }
   ],
   "source": [
    "class Dog:\n",
    "    max_dog_age=30\n",
    "    \n",
    "    def __init__(self,breed):\n",
    "        self.breed=breed\n",
    "        \n",
    "sam=Dog(breed='Lab')\n",
    "frank=Dog(breed='Huskie')\n",
    "\n",
    "print(Dog.max_dog_age)\n",
    "print(sam.breed) \n",
    "\n",
    "# Niye hata vermedi çünkü __init__ constructorında breed değerini atadık \n",
    "# ve sam kendi içinde breedi olan bir objeye dönüşmüş oluyor. "
   ]
  },
  {
   "cell_type": "code",
   "execution_count": 13,
   "metadata": {},
   "outputs": [
    {
     "name": "stdout",
     "output_type": "stream",
     "text": [
      "30\n",
      "This dog's breed is Lab\n"
     ]
    }
   ],
   "source": [
    "class Dog:\n",
    "    max_dog_age=30\n",
    "    \n",
    "    def __init__(self,breed):\n",
    "        self.breed=breed\n",
    "    \n",
    "    def display_breed(self):\n",
    "        print(\"This dog's breed is \"+self.breed)\n",
    "        \n",
    "sam=Dog(breed='Lab')\n",
    "frank=Dog(breed='Huskie')\n",
    "\n",
    "print(Dog.max_dog_age)\n",
    "sam.display_breed() # parantezin içi boş. selfi otomatik olarak yazıyor o oraya."
   ]
  },
  {
   "cell_type": "markdown",
   "metadata": {},
   "source": [
    "<font color='blue'>display_breed fonksiyonu selfi yani şu an içinde bulunduğu objeyi içeri alıyor. \n",
    "Bunu yazmasaydık her obje için ayrı ayrı print yapmamız gerekirdi aşağıdaki gibi.</font>"
   ]
  },
  {
   "cell_type": "code",
   "execution_count": 14,
   "metadata": {},
   "outputs": [
    {
     "name": "stdout",
     "output_type": "stream",
     "text": [
      "30\n",
      "This dog's breed is Lab\n",
      "This dog's breed is Huskie\n"
     ]
    }
   ],
   "source": [
    "class Dog:\n",
    "    max_dog_age=30\n",
    "    \n",
    "    def __init__(self,breed):\n",
    "        self.breed=breed\n",
    "        \n",
    "sam=Dog(breed='Lab')\n",
    "frank=Dog(breed='Huskie')\n",
    "\n",
    "print(Dog.max_dog_age)\n",
    "\n",
    "print(\"This dog's breed is \"+sam.breed)\n",
    "print(\"This dog's breed is \"+frank.breed)"
   ]
  },
  {
   "cell_type": "code",
   "execution_count": 15,
   "metadata": {},
   "outputs": [
    {
     "ename": "TypeError",
     "evalue": "display_breed() missing 1 required positional argument: 'self'",
     "output_type": "error",
     "traceback": [
      "\u001b[1;31m---------------------------------------------------------------------------\u001b[0m",
      "\u001b[1;31mTypeError\u001b[0m                                 Traceback (most recent call last)",
      "\u001b[1;32m<ipython-input-15-00775e06b72d>\u001b[0m in \u001b[0;36m<module>\u001b[1;34m\u001b[0m\n\u001b[0;32m     11\u001b[0m \u001b[0mfrank\u001b[0m\u001b[1;33m=\u001b[0m\u001b[0mDog\u001b[0m\u001b[1;33m(\u001b[0m\u001b[0mbreed\u001b[0m\u001b[1;33m=\u001b[0m\u001b[1;34m'Huskie'\u001b[0m\u001b[1;33m)\u001b[0m\u001b[1;33m\u001b[0m\u001b[1;33m\u001b[0m\u001b[0m\n\u001b[0;32m     12\u001b[0m \u001b[1;33m\u001b[0m\u001b[0m\n\u001b[1;32m---> 13\u001b[1;33m \u001b[0mprint\u001b[0m\u001b[1;33m(\u001b[0m\u001b[0mDog\u001b[0m\u001b[1;33m.\u001b[0m\u001b[0mdisplay_breed\u001b[0m\u001b[1;33m(\u001b[0m\u001b[1;33m)\u001b[0m\u001b[1;33m)\u001b[0m\u001b[1;33m\u001b[0m\u001b[1;33m\u001b[0m\u001b[0m\n\u001b[0m",
      "\u001b[1;31mTypeError\u001b[0m: display_breed() missing 1 required positional argument: 'self'"
     ]
    }
   ],
   "source": [
    "class Dog:\n",
    "    max_dog_age=30\n",
    "    \n",
    "    def __init__(self,breed):\n",
    "        self.breed=breed\n",
    "        \n",
    "    def display_breed(self):\n",
    "        print(\"This dog's breed is \"+self.breed)\n",
    "        \n",
    "sam=Dog(breed='Lab')\n",
    "frank=Dog(breed='Huskie')\n",
    "\n",
    "print(Dog.display_breed())"
   ]
  },
  {
   "cell_type": "markdown",
   "metadata": {},
   "source": [
    "<font color='green'>Hata veriyor. Çünkü dog bir class, daha başlatılmamış bir class. Ve bunun display_breed diye bir metodu yok. Bu metod sadece objeler için tanımlı. Çünkü objenin kendisini buraya referans olarak giriyoruz. `display_breed(self)` şeklinde. Diyoruz ki sen şu an başlatılan `_init_` özel objeyi kullan. </font>"
   ]
  },
  {
   "cell_type": "code",
   "execution_count": 16,
   "metadata": {},
   "outputs": [
    {
     "name": "stdout",
     "output_type": "stream",
     "text": [
      "Sam\n",
      "This dog's breed is Lab\n"
     ]
    }
   ],
   "source": [
    "class Dog:\n",
    "    max_dog_age=30\n",
    "    \n",
    "    def __init__(self,breed,name):\n",
    "        self.breed=breed\n",
    "        self.name=name\n",
    "        \n",
    "    def display_breed(self):\n",
    "        print(\"This dog's breed is \"+self.breed)\n",
    "        \n",
    "sam=Dog(breed='Lab',name='Sam')\n",
    "frank=Dog(breed='Huskie',name='Frank')\n",
    "\n",
    "print(sam.name)\n",
    "sam.display_breed()\n",
    "\n",
    "# self.name=name de yazabiliriz mesela. Her dog'un içinde bunlar olacak.\n",
    "# Fakat eşitliğin sağ tarafındaki breed ve name değerleri köpeğin cinsine göre değişebilir. "
   ]
  },
  {
   "cell_type": "code",
   "execution_count": 19,
   "metadata": {},
   "outputs": [
    {
     "name": "stdout",
     "output_type": "stream",
     "text": [
      "Sam\n",
      "This dog's breed is Lab\n"
     ]
    }
   ],
   "source": [
    "class Dog:\n",
    "    max_dog_age=30\n",
    "    \n",
    "    def __init__(self,breed,name):\n",
    "        self.breed=breed\n",
    "        self.name=name\n",
    "        \n",
    "    def display_breed(self):\n",
    "        print(\"This dog's breed is \"+self.breed)\n",
    "        \n",
    "sam=Dog(breed='Lab',name='Sam')\n",
    "frank=Dog(breed='Huskie',name='Frank')\n",
    "\n",
    "print(sam.name)\n",
    "#print(sam.display_breed) \n",
    "\n",
    "sam.display_breed()\n",
    "\n",
    "# sam.display_breed() fonksiyonunu printle çağırınca \n",
    "# \"<bound method Dog.display_breed of <__main__.Dog object at 0x000002024C5AE0C8>>\" çıktısını verdi."
   ]
  },
  {
   "cell_type": "markdown",
   "metadata": {},
   "source": [
    "`def display_breed(self):\n",
    "    print(\"This dog's breed is \"+self.breed)`\n",
    "        \n",
    " <font color='blue'> Bu her zaman self görmek istiyor içinde.</font>\n"
   ]
  },
  {
   "cell_type": "code",
   "execution_count": 21,
   "metadata": {},
   "outputs": [
    {
     "name": "stdout",
     "output_type": "stream",
     "text": [
      "Sam\n",
      "This dog's breed is Lab\n"
     ]
    },
    {
     "ename": "NameError",
     "evalue": "name 'max_dog_age' is not defined",
     "output_type": "error",
     "traceback": [
      "\u001b[1;31m---------------------------------------------------------------------------\u001b[0m",
      "\u001b[1;31mNameError\u001b[0m                                 Traceback (most recent call last)",
      "\u001b[1;32m<ipython-input-21-30dbaff24dd1>\u001b[0m in \u001b[0;36m<module>\u001b[1;34m\u001b[0m\n\u001b[0;32m     15\u001b[0m \u001b[0mprint\u001b[0m\u001b[1;33m(\u001b[0m\u001b[0msam\u001b[0m\u001b[1;33m.\u001b[0m\u001b[0mname\u001b[0m\u001b[1;33m)\u001b[0m\u001b[1;33m\u001b[0m\u001b[1;33m\u001b[0m\u001b[0m\n\u001b[0;32m     16\u001b[0m \u001b[1;33m\u001b[0m\u001b[0m\n\u001b[1;32m---> 17\u001b[1;33m \u001b[0msam\u001b[0m\u001b[1;33m.\u001b[0m\u001b[0mdisplay_breed\u001b[0m\u001b[1;33m(\u001b[0m\u001b[1;33m)\u001b[0m\u001b[1;33m\u001b[0m\u001b[1;33m\u001b[0m\u001b[0m\n\u001b[0m",
      "\u001b[1;32m<ipython-input-21-30dbaff24dd1>\u001b[0m in \u001b[0;36mdisplay_breed\u001b[1;34m(self)\u001b[0m\n\u001b[0;32m      8\u001b[0m     \u001b[1;32mdef\u001b[0m \u001b[0mdisplay_breed\u001b[0m\u001b[1;33m(\u001b[0m\u001b[0mself\u001b[0m\u001b[1;33m)\u001b[0m\u001b[1;33m:\u001b[0m\u001b[1;33m\u001b[0m\u001b[1;33m\u001b[0m\u001b[0m\n\u001b[0;32m      9\u001b[0m         \u001b[0mprint\u001b[0m\u001b[1;33m(\u001b[0m\u001b[1;34m\"This dog's breed is \"\u001b[0m\u001b[1;33m+\u001b[0m\u001b[0mself\u001b[0m\u001b[1;33m.\u001b[0m\u001b[0mbreed\u001b[0m\u001b[1;33m)\u001b[0m\u001b[1;33m\u001b[0m\u001b[1;33m\u001b[0m\u001b[0m\n\u001b[1;32m---> 10\u001b[1;33m         \u001b[0mprint\u001b[0m\u001b[1;33m(\u001b[0m\u001b[0mmax_dog_age\u001b[0m\u001b[1;33m)\u001b[0m  \u001b[1;31m#Dog classına ait bir attribute'u kullanamadım. Hata verdi.\u001b[0m\u001b[1;33m\u001b[0m\u001b[1;33m\u001b[0m\u001b[0m\n\u001b[0m\u001b[0;32m     11\u001b[0m \u001b[1;33m\u001b[0m\u001b[0m\n\u001b[0;32m     12\u001b[0m \u001b[0msam\u001b[0m\u001b[1;33m=\u001b[0m\u001b[0mDog\u001b[0m\u001b[1;33m(\u001b[0m\u001b[0mbreed\u001b[0m\u001b[1;33m=\u001b[0m\u001b[1;34m'Lab'\u001b[0m\u001b[1;33m,\u001b[0m\u001b[0mname\u001b[0m\u001b[1;33m=\u001b[0m\u001b[1;34m'Sam'\u001b[0m\u001b[1;33m)\u001b[0m\u001b[1;33m\u001b[0m\u001b[1;33m\u001b[0m\u001b[0m\n",
      "\u001b[1;31mNameError\u001b[0m: name 'max_dog_age' is not defined"
     ]
    }
   ],
   "source": [
    "class Dog:\n",
    "    max_dog_age=30\n",
    "    \n",
    "    def __init__(self,breed,name):\n",
    "        self.breed=breed\n",
    "        self.name=name\n",
    "        \n",
    "    def display_breed(self):\n",
    "        print(\"This dog's breed is \"+self.breed)\n",
    "        print(max_dog_age)  #Dog classına ait bir attribute'u kullanamadım. Hata verdi. \n",
    "        \n",
    "sam=Dog(breed='Lab',name='Sam')\n",
    "frank=Dog(breed='Huskie',name='Frank')\n",
    "\n",
    "print(sam.name)\n",
    "\n",
    "sam.display_breed()\n"
   ]
  },
  {
   "cell_type": "code",
   "execution_count": 11,
   "metadata": {},
   "outputs": [
    {
     "name": "stdout",
     "output_type": "stream",
     "text": [
      "This dog's breed is\n"
     ]
    }
   ],
   "source": [
    "class Dog:\n",
    "    max_dog_age=30\n",
    "    \n",
    "    def __init__(self,breed,name):\n",
    "        self.breed=breed\n",
    "        self.name=name\n",
    "        \n",
    "    @staticmethod    \n",
    "    def display_breed():\n",
    "        print(\"This dog's breed is\")\n",
    "        \n",
    "sam=Dog(breed='Lab',name='Sam')\n",
    "frank=Dog(breed='Huskie',name='Frank')\n",
    "\n",
    "Dog.display_breed()"
   ]
  },
  {
   "cell_type": "markdown",
   "metadata": {},
   "source": [
    "<font color='blue'> selfle objeyle bir işimiz olmayınca Dog classına ait bir fonksiyon oldu `display_breed` fonksiyonu. Bu metoda `@staticmethod` deniyor. Yani öyle bir metod ki içindeki objeye özel değişen değerleri kullanmıyor (selfle eriştiğimiz değerleri kullanmıyor) **max_dog_age** gibi statik bir şekilde tanımlanmış yani objesiz de yaşayan değerleri gösterebiliyoruz. </font>"
   ]
  },
  {
   "attachments": {
    "class%20Insan.png": {
     "image/png": "[encoded data removed]"
    }
   },
   "cell_type": "markdown",
   "metadata": {},
   "source": [
    "![class%20Insan.png](attachment:class%20Insan.png)"
   ]
  },
  {
   "cell_type": "code",
   "execution_count": 23,
   "metadata": {},
   "outputs": [
    {
     "name": "stdout",
     "output_type": "stream",
     "text": [
      "Sam\n",
      "This dog's breed is Lab\n",
      "This dog's name is Sam\n"
     ]
    }
   ],
   "source": [
    "class Dog:\n",
    "    def __init__(self,given_breed,given_name): #dışarıdan aldığımız değerler bunlar\n",
    "        self.name=given_name\n",
    "        self.breed=given_breed\n",
    "        \n",
    "    def display_breed(self):\n",
    "        print(\"This dog's breed is \"+self.breed + \"\\nThis dog's name is \"+self.name)\n",
    "        \n",
    "sam=Dog(given_breed='Lab',given_name='Sam')\n",
    "\n",
    "print(sam.name)\n",
    "\n",
    "sam.display_breed()"
   ]
  },
  {
   "cell_type": "markdown",
   "metadata": {},
   "source": [
    "<font color='blue'>**Neden display_breed metoduna ihtiyaç duyduk?**\n",
    "\n",
    "Classın her attribute'una dışarıdan sürekli erişilmesi çok aşırı istediğimiz bir durum değil. Olabildiğince içerdeki attributelara direkt erişimi engellemeye çalışırız biz OOP'de abstraction (soyutlama) için.</font>"
   ]
  },
  {
   "cell_type": "markdown",
   "metadata": {},
   "source": [
    "#### <font color='blue'>**`_init_` fonksiyonun olayı ne?**</font>"
   ]
  },
  {
   "cell_type": "markdown",
   "metadata": {},
   "source": [
    "<font color='blue'>`sam=Dog('Lab','Sam')` ile \n",
    "    \n",
    "`sam=Dog._init_('Lab','Sam')` \n",
    " \n",
    "aynı şey oluyor. Dog'un initializer'ını çağırıyoruz ve içine 'Lab' ile 'Sam'i koyuyoruz. Sonuç olarak da 'sam' adında bir obje üretiyoruz. \n",
    "\n",
    "Gerçekten bu fonksiyonu çağırıp çağırmadığını anlayalım. `__init__` fonksiyonunun içerisinde print ile çıktı alıyoruz. </font>"
   ]
  },
  {
   "cell_type": "code",
   "execution_count": 40,
   "metadata": {},
   "outputs": [
    {
     "name": "stdout",
     "output_type": "stream",
     "text": [
      "you are here now\n"
     ]
    }
   ],
   "source": [
    "class Dog:\n",
    "    \n",
    "    species='mammal'\n",
    "    \n",
    "    def __init__(self,breed,name):\n",
    "        print(\"you are here now\")\n",
    "        \n",
    "        self.breed=breed\n",
    "        self.name=name\n",
    "        \n",
    "sam=Dog('Lab','Sam')"
   ]
  },
  {
   "cell_type": "markdown",
   "metadata": {},
   "source": [
    "<font color='blue'>`_init_` constructorı özel bir metod bunun yerine `_initxy_` yazamazsın. Mesela `__str__` diye de bir metod var. İki alt çizgiyle başlayıp iki alt çizgiyle biten metodlar pythonda her classa atanan metodlardır. </font>"
   ]
  },
  {
   "cell_type": "code",
   "execution_count": 24,
   "metadata": {},
   "outputs": [
    {
     "name": "stdout",
     "output_type": "stream",
     "text": [
      "<__main__.Dog object at 0x0000027EADAF2748>\n",
      "<__main__.Dog object at 0x0000027EADAF2748>\n"
     ]
    }
   ],
   "source": [
    "class Dog:\n",
    "    \n",
    "    species='mammal'\n",
    "    \n",
    "    def __init__(self,breed,name):\n",
    "        self.breed=breed\n",
    "        self.name=name\n",
    " \n",
    "        \n",
    "sam=Dog('Lab','Sam')\n",
    "\n",
    "print(str(sam))\n",
    "\n",
    "print(sam.__str__()) #yukarıdakiyle aynı şey"
   ]
  },
  {
   "cell_type": "markdown",
   "metadata": {},
   "source": [
    "<font color='blue'>Biz `__str__` metodunu yazmasak da classın içinde tanımlı bu metod. Ama biz diyoruz ki sen bu str'yi kullanma benim yazdığım metodu kullan.</font>"
   ]
  },
  {
   "cell_type": "code",
   "execution_count": 25,
   "metadata": {},
   "outputs": [
    {
     "name": "stdout",
     "output_type": "stream",
     "text": [
      "str metodundayım\n",
      "str metodundayım\n"
     ]
    }
   ],
   "source": [
    "class Dog:\n",
    "    \n",
    "    species='mammal'\n",
    "    \n",
    "    def __init__(self,breed,name):\n",
    "        self.breed=breed\n",
    "        self.name=name\n",
    "        \n",
    "    def __str__(self):\n",
    "        return 'str metodundayım'\n",
    "    \n",
    "        \n",
    "sam=Dog('Lab','Sam')\n",
    "\n",
    "print(str(sam))\n",
    "\n",
    "print(sam.__str__())"
   ]
  },
  {
   "cell_type": "code",
   "execution_count": 26,
   "metadata": {},
   "outputs": [
    {
     "name": "stdout",
     "output_type": "stream",
     "text": [
      "str metodundayım\n"
     ]
    }
   ],
   "source": [
    "print(sam) # önce __str__ metodunu çağırıyor, sonra bastırıyor."
   ]
  },
  {
   "cell_type": "markdown",
   "metadata": {},
   "source": [
    "<font color='blue'>`del sam` şeklinde bir kod yazabiliyorduk, objemizi siliyordu. Bu da her classta `__del__` adında bir metodun tanımlı olmasından kaynaklanıyor. </font>"
   ]
  },
  {
   "cell_type": "code",
   "execution_count": 27,
   "metadata": {},
   "outputs": [],
   "source": [
    "del sam"
   ]
  },
  {
   "cell_type": "code",
   "execution_count": 28,
   "metadata": {},
   "outputs": [
    {
     "ename": "NameError",
     "evalue": "name 'sam' is not defined",
     "output_type": "error",
     "traceback": [
      "\u001b[1;31m---------------------------------------------------------------------------\u001b[0m",
      "\u001b[1;31mNameError\u001b[0m                                 Traceback (most recent call last)",
      "\u001b[1;32m<ipython-input-28-eeb4996a08b8>\u001b[0m in \u001b[0;36m<module>\u001b[1;34m\u001b[0m\n\u001b[1;32m----> 1\u001b[1;33m \u001b[0msam\u001b[0m\u001b[1;33m.\u001b[0m\u001b[0mbreed\u001b[0m\u001b[1;33m\u001b[0m\u001b[1;33m\u001b[0m\u001b[0m\n\u001b[0m",
      "\u001b[1;31mNameError\u001b[0m: name 'sam' is not defined"
     ]
    }
   ],
   "source": [
    "sam.breed"
   ]
  },
  {
   "cell_type": "markdown",
   "metadata": {},
   "source": [
    "<font color='blue'>Kendimiz `__del__` metodunun farklı davranmasını istediğimizde işlevi değişecektir.</font>"
   ]
  },
  {
   "cell_type": "code",
   "execution_count": 48,
   "metadata": {},
   "outputs": [
    {
     "name": "stdout",
     "output_type": "stream",
     "text": [
      "default olarak tanımlanan del metoduna ek olarak bunu bastırıyorum\n"
     ]
    }
   ],
   "source": [
    "class Dog:\n",
    "    \n",
    "    species='mammal'\n",
    "    \n",
    "    def __init__(self,breed,name):\n",
    "        self.breed=breed\n",
    "        self.name=name\n",
    "        \n",
    "    def __str__(self):\n",
    "        return 'str metodundayım'\n",
    "    \n",
    "    def __del__(self):\n",
    "        print(\"default olarak tanımlanan del metoduna ek olarak bunu bastırıyorum\")\n",
    "        \n",
    "sam=Dog('Lab','Sam')\n",
    "\n",
    "del sam"
   ]
  },
  {
   "cell_type": "markdown",
   "metadata": {},
   "source": [
    "#### <font color='blue'>**Diyelim ki farklı initialize metodlarına ihtiyaç duyuyoruz...**</font>\n",
    "\n",
    "<font color='blue'>Diğer dillerde aynı adla 'name' olmadan mesela farklı bir initialize constructorı tanımlayabiliyoruz. Ama burada farklı attributelarla initalize etmek istiyorsak bunu `@classmethod` ile yapıyoruz. Birden fazla init tanımlanmıyor çünkü pythonda. Onun yerine classmethodları diye bir şey tanımlanmış. \n",
    "    \n",
    "`__init__`te (**self,..**) ile başlamıştık yani objeyi koymuştuk fonksiyonun içine. `@classmethod`da ise classın kendisini (**cls**) koyuyoruz ve buraya classın adını yazıyoruz.  \n",
    "\n",
    "</font>"
   ]
  },
  {
   "cell_type": "code",
   "execution_count": 67,
   "metadata": {},
   "outputs": [],
   "source": [
    "class Dog:\n",
    "    \n",
    "    species='mammal'\n",
    "    \n",
    "    def __init__(self,breed,name):\n",
    "        self.breed=breed\n",
    "        self.name=name\n",
    "        \n",
    "    @classmethod\n",
    "    def just_breed(cls,just_breed): #cls'ı bir parametre olarak alıyoruz\n",
    "        cls.breed=just_breed\n",
    "        \n",
    "        return cls"
   ]
  },
  {
   "cell_type": "code",
   "execution_count": 68,
   "metadata": {},
   "outputs": [],
   "source": [
    "ozzy=Dog(\"buldog\",\"Ozzy\")"
   ]
  },
  {
   "cell_type": "code",
   "execution_count": 69,
   "metadata": {},
   "outputs": [
    {
     "data": {
      "text/plain": [
       "'buldog'"
      ]
     },
     "execution_count": 69,
     "metadata": {},
     "output_type": "execute_result"
    }
   ],
   "source": [
    "ozzy.breed"
   ]
  },
  {
   "cell_type": "code",
   "execution_count": 70,
   "metadata": {},
   "outputs": [],
   "source": [
    "buddy=Dog.just_breed(\"golden\")"
   ]
  },
  {
   "cell_type": "code",
   "execution_count": 71,
   "metadata": {},
   "outputs": [
    {
     "data": {
      "text/plain": [
       "'golden'"
      ]
     },
     "execution_count": 71,
     "metadata": {},
     "output_type": "execute_result"
    }
   ],
   "source": [
    "buddy.breed"
   ]
  },
  {
   "cell_type": "markdown",
   "metadata": {},
   "source": [
    "#### <font color='blue'>**Devam**</font>"
   ]
  },
  {
   "cell_type": "code",
   "execution_count": 49,
   "metadata": {},
   "outputs": [],
   "source": [
    "class Dog:\n",
    "    def __init__(self,breed): # constructor oluyor bu. (breed: ırk)\n",
    "        self.breed = breed\n",
    "        \n",
    "sam = Dog(breed='Lab')\n",
    "frank = Dog(breed='Huskie')"
   ]
  },
  {
   "cell_type": "markdown",
   "metadata": {},
   "source": [
    "Now we have created two instances of the Dog class. With two breed types, we can then access these attributes like this:"
   ]
  },
  {
   "cell_type": "code",
   "execution_count": 50,
   "metadata": {},
   "outputs": [
    {
     "data": {
      "text/plain": [
       "'Lab'"
      ]
     },
     "execution_count": 50,
     "metadata": {},
     "output_type": "execute_result"
    }
   ],
   "source": [
    "sam.breed"
   ]
  },
  {
   "cell_type": "code",
   "execution_count": 51,
   "metadata": {},
   "outputs": [
    {
     "data": {
      "text/plain": [
       "'Huskie'"
      ]
     },
     "execution_count": 51,
     "metadata": {},
     "output_type": "execute_result"
    }
   ],
   "source": [
    "frank.breed"
   ]
  },
  {
   "cell_type": "markdown",
   "metadata": {},
   "source": [
    "Note how we don't have any parentheses after breed; this is because it is an attribute and doesn't take any arguments.\n",
    "\n",
    "\n",
    "In Python there are also **class object attributes**. These Class Object Attributes are the same for any instance of the class. For example, we could create the attribute *species* for the Dog class. Dogs, regardless of their breed, name, or other attributes, will always be mammals. We apply this logic in the following manner:"
   ]
  },
  {
   "cell_type": "code",
   "execution_count": 52,
   "metadata": {},
   "outputs": [],
   "source": [
    "class Dog:\n",
    "    \n",
    "    # Class Object Attribute\n",
    "    species = 'mammal'\n",
    "    \n",
    "    def __init__(self,breed,name):\n",
    "        self.breed = breed\n",
    "        self.name = name"
   ]
  },
  {
   "cell_type": "code",
   "execution_count": 53,
   "metadata": {},
   "outputs": [],
   "source": [
    "sam = Dog('Lab','Sam')"
   ]
  },
  {
   "cell_type": "code",
   "execution_count": 54,
   "metadata": {},
   "outputs": [
    {
     "data": {
      "text/plain": [
       "'Sam'"
      ]
     },
     "execution_count": 54,
     "metadata": {},
     "output_type": "execute_result"
    }
   ],
   "source": [
    "sam.name"
   ]
  },
  {
   "cell_type": "markdown",
   "metadata": {},
   "source": [
    "Note that the Class Object Attribute is defined outside of any methods in the class. Also by convention, we place them first before the init."
   ]
  },
  {
   "cell_type": "code",
   "execution_count": 55,
   "metadata": {},
   "outputs": [
    {
     "data": {
      "text/plain": [
       "'mammal'"
      ]
     },
     "execution_count": 55,
     "metadata": {},
     "output_type": "execute_result"
    }
   ],
   "source": [
    "sam.species"
   ]
  },
  {
   "cell_type": "markdown",
   "metadata": {},
   "source": [
    "## Methods\n",
    "\n",
    "Methods are functions defined inside the body of a class. They are used to perform operations with the attributes of our objects. Methods are a key concept of the OOP paradigm. They are essential to dividing responsibilities in programming, especially in large applications.\n",
    "\n",
    "You can basically think of methods as functions acting on an Object that take the Object itself into account through its *self* argument.\n",
    "\n",
    "Let's go through an example of creating a Circle class:"
   ]
  },
  {
   "cell_type": "code",
   "execution_count": 1,
   "metadata": {},
   "outputs": [
    {
     "name": "stdout",
     "output_type": "stream",
     "text": [
      "Radius is:  1\n",
      "Area is:  3.14\n",
      "Circumference is:  6.28\n"
     ]
    }
   ],
   "source": [
    "class Circle:\n",
    "    pi = 3.14\n",
    "\n",
    "    # Circle gets instantiated with a radius (default is 1)\n",
    "    def __init__(self, radius=1):\n",
    "        self.radius = radius \n",
    "        self.area = radius * radius * Circle.pi\n",
    "\n",
    "    # Method for resetting Radius\n",
    "    def setRadius(self, new_radius):\n",
    "        self.radius = new_radius\n",
    "        self.area = new_radius * new_radius * self.pi\n",
    "\n",
    "    # Method for getting Circumference\n",
    "    def getCircumference(self):\n",
    "        return self.radius * self.pi * 2\n",
    "\n",
    "\n",
    "c = Circle()\n",
    "\n",
    "print('Radius is: ',c.radius)\n",
    "print('Area is: ',c.area)\n",
    "print('Circumference is: ',c.getCircumference())"
   ]
  },
  {
   "cell_type": "markdown",
   "metadata": {},
   "source": [
    "<font color='blue'>radius'u özellikle belirtmeseydik 1 olduğunu c=Circle() diyemezdik içeriye radius değeri vermemiz gerekirdi.</font>"
   ]
  },
  {
   "cell_type": "code",
   "execution_count": 79,
   "metadata": {},
   "outputs": [
    {
     "name": "stdout",
     "output_type": "stream",
     "text": [
      "Radius is:  3\n",
      "Area is:  28.26\n",
      "Circumference is:  18.84\n"
     ]
    }
   ],
   "source": [
    "class Circle:\n",
    "    pi = 3.14\n",
    "\n",
    "    # Circle gets instantiated with a radius (default is 1)\n",
    "    def __init__(self, radius):\n",
    "        self.radius = radius \n",
    "        self.area = radius * radius * Circle.pi\n",
    "\n",
    "    # Method for resetting Radius\n",
    "    def setRadius(self, new_radius):\n",
    "        self.radius = new_radius\n",
    "        self.area = new_radius * new_radius * self.pi\n",
    "\n",
    "    # Method for getting Circumference\n",
    "    def getCircumference(self):\n",
    "        return self.radius * self.pi * 2  \n",
    "    #self.pi ile çarpmak yerine Circle.pi ile de çarpabilirdik ki bu daha mantıklı olurdu.\n",
    "\n",
    "\n",
    "c = Circle(3)\n",
    "\n",
    "print('Radius is: ',c.radius)\n",
    "print('Area is: ',c.area)\n",
    "print('Circumference is: ',c.getCircumference())"
   ]
  },
  {
   "cell_type": "code",
   "execution_count": 80,
   "metadata": {},
   "outputs": [
    {
     "data": {
      "text/plain": [
       "3.14"
      ]
     },
     "execution_count": 80,
     "metadata": {},
     "output_type": "execute_result"
    }
   ],
   "source": [
    "Circle.pi  "
   ]
  },
  {
   "cell_type": "markdown",
   "metadata": {},
   "source": [
    "<font color='blue'>Circle.pi'yi dışarıdan çağırabildiğimiz için `__init__`in içerisinde bunu ayrıca `self.pi=3.14` şeklinde tanımlama gereği duymadık. Hep 3.14 zaten.</font>"
   ]
  },
  {
   "cell_type": "markdown",
   "metadata": {},
   "source": [
    "#### <font color='blue'>**Devam**</font>"
   ]
  },
  {
   "cell_type": "markdown",
   "metadata": {},
   "source": [
    "In the \\__init__ method above, in order to calculate the area attribute, we had to call Circle.pi. This is because the object does not yet have its own .pi attribute, so we call the Class Object Attribute pi instead.<br>\n",
    "In the setRadius method, however, we'll be working with an existing Circle object that does have its own pi attribute. Here we can use either Circle.pi or self.pi.<br><br>\n",
    "Now let's change the radius and see how that affects our Circle object:"
   ]
  },
  {
   "cell_type": "code",
   "execution_count": 13,
   "metadata": {},
   "outputs": [
    {
     "name": "stdout",
     "output_type": "stream",
     "text": [
      "Radius is:  2\n",
      "Area is:  12.56\n",
      "Circumference is:  12.56\n"
     ]
    }
   ],
   "source": [
    "c.setRadius(2)\n",
    "\n",
    "print('Radius is: ',c.radius)\n",
    "print('Area is: ',c.area)\n",
    "print('Circumference is: ',c.getCircumference())"
   ]
  },
  {
   "cell_type": "markdown",
   "metadata": {},
   "source": [
    "Great! Notice how we used self. notation to reference attributes of the class within the method calls. Review how the code above works and try creating your own method."
   ]
  },
  {
   "cell_type": "markdown",
   "metadata": {},
   "source": [
    "## Inheritance\n",
    "\n",
    "Inheritance is a way to form new classes using classes that have already been defined. The newly formed classes are called **derived classes**, the classes that we derive from are called base classes. Important benefits of inheritance are code reuse and reduction of complexity of a program. The derived classes (descendants) override or extend the functionality of base classes (ancestors). *(Türetilmiş sınıflar (torunlar), temel sınıfların (atalar) işlevselliğini geçersiz kılar veya genişletir.)*\n",
    "\n",
    "Let's see an example by incorporating our previous work on the Dog class:"
   ]
  },
  {
   "cell_type": "code",
   "execution_count": 14,
   "metadata": {},
   "outputs": [],
   "source": [
    "class Animal:\n",
    "    def __init__(self):\n",
    "        print(\"Animal created\")\n",
    "\n",
    "    def whoAmI(self):\n",
    "        print(\"Animal\")\n",
    "\n",
    "    def eat(self):\n",
    "        print(\"Eating\")\n",
    "\n",
    "\n",
    "class Dog(Animal): \n",
    "    def __init__(self):\n",
    "        Animal.__init__(self) # parent classını başlat önce.Sonrasında dog başlasın.\n",
    "        print(\"Dog created\")\n",
    "\n",
    "    def whoAmI(self):\n",
    "        print(\"Dog\")\n",
    "\n",
    "    def bark(self):\n",
    "        print(\"Woof!\")"
   ]
  },
  {
   "cell_type": "markdown",
   "metadata": {},
   "source": [
    "<font color='blue'>Dog, Animal classına ait her şeyi içersin ona ekstra olarak kullanabileceğimiz attributeları ve metodları içersin demiş oluyoruz `class Dog(Animal)` ile. Cat(Animal) classı yaratıp cat'e özel metodlar da ekleyebilirdik aşağıya.</font>"
   ]
  },
  {
   "cell_type": "code",
   "execution_count": 15,
   "metadata": {},
   "outputs": [
    {
     "name": "stdout",
     "output_type": "stream",
     "text": [
      "Animal created\n",
      "Dog created\n"
     ]
    }
   ],
   "source": [
    "d = Dog() "
   ]
  },
  {
   "cell_type": "markdown",
   "metadata": {},
   "source": [
    "<font color='blue'>Önce Animal'ın initializerını çağırıyor onun için önce \"Animal created\" print ediliyor. Sonrasında \"Dog created\" yaz diyoruz sonrasında yazıyor onu. </font>"
   ]
  },
  {
   "cell_type": "code",
   "execution_count": 16,
   "metadata": {},
   "outputs": [
    {
     "name": "stdout",
     "output_type": "stream",
     "text": [
      "Dog\n"
     ]
    }
   ],
   "source": [
    "d.whoAmI() #Kendinde varsa önce ona bakıyor. "
   ]
  },
  {
   "cell_type": "code",
   "execution_count": 17,
   "metadata": {},
   "outputs": [
    {
     "name": "stdout",
     "output_type": "stream",
     "text": [
      "Eating\n"
     ]
    }
   ],
   "source": [
    "d.eat() #Dog'un içinde herhangi bir eat metodu olmadığı için üst classına bakıyor."
   ]
  },
  {
   "cell_type": "code",
   "execution_count": 18,
   "metadata": {},
   "outputs": [
    {
     "name": "stdout",
     "output_type": "stream",
     "text": [
      "Woof!\n"
     ]
    }
   ],
   "source": [
    "d.bark()"
   ]
  },
  {
   "cell_type": "markdown",
   "metadata": {},
   "source": [
    "In this example, we have two classes: Animal and Dog. The Animal is the base class, the Dog is the derived class. \n",
    "\n",
    "The derived class **inherits the functionality** of the base class. \n",
    "\n",
    "* It is shown by the eat() method. \n",
    "\n",
    "The derived class **modifies existing behavior** of the base class.\n",
    "\n",
    "* shown by the whoAmI() method. \n",
    "\n",
    "Finally, the derived class **extends the functionality** of the base class, \n",
    "\n",
    "* by defining a new bark() method."
   ]
  },
  {
   "cell_type": "markdown",
   "metadata": {},
   "source": [
    "#### <font color='blue'>**Ek Notlar**</font>"
   ]
  },
  {
   "cell_type": "code",
   "execution_count": 4,
   "metadata": {},
   "outputs": [],
   "source": [
    "class Animal:\n",
    "    def __init__(self):\n",
    "        print(\"Animal created\")\n",
    "        \n",
    "    def whoAmI(self):\n",
    "        print(\"Animal\")\n",
    "        \n",
    "    def eat(self):\n",
    "        print(\"Eating\")"
   ]
  },
  {
   "cell_type": "code",
   "execution_count": 5,
   "metadata": {},
   "outputs": [
    {
     "name": "stdout",
     "output_type": "stream",
     "text": [
      "Animal created\n"
     ]
    }
   ],
   "source": [
    "ao=Animal()"
   ]
  },
  {
   "cell_type": "code",
   "execution_count": 7,
   "metadata": {},
   "outputs": [
    {
     "name": "stdout",
     "output_type": "stream",
     "text": [
      "Animal\n"
     ]
    }
   ],
   "source": [
    "ao.whoAmI()"
   ]
  },
  {
   "cell_type": "code",
   "execution_count": 8,
   "metadata": {},
   "outputs": [
    {
     "name": "stdout",
     "output_type": "stream",
     "text": [
      "Eating\n"
     ]
    }
   ],
   "source": [
    "ao.eat()"
   ]
  },
  {
   "cell_type": "code",
   "execution_count": 9,
   "metadata": {},
   "outputs": [],
   "source": [
    "class Animal:\n",
    "    def __init__(self):\n",
    "        print(\"Animal created\")\n",
    "\n",
    "    def whoAmI(self):\n",
    "        print(\"Animal\")\n",
    "\n",
    "    def eat(self):\n",
    "        print(\"Eating\")\n",
    "\n",
    "\n",
    "class Dog(Animal):\n",
    "    def __init__(self):\n",
    "        Animal.__init__(self)\n",
    "        print(\"Dog created\")\n",
    "\n",
    "    def whoAmI(self):\n",
    "        print(\"Dog\")\n",
    "\n",
    "    def bark(self):\n",
    "        print(\"Woof!\")"
   ]
  },
  {
   "cell_type": "code",
   "execution_count": 10,
   "metadata": {},
   "outputs": [
    {
     "name": "stdout",
     "output_type": "stream",
     "text": [
      "Animal created\n",
      "Dog created\n"
     ]
    }
   ],
   "source": [
    "do=Dog()"
   ]
  },
  {
   "cell_type": "code",
   "execution_count": 11,
   "metadata": {},
   "outputs": [
    {
     "name": "stdout",
     "output_type": "stream",
     "text": [
      "Dog\n"
     ]
    }
   ],
   "source": [
    "do.whoAmI()"
   ]
  },
  {
   "cell_type": "code",
   "execution_count": 12,
   "metadata": {},
   "outputs": [
    {
     "name": "stdout",
     "output_type": "stream",
     "text": [
      "Eating\n"
     ]
    }
   ],
   "source": [
    "do.eat()"
   ]
  },
  {
   "cell_type": "code",
   "execution_count": 13,
   "metadata": {},
   "outputs": [
    {
     "name": "stdout",
     "output_type": "stream",
     "text": [
      "Woof!\n"
     ]
    }
   ],
   "source": [
    "do.bark()"
   ]
  },
  {
   "cell_type": "markdown",
   "metadata": {},
   "source": [
    "<font color='blue'>Inheritance maliyeti çok yüksek bir işlem, gerçekten ihtiyacın olduğunda kullanmak gerekiyor. Örneğin bir classın sadece bir tane subclassı varsa inheritance kullanmaya gerek olmayabilir. Animal classında `__init__` içerisinde `(self,is_dog=False)` ile de bunu sağlayabiliriz.</font>"
   ]
  },
  {
   "cell_type": "code",
   "execution_count": 14,
   "metadata": {},
   "outputs": [],
   "source": [
    "class Animal:\n",
    "    def __init__(self,is_dog=False):\n",
    "        print(\"Animal created\")\n",
    "        self.is_dog=is_dog\n",
    "        \n",
    "    def whoAmI(self):\n",
    "        print(\"Animal\")\n",
    "        \n",
    "    def eat(self):\n",
    "        print(\"Eating\")\n",
    "    \n",
    "    def bark(self):\n",
    "        if self.is_dog:\n",
    "            print(\"Woof!\")\n",
    "        else:\n",
    "            print(\"This is not a dog\")"
   ]
  },
  {
   "cell_type": "markdown",
   "metadata": {},
   "source": [
    "#### <font color='blue'>**Devam**</font>"
   ]
  },
  {
   "cell_type": "markdown",
   "metadata": {},
   "source": [
    "## Polymorphism\n",
    "\n",
    "We've learned that while functions can take in different arguments, methods belong to the objects they act on. In Python, *polymorphism* refers to the way in which different object classes can share the same method name, and those methods can be called from the same place even though a variety of different objects might be passed in. The best way to explain this is by example:"
   ]
  },
  {
   "cell_type": "code",
   "execution_count": 74,
   "metadata": {},
   "outputs": [
    {
     "name": "stdout",
     "output_type": "stream",
     "text": [
      "Niko says Woof!\n",
      "Felix says Meow!\n"
     ]
    }
   ],
   "source": [
    "class Dog:\n",
    "    def __init__(self, name):\n",
    "        self.name = name\n",
    "\n",
    "    def speak(self):\n",
    "        return self.name+' says Woof!'\n",
    "    \n",
    "class Cat:\n",
    "    def __init__(self, name):\n",
    "        self.name = name\n",
    "\n",
    "    def speak(self):\n",
    "        return self.name+' says Meow!' \n",
    "    \n",
    "niko = Dog('Niko')\n",
    "felix = Cat('Felix')\n",
    "\n",
    "print(niko.speak())\n",
    "print(felix.speak())"
   ]
  },
  {
   "cell_type": "markdown",
   "metadata": {},
   "source": [
    "<font color='blue'>Dog ve Cat classlarında bark veya miyav demek yerine içerilerine speak diye bir metod yazdık. Bu metod köpeğin ya da kedinin ismi neyse onun *'ismi'*+ *'says Woof!'/'says Meow!'* döndürüyor. Burada herhangi bir inheritance yok. Fakat neden biz bunu ortak bir konsepte oturtmayalım? Speak metodları aynı şeyden çıksın, üstte Animal gibi bir şey olsun oradan gelsin gibi düşünürsek Polymorphism işin içine giriyor. </font>"
   ]
  },
  {
   "cell_type": "markdown",
   "metadata": {},
   "source": [
    "Here we have a Dog class and a Cat class, and each has a `.speak()` method. When called, each object's `.speak()` method returns a result unique to the object.\n",
    "\n",
    "There a few different ways to demonstrate polymorphism. First, with a for loop:"
   ]
  },
  {
   "cell_type": "code",
   "execution_count": 75,
   "metadata": {},
   "outputs": [
    {
     "name": "stdout",
     "output_type": "stream",
     "text": [
      "Niko says Woof!\n",
      "Felix says Meow!\n"
     ]
    }
   ],
   "source": [
    "for pet in [niko,felix]:\n",
    "    print(pet.speak())"
   ]
  },
  {
   "cell_type": "markdown",
   "metadata": {},
   "source": [
    "Another is with functions:"
   ]
  },
  {
   "cell_type": "code",
   "execution_count": 76,
   "metadata": {},
   "outputs": [
    {
     "name": "stdout",
     "output_type": "stream",
     "text": [
      "Niko says Woof!\n",
      "Felix says Meow!\n"
     ]
    }
   ],
   "source": [
    "def pet_speak(pet):\n",
    "    print(pet.speak())\n",
    "\n",
    "pet_speak(niko)\n",
    "pet_speak(felix)"
   ]
  },
  {
   "cell_type": "markdown",
   "metadata": {
    "slideshow": {
     "slide_type": "slide"
    }
   },
   "source": [
    "In both cases we were able to pass in different object types, and we obtained object-specific results from the same mechanism.\n",
    "\n",
    "A more common practice is to use **abstract classes and inheritance**. An abstract class is one that never expects to be instantiated. For example, we will never have an Animal object, only Dog and Cat objects, although Dogs and Cats are derived from Animals:"
   ]
  },
  {
   "cell_type": "code",
   "execution_count": 78,
   "metadata": {},
   "outputs": [
    {
     "name": "stdout",
     "output_type": "stream",
     "text": [
      "Fido says Woof!\n",
      "Isis says Meow!\n"
     ]
    }
   ],
   "source": [
    "class Animal:\n",
    "    def __init__(self, name):    # Constructor of the class\n",
    "        self.name = name\n",
    "\n",
    "    def speak(self):              # Abstract method, defined by convention only\n",
    "        raise NotImplementedError(\"Subclass must implement abstract method\")\n",
    "\n",
    "\n",
    "class Dog(Animal):  #name'leri burada tanımlamamış olduk.\n",
    "        \n",
    "    def speak(self):\n",
    "        return self.name+' says Woof!'\n",
    "    \n",
    "class Cat(Animal):\n",
    "\n",
    "    def speak(self):\n",
    "        return self.name+' says Meow!'\n",
    "    \n",
    "fido = Dog('Fido')\n",
    "isis = Cat('Isis')\n",
    "\n",
    "print(fido.speak())\n",
    "print(isis.speak())"
   ]
  },
  {
   "cell_type": "markdown",
   "metadata": {},
   "source": [
    "<font color='blue'>\n",
    "Dog'un kendine ait bir initializerı yok.\n",
    "    \n",
    "`def __init__(self,name):\n",
    "    Animal.__init__(self,name)`\n",
    "    \n",
    "Sadece dog'a özel bir attribute tanımlamayacağımız için buna gerek duymadık. \n",
    "\n",
    "`Dog('Fido')`yu çalıştırdığımızda önce Dog'a bakıyor bir initializer var mı diye burada göremeyince \n",
    "Animal'a gidiyor 'name'i orada yerleştiriyor. \n",
    "\n",
    "Bu şekilde bir üst classla (Animal) kod tekrarını (name'i her subclassa yazmak gibi) engelliyoruz. \n",
    "</font>\n",
    "<font color='purple'>\n",
    "    \n",
    "Animal classına ait de bir speak fonksiyonu göstertiyoruz ama diyoruz ki biz bunu implement etmedik. Aşağıdaki classlar bunu çalıştıracak. Çünkü her animal'ın konuşması farklıdır. O yüzden diyoruz ki Animal tek başına olduğunda herhangi bir sonuç döndürme. Hiçbir şey yazmayadabilirdik ama okunma kolaylığı açısından (gelenek olarak) bu şekilde tanımlanıyor. \n",
    "    \n",
    "\n",
    "    \n",
    "`def speak(self):              \n",
    "      raise NotImplementedError(\"Subclass must implement abstract method\")`\n",
    "\n",
    "\n",
    "\n",
    "</font>"
   ]
  },
  {
   "cell_type": "code",
   "execution_count": 79,
   "metadata": {},
   "outputs": [
    {
     "ename": "NotImplementedError",
     "evalue": "Subclass must implement abstract method",
     "output_type": "error",
     "traceback": [
      "\u001b[1;31m---------------------------------------------------------------------------\u001b[0m",
      "\u001b[1;31mNotImplementedError\u001b[0m                       Traceback (most recent call last)",
      "\u001b[1;32m<ipython-input-79-0e07b9e8d115>\u001b[0m in \u001b[0;36m<module>\u001b[1;34m\u001b[0m\n\u001b[1;32m----> 1\u001b[1;33m \u001b[0mAnimal\u001b[0m\u001b[1;33m.\u001b[0m\u001b[0mspeak\u001b[0m\u001b[1;33m(\u001b[0m\u001b[1;34m'Fido'\u001b[0m\u001b[1;33m)\u001b[0m \u001b[1;31m# Subclass must implement abstract method hatası alıyoruz.\u001b[0m\u001b[1;33m\u001b[0m\u001b[1;33m\u001b[0m\u001b[0m\n\u001b[0m",
      "\u001b[1;32m<ipython-input-78-ca8cd5f9df6c>\u001b[0m in \u001b[0;36mspeak\u001b[1;34m(self)\u001b[0m\n\u001b[0;32m      4\u001b[0m \u001b[1;33m\u001b[0m\u001b[0m\n\u001b[0;32m      5\u001b[0m     \u001b[1;32mdef\u001b[0m \u001b[0mspeak\u001b[0m\u001b[1;33m(\u001b[0m\u001b[0mself\u001b[0m\u001b[1;33m)\u001b[0m\u001b[1;33m:\u001b[0m              \u001b[1;31m# Abstract method, defined by convention only\u001b[0m\u001b[1;33m\u001b[0m\u001b[1;33m\u001b[0m\u001b[0m\n\u001b[1;32m----> 6\u001b[1;33m         \u001b[1;32mraise\u001b[0m \u001b[0mNotImplementedError\u001b[0m\u001b[1;33m(\u001b[0m\u001b[1;34m\"Subclass must implement abstract method\"\u001b[0m\u001b[1;33m)\u001b[0m\u001b[1;33m\u001b[0m\u001b[1;33m\u001b[0m\u001b[0m\n\u001b[0m\u001b[0;32m      7\u001b[0m \u001b[1;33m\u001b[0m\u001b[0m\n\u001b[0;32m      8\u001b[0m \u001b[1;33m\u001b[0m\u001b[0m\n",
      "\u001b[1;31mNotImplementedError\u001b[0m: Subclass must implement abstract method"
     ]
    }
   ],
   "source": [
    "Animal.speak('Fido') # Subclass must implement abstract method hatası alıyoruz."
   ]
  },
  {
   "cell_type": "markdown",
   "metadata": {},
   "source": [
    "Real life examples of polymorphism include:\n",
    "* opening different file types - different tools are needed to display Word, pdf and Excel files\n",
    "* adding different objects `-` the `+` operator performs arithmetic and concatenation"
   ]
  },
  {
   "cell_type": "markdown",
   "metadata": {},
   "source": [
    "## Special Methods\n",
    "Finally let's go over special methods. Classes in Python can implement certain operations with special method names. These methods are not actually called directly but by Python specific language syntax. For example let's create a Book class:"
   ]
  },
  {
   "cell_type": "code",
   "execution_count": 81,
   "metadata": {},
   "outputs": [],
   "source": [
    "class Book:\n",
    "    def __init__(self, title, author, pages):\n",
    "        print(\"A book is created\")\n",
    "        self.title = title\n",
    "        self.author = author\n",
    "        self.pages = pages\n",
    "\n",
    "    def __str__(self):\n",
    "        return \"Title: %s, author: %s, pages: %s\" %(self.title, self.author, self.pages)\n",
    "\n",
    "    def __len__(self):\n",
    "        return self.pages\n",
    "\n",
    "    def __del__(self):\n",
    "        print(\"A book is destroyed\")"
   ]
  },
  {
   "cell_type": "code",
   "execution_count": 82,
   "metadata": {},
   "outputs": [
    {
     "name": "stdout",
     "output_type": "stream",
     "text": [
      "A book is created\n",
      "Title: Python Rocks!, author: Jose Portilla, pages: 159\n",
      "159\n",
      "A book is destroyed\n"
     ]
    }
   ],
   "source": [
    "book = Book(\"Python Rocks!\", \"Jose Portilla\", 159)\n",
    "\n",
    "#Special Methods\n",
    "print(book)\n",
    "print(len(book))\n",
    "del book"
   ]
  },
  {
   "cell_type": "markdown",
   "metadata": {},
   "source": [
    "#### <font color='blue'> Ek Notlar </font>"
   ]
  },
  {
   "cell_type": "markdown",
   "metadata": {},
   "source": [
    "##### <font color='black'> Pythondaki `len`, `str` classları </font>"
   ]
  },
  {
   "cell_type": "markdown",
   "metadata": {},
   "source": [
    "<font color='blue'> Listelerde veya dictionarylerde de `len` fonksiyonunu kullanıyorduk. Öncesinde `def len ...` gibi bir fonksiyon tanımlamıyorduk bunu yapmak için. `__len__` metodu listin içindeki özel (built-in) bir classtı.  </font>"
   ]
  },
  {
   "cell_type": "code",
   "execution_count": 13,
   "metadata": {},
   "outputs": [
    {
     "name": "stdout",
     "output_type": "stream",
     "text": [
      "4\n",
      "4\n",
      "2\n"
     ]
    }
   ],
   "source": [
    "lst=[1,2,3,4]\n",
    "dct={'a':3,'b':4}\n",
    "\n",
    "print(len(lst))\n",
    "print(lst.__len__()) # yukarıdakiyle aynı şey. Uzun uzun bunu yazmıyoruz ama.\n",
    "\n",
    "print(len(dct))"
   ]
  },
  {
   "cell_type": "markdown",
   "metadata": {},
   "source": [
    "<font color='blue'> `str` de özel bir metod. Listeyi köşeli parantezler içinde değer, virgül ve 1 boşluk şeklinde yazılması tanımlanmış pythonda özel olarak.   </font>"
   ]
  },
  {
   "cell_type": "code",
   "execution_count": 14,
   "metadata": {},
   "outputs": [
    {
     "name": "stdout",
     "output_type": "stream",
     "text": [
      "[1, 2, 3, 4]\n"
     ]
    }
   ],
   "source": [
    "lst=[1,2,3,4]\n",
    "dct={'a':3,'b':4}\n",
    "\n",
    "print(str(lst))"
   ]
  },
  {
   "cell_type": "markdown",
   "metadata": {},
   "source": [
    "##### <font color='black'> Book classı `print` fonksiyonu </font>"
   ]
  },
  {
   "cell_type": "markdown",
   "metadata": {},
   "source": [
    "<font color='blue'> **Book classından bir obje oluşturduğumuzda ve bunu yazdırdığımızda ne oluyor?**</font>"
   ]
  },
  {
   "cell_type": "markdown",
   "metadata": {},
   "source": [
    "<font color='blue'> Mesela `lst=[12321]` bu listeyi print ile yazdırmak isteseydik arka tarafta otomatik olarak içindeki `str` metodunu çağırıyor ve lst'yi stringe dönüştürüyor.   </font>"
   ]
  },
  {
   "cell_type": "code",
   "execution_count": 17,
   "metadata": {},
   "outputs": [
    {
     "name": "stdout",
     "output_type": "stream",
     "text": [
      "[12331]\n",
      "[12331]\n"
     ]
    }
   ],
   "source": [
    "lst=[12331]\n",
    "\n",
    "print(lst)\n",
    "\n",
    "print(str(lst)) # yukarıdakiyle aynı şey"
   ]
  },
  {
   "cell_type": "markdown",
   "metadata": {},
   "source": [
    "<font color='blue'> Eğer biz bu `str` metodunun içine listeyi öyle yazdırma böyle yazdır dersek o şekilde yazdırır. </font>"
   ]
  },
  {
   "cell_type": "markdown",
   "metadata": {},
   "source": [
    "<font color='blue'> Buradaki de aynı mantık. `print(book)` dediğimizde otomatik olarak `__str__`yi gördüğü için \n",
    "\n",
    "    def __str__(self):\n",
    "        return \"Title: %s, author: %s, pages: %s\" %(self.title, self.author, self.pages)\n",
    "    \n",
    "metodunu çağırıyor ve onu bastırıyor.\n",
    "</font>"
   ]
  },
  {
   "cell_type": "code",
   "execution_count": 83,
   "metadata": {},
   "outputs": [
    {
     "name": "stdout",
     "output_type": "stream",
     "text": [
      "A book is created\n",
      "Title: Python Rocks!, author: Jose Portilla, pages: 159\n"
     ]
    }
   ],
   "source": [
    "book = Book(\"Python Rocks!\", \"Jose Portilla\", 159)\n",
    "\n",
    "print(book)"
   ]
  },
  {
   "cell_type": "markdown",
   "metadata": {},
   "source": [
    "##### <font color='black'> Book classı `len` fonksiyonu </font>"
   ]
  },
  {
   "cell_type": "markdown",
   "metadata": {},
   "source": [
    "<font color='blue'> Normalde listenin uzunluğunu almak istesek içerisinde kaç item olduğunu sayıyordu. Burada ise kitap için farklı bir `len` fonksiyonu tanımlıyoruz. *Bir kitap objesinin uzunluğunu onun sayfa sayısı kadar göster* şeklinde tanımlıyoruz.  </font>"
   ]
  },
  {
   "cell_type": "code",
   "execution_count": 20,
   "metadata": {},
   "outputs": [
    {
     "name": "stdout",
     "output_type": "stream",
     "text": [
      "4\n"
     ]
    }
   ],
   "source": [
    "lst=[1,2,3,4]\n",
    "\n",
    "print(len(lst)) "
   ]
  },
  {
   "cell_type": "code",
   "execution_count": 18,
   "metadata": {},
   "outputs": [
    {
     "name": "stdout",
     "output_type": "stream",
     "text": [
      "159\n"
     ]
    }
   ],
   "source": [
    "print(len(book))"
   ]
  },
  {
   "cell_type": "markdown",
   "metadata": {},
   "source": [
    "##### <font color='black'> Book classı `del` fonksiyonu </font>"
   ]
  },
  {
   "cell_type": "markdown",
   "metadata": {},
   "source": [
    "<font color='blue'>'book' objesini defalarca tanımlayabiliriz. Bir süre sonra script çok uzarsa aynı ada sahip birden fazla attribute'umuz olabilir ve birbirine karışabilir. O zaman bazen işi bittiğinde objelerin `del book` diyerek onu silebiliriz. Hem ismini silmiş oluyorsun hem de bunun memory'de kapladığı yeri silmiş oluyorsun. \n",
    "\n",
    "    def __del__(self):\n",
    "        print(\"A book is destroyed\")\n",
    "\n",
    "Burada önce str metodunu çağırıyor daha sonra objeyi yok ediyor. \n",
    "\n",
    "</font>"
   ]
  },
  {
   "cell_type": "code",
   "execution_count": 84,
   "metadata": {},
   "outputs": [
    {
     "name": "stdout",
     "output_type": "stream",
     "text": [
      "A book is destroyed\n"
     ]
    }
   ],
   "source": [
    "del book"
   ]
  },
  {
   "cell_type": "code",
   "execution_count": 85,
   "metadata": {},
   "outputs": [
    {
     "name": "stdout",
     "output_type": "stream",
     "text": [
      "A book is created\n"
     ]
    },
    {
     "ename": "NameError",
     "evalue": "name 'book' is not defined",
     "output_type": "error",
     "traceback": [
      "\u001b[1;31m---------------------------------------------------------------------------\u001b[0m",
      "\u001b[1;31mNameError\u001b[0m                                 Traceback (most recent call last)",
      "\u001b[1;32m<ipython-input-85-41009c9e201e>\u001b[0m in \u001b[0;36m<module>\u001b[1;34m\u001b[0m\n\u001b[0;32m     18\u001b[0m \u001b[1;32mdel\u001b[0m \u001b[0mbook\u001b[0m\u001b[1;33m\u001b[0m\u001b[1;33m\u001b[0m\u001b[0m\n\u001b[0;32m     19\u001b[0m \u001b[1;33m\u001b[0m\u001b[0m\n\u001b[1;32m---> 20\u001b[1;33m \u001b[0mbook\u001b[0m\u001b[1;33m.\u001b[0m\u001b[0mtitle\u001b[0m\u001b[1;33m\u001b[0m\u001b[1;33m\u001b[0m\u001b[0m\n\u001b[0m",
      "\u001b[1;31mNameError\u001b[0m: name 'book' is not defined"
     ]
    }
   ],
   "source": [
    "class Book:\n",
    "    def __init__(self, title, author, pages):\n",
    "        print(\"A book is created\")\n",
    "        self.title = title\n",
    "        self.author = author\n",
    "        self.pages = pages\n",
    "\n",
    "    def __str__(self):\n",
    "        return \"Title: %s, author: %s, pages: %s\" %(self.title, self.author, self.pages)\n",
    "\n",
    "    def __len__(self):\n",
    "        return self.pages\n",
    "\n",
    "    # del'i yazmayalım...\n",
    "    \n",
    "book = Book(\"Python Rocks!\", \"Jose Portilla\", 159)\n",
    "\n",
    "del book  # default olarak siliyor\n",
    "\n",
    "book.title  "
   ]
  },
  {
   "cell_type": "markdown",
   "metadata": {},
   "source": [
    "<font color='blue'>Yazdığımız her class aslında bir built-in bir python classın subclassı aslında. Bu built-in classın içerisinde `str`, `len`,`del` metodları hali hazırda var zaten. Biz subclassta bu metodları tanımlamasak da bu built-in class olarak çalışacak her şekilde. Burada üstteki `del` metodu da çalışıyor ve biz ek mesaj da gösteriyoruz ayrıca.\n",
    "    \n",
    "    class Built-in(): \n",
    "    \n",
    "        def __str__(self):\n",
    "        def __len__(self):\n",
    "        def __del__(self):\n",
    "    \n",
    "    ...\n",
    "\n",
    "</font>"
   ]
  },
  {
   "cell_type": "markdown",
   "metadata": {},
   "source": [
    "<font color='blue'> `__del__` metodunun güzelliği hangi hangi objenin yok edildiğine dair bilgi alabilmemizi de sağlaması. Mesela 'title' bilgisini de alarak bir `del` metodu oluşturabiliriz. </font>"
   ]
  },
  {
   "cell_type": "code",
   "execution_count": 86,
   "metadata": {},
   "outputs": [],
   "source": [
    "class Book:\n",
    "    def __init__(self, title, author, pages):\n",
    "        print(\"A book is created\")\n",
    "        self.title = title\n",
    "        self.author = author\n",
    "        self.pages = pages\n",
    "\n",
    "    def __str__(self):\n",
    "        return \"Title: %s, author: %s, pages: %s\" %(self.title, self.author, self.pages)\n",
    "\n",
    "    def __len__(self):\n",
    "        return self.pages\n",
    "\n",
    "    def __del__(self):\n",
    "        print(\"A book with title:{} is destroyed\".format(self.title))"
   ]
  },
  {
   "cell_type": "code",
   "execution_count": 87,
   "metadata": {},
   "outputs": [
    {
     "name": "stdout",
     "output_type": "stream",
     "text": [
      "A book is created\n",
      "A book with title:Python Rocks! is destroyed\n"
     ]
    }
   ],
   "source": [
    "book = Book(\"Python Rocks!\", \"Jose Portilla\", 159)\n",
    "\n",
    "del book"
   ]
  },
  {
   "cell_type": "markdown",
   "metadata": {},
   "source": [
    "    The __init__(), __str__(), __len__() and __del__() methods\n",
    "These special methods are defined by their use of underscores. They allow us to use Python specific functions on objects created through our class.\n",
    "\n",
    "**Great! After this lecture you should have a basic understanding of how to create your own objects with class in Python. You will be utilizing this heavily in your next milestone project!**\n",
    "\n",
    "For more great resources on this topic, check out:\n",
    "\n",
    "[Jeff Knupp's Post](https://jeffknupp.com/blog/2014/06/18/improve-your-python-python-classes-and-object-oriented-programming/)\n",
    "\n",
    "[Mozilla's Post](https://developer.mozilla.org/en-US/Learn/Python/Quickly_Learn_Object_Oriented_Programming)\n",
    "\n",
    "[Tutorial's Point](http://www.tutorialspoint.com/python/python_classes_objects.htm)\n",
    "\n",
    "[Official Documentation](https://docs.python.org/3/tutorial/classes.html)"
   ]
  },
  {
   "cell_type": "markdown",
   "metadata": {},
   "source": [
    "#### <font color='blue'> Devam</font>"
   ]
  },
  {
   "cell_type": "markdown",
   "metadata": {},
   "source": [
    "# Object Oriented Programming In Python"
   ]
  },
  {
   "cell_type": "markdown",
   "metadata": {},
   "source": [
    "## Classes and Objects"
   ]
  },
  {
   "cell_type": "markdown",
   "metadata": {},
   "source": [
    "### Class Definition"
   ]
  },
  {
   "cell_type": "code",
   "execution_count": null,
   "metadata": {},
   "outputs": [],
   "source": [
    "import datetime\n",
    "\n",
    "class Car:\n",
    "    def __init__(self, model, year, km, speed, owner = None):\n",
    "        self.model = model\n",
    "        self.year = year\n",
    "        self.km = km\n",
    "        self.speed = speed\n",
    "        self.owner = owner\n",
    "        \n",
    "    def age(self):\n",
    "        return datetime.datetime.now().year - self.year\n",
    "    \n",
    "    # Implementing some dunder/magic methods\n",
    "    def __repr__(self):\n",
    "        return 'Car({}, {}, {}, {})'.format(self.model, self.year, self.km, self.speed)\n",
    "    \n",
    "    def __str__(self):\n",
    "        return '{}, {}'.format(self.model, self.year)\n",
    "    \n",
    "    def __eq__(self, other):\n",
    "        return self.model == other.model "
   ]
  },
  {
   "cell_type": "markdown",
   "metadata": {},
   "source": [
    "#### <font color='blue'> Ek Notlar </font>"
   ]
  },
  {
   "cell_type": "markdown",
   "metadata": {},
   "source": [
    "##### <font color='black'> `__repr__` metodu</font>"
   ]
  },
  {
   "cell_type": "markdown",
   "metadata": {},
   "source": [
    "<font color='blue'> Biz jupyter notebokta `[1,2,3,'asd']` yazdığımızda `[1, 2, 3, 'asd']` döndürüyor bize. Bunlar aynı şeyler değil liste olduğunu anlıyor ve o listenin `__repr__` (representation) diye bir metodu var, o metodu çağırıyor. O metod da string döndürüyor bir tane. O stringi ekrana yazdırıyor jupyter notebook.  </font>"
   ]
  },
  {
   "cell_type": "code",
   "execution_count": 88,
   "metadata": {},
   "outputs": [
    {
     "data": {
      "text/plain": [
       "[1, 2, 3, 'asd']"
      ]
     },
     "execution_count": 88,
     "metadata": {},
     "output_type": "execute_result"
    }
   ],
   "source": [
    "[1,2,3,'asd']"
   ]
  },
  {
   "cell_type": "markdown",
   "metadata": {},
   "source": [
    "<font color='blue'>Tüm attributeların hepsini bir arada görmek istediğimizde `__repr__` daha mantıklı oluyor bu programcının kullandığı bir şey daha çok. `__str__` biraz daha kullanıcı için az ve öz bilgi almak için kullanılıyor. </font>"
   ]
  },
  {
   "cell_type": "code",
   "execution_count": 91,
   "metadata": {},
   "outputs": [],
   "source": [
    "lst=[2,3,4,4.5]"
   ]
  },
  {
   "cell_type": "code",
   "execution_count": 92,
   "metadata": {},
   "outputs": [
    {
     "name": "stdout",
     "output_type": "stream",
     "text": [
      "[2, 3, 4, 4.5]\n"
     ]
    }
   ],
   "source": [
    "print('%r' %(lst)) # %r ile __repr__ metodunu çalıştırıyoruz."
   ]
  },
  {
   "cell_type": "code",
   "execution_count": 93,
   "metadata": {},
   "outputs": [
    {
     "name": "stdout",
     "output_type": "stream",
     "text": [
      "[2, 3, 4, 4.5]\n"
     ]
    }
   ],
   "source": [
    "print('%s' %(lst)) # %s ile __str__ metodunu çalıştırıyoruz."
   ]
  },
  {
   "cell_type": "markdown",
   "metadata": {},
   "source": [
    "<font color='blue'>Debug yapacağın zaman `raise Exception(...)` dediğimizde exception attığında, representation objeye dair her bilgiyi verdiği için programcı için oldukça faydalı bir kullanım oluyor. </font>"
   ]
  },
  {
   "cell_type": "markdown",
   "metadata": {},
   "source": [
    "<font color='blue'>Burada bir Car objesi oluşturduğumuzda ve o objeyi çağırdığımızda `__rep__` metodunu döndürüyor. Bu jupyter notebooka özel bir olay. </font>"
   ]
  },
  {
   "cell_type": "code",
   "execution_count": 96,
   "metadata": {},
   "outputs": [],
   "source": [
    "import datetime\n",
    "\n",
    "class Car:\n",
    "    def __init__(self, model, year, km, speed, owner = None):\n",
    "        self.model = model\n",
    "        self.year = year\n",
    "        self.km = km\n",
    "        self.speed = speed\n",
    "        self.owner = owner\n",
    "        \n",
    "    def age(self):\n",
    "        return datetime.datetime.now().year - self.year\n",
    "    \n",
    "    # Implementing some dunder/magic methods\n",
    "    def __repr__(self):\n",
    "        return 'Car({}, {}, {}, {})'.format(self.model, self.year, self.km, self.speed)\n",
    "    \n",
    "    def __str__(self):\n",
    "        return '{}, {}'.format(self.model, self.year)\n",
    "    \n",
    "    def __eq__(self, other):\n",
    "        return self.model == other.model"
   ]
  },
  {
   "cell_type": "code",
   "execution_count": 97,
   "metadata": {},
   "outputs": [],
   "source": [
    "car1 = Car('a', 1944, 100000, 120)"
   ]
  },
  {
   "cell_type": "code",
   "execution_count": 98,
   "metadata": {},
   "outputs": [
    {
     "data": {
      "text/plain": [
       "Car(a, 1944, 100000, 120)"
      ]
     },
     "execution_count": 98,
     "metadata": {},
     "output_type": "execute_result"
    }
   ],
   "source": [
    "car1"
   ]
  },
  {
   "cell_type": "markdown",
   "metadata": {},
   "source": [
    "##### <font color='black'> `__eq__` fonksiyonunun olayı</font>"
   ]
  },
  {
   "cell_type": "markdown",
   "metadata": {},
   "source": [
    "<font color='blue'> `==` dediğimizde arka tarafta `__eq__` metodu çalışıyor. Bu metod da boolean değer döndürüyor. </font>"
   ]
  },
  {
   "cell_type": "code",
   "execution_count": 57,
   "metadata": {},
   "outputs": [
    {
     "data": {
      "text/plain": [
       "True"
      ]
     },
     "execution_count": 57,
     "metadata": {},
     "output_type": "execute_result"
    }
   ],
   "source": [
    "set1={1,3,4,2}\n",
    "set2={4,3,2,1}\n",
    "\n",
    "set1==set2"
   ]
  },
  {
   "cell_type": "code",
   "execution_count": 58,
   "metadata": {},
   "outputs": [
    {
     "data": {
      "text/plain": [
       "True"
      ]
     },
     "execution_count": 58,
     "metadata": {},
     "output_type": "execute_result"
    }
   ],
   "source": [
    "set1.__eq__(set2) # yukarıdakiyle aynı şey"
   ]
  },
  {
   "cell_type": "code",
   "execution_count": 99,
   "metadata": {},
   "outputs": [
    {
     "data": {
      "text/plain": [
       "False"
      ]
     },
     "execution_count": 99,
     "metadata": {},
     "output_type": "execute_result"
    }
   ],
   "source": [
    "car1 = Car('a', 1944, 100000, 120)\n",
    "car2 = Car('b', 1990, 10000, 100)\n",
    "\n",
    "car1==car2"
   ]
  },
  {
   "cell_type": "markdown",
   "metadata": {},
   "source": [
    "<font color='blue'> `car3 = car2` dediğimizde aynı objeye referans gösteren iki farklı pointer/referans olur. Aynı obje var ama isimleri farklı sadece. Aynı dosya var birisi 'a' diyor birisi 'b' diyor gibi, içeriği aynı.</font>"
   ]
  },
  {
   "cell_type": "code",
   "execution_count": 100,
   "metadata": {},
   "outputs": [],
   "source": [
    "car3 = car2"
   ]
  },
  {
   "cell_type": "code",
   "execution_count": 101,
   "metadata": {},
   "outputs": [
    {
     "name": "stdout",
     "output_type": "stream",
     "text": [
      "2743102888200\n",
      "2743102888200\n"
     ]
    }
   ],
   "source": [
    "print(id(car2))\n",
    "print(id(car3))"
   ]
  },
  {
   "cell_type": "markdown",
   "metadata": {},
   "source": [
    "<font color='blue'> Memorydeki her objenin kendine ait bir id'si var. Compiler her objeyi bu id'sinden tanıyor. Biz car3'ü car2'ye eşitlediğimiz zaman aslında aynı id'yi gösteren başka bir imleç koymuş gibi oluyoruz. Sıfırdan obje yaratmıyoruz.</font>"
   ]
  },
  {
   "cell_type": "markdown",
   "metadata": {},
   "source": [
    "    def __eq__(self, other):\n",
    "        return self.model == other.model"
   ]
  },
  {
   "cell_type": "markdown",
   "metadata": {},
   "source": [
    "<font color='blue'> Buradaki equal işleminde ise iki arabanın modelleri eşitse `==` dediğimizde aynı araba demiş oluyor. Burada değiştirmiş olduk `equal` metodunu. </font>"
   ]
  },
  {
   "cell_type": "code",
   "execution_count": 102,
   "metadata": {},
   "outputs": [],
   "source": [
    "car1 = Car('a', 1944, 100000, 120)\n",
    "car2 = Car('b', 1990, 10000, 100)\n",
    "\n",
    "# car3 tanımlıyoruz yeni olarak.\n",
    "\n",
    "car3 = Car('a', 1292, 1232, 12312)"
   ]
  },
  {
   "cell_type": "code",
   "execution_count": 103,
   "metadata": {},
   "outputs": [
    {
     "data": {
      "text/plain": [
       "True"
      ]
     },
     "execution_count": 103,
     "metadata": {},
     "output_type": "execute_result"
    }
   ],
   "source": [
    "car1 == car3 # Sadece modele bakıyor çünkü, ikisi de 'a'"
   ]
  },
  {
   "cell_type": "markdown",
   "metadata": {},
   "source": [
    "##### <font color='black'>Ayrıca `equal` metodu eklemezsek 'False' dönüyor.</font>"
   ]
  },
  {
   "cell_type": "code",
   "execution_count": 66,
   "metadata": {},
   "outputs": [],
   "source": [
    "import datetime\n",
    "\n",
    "class Car:\n",
    "    def __init__(self, model, year, km, speed, owner = None):\n",
    "        self.model = model\n",
    "        self.year = year\n",
    "        self.km = km\n",
    "        self.speed = speed\n",
    "        self.owner = owner\n",
    "        \n",
    "    def age(self):\n",
    "        return datetime.datetime.now().year - self.year\n",
    "    \n",
    "    # Implementing some dunder/magic methods\n",
    "    def __repr__(self):\n",
    "        return 'Car({}, {}, {}, {})'.format(self.model, self.year, self.km, self.speed)\n",
    "    \n",
    "    def __str__(self):\n",
    "        return '{}, {}'.format(self.model, self.year)"
   ]
  },
  {
   "cell_type": "code",
   "execution_count": 67,
   "metadata": {},
   "outputs": [],
   "source": [
    "car1 = Car('a', 1944, 100000, 120)\n",
    "car2 = Car('b', 1990, 10000, 100)\n",
    "car3 = Car('a', 1292, 1232, 12312)"
   ]
  },
  {
   "cell_type": "code",
   "execution_count": 68,
   "metadata": {},
   "outputs": [
    {
     "data": {
      "text/plain": [
       "False"
      ]
     },
     "execution_count": 68,
     "metadata": {},
     "output_type": "execute_result"
    }
   ],
   "source": [
    "car1 == car3 "
   ]
  },
  {
   "cell_type": "markdown",
   "metadata": {},
   "source": [
    "##### <font color='black'> `equal` metodunu değiştirmek mantıklı çünkü default bırakırsak 'owner'ın da aynı olmasını bekliyor. Halbuki ownerı farklı olsa da araba aynı araba olabilir. </font>"
   ]
  },
  {
   "cell_type": "code",
   "execution_count": 104,
   "metadata": {},
   "outputs": [],
   "source": [
    "import datetime\n",
    "\n",
    "class Car:\n",
    "    def __init__(self, model, year, km, speed, owner = None):\n",
    "        self.model = model\n",
    "        self.year = year\n",
    "        self.km = km\n",
    "        self.speed = speed\n",
    "        self.owner = owner\n",
    "        \n",
    "    def age(self):\n",
    "        return datetime.datetime.now().year - self.year\n",
    "    \n",
    "    # Implementing some dunder/magic methods\n",
    "    def __repr__(self):\n",
    "        return 'Car({}, {}, {}, {})'.format(self.model, self.year, self.km, self.speed)\n",
    "    \n",
    "    def __str__(self):\n",
    "        return '{}, {}'.format(self.model, self.year)\n",
    "    \n",
    "    def __eq__(self, other):\n",
    "        return self.model == other.model and self.year == other.year # ek olarak yılı da ekledik"
   ]
  },
  {
   "cell_type": "code",
   "execution_count": 105,
   "metadata": {},
   "outputs": [],
   "source": [
    "car1 = Car('a', 1944, 100000, 120)\n",
    "car2 = Car('b', 1990, 10000, 100)\n",
    "car3 = Car('a', 1292, 1232, 12312)"
   ]
  },
  {
   "cell_type": "code",
   "execution_count": 106,
   "metadata": {},
   "outputs": [
    {
     "data": {
      "text/plain": [
       "False"
      ]
     },
     "execution_count": 106,
     "metadata": {},
     "output_type": "execute_result"
    }
   ],
   "source": [
    "car1 == car3"
   ]
  },
  {
   "cell_type": "code",
   "execution_count": 109,
   "metadata": {},
   "outputs": [],
   "source": [
    "car4 = Car('b', 1990, 10000, 100, 'Ahmet')\n",
    "car5 = Car('b', 1990, 20000, 500, 'Mehmet')"
   ]
  },
  {
   "cell_type": "code",
   "execution_count": 110,
   "metadata": {},
   "outputs": [
    {
     "data": {
      "text/plain": [
       "True"
      ]
     },
     "execution_count": 110,
     "metadata": {},
     "output_type": "execute_result"
    }
   ],
   "source": [
    "car4 == car5"
   ]
  },
  {
   "cell_type": "markdown",
   "metadata": {},
   "source": [
    "#### <font color='blue'> Devam </font>"
   ]
  },
  {
   "cell_type": "markdown",
   "metadata": {},
   "source": [
    "##### Python Dunder (Magic) Methods Documentation\n",
    "https://docs.python.org/3/reference/datamodel.html#special-method-names"
   ]
  },
  {
   "cell_type": "markdown",
   "metadata": {},
   "source": [
    "### Creating Objects (Instances) and How To Access Properties / Call Methods"
   ]
  },
  {
   "cell_type": "code",
   "execution_count": 120,
   "metadata": {},
   "outputs": [],
   "source": [
    "import datetime\n",
    "\n",
    "class Car:\n",
    "    def __init__(self, model, year, km, speed, owner = None):\n",
    "        self.model = model\n",
    "        self.year = year\n",
    "        self.km = km\n",
    "        self.speed = speed\n",
    "        self.owner = owner\n",
    "        \n",
    "    def age(self):\n",
    "        return datetime.datetime.now().year - self.year\n",
    "    \n",
    "    # Implementing some dunder/magic methods\n",
    "    def __repr__(self):\n",
    "        return 'Car({}, {}, {}, {})'.format(self.model, self.year, self.km, self.speed)\n",
    "    \n",
    "    def __str__(self):\n",
    "        return '{}, {}'.format(self.model, self.year)\n",
    "    \n",
    "    def __eq__(self, other):\n",
    "        return self.model == other.model "
   ]
  },
  {
   "cell_type": "code",
   "execution_count": 121,
   "metadata": {},
   "outputs": [
    {
     "data": {
      "text/plain": [
       "1944"
      ]
     },
     "execution_count": 121,
     "metadata": {},
     "output_type": "execute_result"
    }
   ],
   "source": [
    "car1 = Car('a', 1944, 100000, 120)\n",
    "car1.year"
   ]
  },
  {
   "cell_type": "code",
   "execution_count": 122,
   "metadata": {},
   "outputs": [
    {
     "data": {
      "text/plain": [
       "1990"
      ]
     },
     "execution_count": 122,
     "metadata": {},
     "output_type": "execute_result"
    }
   ],
   "source": [
    "car2 = Car('b', 1990, 10000, 100)\n",
    "car2.year"
   ]
  },
  {
   "cell_type": "code",
   "execution_count": 123,
   "metadata": {},
   "outputs": [
    {
     "data": {
      "text/plain": [
       "31"
      ]
     },
     "execution_count": 123,
     "metadata": {},
     "output_type": "execute_result"
    }
   ],
   "source": [
    "car2.age()"
   ]
  },
  {
   "cell_type": "code",
   "execution_count": 124,
   "metadata": {},
   "outputs": [
    {
     "name": "stdout",
     "output_type": "stream",
     "text": [
      "a, 1944\n"
     ]
    }
   ],
   "source": [
    "print(car1) # str metodunu çağırdı"
   ]
  },
  {
   "cell_type": "code",
   "execution_count": 125,
   "metadata": {},
   "outputs": [
    {
     "data": {
      "text/plain": [
       "Car(a, 1944, 100000, 120)"
      ]
     },
     "execution_count": 125,
     "metadata": {},
     "output_type": "execute_result"
    }
   ],
   "source": [
    "car1 # repr metodunu çağırdı"
   ]
  },
  {
   "cell_type": "code",
   "execution_count": 126,
   "metadata": {},
   "outputs": [
    {
     "data": {
      "text/plain": [
       "'a, 1944'"
      ]
     },
     "execution_count": 126,
     "metadata": {},
     "output_type": "execute_result"
    }
   ],
   "source": [
    "str(car1)"
   ]
  },
  {
   "cell_type": "code",
   "execution_count": 127,
   "metadata": {},
   "outputs": [
    {
     "data": {
      "text/plain": [
       "False"
      ]
     },
     "execution_count": 127,
     "metadata": {},
     "output_type": "execute_result"
    }
   ],
   "source": [
    "car1 == car2"
   ]
  },
  {
   "cell_type": "code",
   "execution_count": 128,
   "metadata": {},
   "outputs": [
    {
     "data": {
      "text/plain": [
       "True"
      ]
     },
     "execution_count": 128,
     "metadata": {},
     "output_type": "execute_result"
    }
   ],
   "source": [
    "car2 == car2"
   ]
  },
  {
   "cell_type": "code",
   "execution_count": 129,
   "metadata": {},
   "outputs": [],
   "source": [
    "car3 = Car('a', 1292, 1232, 12312)"
   ]
  },
  {
   "cell_type": "code",
   "execution_count": 130,
   "metadata": {},
   "outputs": [
    {
     "data": {
      "text/plain": [
       "True"
      ]
     },
     "execution_count": 130,
     "metadata": {},
     "output_type": "execute_result"
    }
   ],
   "source": [
    "car1 == car3 # sadece modeline baktı."
   ]
  },
  {
   "cell_type": "markdown",
   "metadata": {},
   "source": [
    "### Subclasses"
   ]
  },
  {
   "cell_type": "markdown",
   "metadata": {},
   "source": [
    "<font color='gray'> *Car: araç olarak geçiyor ingilizcede.*  </font>"
   ]
  },
  {
   "cell_type": "markdown",
   "metadata": {},
   "source": [
    "#### <font color='gray'> *Car sınıfını tanımlamıştık yukarıda.* </font>"
   ]
  },
  {
   "cell_type": "code",
   "execution_count": 132,
   "metadata": {},
   "outputs": [],
   "source": [
    "import datetime\n",
    "\n",
    "class Car:\n",
    "    def __init__(self, model, year, km, speed, owner = None):\n",
    "        self.model = model\n",
    "        self.year = year\n",
    "        self.km = km\n",
    "        self.speed = speed\n",
    "        self.owner = owner\n",
    "        \n",
    "    def age(self):\n",
    "        return datetime.datetime.now().year - self.year\n",
    "    \n",
    "    # Implementing some dunder/magic methods\n",
    "    def __repr__(self):\n",
    "        return 'Car({}, {}, {}, {})'.format(self.model, self.year, self.km, self.speed)\n",
    "    \n",
    "    def __str__(self):\n",
    "        return '{}, {}'.format(self.model, self.year)\n",
    "    \n",
    "    def __eq__(self, other):\n",
    "        return self.model == other.model"
   ]
  },
  {
   "cell_type": "markdown",
   "metadata": {},
   "source": [
    "#### ---"
   ]
  },
  {
   "cell_type": "markdown",
   "metadata": {},
   "source": [
    "<font color='blue'> Burada Car, Bus'ın superclassı oluyor. *'model, year, km, speed, owner'* tüm araçlar için geçerli bir şey. Biz burada otobüs olduğu için ekstra buna num_seats (bir otobüste kaç koltuk olduğu) özelliğini de inherit etmek istiyoruz.  </font>"
   ]
  },
  {
   "cell_type": "code",
   "execution_count": 133,
   "metadata": {},
   "outputs": [],
   "source": [
    "class Bus(Car):\n",
    "    \n",
    "    def __init__(self, model, year, km, speed, num_seats, owner = None):\n",
    "        super().__init__(model, year, km, speed, owner)\n",
    "        self.num_seats = num_seats\n",
    "        \n",
    "    def __repr__(self):\n",
    "        return 'Bus({}, {}, {}, {}, {})'.format(self.model, self.year, self.km, self.speed, self.num_seats)\n",
    "        "
   ]
  },
  {
   "cell_type": "markdown",
   "metadata": {},
   "source": [
    "#### <font color='gray'> *Aşağıda tekrar tanımlayacağız Person classını. Şimdilik Bus classından yarattığımız objeyle aralarında bağlantı kurabilmek için çalıştırıyoruz.* </font>"
   ]
  },
  {
   "cell_type": "code",
   "execution_count": 134,
   "metadata": {},
   "outputs": [],
   "source": [
    "class Person:\n",
    "    def __init__(self, fullname, birthyear, city):\n",
    "        self.fullname = fullname\n",
    "        self.birthyear = birthyear\n",
    "        self.city = city\n",
    "        \n",
    "    def greet(self):\n",
    "        print('Hello, I\\'m', self.fullname)\n",
    "\n",
    "    @property\n",
    "    def identity_info(self):\n",
    "        return '{}, {}, {}'.format(self.fullname, self.birthyear, self.city)\n",
    "    \n",
    "    \n",
    "    @classmethod\n",
    "    def from_identity_str(cls, identity_str):\n",
    "        fullname, birthyear, city = identity_str.split(', ')\n",
    "        \n",
    "        new_person = cls(fullname, birthyear, city)\n",
    "        \n",
    "        return new_person\n",
    "    \n",
    "    \n",
    "    def __repr__(self):\n",
    "        return 'Person({}, {}, {})'.format(self.fullname, self.birthyear, self.city)"
   ]
  },
  {
   "cell_type": "code",
   "execution_count": 135,
   "metadata": {},
   "outputs": [],
   "source": [
    "person1 = Person('Berk Sudan', 1996, 'Hatay')"
   ]
  },
  {
   "cell_type": "markdown",
   "metadata": {},
   "source": [
    "#### ---"
   ]
  },
  {
   "cell_type": "code",
   "execution_count": 141,
   "metadata": {},
   "outputs": [],
   "source": [
    "bus1 = Bus('a', 1999, 21124, 123, 100, person1)"
   ]
  },
  {
   "cell_type": "code",
   "execution_count": 142,
   "metadata": {},
   "outputs": [
    {
     "data": {
      "text/plain": [
       "Person(Berk Sudan, 1996, Hatay)"
      ]
     },
     "execution_count": 142,
     "metadata": {},
     "output_type": "execute_result"
    }
   ],
   "source": [
    "bus1.owner # Car sınıfının içinde tanımlamıştık owner attributeunu."
   ]
  },
  {
   "cell_type": "markdown",
   "metadata": {},
   "source": [
    "<font color='blue'> bus1.owner'ın typeına baktığımızda Person classı tipinde bir attribute olduğunu görüyoruz.</font>"
   ]
  },
  {
   "cell_type": "code",
   "execution_count": 143,
   "metadata": {},
   "outputs": [
    {
     "data": {
      "text/plain": [
       "__main__.Person"
      ]
     },
     "execution_count": 143,
     "metadata": {},
     "output_type": "execute_result"
    }
   ],
   "source": [
    "type(bus1.owner)"
   ]
  },
  {
   "cell_type": "markdown",
   "metadata": {},
   "source": [
    "<font color='blue'> Bunu bir değişkene atayıp çalıştırdığımızda Person classının representation metodu çalışacak. </font>\n",
    "\n",
    "    def __repr__(self):\n",
    "        return 'Person({}, {}, {})'.format(self.fullname, self.birthyear, self.city)"
   ]
  },
  {
   "cell_type": "code",
   "execution_count": 36,
   "metadata": {},
   "outputs": [],
   "source": [
    "bus1_owner = bus1.owner"
   ]
  },
  {
   "cell_type": "code",
   "execution_count": 37,
   "metadata": {},
   "outputs": [
    {
     "data": {
      "text/plain": [
       "Person(Berk Sudan, 1996, Hatay)"
      ]
     },
     "execution_count": 37,
     "metadata": {},
     "output_type": "execute_result"
    }
   ],
   "source": [
    "bus1_owner"
   ]
  },
  {
   "cell_type": "code",
   "execution_count": 38,
   "metadata": {},
   "outputs": [
    {
     "name": "stdout",
     "output_type": "stream",
     "text": [
      "Person(Berk Sudan, 1996, Hatay)\n"
     ]
    }
   ],
   "source": [
    "print('%r' %bus1_owner) # yukarıdakiyle aynı şey"
   ]
  },
  {
   "cell_type": "code",
   "execution_count": 39,
   "metadata": {},
   "outputs": [
    {
     "data": {
      "text/plain": [
       "100"
      ]
     },
     "execution_count": 39,
     "metadata": {},
     "output_type": "execute_result"
    }
   ],
   "source": [
    "bus1.num_seats"
   ]
  },
  {
   "cell_type": "code",
   "execution_count": 40,
   "metadata": {},
   "outputs": [
    {
     "data": {
      "text/plain": [
       "22"
      ]
     },
     "execution_count": 40,
     "metadata": {},
     "output_type": "execute_result"
    }
   ],
   "source": [
    "bus1.age() # Car sınıfından aldı"
   ]
  },
  {
   "cell_type": "code",
   "execution_count": 41,
   "metadata": {},
   "outputs": [
    {
     "data": {
      "text/plain": [
       "Bus(a, 1999, 21124, 123, 100)"
      ]
     },
     "execution_count": 41,
     "metadata": {},
     "output_type": "execute_result"
    }
   ],
   "source": [
    "bus1"
   ]
  },
  {
   "cell_type": "markdown",
   "metadata": {},
   "source": [
    "### Class Decorators And classmethod"
   ]
  },
  {
   "cell_type": "markdown",
   "metadata": {},
   "source": [
    "<font color='gray'> \n",
    "*-Mülakat sorusu olarak da gelirmiş decoratorlerin işlevi pythonla ilgili işlerde-* </font>"
   ]
  },
  {
   "cell_type": "markdown",
   "metadata": {},
   "source": [
    "<font color='blue'> Decoratorlar classın metodunun üzerine @ işaretiyle yazılırlar. *'@property'* , *'@classmethod'* bunlar decoratordır. Bu decoratorlar üstüne yazıldığı metodu içeriğini değiştirmeden işlevini değiştirirler. Decoratorlar fonksiyonu içine alır metod olarak ve bir fonksiyon dönerler o fonksiyonun işlevini değiştirdikten sonra. Normalde önce `identity_info` fonksiyonunun içine girerdi ama artık onun içine girmiyor @property üst fonksiyonunun içine giriyor önce. Onun sonucu olarak `return '{}, {}, {}'.format(self.fullname, self.birthyear, self.city)` döndürüyor.    </font>\n"
   ]
  },
  {
   "cell_type": "markdown",
   "metadata": {},
   "source": [
    "<font color='blue'>`def property(func)` gibi bir fonksiyonumuz olduğunu düşün. Parametre olarak fonksiyon (func) alıyor ve o fonksiyonun işlevini belli şekilde değiştirip onun sonucunu döndürüyor. </font>\n",
    "\n",
    "    def property (func):\n",
    "        return W(func(....))"
   ]
  },
  {
   "cell_type": "markdown",
   "metadata": {},
   "source": [
    "<font color='gray'> *'Python: Fonksiyonları Kontrol Altına Almak (Dekoratörler)' medium yazısı ve Engin Deniz Alpman hocanın notebooku üzerinden çalıştım decoratorleri. Medium yazısının önemli noktalarını buraya ekledim, Engin hocanın anlatımı ayrı notebookta.*  </font>"
   ]
  },
  {
   "cell_type": "markdown",
   "metadata": {},
   "source": [
    "####  [Python: Fonksiyonları Kontrol Altına Almak (Dekoratörler)](https://medium.com/herkes-i%C3%A7in-python/python-decorators-45aac5308fb) <font color='blue'> medium yazısı notlarım </font>"
   ]
  },
  {
   "cell_type": "code",
   "execution_count": 1,
   "metadata": {},
   "outputs": [
    {
     "name": "stdout",
     "output_type": "stream",
     "text": [
      "Fonksiyon çalışacak...\n",
      "Fonksiyon çalıştı\n"
     ]
    }
   ],
   "source": [
    "def decorator(func):\n",
    "    def wrapper(*args,**kwargs):\n",
    "        print('Fonksiyon çalışacak...')\n",
    "        func()\n",
    "        \n",
    "    return wrapper\n",
    "\n",
    "@decorator\n",
    "def func():\n",
    "    print('Fonksiyon çalıştı')\n",
    "\n",
    "func()"
   ]
  },
  {
   "cell_type": "markdown",
   "metadata": {},
   "source": [
    "<font color='black'> Bir dekoratör kullanıldığında, kullanılan fonksiyon dekoratöre parametre olarak düşer. Dekoratör içinde bir kapsayıcı (wrapper) iç fonksiyon oluşturur ve asıl fonksiyona gelen parametreleri bununla yakalarız. Dilediğimiz işlemleri yaptıktan sonra iç fonksiyondan, parametre olarak gelen asıl fonksiyondan dönen değeri, dekoratörden ise iç fonksiyonun kendisini geriye döndürürüz.\n",
    "\n",
    "Şimdi, bir işe yarayabilecek gerçek bir dekoratör yazalım.</font>"
   ]
  },
  {
   "cell_type": "code",
   "execution_count": 2,
   "metadata": {},
   "outputs": [],
   "source": [
    "def benchmark(func):\n",
    "    def wrapper(*args, **kwargs):\n",
    "        from time import time\n",
    "\n",
    "        time_start = time()\n",
    "        result = func(*args, **kwargs)\n",
    "        time_finish = time()\n",
    "\n",
    "        time_delta = time_finish - time_start\n",
    "        print('- [{func_name}] fonksiyonu {seconds} saniye sürdü.'.format(\n",
    "            func_name=func.__name__,\n",
    "            seconds=round(time_delta, 2),\n",
    "        ))\n",
    "\n",
    "        return result\n",
    "\n",
    "    return wrapper"
   ]
  },
  {
   "cell_type": "markdown",
   "metadata": {},
   "source": [
    "<font color='black'> Yukarıda benchmark isimli bir dekoratör görüyorsunuz. Bu dekoratör parametre olarak gelen fonksiyonu çalıştırmadan önce başlangıç zamanını (time_start), çalıştırdıktan sonra da bitiş zamanını (time_finish) alıyor. Ardından aradan geçen süreyi (time_delta) hesaplayıp ekrana yazdırıyor.\n",
    "Asıl fonksiyondan (func) dönen değeri (result) iç fonksiyondan döndürdükten sonra son olarak da iç fonksiyonu (wrapper) geriye döndürüyor.\n",
    "Böylece, çalışma süresini hesaplamak istediğimiz fonksiyona @benchmark eklediğimizde başka müdahaleye gerek kalmadan konsolda çalışma sürelerini görebiliyoruz. </font>"
   ]
  },
  {
   "cell_type": "code",
   "execution_count": 3,
   "metadata": {},
   "outputs": [
    {
     "name": "stdout",
     "output_type": "stream",
     "text": [
      "- [test_response_status_is_200] fonksiyonu 1.68 saniye sürdü.\n"
     ]
    }
   ],
   "source": [
    "@benchmark\n",
    "def test_response_status_is_200():\n",
    "    from urllib import request\n",
    "\n",
    "    response = request.urlopen(\n",
    "        request.Request('https://httpbin.org/status/200',\n",
    "                        method='HEAD')\n",
    "    )\n",
    "\n",
    "    assert response.status == 200\n",
    "\n",
    "\n",
    "test_response_status_is_200()"
   ]
  },
  {
   "cell_type": "markdown",
   "metadata": {},
   "source": [
    "Yukarıda, yazdığımız dekoratörün bir kullanımını görüyorsunuz. Fonksiyonda önce httpbin sitesine HEAD isteği atıp ardından dönen cevabın HTTP durum kodunun 200 (başarılı) olup olmadığını kontrol ediyoruz."
   ]
  },
  {
   "cell_type": "markdown",
   "metadata": {},
   "source": [
    "#### <font color='blue'> Ek Notlar </font>"
   ]
  },
  {
   "cell_type": "markdown",
   "metadata": {},
   "source": [
    "<font color='blue'>@property ve @classmethod python'da built-in olarak var olan decoratorlar. Biz normalde person'ın şehrini bulmaya çalışsak person.city yazardık. Ama biz öyle bir çıktı oluşturmak istiyoruz ki personın fullname'ini, doğum yılını, citysini virgüllerle ayırıp bize göstersin. \n",
    "    \n",
    "</font>\n",
    "\n",
    "`return '{}, {}, {}'.format(self.fullname, self.birthyear, self.city)`"
   ]
  },
  {
   "cell_type": "code",
   "execution_count": 146,
   "metadata": {},
   "outputs": [],
   "source": [
    "class Person:\n",
    "    def __init__(self, fullname, birthyear, city):\n",
    "        self.fullname = fullname\n",
    "        self.birthyear = birthyear\n",
    "        self.city = city\n",
    "        \n",
    "    def greet(self):\n",
    "        print('Hello, I\\'m', self.fullname)\n",
    "\n",
    "    @property\n",
    "    def identity_info(self):\n",
    "        return '{}, {}, {}'.format(self.fullname, self.birthyear, self.city)\n",
    "    \n",
    "    \n",
    "    @classmethod\n",
    "    def from_identity_str(cls, identity_str):\n",
    "        fullname, birthyear, city = identity_str.split(', ')\n",
    "        \n",
    "        new_person = cls(fullname, birthyear, city)\n",
    "        \n",
    "        return new_person\n",
    "    \n",
    "    \n",
    "    def __repr__(self):\n",
    "        return 'Person({}, {}, {})'.format(self.fullname, self.birthyear, self.city)\n",
    "        "
   ]
  },
  {
   "cell_type": "code",
   "execution_count": 147,
   "metadata": {},
   "outputs": [],
   "source": [
    "person1 = Person('Berk Sudan', 1996, 'Hatay')"
   ]
  },
  {
   "cell_type": "code",
   "execution_count": 148,
   "metadata": {},
   "outputs": [
    {
     "name": "stdout",
     "output_type": "stream",
     "text": [
      "Berk Sudan, 1996, Hatay\n"
     ]
    }
   ],
   "source": [
    "print(person1.identity_info)"
   ]
  },
  {
   "cell_type": "markdown",
   "metadata": {},
   "source": [
    "<font color='blue'>`identity_info`'yu hiç () parantezleri olmadan çağırdık fonksiyon olmasına rağmen. Biz bunu gördüğümüzde Person classının initializerının içinde `self.identity_info=identity_info` gibi bir şey olmasını beklerdik. Bu olayın okunabilirliğini artırmak için bunu () parantezlerini kullanmadan da sanki içindeki bir attribute'u çağırıyormuş gibi bunları çağırabiliyoruz. </font>"
   ]
  },
  {
   "cell_type": "markdown",
   "metadata": {},
   "source": [
    "<font color='blue'>`@classmethod` şu işe yarıyor. Biz normalde constructorların içine self koyuyoruz. Veya identity_info'nun içine de self koyduk. Bu, kendi oluşturulan objenin içeriğindeki attributeları değiştiriyor. Ama biz farklı bir şekilde initialize etmek istiyoruz diyelim ki classı. Öyle bir durum olsun ki mesela ben adımı soyadımı, doğum tarihimi, şehrimi uzun uzun yazmak istemiyorum *Berk Sudan, 1996, Hatay* şeklinde. Ben öyle bir obje initalize edeceğim ki adımı soyadımı, doğum yılımı, şehri string olarak yazdığımda virgüllerle ayrılmış bir şekilde otomatik olarak ilk yazdığımı isim olarak alsın, ikincisini doğum yılı, üçüncüsünü doğum yeri olarak. \n",
    "    \n",
    "`person_x=Person.from_identity_str('Berk Sudan, 1996, Istanbul')`\n",
    "    \n",
    "    \n",
    "Burada yaptığımız şey Person'ın `from_identity_str` diye özel bir metodunu çağırdık. Bu bir @classmethod. Bunun yaptığı şey: bir stringi alıp virgül ve boşluğa göre bölüp değerleri fullname, birthyear, city olarak atamak, classın içindeki constructorı bu değerlerle initalize etmek ve new_person'ı döndürmek. Yani bunun dönüş tipi initialize edilmiş bir obje oluyor. \n",
    "    \n",
    "    @classmethod\n",
    "    def from_identity_str(cls, identity_str):\n",
    "        fullname, birthyear, city = identity_str.split(', ')\n",
    "        \n",
    "        new_person = cls(fullname, birthyear, city)\n",
    "        \n",
    "        return new_person    \n",
    "    \n",
    "Böylece bir esneklik kazanmış oldu bizim objemiz. Normalde dışarda sürekli bölmemiz gerekiyordu ama diyoruz ki from_identity_str'sinden tanı bunu. \n",
    "</font>"
   ]
  },
  {
   "cell_type": "markdown",
   "metadata": {},
   "source": [
    "<font color='purple'> Bir adım ileri gidecek olursak... </font>"
   ]
  },
  {
   "cell_type": "markdown",
   "metadata": {},
   "source": [
    "<font color='blue'>`print(person1.identity_info)` bize string dönüyor. </font>"
   ]
  },
  {
   "cell_type": "code",
   "execution_count": 149,
   "metadata": {},
   "outputs": [
    {
     "name": "stdout",
     "output_type": "stream",
     "text": [
      "Berk Sudan, 1996, Hatay\n"
     ]
    }
   ],
   "source": [
    "print(person1.identity_info)"
   ]
  },
  {
   "cell_type": "markdown",
   "metadata": {},
   "source": [
    "<font color='blue'>Yeni bir person başlatıp `from_identity_str(person1.identity_info)` dediğimizde yeni bir person oluşturmuş oluyoruz. </font>"
   ]
  },
  {
   "cell_type": "code",
   "execution_count": 151,
   "metadata": {},
   "outputs": [],
   "source": [
    "person2=Person.from_identity_str(person1.identity_info)"
   ]
  },
  {
   "cell_type": "code",
   "execution_count": 152,
   "metadata": {},
   "outputs": [
    {
     "data": {
      "text/plain": [
       "Person(Berk Sudan, 1996, Hatay)"
      ]
     },
     "execution_count": 152,
     "metadata": {},
     "output_type": "execute_result"
    }
   ],
   "source": [
    "person2"
   ]
  },
  {
   "cell_type": "code",
   "execution_count": 153,
   "metadata": {},
   "outputs": [
    {
     "data": {
      "text/plain": [
       "Person(Berk Sudan, 1996, Hatay)"
      ]
     },
     "execution_count": 153,
     "metadata": {},
     "output_type": "execute_result"
    }
   ],
   "source": [
    "person1"
   ]
  },
  {
   "cell_type": "markdown",
   "metadata": {},
   "source": [
    "<font color='blue'>Bu şekilde person1 ve person2 aynı özelliklere sahip olmuş oluyor. Yani basitçe person1'i person2'nin içine kopyalamış olduk. İkisi farklı obje ama.</font>"
   ]
  },
  {
   "cell_type": "code",
   "execution_count": 154,
   "metadata": {},
   "outputs": [],
   "source": [
    "person2.birthyear=1993"
   ]
  },
  {
   "cell_type": "code",
   "execution_count": 155,
   "metadata": {},
   "outputs": [
    {
     "data": {
      "text/plain": [
       "1993"
      ]
     },
     "execution_count": 155,
     "metadata": {},
     "output_type": "execute_result"
    }
   ],
   "source": [
    "person2.birthyear"
   ]
  },
  {
   "cell_type": "code",
   "execution_count": 157,
   "metadata": {},
   "outputs": [
    {
     "data": {
      "text/plain": [
       "1996"
      ]
     },
     "execution_count": 157,
     "metadata": {},
     "output_type": "execute_result"
    }
   ],
   "source": [
    "person1.birthyear # değişmedi. Kopyala yapıştır yapmış olduk yani. "
   ]
  },
  {
   "cell_type": "markdown",
   "metadata": {},
   "source": [
    "<font color='blue'>`person2 = person1` deseydik aynı yere referans gösterdikleri için birinin birth yearını değiştirdiğimizde diğerininkide değişecektir. </font>"
   ]
  },
  {
   "cell_type": "code",
   "execution_count": 158,
   "metadata": {},
   "outputs": [],
   "source": [
    "person2 = person1"
   ]
  },
  {
   "cell_type": "code",
   "execution_count": 159,
   "metadata": {},
   "outputs": [],
   "source": [
    "person2.birthyear=1994"
   ]
  },
  {
   "cell_type": "code",
   "execution_count": 160,
   "metadata": {},
   "outputs": [
    {
     "data": {
      "text/plain": [
       "1994"
      ]
     },
     "execution_count": 160,
     "metadata": {},
     "output_type": "execute_result"
    }
   ],
   "source": [
    "person2.birthyear"
   ]
  },
  {
   "cell_type": "code",
   "execution_count": 161,
   "metadata": {},
   "outputs": [
    {
     "data": {
      "text/plain": [
       "1994"
      ]
     },
     "execution_count": 161,
     "metadata": {},
     "output_type": "execute_result"
    }
   ],
   "source": [
    "person1.birthyear"
   ]
  },
  {
   "cell_type": "markdown",
   "metadata": {},
   "source": [
    "<font color='blue'>Burada @classmethoduyla yaptığımız şey aynı içeriğe sahip farklı obje yaratmak oldu.</font>"
   ]
  },
  {
   "cell_type": "markdown",
   "metadata": {},
   "source": [
    "#### <font color='blue'>Devam </font>"
   ]
  },
  {
   "cell_type": "code",
   "execution_count": 162,
   "metadata": {},
   "outputs": [],
   "source": [
    "class Person:\n",
    "    def __init__(self, fullname, birthyear, city):\n",
    "        self.fullname = fullname\n",
    "        self.birthyear = birthyear\n",
    "        self.city = city\n",
    "        \n",
    "    def greet(self):\n",
    "        print('Hello, I\\'m', self.fullname)\n",
    "\n",
    "    @property\n",
    "    def identity_info(self):\n",
    "        return '{}, {}, {}'.format(self.fullname, self.birthyear, self.city)\n",
    "    \n",
    "    \n",
    "    @classmethod\n",
    "    def from_identity_str(cls, identity_str):\n",
    "        fullname, birthyear, city = identity_str.split(', ')\n",
    "        \n",
    "        new_person = cls(fullname, birthyear, city)\n",
    "        \n",
    "        return new_person\n",
    "    \n",
    "    \n",
    "    def __repr__(self):\n",
    "        return 'Person({}, {}, {})'.format(self.fullname, self.birthyear, self.city)\n",
    "        "
   ]
  },
  {
   "cell_type": "code",
   "execution_count": 163,
   "metadata": {},
   "outputs": [],
   "source": [
    "person1 = Person('Berk Sudan', 1996, 'Hatay')"
   ]
  },
  {
   "cell_type": "code",
   "execution_count": 164,
   "metadata": {},
   "outputs": [],
   "source": [
    "car1 = Car('a', 1944, 100000, 120)"
   ]
  },
  {
   "cell_type": "code",
   "execution_count": 165,
   "metadata": {},
   "outputs": [],
   "source": [
    "car1.owner = person1"
   ]
  },
  {
   "cell_type": "markdown",
   "metadata": {},
   "source": [
    "<font color='blue'> Artık objeleri birbirlerine parametre olarak atayabiliyoruz. Süper bir özellik bu object oriented programmingde!</font>"
   ]
  },
  {
   "cell_type": "code",
   "execution_count": 166,
   "metadata": {},
   "outputs": [
    {
     "name": "stdout",
     "output_type": "stream",
     "text": [
      "Hello, I'm Berk Sudan\n"
     ]
    }
   ],
   "source": [
    "car1.owner.greet()"
   ]
  },
  {
   "cell_type": "code",
   "execution_count": 167,
   "metadata": {},
   "outputs": [
    {
     "name": "stdout",
     "output_type": "stream",
     "text": [
      "Hello, I'm Berk Sudan\n"
     ]
    }
   ],
   "source": [
    "person1.greet()"
   ]
  },
  {
   "cell_type": "code",
   "execution_count": 168,
   "metadata": {},
   "outputs": [
    {
     "data": {
      "text/plain": [
       "True"
      ]
     },
     "execution_count": 168,
     "metadata": {},
     "output_type": "execute_result"
    }
   ],
   "source": [
    "car1.owner == person1"
   ]
  },
  {
   "cell_type": "code",
   "execution_count": 169,
   "metadata": {},
   "outputs": [
    {
     "data": {
      "text/plain": [
       "'Berk Sudan, 1996, Hatay'"
      ]
     },
     "execution_count": 169,
     "metadata": {},
     "output_type": "execute_result"
    }
   ],
   "source": [
    "person1.identity_info"
   ]
  },
  {
   "cell_type": "code",
   "execution_count": 170,
   "metadata": {},
   "outputs": [],
   "source": [
    "person_from_str = Person.from_identity_str(person1.identity_info)"
   ]
  },
  {
   "cell_type": "code",
   "execution_count": 171,
   "metadata": {},
   "outputs": [
    {
     "data": {
      "text/plain": [
       "'Person(Berk Sudan, 1996, Hatay)'"
      ]
     },
     "execution_count": 171,
     "metadata": {},
     "output_type": "execute_result"
    }
   ],
   "source": [
    "str(person_from_str)"
   ]
  },
  {
   "cell_type": "markdown",
   "metadata": {},
   "source": [
    "### classmethod vs. staticmethod"
   ]
  },
  {
   "cell_type": "markdown",
   "metadata": {},
   "source": [
    "#### <font color='blue'> Ek Notlar </font>"
   ]
  },
  {
   "cell_type": "code",
   "execution_count": 172,
   "metadata": {},
   "outputs": [],
   "source": [
    "class Car:\n",
    "    tax_rate = 0.8\n",
    "    \n",
    "    def __init__(self, model, year, km, speed, owner = None):\n",
    "        self.model = model\n",
    "        self.year = year\n",
    "        self.km = km\n",
    "        self.speed = speed\n",
    "        self.owner = owner\n",
    "        \n",
    "    def age(self):\n",
    "        return datetime.datetime.now().year - self.year\n",
    "        \n",
    "    def __repr__(self):\n",
    "        return 'Car({}, {}, {}, {})'.format(self.model, self.year, self.km, self.speed)\n",
    "    \n",
    "    def __str__(self):\n",
    "        return '{}, {}'.format(self.model, self.year)\n",
    "    \n",
    "    def __eq__(self, other):\n",
    "        return self.model == other.model\n",
    "    \n",
    "    \n",
    "    # Takes class as a first argument\n",
    "    @classmethod\n",
    "    def update_tax_rate(cls, new_tax_rate):\n",
    "        cls.tax_rate = new_tax_rate\n",
    "        \n",
    "        return cls.tax_rate\n",
    "    \n",
    "    # Takes only external arguments\n",
    "    @staticmethod\n",
    "    def traffic_in_area(area):\n",
    "        # ... getting traffic data from somewhere\n",
    "        # doing some calculations\n",
    "        return 'normal'"
   ]
  },
  {
   "cell_type": "markdown",
   "metadata": {},
   "source": [
    "##### <font color='black'> **Class methodlar**</font>"
   ]
  },
  {
   "cell_type": "markdown",
   "metadata": {},
   "source": [
    "<font color='blue'> Class methodlar classı parametre olarak alıyor (cls,...) ve bu classın referansını kullanıyor. Yani `Person(....)` diyip yapabileceğimiz her şeyi `cls(.....)` ile yapabiliyoruz yazdığımız fonksiyonda.\n",
    "\n",
    "@classmethod olarak tanımladığın metodlarda ilk yazdığın şey her zaman onun classıdır. \n",
    "\n",
    "</font>\n",
    "\n",
    "`@classmethod\n",
    "def from_identity_str(cls, identity_str):\n",
    "    ....`\n",
    "    \n",
    "<font color='blue'> *cls* kelimesinin özel bir olayı yok, *penguen* de yazabilirdik.</font>"
   ]
  },
  {
   "cell_type": "markdown",
   "metadata": {},
   "source": [
    "<font color='blue'>Car classımız vardı, ona `tax_rate = 0.8` ekledik. Bu her arabaya göre aynı kalıyor diye bir varsayım yaptık. Ekstra bir parametre olarak girdirmedik. Bu objeye göre değişen bir şey değil. Elimde obje olmasa da classa ait bir attribute.  </font>"
   ]
  },
  {
   "cell_type": "code",
   "execution_count": 173,
   "metadata": {},
   "outputs": [
    {
     "data": {
      "text/plain": [
       "0.8"
      ]
     },
     "execution_count": 173,
     "metadata": {},
     "output_type": "execute_result"
    }
   ],
   "source": [
    "Car.tax_rate"
   ]
  },
  {
   "cell_type": "code",
   "execution_count": 174,
   "metadata": {},
   "outputs": [
    {
     "data": {
      "text/plain": [
       "0.8"
      ]
     },
     "execution_count": 174,
     "metadata": {},
     "output_type": "execute_result"
    }
   ],
   "source": [
    "car1 = Car('a', 1980, 214214, 123)\n",
    "car1.tax_rate  # obje üzerinden de çalıştırabiliyoruz."
   ]
  },
  {
   "cell_type": "markdown",
   "metadata": {},
   "source": [
    "<font color='blue'>1 sene geçti ve tax_rateleri değişti araçların diyelim. Ve bunu güncellemek istiyoruz. Güncellediğimizde de tüm araçlar için güncellenmiş olsun istiyoruz. Bu yüzden bir @classmethod tanımlıyoruz. Classı (Car) parametre olarak alıyor dolayısıyla.    </font>\n",
    "\n",
    "    @classmethod\n",
    "    def update_tax_rate(cls, new_tax_rate):\n",
    "        cls.tax_rate = new_tax_rate\n",
    "        \n",
    "        return cls.tax_rate\n",
    "        \n",
    "<font color='blue'>tax_rate değiştiği zaman ondan türüyen tüm objelerdeki tax_rateler de değişiyor. Çünkü hepsi zaten en üstteki tax_rate'e bağlı.     </font>"
   ]
  },
  {
   "cell_type": "code",
   "execution_count": 175,
   "metadata": {},
   "outputs": [
    {
     "data": {
      "text/plain": [
       "0.18"
      ]
     },
     "execution_count": 175,
     "metadata": {},
     "output_type": "execute_result"
    }
   ],
   "source": [
    "Car.update_tax_rate(0.18)"
   ]
  },
  {
   "cell_type": "code",
   "execution_count": 176,
   "metadata": {},
   "outputs": [
    {
     "name": "stdout",
     "output_type": "stream",
     "text": [
      "0.18\n",
      "0.18\n"
     ]
    }
   ],
   "source": [
    "print(Car.tax_rate)\n",
    "print(car1.tax_rate) # objenin tax_rate'i de değişiyor. "
   ]
  },
  {
   "cell_type": "markdown",
   "metadata": {},
   "source": [
    "##### <font color='black'> **Statik methodlar**</font>"
   ]
  },
  {
   "cell_type": "markdown",
   "metadata": {},
   "source": [
    "<font color='blue'> Statik methodlar classın bir attribute'unu kullanmıyor, dolayısıyla classı bir parametre olarak almıyor.  </font>"
   ]
  },
  {
   "cell_type": "markdown",
   "metadata": {},
   "source": [
    "    @staticmethod\n",
    "    def traffic_in_area(area):\n",
    "        # ... getting traffic data from somewhere\n",
    "        # doing some calculations\n",
    "        return 'normal'"
   ]
  },
  {
   "cell_type": "markdown",
   "metadata": {},
   "source": [
    "<font color='purple'> Berk classın içindeki fonksiyonları test etmek için kullanıyormuş staticmethodu, ekstradan dışarıda yazmaktansa burada gösteriyormuş attributeları.</font>"
   ]
  },
  {
   "cell_type": "code",
   "execution_count": 178,
   "metadata": {},
   "outputs": [],
   "source": [
    "class Car:\n",
    "    tax_rate = 0.8\n",
    "    \n",
    "    def __init__(self, model, year, km, speed, owner = None):\n",
    "        self.model = model\n",
    "        self.year = year\n",
    "        self.km = km\n",
    "        self.speed = speed\n",
    "        self.owner = owner\n",
    "        \n",
    "    def age(self):\n",
    "        return datetime.datetime.now().year - self.year\n",
    "        \n",
    "    def __repr__(self):\n",
    "        return 'Car({}, {}, {}, {})'.format(self.model, self.year, self.km, self.speed)\n",
    "    \n",
    "    def __str__(self):\n",
    "        return '{}, {}'.format(self.model, self.year)\n",
    "    \n",
    "    def __eq__(self, other):\n",
    "        return self.model == other.model\n",
    "    \n",
    "    \n",
    "    # Takes class as a first argument\n",
    "    @classmethod\n",
    "    def update_tax_rate(cls, new_tax_rate):\n",
    "        cls.tax_rate = new_tax_rate\n",
    "        \n",
    "        return cls.tax_rate\n",
    "    \n",
    "    # Takes only external arguments\n",
    "    @staticmethod\n",
    "    def traffic_in_area(area):\n",
    "        # ... getting traffic data from somewhere\n",
    "        # doing some calculations\n",
    "        return 'normal'\n",
    "    \n",
    "# Berk'in kendi kodlarında yazdığı kısım:\n",
    "    @staticmethod\n",
    "    def test():\n",
    "        print(\"Car classının tax_rate'i:\",Car.tax_rate)\n",
    "        car1=Car('a', 1980, 214214, 123)\n",
    "        \n",
    "        print(\"car1 objesinin tax_rate'i:\",car1.tax_rate)"
   ]
  },
  {
   "cell_type": "markdown",
   "metadata": {},
   "source": [
    "<font color='blue'>Bu fonksiyonu classın dışında da tanımlayabilirdik ama classı başka yerde tanımladığında test birlikte gelmeyecek onunla.</font>"
   ]
  },
  {
   "cell_type": "code",
   "execution_count": 179,
   "metadata": {},
   "outputs": [
    {
     "name": "stdout",
     "output_type": "stream",
     "text": [
      "Car classının tax_rate'i: 0.8\n",
      "car1 objesinin tax_rate'i: 0.8\n"
     ]
    }
   ],
   "source": [
    "Car.test()"
   ]
  },
  {
   "cell_type": "markdown",
   "metadata": {},
   "source": [
    "#### <font color='blue'> Devam</font>"
   ]
  },
  {
   "cell_type": "code",
   "execution_count": 77,
   "metadata": {},
   "outputs": [],
   "source": [
    "class Car:\n",
    "    tax_rate = 0.8\n",
    "    \n",
    "    def __init__(self, model, year, km, speed, owner = None):\n",
    "        self.model = model\n",
    "        self.year = year\n",
    "        self.km = km\n",
    "        self.speed = speed\n",
    "        self.owner = owner\n",
    "        \n",
    "    def age(self):\n",
    "        return datetime.datetime.now().year - self.year\n",
    "        \n",
    "    def __repr__(self):\n",
    "        return 'Car({}, {}, {}, {})'.format(self.model, self.year, self.km, self.speed)\n",
    "    \n",
    "    def __str__(self):\n",
    "        return '{}, {}'.format(self.model, self.year)\n",
    "    \n",
    "    def __eq__(self, other):\n",
    "        return self.model == other.model\n",
    "    \n",
    "    \n",
    "    # Takes class as a first argument\n",
    "    @classmethod\n",
    "    def update_tax_rate(cls, new_tax_rate):\n",
    "        cls.tax_rate = new_tax_rate\n",
    "        \n",
    "        return cls.tax_rate\n",
    "    \n",
    "    # Takes only external arguments\n",
    "    @staticmethod\n",
    "    def traffic_in_area(area):\n",
    "        # ... getting traffic data from somewhere\n",
    "        # doing some calculations\n",
    "        return 'normal'"
   ]
  },
  {
   "cell_type": "code",
   "execution_count": 78,
   "metadata": {},
   "outputs": [
    {
     "data": {
      "text/plain": [
       "0.8"
      ]
     },
     "execution_count": 78,
     "metadata": {},
     "output_type": "execute_result"
    }
   ],
   "source": [
    "Car.tax_rate"
   ]
  },
  {
   "cell_type": "code",
   "execution_count": 79,
   "metadata": {},
   "outputs": [
    {
     "data": {
      "text/plain": [
       "0.8"
      ]
     },
     "execution_count": 79,
     "metadata": {},
     "output_type": "execute_result"
    }
   ],
   "source": [
    "car1 = Car('a', 1980, 214214, 123)\n",
    "car1.tax_rate"
   ]
  },
  {
   "cell_type": "code",
   "execution_count": 80,
   "metadata": {},
   "outputs": [
    {
     "data": {
      "text/plain": [
       "0.18"
      ]
     },
     "execution_count": 80,
     "metadata": {},
     "output_type": "execute_result"
    }
   ],
   "source": [
    "Car.update_tax_rate(0.18)"
   ]
  },
  {
   "cell_type": "code",
   "execution_count": 81,
   "metadata": {},
   "outputs": [
    {
     "name": "stdout",
     "output_type": "stream",
     "text": [
      "0.18\n",
      "0.18\n"
     ]
    }
   ],
   "source": [
    "print(Car.tax_rate)\n",
    "print(car1.tax_rate)"
   ]
  },
  {
   "cell_type": "code",
   "execution_count": 82,
   "metadata": {},
   "outputs": [
    {
     "data": {
      "text/plain": [
       "'normal'"
      ]
     },
     "execution_count": 82,
     "metadata": {},
     "output_type": "execute_result"
    }
   ],
   "source": [
    "Car.traffic_in_area('Bağcılar')"
   ]
  },
  {
   "cell_type": "markdown",
   "metadata": {},
   "source": [
    "### Getters / Setters / Deleters"
   ]
  },
  {
   "cell_type": "markdown",
   "metadata": {},
   "source": [
    "#### <font color='blue'>Ek Notlar </font>"
   ]
  },
  {
   "cell_type": "markdown",
   "metadata": {},
   "source": [
    "<font color='blue'>@property decoderı sayesinde `person1.identity_info` dediğimizde attribute'uymuş gibi erişebiliyorduk. Ama buna bir şey yazayıp atayamıyoruz. Sadece olan şeyi döndürüyor tek taraflı bir şey. </font>"
   ]
  },
  {
   "cell_type": "code",
   "execution_count": 180,
   "metadata": {},
   "outputs": [
    {
     "data": {
      "text/plain": [
       "Person(Berk Sudan, 1996, Hatay)"
      ]
     },
     "execution_count": 180,
     "metadata": {},
     "output_type": "execute_result"
    }
   ],
   "source": [
    "person1"
   ]
  },
  {
   "cell_type": "code",
   "execution_count": 181,
   "metadata": {},
   "outputs": [
    {
     "data": {
      "text/plain": [
       "'Berk Sudan, 1996, Hatay'"
      ]
     },
     "execution_count": 181,
     "metadata": {},
     "output_type": "execute_result"
    }
   ],
   "source": [
    "person1.identity_info"
   ]
  },
  {
   "cell_type": "code",
   "execution_count": 182,
   "metadata": {},
   "outputs": [
    {
     "ename": "AttributeError",
     "evalue": "can't set attribute",
     "output_type": "error",
     "traceback": [
      "\u001b[1;31m---------------------------------------------------------------------------\u001b[0m",
      "\u001b[1;31mAttributeError\u001b[0m                            Traceback (most recent call last)",
      "\u001b[1;32m<ipython-input-182-86fbf6e3e990>\u001b[0m in \u001b[0;36m<module>\u001b[1;34m\u001b[0m\n\u001b[1;32m----> 1\u001b[1;33m \u001b[0mperson1\u001b[0m\u001b[1;33m.\u001b[0m\u001b[0midentity_info\u001b[0m \u001b[1;33m=\u001b[0m \u001b[1;34m'dfdsfa'\u001b[0m\u001b[1;33m\u001b[0m\u001b[1;33m\u001b[0m\u001b[0m\n\u001b[0m",
      "\u001b[1;31mAttributeError\u001b[0m: can't set attribute"
     ]
    }
   ],
   "source": [
    "person1.identity_info = 'dfdsfa'"
   ]
  },
  {
   "cell_type": "markdown",
   "metadata": {},
   "source": [
    "<font color='blue'>Biz bu değeri değiştirebilmek, silebilmek istesek bunu nasıl yapacağız? Bunun için getter/setter/deleter özelliklerimiz var.  </font>"
   ]
  },
  {
   "cell_type": "code",
   "execution_count": 184,
   "metadata": {},
   "outputs": [],
   "source": [
    "class Person:\n",
    "    def __init__(self, fullname, birthyear, city):\n",
    "        self.fullname = fullname\n",
    "        self.birthyear = birthyear\n",
    "        self.city = city\n",
    "        \n",
    "    def greet(self):\n",
    "        print('Hello, I\\'m', self.fullname)\n",
    "    \n",
    "    @classmethod\n",
    "    def from_identity_str(cls, identity_str):\n",
    "        fullname, birthyear, city = identity_str.split(', ')\n",
    "        \n",
    "        new_person = cls(fullname, birthyear, city)\n",
    "        \n",
    "        return new_person\n",
    "    \n",
    "    \n",
    "    def __repr__(self):\n",
    "        return 'Person({}, {}, {})'.format(self.fullname, self.birthyear, self.city)\n",
    "    \n",
    "    @property # getter \n",
    "    def identity_info(self):\n",
    "        return '{}, {}, {}'.format(self.fullname, self.birthyear, self.city)\n",
    "    \n",
    "    @identity_info.setter\n",
    "    def identity_info(self, new_identity):\n",
    "        fullname, birthyear, city = new_identity.split(', ')\n",
    "        \n",
    "        self.fullname = fullname\n",
    "        self.birthyear = birthyear\n",
    "        self.city = city\n",
    "        \n",
    "    @identity_info.deleter\n",
    "    def identity_info(self):        \n",
    "        self.fullname = None\n",
    "        self.birthyear = None\n",
    "        self.city = None"
   ]
  },
  {
   "cell_type": "markdown",
   "metadata": {},
   "source": [
    "##### <font color='black'> **@identity_info.setter**</font>"
   ]
  },
  {
   "cell_type": "markdown",
   "metadata": {},
   "source": [
    "    @identity_info.setter\n",
    "    def identity_info(self, new_identity):\n",
    "        fullname, birthyear, city = new_identity.split(', ')\n",
    "        \n",
    "        self.fullname = fullname\n",
    "        self.birthyear = birthyear\n",
    "        self.city = city\n",
    "        \n",
    "<font color='blue'> kısmı `person1.identity_info = 'John Smith, 1988, New York'` yapabilmemizi sağlayan olay. Burada verdiğimiz string parçalarına ayrılıp objenin içerisindeki fullname'e, birthyear'a, city'e eşitlenecek. \n",
    "\n",
    "`@property` metodunda yaptığımızın tam tersini yapıyoruz. Burada farklı attribute'ları birleştirip string olarak döndürüyorduk. \n",
    "    \n",
    "    @property\n",
    "    def identity_info(self):\n",
    "        return '{}, {}, {}'.format(self.fullname, self.birthyear, self.city)\n",
    "\n",
    "`@identity_info.setter` metodunda ise döndürdüğümüz stringleri alıyoruz parçalıyoruz ve değerlere eşitliyoruz. \n",
    "\n",
    "</font>"
   ]
  },
  {
   "cell_type": "code",
   "execution_count": 186,
   "metadata": {},
   "outputs": [],
   "source": [
    "person1 = Person('Ali Mehmet', 1990, 'Istanbul')"
   ]
  },
  {
   "cell_type": "code",
   "execution_count": 187,
   "metadata": {},
   "outputs": [],
   "source": [
    "person1.identity_info = 'John Smith, 1988, New York'"
   ]
  },
  {
   "cell_type": "code",
   "execution_count": 189,
   "metadata": {},
   "outputs": [
    {
     "data": {
      "text/plain": [
       "'John Smith'"
      ]
     },
     "execution_count": 189,
     "metadata": {},
     "output_type": "execute_result"
    }
   ],
   "source": [
    "person1.fullname"
   ]
  },
  {
   "cell_type": "markdown",
   "metadata": {},
   "source": [
    "##### <font color='black'> **@identity_info.deleter**</font>"
   ]
  },
  {
   "cell_type": "markdown",
   "metadata": {},
   "source": [
    "<font color='blue'>Bir de istiyoruz ki silebilelim, içinde attribute yokmuş gibi olsun. Attribute'lara None atayarak yapıyoruz bunu da. </font>\n",
    "\n",
    "    @identity_info.deleter\n",
    "    def identity_info(self):        \n",
    "        self.fullname = None\n",
    "        self.birthyear = None\n",
    "        self.city = None"
   ]
  },
  {
   "cell_type": "code",
   "execution_count": 190,
   "metadata": {},
   "outputs": [
    {
     "data": {
      "text/plain": [
       "'John Smith, 1988, New York'"
      ]
     },
     "execution_count": 190,
     "metadata": {},
     "output_type": "execute_result"
    }
   ],
   "source": [
    "person1.identity_info"
   ]
  },
  {
   "cell_type": "code",
   "execution_count": 191,
   "metadata": {},
   "outputs": [],
   "source": [
    "del person1.identity_info"
   ]
  },
  {
   "cell_type": "code",
   "execution_count": 192,
   "metadata": {},
   "outputs": [
    {
     "data": {
      "text/plain": [
       "Person(None, None, None)"
      ]
     },
     "execution_count": 192,
     "metadata": {},
     "output_type": "execute_result"
    }
   ],
   "source": [
    "person1"
   ]
  },
  {
   "cell_type": "markdown",
   "metadata": {},
   "source": [
    "<font color='blue'> person1'i yazdırmak istediğimizde \\__repr__ metodu çalışıyor, None dönüyor tüm değerler. </font>\n",
    "\n",
    "    def __repr__(self):\n",
    "        return 'Person({}, {}, {})'.format(self.fullname, self.birthyear, self.city)"
   ]
  },
  {
   "cell_type": "markdown",
   "metadata": {},
   "source": [
    "###### <font color='purple'>Peki `@identity_info.deleter` decoderını yazmasaydık ne olacaktı?</font>"
   ]
  },
  {
   "cell_type": "code",
   "execution_count": 193,
   "metadata": {},
   "outputs": [],
   "source": [
    "class Person:\n",
    "    def __init__(self, fullname, birthyear, city):\n",
    "        self.fullname = fullname\n",
    "        self.birthyear = birthyear\n",
    "        self.city = city\n",
    "        \n",
    "    def greet(self):\n",
    "        print('Hello, I\\'m', self.fullname)\n",
    "    \n",
    "    @classmethod\n",
    "    def from_identity_str(cls, identity_str):\n",
    "        fullname, birthyear, city = identity_str.split(', ')\n",
    "        \n",
    "        new_person = cls(fullname, birthyear, city)\n",
    "        \n",
    "        return new_person\n",
    "    \n",
    "    \n",
    "    def __repr__(self):\n",
    "        return 'Person({}, {}, {})'.format(self.fullname, self.birthyear, self.city)\n",
    "    \n",
    "    @property\n",
    "    def identity_info(self):\n",
    "        return '{}, {}, {}'.format(self.fullname, self.birthyear, self.city)\n",
    "    \n",
    "    @identity_info.setter\n",
    "    def identity_info(self, new_identity):\n",
    "        fullname, birthyear, city = new_identity.split(', ')\n",
    "        \n",
    "        self.fullname = fullname\n",
    "        self.birthyear = birthyear\n",
    "        self.city = city"
   ]
  },
  {
   "cell_type": "code",
   "execution_count": 194,
   "metadata": {},
   "outputs": [],
   "source": [
    "person1 = Person('Ali Mehmet', 1990, 'Istanbul')"
   ]
  },
  {
   "cell_type": "code",
   "execution_count": 195,
   "metadata": {},
   "outputs": [
    {
     "data": {
      "text/plain": [
       "'Ali Mehmet, 1990, Istanbul'"
      ]
     },
     "execution_count": 195,
     "metadata": {},
     "output_type": "execute_result"
    }
   ],
   "source": [
    "person1.identity_info"
   ]
  },
  {
   "cell_type": "code",
   "execution_count": 196,
   "metadata": {},
   "outputs": [],
   "source": [
    "person1.identity_info = 'John Smith, 1988, New York'"
   ]
  },
  {
   "cell_type": "code",
   "execution_count": 197,
   "metadata": {},
   "outputs": [
    {
     "ename": "AttributeError",
     "evalue": "can't delete attribute",
     "output_type": "error",
     "traceback": [
      "\u001b[1;31m---------------------------------------------------------------------------\u001b[0m",
      "\u001b[1;31mAttributeError\u001b[0m                            Traceback (most recent call last)",
      "\u001b[1;32m<ipython-input-197-262020e27fd2>\u001b[0m in \u001b[0;36m<module>\u001b[1;34m\u001b[0m\n\u001b[1;32m----> 1\u001b[1;33m \u001b[1;32mdel\u001b[0m \u001b[0mperson1\u001b[0m\u001b[1;33m.\u001b[0m\u001b[0midentity_info\u001b[0m\u001b[1;33m\u001b[0m\u001b[1;33m\u001b[0m\u001b[0m\n\u001b[0m",
      "\u001b[1;31mAttributeError\u001b[0m: can't delete attribute"
     ]
    }
   ],
   "source": [
    "del person1.identity_info"
   ]
  },
  {
   "cell_type": "code",
   "execution_count": 198,
   "metadata": {},
   "outputs": [
    {
     "data": {
      "text/plain": [
       "Person(John Smith, 1988, New York)"
      ]
     },
     "execution_count": 198,
     "metadata": {},
     "output_type": "execute_result"
    }
   ],
   "source": [
    "person1"
   ]
  },
  {
   "cell_type": "code",
   "execution_count": 199,
   "metadata": {},
   "outputs": [],
   "source": [
    "del person1.fullname # bu şekilde sildi, tamamen yok ediyor"
   ]
  },
  {
   "cell_type": "code",
   "execution_count": 200,
   "metadata": {},
   "outputs": [
    {
     "ename": "AttributeError",
     "evalue": "'Person' object has no attribute 'fullname'",
     "output_type": "error",
     "traceback": [
      "\u001b[1;31m---------------------------------------------------------------------------\u001b[0m",
      "\u001b[1;31mAttributeError\u001b[0m                            Traceback (most recent call last)",
      "\u001b[1;32m<ipython-input-200-54b7ccc2952e>\u001b[0m in \u001b[0;36m<module>\u001b[1;34m\u001b[0m\n\u001b[1;32m----> 1\u001b[1;33m \u001b[0mperson1\u001b[0m\u001b[1;33m.\u001b[0m\u001b[0mfullname\u001b[0m \u001b[1;31m# yok ediyor\u001b[0m\u001b[1;33m\u001b[0m\u001b[1;33m\u001b[0m\u001b[0m\n\u001b[0m",
      "\u001b[1;31mAttributeError\u001b[0m: 'Person' object has no attribute 'fullname'"
     ]
    }
   ],
   "source": [
    "person1.fullname "
   ]
  },
  {
   "cell_type": "markdown",
   "metadata": {},
   "source": [
    "<font color='blue'>Tamamen yok etmek yerine None değer atıyoruz attribute'lara, tam olarak silmiyoruz.  </font>"
   ]
  },
  {
   "cell_type": "code",
   "execution_count": 208,
   "metadata": {},
   "outputs": [],
   "source": [
    "class Person:\n",
    "    def __init__(self, fullname, birthyear, city):\n",
    "        self.fullname = fullname\n",
    "        self.birthyear = birthyear\n",
    "        self.city = city\n",
    "        \n",
    "    def greet(self):\n",
    "        print('Hello, I\\'m', self.fullname)\n",
    "    \n",
    "    @classmethod\n",
    "    def from_identity_str(cls, identity_str):\n",
    "        fullname, birthyear, city = identity_str.split(', ')\n",
    "        \n",
    "        new_person = cls(fullname, birthyear, city)\n",
    "        \n",
    "        return new_person\n",
    "    \n",
    "    \n",
    "    def __repr__(self):\n",
    "        return 'Person({}, {}, {})'.format(self.fullname, self.birthyear, self.city)\n",
    "    \n",
    "    @property\n",
    "    def identity_info(self):\n",
    "        return '{}, {}, {}'.format(self.fullname, self.birthyear, self.city)\n",
    "    \n",
    "    @identity_info.setter\n",
    "    def identity_info(self, new_identity):\n",
    "        fullname, birthyear, city = new_identity.split(', ')\n",
    "        \n",
    "        self.fullname = fullname\n",
    "        self.birthyear = birthyear\n",
    "        self.city = city\n",
    "        \n",
    "    @identity_info.deleter\n",
    "    def identity_info(self):        \n",
    "        self.fullname = None\n",
    "        self.birthyear = None\n",
    "        self.city = None"
   ]
  },
  {
   "cell_type": "code",
   "execution_count": 209,
   "metadata": {},
   "outputs": [],
   "source": [
    "person1 = Person('Ali Mehmet', 1990, 'Istanbul')"
   ]
  },
  {
   "cell_type": "code",
   "execution_count": 210,
   "metadata": {},
   "outputs": [
    {
     "name": "stdout",
     "output_type": "stream",
     "text": [
      "Before: Ali Mehmet\n",
      "After: None\n"
     ]
    }
   ],
   "source": [
    "print('Before:',person1.fullname)\n",
    "\n",
    "del person1.identity_info\n",
    "\n",
    "print('After:',person1.fullname) # önceden bir fullname vardı ama şimdi artık o sıfırlandı. "
   ]
  },
  {
   "cell_type": "markdown",
   "metadata": {},
   "source": [
    "#### <font color='blue'>Devam </font>"
   ]
  },
  {
   "cell_type": "code",
   "execution_count": 213,
   "metadata": {},
   "outputs": [],
   "source": [
    "class Person:\n",
    "    def __init__(self, fullname, birthyear, city):\n",
    "        self.fullname = fullname\n",
    "        self.birthyear = birthyear\n",
    "        self.city = city\n",
    "        \n",
    "    def greet(self):\n",
    "        print('Hello, I\\'m', self.fullname)\n",
    "    \n",
    "    @classmethod\n",
    "    def from_identity_str(cls, identity_str):\n",
    "        fullname, birthyear, city = identity_str.split(', ')\n",
    "        \n",
    "        new_person = cls(fullname, birthyear, city)\n",
    "        \n",
    "        return new_person\n",
    "    \n",
    "    \n",
    "    def __repr__(self):\n",
    "        return 'Person({}, {}, {})'.format(self.fullname, self.birthyear, self.city)\n",
    "    \n",
    "    @property\n",
    "    def identity_info(self):\n",
    "        return '{}, {}, {}'.format(self.fullname, self.birthyear, self.city)\n",
    "    \n",
    "    @identity_info.setter\n",
    "    def identity_info(self, new_identity):\n",
    "        fullname, birthyear, city = new_identity.split(', ')\n",
    "        \n",
    "        self.fullname = fullname\n",
    "        self.birthyear = birthyear\n",
    "        self.city = city\n",
    "        \n",
    "    @identity_info.deleter\n",
    "    def identity_info(self):        \n",
    "        self.fullname = None\n",
    "        self.birthyear = None\n",
    "        self.city = None"
   ]
  },
  {
   "cell_type": "code",
   "execution_count": 214,
   "metadata": {},
   "outputs": [],
   "source": [
    "person1 = Person('Ali Mehmet', 1990, 'Istanbul')"
   ]
  },
  {
   "cell_type": "code",
   "execution_count": 215,
   "metadata": {},
   "outputs": [
    {
     "data": {
      "text/plain": [
       "'Ali Mehmet, 1990, Istanbul'"
      ]
     },
     "execution_count": 215,
     "metadata": {},
     "output_type": "execute_result"
    }
   ],
   "source": [
    "person1.identity_info # getter metodu çalışıyor"
   ]
  },
  {
   "cell_type": "code",
   "execution_count": 216,
   "metadata": {},
   "outputs": [],
   "source": [
    "person1.identity_info = 'John Smith, 1988, New York' # setter metodu çalışıyor"
   ]
  },
  {
   "cell_type": "code",
   "execution_count": 217,
   "metadata": {},
   "outputs": [],
   "source": [
    "del person1.identity_info # deleter metodu çalışıyor"
   ]
  },
  {
   "cell_type": "code",
   "execution_count": 218,
   "metadata": {},
   "outputs": [
    {
     "data": {
      "text/plain": [
       "Person(None, None, None)"
      ]
     },
     "execution_count": 218,
     "metadata": {},
     "output_type": "execute_result"
    }
   ],
   "source": [
    "person1"
   ]
  }
 ],
 "metadata": {
  "kernelspec": {
   "display_name": "Python 3",
   "language": "python",
   "name": "python3"
  },
  "language_info": {
   "codemirror_mode": {
    "name": "ipython",
    "version": 3
   },
   "file_extension": ".py",
   "mimetype": "text/x-python",
   "name": "python",
   "nbconvert_exporter": "python",
   "pygments_lexer": "ipython3",
   "version": "3.7.6"
  }
 },
 "nbformat": 4,
 "nbformat_minor": 1
}
