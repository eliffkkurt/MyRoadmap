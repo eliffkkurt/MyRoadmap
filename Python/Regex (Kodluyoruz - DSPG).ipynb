{
 "cells": [
  {
   "cell_type": "markdown",
   "metadata": {},
   "source": [
    "<font color='green'> \n",
    "**Kodluyoruz - Data Science for Public Good (28.03.2020-20.06.2020)**\n",
    "4. hafta - regex - 23.04.2020-24.04.2020 tarihinde Engin Deniz Alpman anlattı. \n",
    "</font>"
   ]
  },
  {
   "cell_type": "markdown",
   "metadata": {},
   "source": [
    "# Regex"
   ]
  },
  {
   "cell_type": "code",
   "execution_count": 1,
   "metadata": {},
   "outputs": [],
   "source": [
    "import re"
   ]
  },
  {
   "cell_type": "markdown",
   "metadata": {},
   "source": [
    "<font color='blue'>**Alt alta yazdığımızda metni 3 tırnak ile yazmak gerekiyor. Kendisi araya new line'ları \\n ekliyor.**</font>"
   ]
  },
  {
   "cell_type": "code",
   "execution_count": 2,
   "metadata": {},
   "outputs": [
    {
     "ename": "SyntaxError",
     "evalue": "EOL while scanning string literal (<ipython-input-2-bf4329d4c539>, line 1)",
     "output_type": "error",
     "traceback": [
      "\u001b[1;36m  File \u001b[1;32m\"<ipython-input-2-bf4329d4c539>\"\u001b[1;36m, line \u001b[1;32m1\u001b[0m\n\u001b[1;33m    a = \"aa\u001b[0m\n\u001b[1;37m           ^\u001b[0m\n\u001b[1;31mSyntaxError\u001b[0m\u001b[1;31m:\u001b[0m EOL while scanning string literal\n"
     ]
    }
   ],
   "source": [
    "a = \"aa\n",
    "33\n",
    "g\""
   ]
  },
  {
   "cell_type": "code",
   "execution_count": 3,
   "metadata": {},
   "outputs": [],
   "source": [
    "a = '''aa\n",
    "33\n",
    "g\n",
    "'''"
   ]
  },
  {
   "cell_type": "code",
   "execution_count": 4,
   "metadata": {},
   "outputs": [
    {
     "data": {
      "text/plain": [
       "'aa\\n33\\ng\\n'"
      ]
     },
     "execution_count": 4,
     "metadata": {},
     "output_type": "execute_result"
    }
   ],
   "source": [
    "a"
   ]
  },
  {
   "cell_type": "code",
   "execution_count": 5,
   "metadata": {},
   "outputs": [],
   "source": [
    "txt = '''\n",
    "abcdefghijklmnopqurtuvwxyz\n",
    "ABCDEFGHIJKLMNOPQRSTUVWXYZ\n",
    "1234567890\n",
    "\n",
    "Ha HaHa\n",
    "\n",
    "MetaCharacters (You need to escape those):\n",
    ". ^ $ * + ? { } [ ] \\ | ( )\n",
    "\n",
    "betterexplained.com\n",
    "\n",
    "321-555-4321\n",
    "123.555.1234\n",
    "123*555*1234\n",
    "800-555-1234\n",
    "900-555-1234\n",
    "\n",
    "Mr. Jake\n",
    "Mr Oliver\n",
    "Ms Olivia\n",
    "Mrs. Robinson\n",
    "Mr. P\n",
    "'''\n",
    "\n",
    "sentence = 'so long and thanks for all the fish'"
   ]
  },
  {
   "cell_type": "code",
   "execution_count": 6,
   "metadata": {},
   "outputs": [
    {
     "data": {
      "text/plain": [
       "'\\nabcdefghijklmnopqurtuvwxyz\\nABCDEFGHIJKLMNOPQRSTUVWXYZ\\n1234567890\\n\\nHa HaHa\\n\\nMetaCharacters (You need to escape those):\\n. ^ $ * + ? { } [ ] \\\\ | ( )\\n\\nbetterexplained.com\\n\\n321-555-4321\\n123.555.1234\\n123*555*1234\\n800-555-1234\\n900-555-1234\\n\\nMr. Jake\\nMr Oliver\\nMs Olivia\\nMrs. Robinson\\nMr. P\\n'"
      ]
     },
     "execution_count": 6,
     "metadata": {},
     "output_type": "execute_result"
    }
   ],
   "source": [
    "txt"
   ]
  },
  {
   "cell_type": "markdown",
   "metadata": {},
   "source": [
    "## Python RegEx Functions"
   ]
  },
  {
   "cell_type": "markdown",
   "metadata": {},
   "source": [
    "* **findall**: Returns a list of all matches\n",
    "\n",
    "* **split**: Returns a list of intput string that it has been split at each match\n",
    "\n",
    "* **search**: Returns a Match object if there is a match\n",
    "\n",
    "* **sub**: Replace matche(s) with given string"
   ]
  },
  {
   "cell_type": "markdown",
   "metadata": {
    "heading_collapsed": true
   },
   "source": [
    "## 1) Raw String in Python `(r\"..\")`"
   ]
  },
  {
   "cell_type": "markdown",
   "metadata": {
    "hidden": true
   },
   "source": [
    "It is interpered as it is(raw format), not in a special way"
   ]
  },
  {
   "cell_type": "markdown",
   "metadata": {
    "hidden": true
   },
   "source": [
    "<font color='blue'>**t'yi \\n ile tanımladığımızda print ile bastırdığımızda new line'a geçip hey diye bastırdı.**</font>"
   ]
  },
  {
   "cell_type": "code",
   "execution_count": 5,
   "metadata": {
    "hidden": true
   },
   "outputs": [],
   "source": [
    "t = \"\\nhey\""
   ]
  },
  {
   "cell_type": "code",
   "execution_count": 6,
   "metadata": {
    "hidden": true
   },
   "outputs": [
    {
     "data": {
      "text/plain": [
       "'\\nhey'"
      ]
     },
     "execution_count": 6,
     "metadata": {},
     "output_type": "execute_result"
    }
   ],
   "source": [
    "t"
   ]
  },
  {
   "cell_type": "code",
   "execution_count": 7,
   "metadata": {
    "hidden": true
   },
   "outputs": [
    {
     "name": "stdout",
     "output_type": "stream",
     "text": [
      "\n",
      "hey\n"
     ]
    }
   ],
   "source": [
    "print(t)"
   ]
  },
  {
   "cell_type": "markdown",
   "metadata": {
    "hidden": true
   },
   "source": [
    "<font color='blue'>**Special karakteri de okumasını istediğim zaman başına r yazıyoruz. bastırırken \\n ile birlikte bastırıyor.**</font>"
   ]
  },
  {
   "cell_type": "code",
   "execution_count": 8,
   "metadata": {
    "hidden": true
   },
   "outputs": [],
   "source": [
    "t = r\"\\nhey\""
   ]
  },
  {
   "cell_type": "code",
   "execution_count": 9,
   "metadata": {
    "hidden": true
   },
   "outputs": [
    {
     "data": {
      "text/plain": [
       "'\\\\nhey'"
      ]
     },
     "execution_count": 9,
     "metadata": {},
     "output_type": "execute_result"
    }
   ],
   "source": [
    "# It escaped from special character by \\ \n",
    "t"
   ]
  },
  {
   "cell_type": "code",
   "execution_count": 10,
   "metadata": {
    "hidden": true
   },
   "outputs": [
    {
     "name": "stdout",
     "output_type": "stream",
     "text": [
      "\\nhey\n"
     ]
    }
   ],
   "source": [
    "print(t)"
   ]
  },
  {
   "cell_type": "markdown",
   "metadata": {
    "hidden": true
   },
   "source": [
    "<font color='blue'>**Biz row string kullanacağız. Çünkü bizim metin olarak yazacağımız patternlerin pythonın kendisinin kullandığı escape sequence ile çakışmasını istemiyoruz.**</font>"
   ]
  },
  {
   "cell_type": "markdown",
   "metadata": {
    "heading_collapsed": true
   },
   "source": [
    "## 2) `re.compile(r\"..\")` ile Patterni Belirlemek"
   ]
  },
  {
   "cell_type": "markdown",
   "metadata": {
    "hidden": true
   },
   "source": [
    "<font color='blue'>**Belli bir patternler belirleyeceğiz ve bu patternleri gidip stringin içinden bulmaya çalışacağız.**</font>"
   ]
  },
  {
   "cell_type": "code",
   "execution_count": 18,
   "metadata": {
    "hidden": true
   },
   "outputs": [],
   "source": [
    "t = \"abclksjdflkajabclkl\""
   ]
  },
  {
   "cell_type": "code",
   "execution_count": 19,
   "metadata": {
    "hidden": true
   },
   "outputs": [],
   "source": [
    "pattern = re.compile(r\"abc\") "
   ]
  },
  {
   "cell_type": "code",
   "execution_count": 25,
   "metadata": {
    "hidden": true
   },
   "outputs": [
    {
     "data": {
      "text/plain": [
       "re.Pattern"
      ]
     },
     "execution_count": 25,
     "metadata": {},
     "output_type": "execute_result"
    }
   ],
   "source": [
    "type(pattern)"
   ]
  },
  {
   "cell_type": "code",
   "execution_count": 26,
   "metadata": {
    "hidden": true
   },
   "outputs": [
    {
     "data": {
      "text/plain": [
       "str"
      ]
     },
     "execution_count": 26,
     "metadata": {},
     "output_type": "execute_result"
    }
   ],
   "source": [
    "type(t)"
   ]
  },
  {
   "cell_type": "markdown",
   "metadata": {
    "hidden": true
   },
   "source": [
    "<font color='blue'>**`aradığımızpattern.finditer(hangistringdearıyoruz)` ile eşleşenleri buluyoruz. Bu iterator oluyor. İçindekileri görmek için her bir üyesini listeye dahil ediyoruz.**</font>"
   ]
  },
  {
   "cell_type": "code",
   "execution_count": 20,
   "metadata": {
    "hidden": true
   },
   "outputs": [],
   "source": [
    "# abc'yi t içerisinde bulmak istiyoruz. \n",
    "\n",
    "matches = pattern.finditer(t) "
   ]
  },
  {
   "cell_type": "code",
   "execution_count": 21,
   "metadata": {
    "hidden": true
   },
   "outputs": [
    {
     "data": {
      "text/plain": [
       "<callable_iterator at 0x132c9af4208>"
      ]
     },
     "execution_count": 21,
     "metadata": {},
     "output_type": "execute_result"
    }
   ],
   "source": [
    "matches"
   ]
  },
  {
   "cell_type": "markdown",
   "metadata": {
    "hidden": true
   },
   "source": [
    "<font color='blue'>**Bulduğumuz şey iterator oluyor. İçindekileri görmek için her bir üyesini listeye dahil ediyoruz.**</font>"
   ]
  },
  {
   "cell_type": "code",
   "execution_count": 22,
   "metadata": {
    "hidden": true
   },
   "outputs": [],
   "source": [
    "l = []"
   ]
  },
  {
   "cell_type": "code",
   "execution_count": 23,
   "metadata": {
    "hidden": true
   },
   "outputs": [],
   "source": [
    "for match in matches:\n",
    "    l.append(match)"
   ]
  },
  {
   "cell_type": "code",
   "execution_count": 24,
   "metadata": {
    "hidden": true
   },
   "outputs": [
    {
     "data": {
      "text/plain": [
       "[<re.Match object; span=(0, 3), match='abc'>,\n",
       " <re.Match object; span=(13, 16), match='abc'>]"
      ]
     },
     "execution_count": 24,
     "metadata": {},
     "output_type": "execute_result"
    }
   ],
   "source": [
    "l"
   ]
  },
  {
   "cell_type": "code",
   "execution_count": 27,
   "metadata": {
    "hidden": true
   },
   "outputs": [
    {
     "data": {
      "text/plain": [
       "'abclksjdflkajabclkl'"
      ]
     },
     "execution_count": 27,
     "metadata": {},
     "output_type": "execute_result"
    }
   ],
   "source": [
    "t"
   ]
  },
  {
   "cell_type": "markdown",
   "metadata": {
    "hidden": true
   },
   "source": [
    "### Span"
   ]
  },
  {
   "cell_type": "markdown",
   "metadata": {
    "hidden": true
   },
   "source": [
    "<font color='blue'>**Span eşleşmenin başlangıç ve bitiş indeksini bize veriyor. Bitiş dahil değil.**</font>"
   ]
  },
  {
   "cell_type": "code",
   "execution_count": 35,
   "metadata": {
    "hidden": true
   },
   "outputs": [
    {
     "data": {
      "text/plain": [
       "[<re.Match object; span=(0, 3), match='abc'>,\n",
       " <re.Match object; span=(13, 16), match='abc'>]"
      ]
     },
     "execution_count": 35,
     "metadata": {},
     "output_type": "execute_result"
    }
   ],
   "source": [
    "l"
   ]
  },
  {
   "cell_type": "markdown",
   "metadata": {
    "heading_collapsed": true
   },
   "source": [
    "## 3) Tek Bir Karakteri veya Karakter Dizisini Eşleştirme"
   ]
  },
  {
   "cell_type": "code",
   "execution_count": 92,
   "metadata": {
    "hidden": true
   },
   "outputs": [],
   "source": [
    "t = 'abclksjdflkajabclkl'"
   ]
  },
  {
   "cell_type": "code",
   "execution_count": 93,
   "metadata": {
    "hidden": true
   },
   "outputs": [],
   "source": [
    "pattern = re.compile(r\"abc\")"
   ]
  },
  {
   "cell_type": "markdown",
   "metadata": {
    "hidden": true
   },
   "source": [
    "<font color='blue'>**`pattern.match(t)` ile patterni ve hangi stringde arıyorsak ikisini match et diyoruz.**</font>"
   ]
  },
  {
   "cell_type": "code",
   "execution_count": 94,
   "metadata": {
    "hidden": true
   },
   "outputs": [
    {
     "data": {
      "text/plain": [
       "<re.Match object; span=(0, 3), match='abc'>"
      ]
     },
     "execution_count": 94,
     "metadata": {},
     "output_type": "execute_result"
    }
   ],
   "source": [
    "pattern.match(t)"
   ]
  },
  {
   "cell_type": "markdown",
   "metadata": {
    "hidden": true
   },
   "source": [
    "<font color='blue'>**Bir tane değil de bütün matchleri almak istediğimizde `aradığımızpattern.finditer(hangistringdearıyoruz)` kullanıyoruz.**</font>"
   ]
  },
  {
   "cell_type": "code",
   "execution_count": 95,
   "metadata": {
    "hidden": true
   },
   "outputs": [],
   "source": [
    "matches = pattern.finditer(t)"
   ]
  },
  {
   "cell_type": "markdown",
   "metadata": {
    "hidden": true
   },
   "source": [
    "<font color='blue'>**Hangilerini bastırdığını görmek için `match.group(0)` yazdık.**</font>"
   ]
  },
  {
   "cell_type": "code",
   "execution_count": 90,
   "metadata": {
    "hidden": true
   },
   "outputs": [
    {
     "name": "stdout",
     "output_type": "stream",
     "text": [
      "(0, 3)\n",
      "abc\n",
      "(13, 16)\n",
      "abc\n"
     ]
    }
   ],
   "source": [
    "for match in matches:\n",
    "    print(match.span())\n",
    "    print(match.group(0)) "
   ]
  },
  {
   "cell_type": "markdown",
   "metadata": {},
   "source": [
    "## 4) Rakamları Eşleştirmek"
   ]
  },
  {
   "cell_type": "markdown",
   "metadata": {},
   "source": [
    "<font color='blue'>**\\d, 0'dan 9'a kadar herhangi bir rakam için kullanılabilir. \\ onu basit d karakterinden ayırır ve bilgisayara bunun bir meta karakter olduğunu söyler.**</font>"
   ]
  },
  {
   "cell_type": "code",
   "execution_count": 49,
   "metadata": {},
   "outputs": [],
   "source": [
    "txt = \"abc123xyz\""
   ]
  },
  {
   "cell_type": "markdown",
   "metadata": {},
   "source": [
    "<font color='blue'>**`re.compile(r\"\\d\")` tek bir rakamı pattern kabul ediyor.**</font>"
   ]
  },
  {
   "cell_type": "code",
   "execution_count": 50,
   "metadata": {},
   "outputs": [],
   "source": [
    "pattern = re.compile(r\"\\d\")"
   ]
  },
  {
   "cell_type": "code",
   "execution_count": 51,
   "metadata": {},
   "outputs": [],
   "source": [
    "matches = pattern.finditer(txt)"
   ]
  },
  {
   "cell_type": "code",
   "execution_count": 52,
   "metadata": {},
   "outputs": [
    {
     "name": "stdout",
     "output_type": "stream",
     "text": [
      "(3, 4)\n",
      "1\n",
      "(4, 5)\n",
      "2\n",
      "(5, 6)\n",
      "3\n"
     ]
    }
   ],
   "source": [
    "for match in matches:\n",
    "    print(match.span())\n",
    "    print(match.group(0))"
   ]
  },
  {
   "cell_type": "markdown",
   "metadata": {},
   "source": [
    "<font color='blue'>**`re.compile(r\"\\d\\d\")` iki rakamı birden pattern kabul ediyor. Dolayısıyla iki rakamı birden arıyor. 12'yi gördü sadece. `txt = \"abc1233xyz\"` olsaydı 12 ve 33'ü bastırırdı.**</font>"
   ]
  },
  {
   "cell_type": "code",
   "execution_count": 55,
   "metadata": {},
   "outputs": [],
   "source": [
    "pattern = re.compile(r\"\\d\\d\")"
   ]
  },
  {
   "cell_type": "code",
   "execution_count": 57,
   "metadata": {},
   "outputs": [
    {
     "name": "stdout",
     "output_type": "stream",
     "text": [
      "(3, 5)\n",
      "12\n"
     ]
    }
   ],
   "source": [
    "matches = pattern.finditer(txt)\n",
    "\n",
    "for match in matches:\n",
    "    print(match.span())\n",
    "    print(match.group(0))"
   ]
  },
  {
   "cell_type": "markdown",
   "metadata": {},
   "source": [
    "## 5) `r\".\"` ile Herhangi Bir Karakteri Match Etmek "
   ]
  },
  {
   "cell_type": "code",
   "execution_count": 58,
   "metadata": {},
   "outputs": [],
   "source": [
    "txt1 = \"dog.\""
   ]
  },
  {
   "cell_type": "code",
   "execution_count": 59,
   "metadata": {},
   "outputs": [
    {
     "name": "stdout",
     "output_type": "stream",
     "text": [
      "(0, 1)\n",
      "d\n",
      "(1, 2)\n",
      "o\n",
      "(2, 3)\n",
      "g\n",
      "(3, 4)\n",
      ".\n"
     ]
    }
   ],
   "source": [
    "pattern = re.compile(r\".\")\n",
    "\n",
    "matches = pattern.finditer(txt1)\n",
    "\n",
    "for match in matches:\n",
    "    print(match.span())\n",
    "    print(match.group(0))"
   ]
  },
  {
   "cell_type": "code",
   "execution_count": 61,
   "metadata": {},
   "outputs": [],
   "source": [
    "txt2 = \"=?+.\""
   ]
  },
  {
   "cell_type": "code",
   "execution_count": 63,
   "metadata": {},
   "outputs": [
    {
     "name": "stdout",
     "output_type": "stream",
     "text": [
      "(0, 1)\n",
      "=\n",
      "(1, 2)\n",
      "?\n",
      "(2, 3)\n",
      "+\n",
      "(3, 4)\n",
      ".\n"
     ]
    }
   ],
   "source": [
    "pattern = re.compile(r\".\")\n",
    "matches = pattern.finditer(txt2)\n",
    "\n",
    "for match in matches:\n",
    "    print(match.span())\n",
    "    print(match.group(0))"
   ]
  },
  {
   "cell_type": "markdown",
   "metadata": {},
   "source": [
    "<font color='blue'>**matches iterator olduğu için next ile her bir elemanı alabiliyoruz.**</font>"
   ]
  },
  {
   "cell_type": "code",
   "execution_count": 64,
   "metadata": {},
   "outputs": [],
   "source": [
    "pattern = re.compile(r\".\")\n",
    "matches = pattern.finditer(txt2)"
   ]
  },
  {
   "cell_type": "code",
   "execution_count": 65,
   "metadata": {},
   "outputs": [
    {
     "data": {
      "text/plain": [
       "'='"
      ]
     },
     "execution_count": 65,
     "metadata": {},
     "output_type": "execute_result"
    }
   ],
   "source": [
    "next(matches).group(0)"
   ]
  },
  {
   "cell_type": "code",
   "execution_count": 66,
   "metadata": {},
   "outputs": [
    {
     "data": {
      "text/plain": [
       "'?'"
      ]
     },
     "execution_count": 66,
     "metadata": {},
     "output_type": "execute_result"
    }
   ],
   "source": [
    "next(matches).group(0)"
   ]
  },
  {
   "cell_type": "code",
   "execution_count": 67,
   "metadata": {},
   "outputs": [
    {
     "data": {
      "text/plain": [
       "'+'"
      ]
     },
     "execution_count": 67,
     "metadata": {},
     "output_type": "execute_result"
    }
   ],
   "source": [
    "next(matches).group(0)"
   ]
  },
  {
   "cell_type": "code",
   "execution_count": 68,
   "metadata": {},
   "outputs": [
    {
     "data": {
      "text/plain": [
       "str"
      ]
     },
     "execution_count": 68,
     "metadata": {},
     "output_type": "execute_result"
    }
   ],
   "source": [
    "type(next(matches).group(0))"
   ]
  },
  {
   "cell_type": "code",
   "execution_count": 113,
   "metadata": {},
   "outputs": [
    {
     "data": {
      "text/plain": [
       "'=?+.'"
      ]
     },
     "execution_count": 113,
     "metadata": {},
     "output_type": "execute_result"
    }
   ],
   "source": [
    "txt2"
   ]
  },
  {
   "cell_type": "markdown",
   "metadata": {},
   "source": [
    "## 6) `r\"\\.\"` Noktayı Match Etmek "
   ]
  },
  {
   "cell_type": "code",
   "execution_count": 69,
   "metadata": {},
   "outputs": [],
   "source": [
    "txt2 = \"=?+.\""
   ]
  },
  {
   "cell_type": "code",
   "execution_count": 70,
   "metadata": {},
   "outputs": [],
   "source": [
    "pattern = re.compile(r\"\\.\") "
   ]
  },
  {
   "cell_type": "code",
   "execution_count": 71,
   "metadata": {},
   "outputs": [
    {
     "name": "stdout",
     "output_type": "stream",
     "text": [
      "(3, 4)\n",
      ".\n"
     ]
    }
   ],
   "source": [
    "matches = pattern.finditer(txt2)\n",
    "\n",
    "for match in matches:\n",
    "    print(match.span())\n",
    "    print(match.group(0))"
   ]
  },
  {
   "cell_type": "markdown",
   "metadata": {},
   "source": [
    "<font color='blue'>**Herhangi bir (1) karakterden sonra noktayı bulmasını istiyorsak `r\".\\.\"` yazıyoruz.**</font>"
   ]
  },
  {
   "cell_type": "code",
   "execution_count": 72,
   "metadata": {},
   "outputs": [],
   "source": [
    "txt2 = \"=?+.\""
   ]
  },
  {
   "cell_type": "code",
   "execution_count": 76,
   "metadata": {},
   "outputs": [
    {
     "name": "stdout",
     "output_type": "stream",
     "text": [
      "(2, 4)\n",
      "+.\n"
     ]
    }
   ],
   "source": [
    "pattern = re.compile(r\".\\.\") \n",
    "# K.N:Herhangi bir karakterden sonra noktayı bul demek.\n",
    "# K.N:Slash'tan önce iki nokta koyarsan: herhangi iki karakterden sonra noktayı bul demek olur.\n",
    "\n",
    "matches = pattern.finditer(txt2)\n",
    "\n",
    "for match in matches:\n",
    "    print(match.span())\n",
    "    print(match.group(0))\n",
    "    s = match.group(0) # bir değişkene atayabiliyoruz match ettiği kısmı"
   ]
  },
  {
   "cell_type": "code",
   "execution_count": 77,
   "metadata": {},
   "outputs": [
    {
     "data": {
      "text/plain": [
       "'+.'"
      ]
     },
     "execution_count": 77,
     "metadata": {},
     "output_type": "execute_result"
    }
   ],
   "source": [
    "s"
   ]
  },
  {
   "cell_type": "markdown",
   "metadata": {},
   "source": [
    "<font color='blue'>**Herhangi iki (2) karakterden sonra noktayı bulmasını istiyorsak `r\"..\\.\"` yazıyoruz.**</font>"
   ]
  },
  {
   "cell_type": "code",
   "execution_count": 74,
   "metadata": {},
   "outputs": [],
   "source": [
    "txt2 = \"=?+.\""
   ]
  },
  {
   "cell_type": "code",
   "execution_count": 75,
   "metadata": {},
   "outputs": [
    {
     "name": "stdout",
     "output_type": "stream",
     "text": [
      "(1, 4)\n",
      "?+.\n"
     ]
    }
   ],
   "source": [
    "pattern = re.compile(r\"..\\.\") \n",
    "\n",
    "matches = pattern.finditer(txt2)\n",
    "\n",
    "for match in matches:\n",
    "    print(match.span())\n",
    "    print(match.group(0))"
   ]
  },
  {
   "cell_type": "markdown",
   "metadata": {},
   "source": [
    "## 7) Belirli Karakterleri Match Etmek"
   ]
  },
  {
   "cell_type": "markdown",
   "metadata": {},
   "source": [
    "<font color='black'>[abc] yalnızca **tek** a, b veya c harfiyle eşleşir.</font>"
   ]
  },
  {
   "cell_type": "markdown",
   "metadata": {},
   "source": [
    "<font color='blue'>**İlk 3 texti match etsin diğerlerini skip etsin istiyoruz.**</font>"
   ]
  },
  {
   "cell_type": "markdown",
   "metadata": {},
   "source": [
    "**Match**\n",
    "````\n",
    "txt1 = \"gan\"\n",
    "txt2 = \"tan\" \n",
    "txt3 = \"ran\" \n",
    "\n",
    "````\n",
    "**Skip**\n",
    "````\n",
    "txt4 = \"han\" \n",
    "txt5 = \"man\"\n",
    "txt6 = \"nan\"\n",
    "\n",
    "````"
   ]
  },
  {
   "cell_type": "markdown",
   "metadata": {},
   "source": [
    "````\n",
    "txt7 = \"gtan\" # tan şeklinde eşleşecek\n",
    "txt8 = \"gantan\" # gan ve tan ayrı ayrı çıktı verecek.\n",
    "````"
   ]
  },
  {
   "cell_type": "code",
   "execution_count": 100,
   "metadata": {},
   "outputs": [
    {
     "name": "stdout",
     "output_type": "stream",
     "text": [
      "(0, 3)\n",
      "gan\n"
     ]
    }
   ],
   "source": [
    "txt1 = \"gan\"\n",
    "\n",
    "pattern = re.compile(r\"[gtr]an\")\n",
    "\n",
    "matches = pattern.finditer(txt1)\n",
    "\n",
    "for match in matches:\n",
    "    print(match.span())\n",
    "    print(match.group(0))"
   ]
  },
  {
   "cell_type": "code",
   "execution_count": 101,
   "metadata": {},
   "outputs": [
    {
     "name": "stdout",
     "output_type": "stream",
     "text": [
      "(0, 3)\n",
      "tan\n"
     ]
    }
   ],
   "source": [
    "txt2 = \"tan\"\n",
    "pattern = re.compile(r\"[gtr]an\")\n",
    "\n",
    "matches = pattern.finditer(txt2)\n",
    "\n",
    "for match in matches:\n",
    "    print(match.span())\n",
    "    print(match.group(0))"
   ]
  },
  {
   "cell_type": "code",
   "execution_count": 102,
   "metadata": {},
   "outputs": [
    {
     "name": "stdout",
     "output_type": "stream",
     "text": [
      "(0, 3)\n",
      "ran\n"
     ]
    }
   ],
   "source": [
    "txt3 = \"ran\" \n",
    "pattern = re.compile(r\"[gtr]an\")\n",
    "\n",
    "matches = pattern.finditer(txt3)\n",
    "\n",
    "for match in matches:\n",
    "    print(match.span())\n",
    "    print(match.group(0))"
   ]
  },
  {
   "cell_type": "code",
   "execution_count": 103,
   "metadata": {},
   "outputs": [],
   "source": [
    "# Çıktı vermedi\n",
    "\n",
    "txt4 = \"han\" \n",
    "\n",
    "pattern = re.compile(r\"[gtr]an\")\n",
    "\n",
    "matches = pattern.finditer(txt4)\n",
    "\n",
    "for match in matches:\n",
    "    print(match.span())\n",
    "    print(match.group(0))"
   ]
  },
  {
   "cell_type": "code",
   "execution_count": 104,
   "metadata": {},
   "outputs": [],
   "source": [
    "# Çıktı vermedi\n",
    "\n",
    "txt5 = \"man\"\n",
    "\n",
    "pattern = re.compile(r\"[gtr]an\")\n",
    "\n",
    "matches = pattern.finditer(txt5)\n",
    "\n",
    "for match in matches:\n",
    "    print(match.span())\n",
    "    print(match.group(0))"
   ]
  },
  {
   "cell_type": "code",
   "execution_count": 105,
   "metadata": {},
   "outputs": [],
   "source": [
    "# Çıktı vermedi\n",
    "\n",
    "txt6 = \"nan\"\n",
    "\n",
    "pattern = re.compile(r\"[gtr]an\")\n",
    "\n",
    "matches = pattern.finditer(txt6)\n",
    "\n",
    "for match in matches:\n",
    "    print(match.span())\n",
    "    print(match.group(0))"
   ]
  },
  {
   "cell_type": "code",
   "execution_count": 108,
   "metadata": {},
   "outputs": [
    {
     "name": "stdout",
     "output_type": "stream",
     "text": [
      "(1, 4)\n",
      "tan\n"
     ]
    }
   ],
   "source": [
    "# Sadece tan ile eşleşiyor gtan ile değil.\n",
    "\n",
    "txt7 = \"gtan\"\n",
    "\n",
    "pattern = re.compile(r\"[gtr]an\")\n",
    "\n",
    "matches = pattern.finditer(txt7)\n",
    "\n",
    "for match in matches:\n",
    "    print(match.span())\n",
    "    print(match.group(0))"
   ]
  },
  {
   "cell_type": "code",
   "execution_count": 109,
   "metadata": {},
   "outputs": [
    {
     "name": "stdout",
     "output_type": "stream",
     "text": [
      "(0, 3)\n",
      "gan\n",
      "(3, 6)\n",
      "tan\n"
     ]
    }
   ],
   "source": [
    "# gan ve tan diye ayrı ayrı çıktı veriyor.\n",
    "\n",
    "txt8 = \"gantan\"\n",
    "\n",
    "pattern = re.compile(r\"[gtr]an\")\n",
    "\n",
    "matches = pattern.finditer(txt8)\n",
    "\n",
    "for match in matches:\n",
    "    print(match.span())\n",
    "    print(match.group(0))"
   ]
  },
  {
   "cell_type": "markdown",
   "metadata": {},
   "source": [
    "## 8) Belirli Karakterleri Dışarıda Bırakmak"
   ]
  },
  {
   "cell_type": "markdown",
   "metadata": {},
   "source": [
    "[^abc] a, b veya c olmayan herhangi bir **tek** karakterle eşleşir."
   ]
  },
  {
   "cell_type": "markdown",
   "metadata": {},
   "source": [
    "**Match**\n",
    "````\n",
    "txt1 = \"gon\"\n",
    "txt2 = \"ton\" \n",
    "txt3 = \"ron\" \n",
    "````\n",
    "\n",
    "**Skip**\n",
    "````\n",
    "txt4 = \"hon\" \n",
    "txt5 = \"mon\"\n",
    "txt6 = \"fon\"\n",
    "````"
   ]
  },
  {
   "cell_type": "code",
   "execution_count": 112,
   "metadata": {},
   "outputs": [
    {
     "name": "stdout",
     "output_type": "stream",
     "text": [
      "(0, 3)\n",
      "gon\n"
     ]
    }
   ],
   "source": [
    "txt1 = \"gon\"\n",
    "\n",
    "pattern = re.compile(r\"[^hmf]on\") # h, m veya f olmasın\n",
    "\n",
    "matches = pattern.finditer(txt1)\n",
    "\n",
    "for match in matches:\n",
    "    print(match.span())\n",
    "    print(match.group(0))"
   ]
  },
  {
   "cell_type": "code",
   "execution_count": 113,
   "metadata": {},
   "outputs": [
    {
     "name": "stdout",
     "output_type": "stream",
     "text": [
      "(0, 3)\n",
      "ton\n"
     ]
    }
   ],
   "source": [
    "txt2 = \"ton\" \n",
    "\n",
    "pattern = re.compile(r\"[^hmf]on\")\n",
    "\n",
    "matches = pattern.finditer(txt2)\n",
    "\n",
    "for match in matches:\n",
    "    print(match.span())\n",
    "    print(match.group(0))"
   ]
  },
  {
   "cell_type": "code",
   "execution_count": 114,
   "metadata": {},
   "outputs": [
    {
     "name": "stdout",
     "output_type": "stream",
     "text": [
      "(0, 3)\n",
      "ron\n"
     ]
    }
   ],
   "source": [
    "txt3 = \"ron\"\n",
    "\n",
    "pattern = re.compile(r\"[^hmf]on\")\n",
    "\n",
    "matches = pattern.finditer(txt3)\n",
    "\n",
    "for match in matches:\n",
    "    print(match.span())\n",
    "    print(match.group(0))"
   ]
  },
  {
   "cell_type": "code",
   "execution_count": 115,
   "metadata": {},
   "outputs": [],
   "source": [
    "txt4 = \"hon\" \n",
    "\n",
    "pattern = re.compile(r\"[^hmf]on\")\n",
    "\n",
    "matches = pattern.finditer(txt4)\n",
    "\n",
    "for match in matches:\n",
    "    print(match.span())\n",
    "    print(match.group(0))"
   ]
  },
  {
   "cell_type": "code",
   "execution_count": 116,
   "metadata": {},
   "outputs": [],
   "source": [
    "txt5 = \"mon\"\n",
    "\n",
    "pattern = re.compile(r\"[^hmf]on\")\n",
    "\n",
    "matches = pattern.finditer(txt7)\n",
    "\n",
    "for match in matches:\n",
    "    print(match.span())\n",
    "    print(match.group(0))"
   ]
  },
  {
   "cell_type": "code",
   "execution_count": 117,
   "metadata": {},
   "outputs": [],
   "source": [
    "txt6 = \"fon\"\n",
    "\n",
    "pattern = re.compile(r\"[^hmf]on\")\n",
    "\n",
    "matches = pattern.finditer(txt7)\n",
    "\n",
    "for match in matches:\n",
    "    print(match.span())\n",
    "    print(match.group(0))"
   ]
  },
  {
   "cell_type": "markdown",
   "metadata": {},
   "source": [
    "## 9) Karakter Aralıkları"
   ]
  },
  {
   "cell_type": "markdown",
   "metadata": {},
   "source": [
    "- `[2-8]` yalnızca 2 ile 8 arasındaki **tek** basamaklı karakterle eşleşir. 234 yanyanaysa 234'ü değil sadece ilk baştakini almış oluyor.\n",
    "\n",
    "\n",
    "- `[^a-d]`, a'dan d'ye kadar olan harfler dışında herhangi bir **tek** karakterle eşleşir. Belirtilen aralık harici bütün karakterlerle eşleşir.\n",
    "\n",
    "\n",
    "- Birden çok karakter aralığı birlikte de kullanılabilir\n",
    "\n",
    " `[A-Za-z0-9]` (\\w demekle aynı şeydir.)\n",
    "\n",
    "\n",
    "- Patternler büyük/küçük harfe duyarlıdır `a-z`, `A-Z` ile aynı değildir."
   ]
  },
  {
   "cell_type": "markdown",
   "metadata": {},
   "source": [
    "**Match**\n",
    "````\n",
    "txt1 = \"Aabd\"\n",
    "txt2 = \"Bcdg\" \n",
    "txt3 = \"Ctdg\" \n",
    "````\n",
    "**Skip**\n",
    "````\n",
    "txt4 = \"anag\" \n",
    "txt5 = \"bosb\"\n",
    "txt6 = \"fong\"\n",
    "````"
   ]
  },
  {
   "cell_type": "markdown",
   "metadata": {},
   "source": [
    "````\n",
    "txt7 = \"01de4neme\"\n",
    "\n",
    "````"
   ]
  },
  {
   "cell_type": "code",
   "execution_count": 118,
   "metadata": {},
   "outputs": [
    {
     "name": "stdout",
     "output_type": "stream",
     "text": [
      "(0, 4)\n",
      "Aabd\n"
     ]
    }
   ],
   "source": [
    "txt1 = \"Aabd\"\n",
    "\n",
    "pattern = re.compile(r\"[A-Z]...\")  # A ile Z arasında bir karakterle başlasın sonrasında 3 tane farklı karakterler gelebilir.\n",
    "\n",
    "matches = pattern.finditer(txt1)\n",
    "\n",
    "for match in matches:\n",
    "    print(match.span())\n",
    "    print(match.group(0))"
   ]
  },
  {
   "cell_type": "code",
   "execution_count": 119,
   "metadata": {},
   "outputs": [],
   "source": [
    "# Eşleşmiyor\n",
    "\n",
    "txt4 = \"anag\"\n",
    "\n",
    "pattern = re.compile(r\"[A-Z]...\")\n",
    "\n",
    "matches = pattern.finditer(txt4)\n",
    "\n",
    "for match in matches:\n",
    "    print(match.span())\n",
    "    print(match.group(0))"
   ]
  },
  {
   "cell_type": "code",
   "execution_count": 120,
   "metadata": {},
   "outputs": [
    {
     "name": "stdout",
     "output_type": "stream",
     "text": [
      "(0, 4)\n",
      "Aabd\n"
     ]
    }
   ],
   "source": [
    "# We could also do\n",
    "\n",
    "txt1 = \"Aabd\"\n",
    "pattern = re.compile(r\"[^a-z]...\") # sayıyı da alır bu\n",
    "\n",
    "matches = pattern.finditer(txt1)\n",
    "\n",
    "for match in matches:\n",
    "    print(match.span())\n",
    "    print(match.group(0))"
   ]
  },
  {
   "cell_type": "code",
   "execution_count": 127,
   "metadata": {},
   "outputs": [
    {
     "name": "stdout",
     "output_type": "stream",
     "text": [
      "(0, 4)\n",
      "01de\n",
      "(5, 9)\n",
      "neme\n"
     ]
    }
   ],
   "source": [
    "# We could also do\n",
    "\n",
    "txt7 = \"01de4neme\"\n",
    "pattern = re.compile(r\"[^2-8]...\")\n",
    "\n",
    "matches = pattern.finditer(txt7)\n",
    "\n",
    "for match in matches:\n",
    "    print(match.span())\n",
    "    print(match.group(0))"
   ]
  },
  {
   "cell_type": "markdown",
   "metadata": {},
   "source": [
    "## 10) Tekrar Eden Karakterleri Eşleştirme"
   ]
  },
  {
   "cell_type": "markdown",
   "metadata": {},
   "source": [
    "Bunu yapmanın bir yolu \"aaa\", \"\\w\\w\\w\" vb. yazmaktır. Ancak patternimize bu kadar çok karakter yazmak pratik değildir ve belirli bir karakter sayısını bilmiyor olabiliriz, \"ardışık 'a'ları 2 ile 5 arasındaki uzunlukla eşleştir\" gibi söylemek isteyebiliriz."
   ]
  },
  {
   "cell_type": "markdown",
   "metadata": {},
   "source": [
    "{} kullanıyoruz bunun için."
   ]
  },
  {
   "cell_type": "markdown",
   "metadata": {},
   "source": [
    "* c{3} \"ccc\" ile eşleşecek.\n",
    "\n",
    "* c{1,3} \"c\", \"cc\" and \"ccc\" ile eşleşecek."
   ]
  },
  {
   "cell_type": "markdown",
   "metadata": {},
   "source": [
    "* [abc]{5} \"aaaaa\", \"bbbbb\", \"abacc\" .... vb. ile eşleşecek.\n",
    "\n",
    "\n",
    "* .{3,8} uzunluğu 3 ile 8 arasında olan herhangi bir karakterle eşleşecek. "
   ]
  },
  {
   "cell_type": "markdown",
   "metadata": {},
   "source": [
    "**Match**\n",
    "\n",
    "````\n",
    "txt1 = \"heyyyyyy!\"\n",
    "txt2 = \"heyyy!\"\n",
    "````\n",
    "**Skip**\n",
    "````\n",
    "txt3 = \"hey!\"\n",
    "````"
   ]
  },
  {
   "cell_type": "code",
   "execution_count": 128,
   "metadata": {},
   "outputs": [
    {
     "name": "stdout",
     "output_type": "stream",
     "text": [
      "(0, 9)\n",
      "heyyyyyy!\n"
     ]
    }
   ],
   "source": [
    "txt1 = \"heyyyyyy!\"\n",
    "\n",
    "pattern = re.compile(r\"hey{3,6}!\") # y 3 ile 6 arasında tekrar edebilir. \n",
    "# Sonunda ünlem olduğu için 7 tane y olsaydı eşleşme olmazdı.\n",
    "\n",
    "matches = pattern.finditer(txt1)\n",
    "\n",
    "for match in matches:\n",
    "    print(match.span())\n",
    "    print(match.group(0))"
   ]
  },
  {
   "cell_type": "code",
   "execution_count": 129,
   "metadata": {},
   "outputs": [
    {
     "name": "stdout",
     "output_type": "stream",
     "text": [
      "(0, 6)\n",
      "heyyy!\n"
     ]
    }
   ],
   "source": [
    "txt2 = \"heyyy!\"\n",
    "\n",
    "pattern = re.compile(r\"hey{3,6}!\")\n",
    "\n",
    "matches = pattern.finditer(txt2)\n",
    "\n",
    "for match in matches:\n",
    "    print(match.span())\n",
    "    print(match.group(0))"
   ]
  },
  {
   "cell_type": "code",
   "execution_count": 130,
   "metadata": {},
   "outputs": [],
   "source": [
    "txt3 = \"hey!\" # en az 3 y koşulunu sağlamıyor.\n",
    "\n",
    "pattern = re.compile(r\"hey{3,6}!\")\n",
    "\n",
    "matches = pattern.finditer(txt3)\n",
    "\n",
    "for match in matches:\n",
    "    print(match.span())\n",
    "    print(match.group(0))"
   ]
  },
  {
   "cell_type": "markdown",
   "metadata": {},
   "source": [
    "## 11) Kleene Star *, Kleene Plus +"
   ]
  },
  {
   "cell_type": "markdown",
   "metadata": {},
   "source": [
    "- Kleene Star * : 0 veya daha fazlası\n",
    "\n",
    "- Kleene Plus + : 1 veya daha fazlası "
   ]
  },
  {
   "cell_type": "markdown",
   "metadata": {},
   "source": [
    "- `\\d*` herhangi bir sayıda rakamla eşleşir, ancak en az 1 rakam olmasını bekliyorsak `\\d+` kullanmalıyız.\n",
    "\n",
    "\n",
    "- `[abc]+` a, b veya c içeren 1 veya daha fazla karakterle eşleşir.\n",
    "\n",
    "\n",
    "- `.*` herhangi bir karakterin sıfır veya daha fazlası, `.+` herhangi bir karakterin bir veya daha fazlası anlamına gelir."
   ]
  },
  {
   "cell_type": "markdown",
   "metadata": {},
   "source": [
    "<font color='blue'>**Bir banka hesabı bakiyesi verisiyle çalışacağınızı, ancak tam tutarı bilmediğinizi varsayalım, bu nedenle 30 ve 30000 olarak hem 30 \\$ hem de 30000 \\\\$ 'ı yakalayabilmeniz gerekir.**</font>"
   ]
  },
  {
   "cell_type": "markdown",
   "metadata": {},
   "source": [
    "````\n",
    "txt1 = \"$30\"\n",
    "txt2 = \"$30000\"\n",
    "txt3 = \"$\" \n",
    "````"
   ]
  },
  {
   "cell_type": "code",
   "execution_count": 133,
   "metadata": {},
   "outputs": [
    {
     "name": "stdout",
     "output_type": "stream",
     "text": [
      "(1, 3)\n",
      "30\n"
     ]
    }
   ],
   "source": [
    "txt1 = \"$30\"\n",
    "pattern = re.compile(r\"\\d+\")\n",
    "\n",
    "matches = pattern.finditer(txt1)\n",
    "\n",
    "for match in matches:\n",
    "    print(match.span())\n",
    "    print(match.group(0))"
   ]
  },
  {
   "cell_type": "code",
   "execution_count": 136,
   "metadata": {},
   "outputs": [
    {
     "name": "stdout",
     "output_type": "stream",
     "text": [
      "(1, 6)\n",
      "30000\n"
     ]
    }
   ],
   "source": [
    "txt2 = \"$30000\"\n",
    "pattern = re.compile(r\"\\d+\")\n",
    "\n",
    "matches = pattern.finditer(txt2)\n",
    "\n",
    "for match in matches:\n",
    "    print(match.span())\n",
    "    print(match.group(0))"
   ]
  },
  {
   "cell_type": "code",
   "execution_count": 137,
   "metadata": {},
   "outputs": [],
   "source": [
    "# r\"\\d+\" txt3'ü match etmiyor çünkü en az bir rakam bekliyor.\n",
    "\n",
    "txt3 = \"$\"\n",
    "\n",
    "pattern = re.compile(r\"\\d+\")\n",
    "\n",
    "matches = pattern.finditer(txt3)\n",
    "\n",
    "for match in matches:\n",
    "    print(match.span())\n",
    "    print(match.group(0))"
   ]
  },
  {
   "cell_type": "code",
   "execution_count": 148,
   "metadata": {},
   "outputs": [
    {
     "name": "stdout",
     "output_type": "stream",
     "text": [
      "(0, 0)\n",
      "\n",
      "(1, 1)\n",
      "\n"
     ]
    }
   ],
   "source": [
    "txt4 = \"$\"  # bunu görmüyor.\n",
    "\n",
    "pattern = re.compile(r\"\\d*\")\n",
    "\n",
    "matches = pattern.finditer(txt4)\n",
    "\n",
    "for match in matches:\n",
    "    print(match.span())\n",
    "    print(match.group(0))"
   ]
  },
  {
   "cell_type": "code",
   "execution_count": 149,
   "metadata": {},
   "outputs": [
    {
     "name": "stdout",
     "output_type": "stream",
     "text": [
      "(0, 0)\n",
      "\n"
     ]
    }
   ],
   "source": [
    "txt5 = \"\"\n",
    "\n",
    "pattern = re.compile(r\"\\d*\")\n",
    "\n",
    "matches = pattern.finditer(txt5)\n",
    "\n",
    "for match in matches:\n",
    "    print(match.span())\n",
    "    print(match.group(0))  # boş döndürüyor"
   ]
  },
  {
   "cell_type": "code",
   "execution_count": 150,
   "metadata": {},
   "outputs": [
    {
     "name": "stdout",
     "output_type": "stream",
     "text": [
      "(0, 0)\n",
      "\n",
      "(1, 1)\n",
      "\n",
      "(2, 2)\n",
      "\n",
      "(3, 3)\n",
      "\n"
     ]
    }
   ],
   "source": [
    "txt6 = \"abc\"\n",
    "\n",
    "pattern = re.compile(r\"\\d*\") # 0 rakam bekliyor. Burada zaten 0 rakam var. \n",
    "\n",
    "matches = pattern.finditer(txt6)\n",
    "\n",
    "for match in matches:\n",
    "    print(match.span())\n",
    "    print(match.group(0)) "
   ]
  },
  {
   "cell_type": "code",
   "execution_count": 151,
   "metadata": {},
   "outputs": [
    {
     "name": "stdout",
     "output_type": "stream",
     "text": [
      "(0, 0)\n",
      "\n",
      "(1, 1)\n",
      "\n"
     ]
    }
   ],
   "source": [
    "txt7 = \"$\"\n",
    "\n",
    "pattern = re.compile(r\"\\d*\") # 0 rakam bekliyor. Burada zaten 0 rakam var. \n",
    "\n",
    "matches = pattern.finditer(txt7)\n",
    "\n",
    "for match in matches:\n",
    "    print(match.span())\n",
    "    print(match.group(0)) "
   ]
  },
  {
   "cell_type": "markdown",
   "metadata": {},
   "source": [
    "## 12) İsteğe Bağlı Karakter Eklemek"
   ]
  },
  {
   "cell_type": "markdown",
   "metadata": {},
   "source": [
    "- İsteğe bağlı olarak eşleştirebilmek için ? kullanacağız.\n",
    "\n",
    "- abc?, \"abc\" ve \"ab\" ile eşleşir\n",
    "\n",
    "- Eğer ? ile eşleştirmek istiyorsak, \\?"
   ]
  },
  {
   "cell_type": "markdown",
   "metadata": {},
   "source": [
    "**Match**\n",
    "````\n",
    "txt1 = \"1 error found?\"\n",
    "txt2 = \"2 errors found?\" \n",
    "txt3 = \"242 errors found?\" \n",
    "````\n",
    "\n",
    "**Skip**\n",
    "````\n",
    "txt4 = \"No errors found\"\n",
    "````"
   ]
  },
  {
   "cell_type": "markdown",
   "metadata": {},
   "source": [
    "````\n",
    "txt5 = \"No 34 errors found?\"\n",
    "````"
   ]
  },
  {
   "cell_type": "code",
   "execution_count": 152,
   "metadata": {},
   "outputs": [
    {
     "name": "stdout",
     "output_type": "stream",
     "text": [
      "(0, 14)\n",
      "1 error found?\n"
     ]
    }
   ],
   "source": [
    "# error(s) gibi.\n",
    "\n",
    "txt1 = \"1 error found?\"\n",
    "\n",
    "pattern = re.compile(r\"\\d+ errors? found\\?\")\n",
    "\n",
    "matches = pattern.finditer(txt1)\n",
    "\n",
    "for match in matches:\n",
    "    print(match.span())\n",
    "    print(match.group(0))"
   ]
  },
  {
   "cell_type": "code",
   "execution_count": 197,
   "metadata": {},
   "outputs": [
    {
     "name": "stdout",
     "output_type": "stream",
     "text": [
      "(0, 15)\n",
      "2 errors found?\n"
     ]
    }
   ],
   "source": [
    "txt2 = \"2 errors found?\"\n",
    "\n",
    "pattern = re.compile(r\"\\d+ errors? found\\?\")\n",
    "\n",
    "matches = pattern.finditer(txt2)\n",
    "\n",
    "for match in matches:\n",
    "    print(match.span())\n",
    "    print(match.group(0))"
   ]
  },
  {
   "cell_type": "code",
   "execution_count": 153,
   "metadata": {},
   "outputs": [
    {
     "name": "stdout",
     "output_type": "stream",
     "text": [
      "(0, 17)\n",
      "242 errors found?\n"
     ]
    }
   ],
   "source": [
    "txt3 = \"242 errors found?\"\n",
    "\n",
    "pattern = re.compile(r\"\\d+ errors? found\\?\")\n",
    "\n",
    "matches = pattern.finditer(txt3)\n",
    "\n",
    "for match in matches:\n",
    "    print(match.span())\n",
    "    print(match.group(0))"
   ]
  },
  {
   "cell_type": "code",
   "execution_count": 154,
   "metadata": {},
   "outputs": [
    {
     "name": "stdout",
     "output_type": "stream",
     "text": [
      "(3, 15)\n",
      "errors found\n"
     ]
    }
   ],
   "source": [
    "txt4 = \"No errors found\"\n",
    "\n",
    "pattern = re.compile(r\"errors? found\")\n",
    "\n",
    "matches = pattern.finditer(txt4)\n",
    "\n",
    "for match in matches:\n",
    "    print(match.span())\n",
    "    print(match.group(0))"
   ]
  },
  {
   "cell_type": "code",
   "execution_count": 171,
   "metadata": {},
   "outputs": [
    {
     "name": "stdout",
     "output_type": "stream",
     "text": [
      "(3, 19)\n",
      "34 errors found?\n"
     ]
    }
   ],
   "source": [
    "txt5 = \"No 34 errors found?\"\n",
    "\n",
    "pattern = re.compile(r\"\\d+ errors? found\\?\") # 34 errors found? buluyor.\n",
    "\n",
    "# Eğer rakamla başlasın istiyorsam ^ ekliyorum. \n",
    "matches = pattern.finditer(txt5)\n",
    "\n",
    "for match in matches:\n",
    "    print(match.span())\n",
    "    print(match.group(0))"
   ]
  },
  {
   "cell_type": "code",
   "execution_count": 174,
   "metadata": {},
   "outputs": [
    {
     "name": "stdout",
     "output_type": "stream",
     "text": [
      "(3, 19)\n",
      "34 errors found?\n"
     ]
    }
   ],
   "source": [
    "txt6 = \"No 34 errors found?\"\n",
    "\n",
    "pattern = re.compile(r\"\\d+ errors? found\\?\") # 34 errors found? buluyor.\n",
    "\n",
    "matches = pattern.finditer(txt6)\n",
    "\n",
    "for match in matches:\n",
    "    print(match.span())\n",
    "    print(match.group(0))"
   ]
  },
  {
   "cell_type": "markdown",
   "metadata": {},
   "source": [
    "<font color='blue'>**Eğer ilk yazdığım şeyle başlasın istiyorsam başa ^ ekliyorum.**</font>"
   ]
  },
  {
   "cell_type": "code",
   "execution_count": 173,
   "metadata": {},
   "outputs": [
    {
     "name": "stdout",
     "output_type": "stream",
     "text": [
      "(0, 16)\n",
      "34 errors found?\n"
     ]
    }
   ],
   "source": [
    "txt7 = \"34 errors found?\"\n",
    "\n",
    "pattern = re.compile(r\"^\\d+ errors? found\\?\") # 34 errors found? buluyor.\n",
    "\n",
    "matches = pattern.finditer(txt7)\n",
    "\n",
    "for match in matches:\n",
    "    print(match.span())\n",
    "    print(match.group(0))"
   ]
  },
  {
   "cell_type": "markdown",
   "metadata": {},
   "source": [
    "`````\n",
    "txt5 = \"Çikolatalı Gofret 150 GR\"\n",
    "txt6 = \"Ülker Gofret 150GR\"\n",
    "txt7 = \"Gofret Ülker 150 G\"\n",
    "txt8 = \"Çikolatalı Ülker 150G\"\n",
    "````"
   ]
  },
  {
   "cell_type": "code",
   "execution_count": 166,
   "metadata": {},
   "outputs": [
    {
     "name": "stdout",
     "output_type": "stream",
     "text": [
      "(0, 24)\n",
      "Çikolatalı Gofret 150 GR\n"
     ]
    }
   ],
   "source": [
    "txt5 = \"Çikolatalı Gofret 150 GR\"\n",
    "\n",
    "# pattern = re.compile(r\"\\d+\") 150'yi buluyor.\n",
    "# pattern = re.compile(r\"\\d+ ?GR?\") 150 GR'yi buluyor.\n",
    "pattern = re.compile(r\".*\\d+ ?GR?\") # Tüm metni yazdırıyor.\n",
    "\n",
    "matches = pattern.finditer(txt5)\n",
    "\n",
    "for match in matches:\n",
    "    print(match.span())\n",
    "    print(match.group(0))"
   ]
  },
  {
   "cell_type": "code",
   "execution_count": 167,
   "metadata": {},
   "outputs": [
    {
     "name": "stdout",
     "output_type": "stream",
     "text": [
      "(0, 18)\n",
      "Ülker Gofret 150GR\n"
     ]
    }
   ],
   "source": [
    "txt6 = \"Ülker Gofret 150GR\"\n",
    "\n",
    "# pattern = re.compile(r\"\\d+\") 150'yi buluyor bu.\n",
    "# pattern = re.compile(r\"\\d+ ?GR?\") 150GR'yi buluyor.\n",
    "pattern = re.compile(r\".*\\d+ ?GR?\") # Tüm metni yazdırıyor.\n",
    "\n",
    "matches = pattern.finditer(txt6)\n",
    "\n",
    "for match in matches:\n",
    "    print(match.span())\n",
    "    print(match.group(0))"
   ]
  },
  {
   "cell_type": "code",
   "execution_count": 168,
   "metadata": {},
   "outputs": [
    {
     "name": "stdout",
     "output_type": "stream",
     "text": [
      "(0, 18)\n",
      "Gofret Ülker 150 G\n"
     ]
    }
   ],
   "source": [
    "txt7 = \"Gofret Ülker 150 G\"\n",
    "\n",
    "# pattern = re.compile(r\"\\d+\") 150'yi buluyor bu.\n",
    "# pattern = re.compile(r\"\\d+ ?GR?\") 150 G'yi buluyor.\n",
    "pattern = re.compile(r\".*\\d+ ?GR?\") # Tüm metni yazdırıyor.\n",
    "\n",
    "matches = pattern.finditer(txt7)\n",
    "\n",
    "for match in matches:\n",
    "    print(match.span())\n",
    "    print(match.group(0))"
   ]
  },
  {
   "cell_type": "code",
   "execution_count": 169,
   "metadata": {},
   "outputs": [
    {
     "name": "stdout",
     "output_type": "stream",
     "text": [
      "(0, 21)\n",
      "Çikolatalı Ülker 150G\n"
     ]
    }
   ],
   "source": [
    "txt8 = \"Çikolatalı Ülker 150G\"\n",
    "\n",
    "# pattern = re.compile(r\"\\d+\") 150'yi buluyor bu.\n",
    "# pattern = re.compile(r\"\\d+ ?GR?\") 150G'yi buluyor.\n",
    "pattern = re.compile(r\".*\\d+ ?GR?\") # Tüm metni yazdırıyor.\n",
    "\n",
    "matches = pattern.finditer(txt8)\n",
    "\n",
    "for match in matches:\n",
    "    print(match.span())\n",
    "    print(match.group(0))"
   ]
  },
  {
   "cell_type": "markdown",
   "metadata": {},
   "source": [
    "## 13) Boşluklar"
   ]
  },
  {
   "cell_type": "markdown",
   "metadata": {},
   "source": [
    "- space, \\n(yeni satır) ve \\t(tab) yaygın boşluklardır.\n",
    "\n",
    "- \\s yukarıdaki boşluklardan herhangi biriyle eşleşir."
   ]
  },
  {
   "cell_type": "markdown",
   "metadata": {},
   "source": [
    "**Match**\n",
    "````\n",
    "txt1 = \"21. lecture\"\n",
    "txt2 = \"2.    lecture\" \n",
    "txt3 = \"5.        lecture\" \n",
    "````\n",
    "\n",
    "**Skip**\n",
    "````\n",
    "txt4 = \"3.lecture\"\n",
    "````"
   ]
  },
  {
   "cell_type": "markdown",
   "metadata": {},
   "source": [
    "<font color='blue'>*Bu şansa çalıştı. Burada 1 sayı gelsin, sonrasında nokta gelsin, en az bir tane boşluk gelsin ve lecture gelsin dedik. 1. lecture olarak bastırdı.*</font>"
   ]
  },
  {
   "cell_type": "code",
   "execution_count": 175,
   "metadata": {},
   "outputs": [
    {
     "name": "stdout",
     "output_type": "stream",
     "text": [
      "(1, 11)\n",
      "1. lecture\n"
     ]
    }
   ],
   "source": [
    "txt1 = \"21. lecture\"\n",
    "\n",
    "pattern = re.compile(r\"\\d\\.+\\s+lecture\") \n",
    "\n",
    "matches = pattern.finditer(txt1)\n",
    "\n",
    "for match in matches:\n",
    "    print(match.span()) \n",
    "    print(match.group(0))"
   ]
  },
  {
   "cell_type": "code",
   "execution_count": 192,
   "metadata": {},
   "outputs": [
    {
     "name": "stdout",
     "output_type": "stream",
     "text": [
      "(0, 11)\n",
      "21. lecture\n"
     ]
    }
   ],
   "source": [
    "txt1 = \"21. lecture\"\n",
    "\n",
    "pattern = re.compile(r\"\\d+\\.\\s+lecture\") \n",
    "\n",
    "matches = pattern.finditer(txt1)\n",
    "\n",
    "for match in matches:\n",
    "    print(match.span()) \n",
    "    print(match.group(0))"
   ]
  },
  {
   "cell_type": "code",
   "execution_count": 193,
   "metadata": {},
   "outputs": [
    {
     "name": "stdout",
     "output_type": "stream",
     "text": [
      "(0, 13)\n",
      "2.    lecture\n"
     ]
    }
   ],
   "source": [
    "txt2 = \"2.    lecture\" \n",
    "\n",
    "pattern = re.compile(r\"\\d+\\.\\s+lecture\") \n",
    "\n",
    "matches = pattern.finditer(txt2)\n",
    "\n",
    "for match in matches:\n",
    "    print(match.span())\n",
    "    print(match.group(0))"
   ]
  },
  {
   "cell_type": "code",
   "execution_count": 194,
   "metadata": {},
   "outputs": [
    {
     "name": "stdout",
     "output_type": "stream",
     "text": [
      "(0, 17)\n",
      "5.        lecture\n"
     ]
    }
   ],
   "source": [
    "txt3 = \"5.        lecture\" \n",
    "\n",
    "pattern = re.compile(r\"\\d+\\.\\s+lecture\") \n",
    "\n",
    "matches = pattern.finditer(txt3)\n",
    "\n",
    "for match in matches:\n",
    "    print(match.span())\n",
    "    print(match.group(0))"
   ]
  },
  {
   "cell_type": "code",
   "execution_count": 195,
   "metadata": {},
   "outputs": [],
   "source": [
    "# Eşleşmedi\n",
    "\n",
    "txt4 = \"3.lecture\"\n",
    "\n",
    "pattern = re.compile(r\"\\d+\\.\\s+lecture\") \n",
    "\n",
    "matches = pattern.finditer(txt4)\n",
    "\n",
    "for match in matches:\n",
    "    print(match.span())\n",
    "    print(match.group(0))"
   ]
  },
  {
   "cell_type": "markdown",
   "metadata": {},
   "source": [
    "## 14) Belirli Karakter(ler)le Başlaması ve Bitmesi"
   ]
  },
  {
   "cell_type": "markdown",
   "metadata": {},
   "source": [
    "- ^ satırın belirli karakterlerle başlayacağını belirtir.\n",
    "\n",
    "- $ satırın belirli karakterlerle biteceğini belirtir."
   ]
  },
  {
   "cell_type": "markdown",
   "metadata": {},
   "source": [
    "**Match**\n",
    "````\n",
    "txt1 = \"Lecture:Ended\"\n",
    "````\n",
    "**Skip**\n",
    "````\n",
    "txt2 = \"Last Lecture:Finished\" \n",
    "txt3 = \"Finished Lecture\" \n",
    "````"
   ]
  },
  {
   "cell_type": "code",
   "execution_count": 184,
   "metadata": {},
   "outputs": [
    {
     "name": "stdout",
     "output_type": "stream",
     "text": [
      "(0, 13)\n",
      "Lecture:Ended\n"
     ]
    }
   ],
   "source": [
    "txt1 = \"Lecture:Ended\"\n",
    "pattern = re.compile(r\"^Lecture:Ended$\") # Lecture:Ended çıktısını veriyor\n",
    "\n",
    "matches = pattern.finditer(txt1)\n",
    "\n",
    "for match in matches:\n",
    "    print(match.span())\n",
    "    print(match.group(0))"
   ]
  },
  {
   "cell_type": "markdown",
   "metadata": {},
   "source": [
    "<font color='blue'>**Yalnızca \"Lecture\" ile başlayan metinler istersem şunları kullanamam:**</font>"
   ]
  },
  {
   "cell_type": "code",
   "execution_count": 185,
   "metadata": {},
   "outputs": [
    {
     "name": "stdout",
     "output_type": "stream",
     "text": [
      "(0, 7)\n",
      "Lecture\n"
     ]
    }
   ],
   "source": [
    "txt1 = \"Lecture:Ended\"\n",
    "\n",
    "pattern = re.compile(r\"Lecture\")\n",
    "\n",
    "matches = pattern.finditer(txt1)\n",
    "\n",
    "for match in matches:\n",
    "    print(match.span())\n",
    "    print(match.group(0))"
   ]
  },
  {
   "cell_type": "code",
   "execution_count": 186,
   "metadata": {},
   "outputs": [
    {
     "name": "stdout",
     "output_type": "stream",
     "text": [
      "(5, 12)\n",
      "Lecture\n"
     ]
    }
   ],
   "source": [
    "txt2 = \"Last Lecture:Finished\" \n",
    "\n",
    "pattern = re.compile(r\"Lecture\")\n",
    "\n",
    "matches = pattern.finditer(txt2)\n",
    "\n",
    "for match in matches:\n",
    "    print(match.span())\n",
    "    print(match.group(0))"
   ]
  },
  {
   "cell_type": "code",
   "execution_count": 187,
   "metadata": {},
   "outputs": [
    {
     "name": "stdout",
     "output_type": "stream",
     "text": [
      "(9, 16)\n",
      "Lecture\n"
     ]
    }
   ],
   "source": [
    "txt3 = \"Finished Lecture\"\n",
    "\n",
    "pattern = re.compile(r\"Lecture\")\n",
    "\n",
    "matches = pattern.finditer(txt3)\n",
    "\n",
    "for match in matches:\n",
    "    print(match.span())\n",
    "    print(match.group(0))"
   ]
  },
  {
   "cell_type": "markdown",
   "metadata": {},
   "source": [
    "<font color='blue'>**^ kullanmalıyız.**</font>"
   ]
  },
  {
   "cell_type": "code",
   "execution_count": 188,
   "metadata": {},
   "outputs": [
    {
     "name": "stdout",
     "output_type": "stream",
     "text": [
      "(0, 7)\n",
      "Lecture\n"
     ]
    }
   ],
   "source": [
    "txt1 = \"Lecture:Ended\"\n",
    "\n",
    "pattern = re.compile(r\"^Lecture\")\n",
    "\n",
    "matches = pattern.finditer(txt1)\n",
    "\n",
    "for match in matches:\n",
    "    print(match.span())\n",
    "    print(match.group(0))"
   ]
  },
  {
   "cell_type": "code",
   "execution_count": 190,
   "metadata": {},
   "outputs": [],
   "source": [
    "# Lecture ile başlamadığı için eşleşmiyor.\n",
    "\n",
    "txt2 = \"Last Lecture:Finished\" \n",
    "\n",
    "pattern = re.compile(r\"^Lecture\")\n",
    "\n",
    "matches = pattern.finditer(txt2)\n",
    "\n",
    "for match in matches:\n",
    "    print(match.span())\n",
    "    print(match.group(0))"
   ]
  },
  {
   "cell_type": "code",
   "execution_count": 191,
   "metadata": {},
   "outputs": [
    {
     "name": "stdout",
     "output_type": "stream",
     "text": [
      "(0, 13)\n",
      "Lecture:Ended\n"
     ]
    }
   ],
   "source": [
    "txt1 = \"Lecture:Ended\"\n",
    "\n",
    "pattern = re.compile(r\"^Lecture:Ended$\")\n",
    "\n",
    "matches = pattern.finditer(txt1)\n",
    "\n",
    "for match in matches:\n",
    "    print(match.span())\n",
    "    print(match.group(0))"
   ]
  },
  {
   "cell_type": "code",
   "execution_count": 197,
   "metadata": {},
   "outputs": [
    {
     "name": "stdout",
     "output_type": "stream",
     "text": [
      "(0, 18)\n",
      "Lecture:sdfsdEnded\n"
     ]
    }
   ],
   "source": [
    "txt1 = \"Lecture:sdfsdEnded\"\n",
    "\n",
    "pattern = re.compile(r\"^Lecture:\\w*Ended$\")  # \\w ile alphanumeric yani rakam ve harfleri aldık.\n",
    "\n",
    "matches = pattern.finditer(txt1)\n",
    "\n",
    "for match in matches:\n",
    "    print(match.span())\n",
    "    print(match.group(0))"
   ]
  },
  {
   "cell_type": "markdown",
   "metadata": {},
   "source": [
    "## 15) Gruplar"
   ]
  },
  {
   "cell_type": "markdown",
   "metadata": {},
   "source": [
    "Bazen bir dosya adı gibi bir eşleşmeden yalnızca belirli bir grubu çıkarmak isteyebiliyoruz; adıyla eşleştirelim ama uzantısıyla eşleştirmeyelim şeklinde. Bilgisine erişmek istediğimiz şeyi parantez içine () yazıyoruz. "
   ]
  },
  {
   "cell_type": "markdown",
   "metadata": {},
   "source": [
    "<font color='blue'>**Csv dosyalarının adını almak istiyoruz diyelim ki ve bu csv dosyaları data şeklinde başlaması lazım.**</font>"
   ]
  },
  {
   "cell_type": "markdown",
   "metadata": {},
   "source": [
    "**Capture**\n",
    "````\n",
    "txt1 = \"data1.csv\"\n",
    "txt2 = \"data.csv\" \n",
    "txt3 = \"data23.csv\" \n",
    "````\n",
    "\n",
    "**Skip**\n",
    "````\n",
    "txt4 = \"data.pdf\" \n",
    "txt5 = \"abc.csv\" \n",
    "````\n"
   ]
  },
  {
   "cell_type": "markdown",
   "metadata": {},
   "source": [
    "<font color='blue'>**group(1) parantez içinde belirttiğimiz kısmı bize döndürüyor. group(0) tüm matchi döndürüyor.**</font>"
   ]
  },
  {
   "cell_type": "code",
   "execution_count": 210,
   "metadata": {},
   "outputs": [
    {
     "name": "stdout",
     "output_type": "stream",
     "text": [
      "(0, 9)\n",
      "data1\n",
      "<class 'str'>\n",
      "<class 'str'>\n"
     ]
    }
   ],
   "source": [
    "txt1 = \"data1.csv\"\n",
    "\n",
    "pattern = re.compile(r\"^(data\\d*)\\.csv$\") # match ederse döndürür parantez içini.\n",
    "\n",
    "matches = pattern.finditer(txt1)\n",
    "\n",
    "for match in matches:\n",
    "    print(match.span())\n",
    "    print(match.group(1)) \n",
    "    print(type(match.group(0)))  # veri tipi string\n",
    "    print(type(match.group(1)))  # veri tipi string"
   ]
  },
  {
   "cell_type": "code",
   "execution_count": 203,
   "metadata": {},
   "outputs": [
    {
     "name": "stdout",
     "output_type": "stream",
     "text": [
      "(0, 8)\n",
      "data\n"
     ]
    }
   ],
   "source": [
    "txt2 = \"data.csv\"\n",
    "\n",
    "pattern = re.compile(r\"^(data\\d*)\\.csv$\")\n",
    "\n",
    "matches = pattern.finditer(txt2)\n",
    "\n",
    "for match in matches:\n",
    "    print(match.span())\n",
    "    print(match.group(1))"
   ]
  },
  {
   "cell_type": "code",
   "execution_count": 204,
   "metadata": {},
   "outputs": [
    {
     "name": "stdout",
     "output_type": "stream",
     "text": [
      "(0, 10)\n",
      "data23\n"
     ]
    }
   ],
   "source": [
    "txt3 = \"data23.csv\"\n",
    "\n",
    "pattern = re.compile(r\"^(data\\d*)\\.csv$\")\n",
    "\n",
    "matches = pattern.finditer(txt3)\n",
    "\n",
    "for match in matches:\n",
    "    print(match.span())\n",
    "    print(match.group(1))"
   ]
  },
  {
   "cell_type": "code",
   "execution_count": 205,
   "metadata": {},
   "outputs": [],
   "source": [
    "# csv uzantılı olmadığı için eşleşmez.\n",
    "\n",
    "txt4 = \"data.pdf\"\n",
    "\n",
    "pattern = re.compile(r\"^(data\\d*)\\.csv$\")\n",
    "\n",
    "matches = pattern.finditer(txt4)\n",
    "\n",
    "for match in matches:\n",
    "    print(match.span())\n",
    "    print(match.group(1))"
   ]
  },
  {
   "cell_type": "code",
   "execution_count": 207,
   "metadata": {},
   "outputs": [],
   "source": [
    "# rakam içermediği için eşleşmez.\n",
    "\n",
    "txt5 = \"abc.csv\" \n",
    "\n",
    "pattern = re.compile(r\"^(data\\d*)\\.csv$\")\n",
    "\n",
    "matches = pattern.finditer(txt5)\n",
    "\n",
    "for match in matches:\n",
    "    print(match.span())\n",
    "    print(match.group(1))"
   ]
  },
  {
   "cell_type": "code",
   "execution_count": 212,
   "metadata": {},
   "outputs": [],
   "source": [
    "# Match etmez.\n",
    "\n",
    "txt6 = \"data_price.csv\" \n",
    "\n",
    "pattern = re.compile(r\"^(data\\d*)\\.csv$\")\n",
    "\n",
    "matches = pattern.finditer(txt6)\n",
    "\n",
    "for match in matches:\n",
    "    print(match.span())\n",
    "    print(match.group(1))"
   ]
  },
  {
   "cell_type": "code",
   "execution_count": 213,
   "metadata": {},
   "outputs": [
    {
     "name": "stdout",
     "output_type": "stream",
     "text": [
      "(0, 14)\n",
      "data_price\n"
     ]
    }
   ],
   "source": [
    "# Match etmez.\n",
    "\n",
    "txt6 = \"data_price.csv\" \n",
    "\n",
    "pattern = re.compile(r\"^(data\\w*)\\.csv$\")\n",
    "\n",
    "matches = pattern.finditer(txt6)\n",
    "\n",
    "for match in matches:\n",
    "    print(match.span())\n",
    "    print(match.group(1))"
   ]
  },
  {
   "cell_type": "markdown",
   "metadata": {},
   "source": [
    "## 16) İçiçe Gruplar"
   ]
  },
  {
   "cell_type": "markdown",
   "metadata": {},
   "source": [
    "Bazen bir veriden birden fazla grup çıkarmak isteyebiliriz.\n",
    "\n",
    "Örneğin:\n",
    "\n",
    "1990 May 3\n",
    "\n",
    "1990, May, 3 ve 1990 May'i çıkarmak istiyoruz"
   ]
  },
  {
   "cell_type": "code",
   "execution_count": 214,
   "metadata": {},
   "outputs": [],
   "source": [
    "txt1 = \"1990 May 3's spring\""
   ]
  },
  {
   "cell_type": "markdown",
   "metadata": {},
   "source": [
    "<font color='blue'>\n",
    "    \n",
    "- İlk 1990'ı almak istiyoruz. `^(\\d+)`\n",
    "\n",
    "\n",
    "- May'i almak için `(\\w+)`\n",
    "\n",
    "\n",
    "- 3'ü almak için `(\\d+)`\n",
    "\n",
    "\n",
    "- 1990 May'i almak için `(^(\\d+)\\s+(\\w+))`\n",
    "\n",
    "</font>"
   ]
  },
  {
   "cell_type": "code",
   "execution_count": 215,
   "metadata": {},
   "outputs": [
    {
     "name": "stdout",
     "output_type": "stream",
     "text": [
      "(0, 19)\n",
      "1990 May 3's spring\n",
      "1990 May\n",
      "1990\n",
      "May\n",
      "3\n"
     ]
    }
   ],
   "source": [
    "pattern = re.compile(r\"^((\\d+)\\s+(\\w+))\\s(\\d+)'s spring$\")\n",
    "\n",
    "matches = pattern.finditer(txt1)\n",
    "\n",
    "for match in matches:\n",
    "    print(match.span())\n",
    "    print(match.group(0))  # tüm matchingi döndürüyor: r\"^((\\d+)\\s+(\\w+))\\s(\\d+)'s spring$\"\n",
    "    print(match.group(1))  # İlk parantez: 1990 May\n",
    "    print(match.group(2))  # İlk parantezin içindeki ilk parantez: 1990\n",
    "    print(match.group(3))  # İlk parantezin içindeki ikinci parantez: May\n",
    "    print(match.group(4))  # Parantez kapandı sıradaki parantez: 3\n",
    "    "
   ]
  },
  {
   "cell_type": "markdown",
   "metadata": {},
   "source": [
    "## 17) Koşullu Grup"
   ]
  },
  {
   "cell_type": "markdown",
   "metadata": {},
   "source": [
    "Tarih metninin ayın gününü içerebileceğini veya içermeyebileceğini varsayalım, bu nedenle varsa onu eklemek istiyoruz.\n",
    "\n",
    "Ayı olanları ayıyla, günü olanları günüyle birlikte alacağız."
   ]
  },
  {
   "cell_type": "code",
   "execution_count": 216,
   "metadata": {},
   "outputs": [],
   "source": [
    "txt1 = \"1990 May 3's spring\""
   ]
  },
  {
   "cell_type": "code",
   "execution_count": 217,
   "metadata": {},
   "outputs": [],
   "source": [
    "txt2 = \"1990 May's spring\""
   ]
  },
  {
   "cell_type": "code",
   "execution_count": 219,
   "metadata": {},
   "outputs": [
    {
     "name": "stdout",
     "output_type": "stream",
     "text": [
      "(0, 19)\n",
      "1990 May 3's spring\n",
      "1990 May\n",
      "1990\n",
      "May\n",
      "3\n"
     ]
    }
   ],
   "source": [
    "txt1 = \"1990 May 3's spring\"\n",
    "\n",
    "pattern = re.compile(r\"^((\\d+)\\s+(\\w+))\\s?(\\d+)?'s spring$\") \n",
    "\n",
    "matches = pattern.finditer(txt1)\n",
    "\n",
    "for match in matches:\n",
    "    print(match.span())\n",
    "    print(match.group(0))\n",
    "    print(match.group(1))\n",
    "    print(match.group(2))\n",
    "    print(match.group(3))\n",
    "    print(match.group(4))\n",
    "    "
   ]
  },
  {
   "cell_type": "code",
   "execution_count": 220,
   "metadata": {},
   "outputs": [
    {
     "name": "stdout",
     "output_type": "stream",
     "text": [
      "(0, 17)\n",
      "1990 May's spring\n",
      "1990 May\n",
      "1990\n",
      "May\n",
      "None\n"
     ]
    }
   ],
   "source": [
    "txt2 = \"1990 May's spring\"\n",
    "\n",
    "pattern = re.compile(r\"^((\\d+)\\s+(\\w+))\\s?(\\d+)?'s spring$\") # ? ile yazdığım kısım grupta yoksa onu None olarak alıyor.\n",
    "\n",
    "matches = pattern.finditer(txt2)\n",
    "\n",
    "for match in matches:\n",
    "    print(match.span())\n",
    "    print(match.group(0))\n",
    "    print(match.group(1))\n",
    "    print(match.group(2))\n",
    "    print(match.group(3))\n",
    "    print(match.group(4))\n",
    "    "
   ]
  },
  {
   "cell_type": "markdown",
   "metadata": {},
   "source": [
    "## Exercises"
   ]
  },
  {
   "cell_type": "markdown",
   "metadata": {},
   "source": [
    "### 1)"
   ]
  },
  {
   "cell_type": "markdown",
   "metadata": {},
   "source": [
    "**Match**\n",
    "````\n",
    "txt1 = \"3.223123\"\n",
    "txt2 = \"-453.223\" \n",
    "txt3 = \"12\" \n",
    "txt4 = \"3.2e10\" \n",
    "txt5 = \"1334,3434.123\"\n",
    "````\n",
    "\n",
    "**Skip**\n",
    "````\n",
    "txt6 = \"1800$\"\n",
    "````"
   ]
  },
  {
   "cell_type": "code",
   "execution_count": 250,
   "metadata": {},
   "outputs": [
    {
     "name": "stdout",
     "output_type": "stream",
     "text": [
      "(0, 8)\n",
      "3.223123\n"
     ]
    }
   ],
   "source": [
    "txt1 = \"3.223123\"\n",
    "\n",
    "# pattern = re.compile(r\"-?\\d+\\.?\\d+\")\n",
    "# pattern = re.compile(r\"-?\\d+\\.?\\d+\\w*\\d*\")\n",
    "# pattern = re.compile(r\"-?\\d+,?\\d*\\.?\\d+\\w*\\d*\")\n",
    "pattern = re.compile(r\"-?\\d+,?\\d*\\.?\\d+\\w*\\d*$\")\n",
    "\n",
    "matches = pattern.finditer(txt1)\n",
    "\n",
    "for match in matches:\n",
    "    print(match.span())\n",
    "    print(match.group(0))"
   ]
  },
  {
   "cell_type": "code",
   "execution_count": 249,
   "metadata": {},
   "outputs": [
    {
     "name": "stdout",
     "output_type": "stream",
     "text": [
      "(0, 8)\n",
      "-453.223\n"
     ]
    }
   ],
   "source": [
    "txt2 = \"-453.223\" \n",
    "\n",
    "# pattern = re.compile(r\"-?\\d+\\.?\\d+\")\n",
    "# pattern = re.compile(r\"-?\\d+\\.?\\d+\\w*\\d*\")\n",
    "# pattern = re.compile(r\"-?\\d+,?\\d*\\.?\\d+\\w*\\d*\")\n",
    "pattern = re.compile(r\"-?\\d+,?\\d*\\.?\\d+\\w*\\d*$\")\n",
    "\n",
    "matches = pattern.finditer(txt2)\n",
    "\n",
    "for match in matches:\n",
    "    print(match.span())\n",
    "    print(match.group(0))"
   ]
  },
  {
   "cell_type": "code",
   "execution_count": 248,
   "metadata": {},
   "outputs": [
    {
     "name": "stdout",
     "output_type": "stream",
     "text": [
      "(0, 2)\n",
      "12\n"
     ]
    }
   ],
   "source": [
    "txt3 = \"12\"\n",
    "\n",
    "# pattern = re.compile(r\"-?\\d+\\.?\\d+\")  \n",
    "# pattern = re.compile(r\"-?\\d+\\.?\\d+\\w*\\d*\")\n",
    "# pattern = re.compile(r\"-?\\d+,?\\d*\\.?\\d+\\w*\\d*\")\n",
    "pattern = re.compile(r\"-?\\d+,?\\d*\\.?\\d+\\w*\\d*$\")\n",
    "\n",
    "matches = pattern.finditer(txt3)\n",
    "\n",
    "for match in matches:\n",
    "    print(match.span())\n",
    "    print(match.group(0))"
   ]
  },
  {
   "cell_type": "code",
   "execution_count": 247,
   "metadata": {},
   "outputs": [
    {
     "name": "stdout",
     "output_type": "stream",
     "text": [
      "(0, 6)\n",
      "3.2e10\n"
     ]
    }
   ],
   "source": [
    "txt4 = \"3.2e10\" \n",
    "\n",
    "# pattern = re.compile(r\"-?\\d+\\.?\\d+\\w*\\d*\")\n",
    "# pattern = re.compile(r\"-?\\d+,?\\d*\\.?\\d+\\w*\\d*\")\n",
    "pattern = re.compile(r\"-?\\d+,?\\d*\\.?\\d+\\w*\\d*$\")\n",
    "\n",
    "matches = pattern.finditer(txt4)\n",
    "\n",
    "for match in matches:\n",
    "    print(match.span())\n",
    "    print(match.group(0))"
   ]
  },
  {
   "cell_type": "code",
   "execution_count": 246,
   "metadata": {},
   "outputs": [
    {
     "name": "stdout",
     "output_type": "stream",
     "text": [
      "(0, 13)\n",
      "1334,3434.123\n"
     ]
    }
   ],
   "source": [
    "txt5 = \"1334,3434.123\"\n",
    "\n",
    "# pattern = re.compile(r\"-?\\d+,?\\d*\\.?\\d+\\w*\\d*\")\n",
    "pattern = re.compile(r\"-?\\d+,?\\d*\\.?\\d+\\w*\\d*$\")\n",
    "\n",
    "matches = pattern.finditer(txt5)\n",
    "\n",
    "for match in matches:\n",
    "    print(match.span())\n",
    "    print(match.group(0))"
   ]
  },
  {
   "cell_type": "code",
   "execution_count": 245,
   "metadata": {},
   "outputs": [],
   "source": [
    "txt6 = \"1800$\"\n",
    "\n",
    "pattern = re.compile(r\"-?\\d+,?\\d*\\.?\\d+\\w*\\d*$\")\n",
    "\n",
    "matches = pattern.finditer(txt6)\n",
    "\n",
    "for match in matches:\n",
    "    print(match.span())\n",
    "    print(match.group(0))"
   ]
  },
  {
   "cell_type": "code",
   "execution_count": null,
   "metadata": {},
   "outputs": [],
   "source": [
    "txt6 = \"1800$\"\n",
    "\n",
    "pattern = re.compile(r\"-?\\d+(,?\\d+)*(\\.\\d+(e\\d+)?)?$\")\n",
    "\n",
    "matches = pattern.finditer(txt6)\n",
    "\n",
    "for match in matches:\n",
    "    print(match.span())\n",
    "    print(match.group(0))"
   ]
  },
  {
   "cell_type": "markdown",
   "metadata": {},
   "source": [
    "`r\"-?\\d+(,?\\d+)*(\\.\\d+(e\\d+)?)?$\"` bu şekilde de yapılabilirdi.\n",
    "\n",
    "- `(,?\\d+)*` ,345 şeklinde birden fazla kez tekrar edebilir.\n",
    "\n",
    "- `(e\\d+)?` e356 şeklinde bir veri olabilir."
   ]
  },
  {
   "cell_type": "markdown",
   "metadata": {},
   "source": [
    "### 2)"
   ]
  },
  {
   "cell_type": "code",
   "execution_count": null,
   "metadata": {},
   "outputs": [],
   "source": [
    "txt1 = \"hello           world    \"\n",
    "txt2 = \"         hello      \""
   ]
  },
  {
   "cell_type": "markdown",
   "metadata": {},
   "source": [
    "Boşluklar haricinde kalan kısımları grup olarak döndürmek istiyoruz."
   ]
  },
  {
   "cell_type": "code",
   "execution_count": 269,
   "metadata": {},
   "outputs": [
    {
     "name": "stdout",
     "output_type": "stream",
     "text": [
      "hello\n",
      "world\n"
     ]
    }
   ],
   "source": [
    "txt1 = \"hello           world    \"\n",
    "\n",
    "pattern = re.compile(r\"\\s*?([a-z]+)\\s*([a-z]+)\\s*\")\n",
    "\n",
    "matches = pattern.finditer(txt1)\n",
    "\n",
    "for match in matches:\n",
    "    print(match.group(1))\n",
    "    print(match.group(2))"
   ]
  },
  {
   "cell_type": "code",
   "execution_count": 274,
   "metadata": {},
   "outputs": [
    {
     "name": "stdout",
     "output_type": "stream",
     "text": [
      "hello\n",
      "\n"
     ]
    }
   ],
   "source": [
    "txt2 = \"         hello      \"\n",
    "\n",
    "pattern = re.compile(r\"\\s*?([a-z]+)\\s*([a-z]*)\\s*\")\n",
    "\n",
    "matches = pattern.finditer(txt2)\n",
    "\n",
    "for match in matches:\n",
    "    print(match.group(1))\n",
    "    print(match.group(2))"
   ]
  },
  {
   "cell_type": "markdown",
   "metadata": {},
   "source": [
    "### 3)"
   ]
  },
  {
   "cell_type": "markdown",
   "metadata": {},
   "source": [
    "**Match**\n",
    "````\n",
    "txt1 = \"data.pdf\"\n",
    "txt2 = \"data23.jpg\"\n",
    "txt3 = \"data.gif\"\n",
    "````\n",
    "**Skip**\n",
    "````\n",
    "txt4 = \"data.html\"\n",
    "txt5 = \"data.csv\"\n",
    "````"
   ]
  },
  {
   "cell_type": "code",
   "execution_count": 293,
   "metadata": {},
   "outputs": [
    {
     "name": "stdout",
     "output_type": "stream",
     "text": [
      "data\n",
      "pdf\n"
     ]
    }
   ],
   "source": [
    "txt1 = \"data.pdf\"\n",
    "\n",
    "pattern = re.compile(r\"(\\w+)\\.(pdf|jpg|gif)\")\n",
    "\n",
    "matches = pattern.finditer(txt1)\n",
    "\n",
    "for match in matches:\n",
    "    print(match.group(1))\n",
    "    print(match.group(2))"
   ]
  },
  {
   "cell_type": "code",
   "execution_count": 292,
   "metadata": {},
   "outputs": [
    {
     "name": "stdout",
     "output_type": "stream",
     "text": [
      "data23\n"
     ]
    }
   ],
   "source": [
    "txt2 = \"data23.jpg\"\n",
    "\n",
    "pattern = re.compile(r\"(\\w+)\\.(pdf|jpg|gif)\")\n",
    "\n",
    "matches = pattern.finditer(txt2)\n",
    "\n",
    "for match in matches:\n",
    "    print(match.group(1))"
   ]
  },
  {
   "cell_type": "code",
   "execution_count": 294,
   "metadata": {},
   "outputs": [
    {
     "name": "stdout",
     "output_type": "stream",
     "text": [
      "data\n"
     ]
    }
   ],
   "source": [
    "txt3 = \"data.gif\"\n",
    "\n",
    "pattern = re.compile(r\"(\\w+)\\.(pdf|jpg|gif)\")\n",
    "\n",
    "matches = pattern.finditer(txt3)\n",
    "\n",
    "for match in matches:\n",
    "    print(match.group(1))"
   ]
  },
  {
   "cell_type": "code",
   "execution_count": 295,
   "metadata": {},
   "outputs": [],
   "source": [
    "txt4 = \"data.html\"\n",
    "\n",
    "pattern = re.compile(r\"(\\w+)\\.(pdf|jpg|gif)\")\n",
    "\n",
    "matches = pattern.finditer(txt4)\n",
    "\n",
    "for match in matches:\n",
    "    print(match.group(1))"
   ]
  },
  {
   "cell_type": "code",
   "execution_count": 296,
   "metadata": {},
   "outputs": [],
   "source": [
    "txt5 = \"data.csv\"\n",
    "\n",
    "pattern = re.compile(r\"(\\w+)\\.(pdf|jpg|gif)\")\n",
    "\n",
    "matches = pattern.finditer(txt5)\n",
    "\n",
    "for match in matches:\n",
    "    print(match.group(1))"
   ]
  }
 ],
 "metadata": {
  "kernelspec": {
   "display_name": "Python 3",
   "language": "python",
   "name": "python3"
  },
  "language_info": {
   "codemirror_mode": {
    "name": "ipython",
    "version": 3
   },
   "file_extension": ".py",
   "mimetype": "text/x-python",
   "name": "python",
   "nbconvert_exporter": "python",
   "pygments_lexer": "ipython3",
   "version": "3.7.6"
  }
 },
 "nbformat": 4,
 "nbformat_minor": 2
}
